{
  "cells": [
    {
      "cell_type": "markdown",
      "metadata": {
        "colab_type": "text",
        "id": "view-in-github"
      },
      "source": [
        "<a href=\"https://colab.research.google.com/github/AI4Finance-Foundation/FinRL/blob/master/FinRL_Raytune_for_Hyperparameter_Optimization_RLlib%20Models.ipynb\" target=\"_parent\"><img src=\"https://colab.research.google.com/assets/colab-badge.svg\" alt=\"Open In Colab\"/></a>"
      ]
    },
    {
      "cell_type": "code",
      "execution_count": 5,
      "metadata": {
        "id": "ZMPanjastOY4"
      },
      "outputs": [
        {
          "name": "stderr",
          "output_type": "stream",
          "text": [
            "UsageError: Line magic function `%%capture` not found.\n"
          ]
        }
      ],
      "source": [
        "#Installing FinRL\n",
        "%%capture\n",
        "#!pip install git+https://github.com/AI4Finance-LLC/FinRL-Library.git"
      ]
    },
    {
      "cell_type": "code",
      "execution_count": 6,
      "metadata": {
        "id": "W_0SxBYTtWNB"
      },
      "outputs": [],
      "source": [
        "%%capture\n",
        "#!pip install \"ray[tune]\" optuna"
      ]
    },
    {
      "cell_type": "code",
      "execution_count": 7,
      "metadata": {
        "id": "kW4g9mfwMl7K"
      },
      "outputs": [],
      "source": [
        "%%capture\n",
        "#!pip install int_date==0.1.8"
      ]
    },
    {
      "cell_type": "code",
      "execution_count": 1,
      "metadata": {},
      "outputs": [],
      "source": [
        "%reload_ext autoreload\n",
        "%autoreload 2"
      ]
    },
    {
      "cell_type": "markdown",
      "metadata": {
        "id": "lPh7bRBVL9u3"
      },
      "source": [
        "#Importing libraries"
      ]
    },
    {
      "cell_type": "code",
      "execution_count": 2,
      "metadata": {
        "colab": {
          "base_uri": "https://localhost:8080/"
        },
        "id": "AnFm0-vntYQw",
        "outputId": "a0a02d75-faaf-4ea4-d38a-b1f0fb3d6103"
      },
      "outputs": [
        {
          "name": "stderr",
          "output_type": "stream",
          "text": [
            "/home/mohammad/anaconda3/envs/FinRl/lib/python3.8/site-packages/pyfolio/pos.py:26: UserWarning: Module \"zipline.assets\" not found; multipliers will not be applied to position notionals.\n",
            "  warnings.warn(\n"
          ]
        }
      ],
      "source": [
        "#Importing the libraries\n",
        "import pandas as pd\n",
        "import numpy as np\n",
        "import matplotlib\n",
        "import matplotlib.pyplot as plt\n",
        "# matplotlib.use('Agg')\n",
        "import datetime\n",
        "import optuna\n",
        "%matplotlib inline\n",
        "from finrl import config\n",
        "from finrl.finrl_meta.preprocessor.yahoodownloader import YahooDownloader\n",
        "from finrl.finrl_meta.preprocessor.preprocessors import FeatureEngineer, data_split\n",
        "from finrl.finrl_meta.env_stock_trading.env_stocktrading_np import StockTradingEnv as StockTradingEnv_numpy \n",
        "from finrl.agents.rllib.models import DRLAgent as DRLAgent_rllib\n",
        "from stable_baselines3.common.vec_env import DummyVecEnv\n",
        "from finrl.finrl_meta.data_processor import DataProcessor\n",
        "from finrl.plot import backtest_stats, backtest_plot, get_daily_return, get_baseline\n",
        "import ray\n",
        "from pprint import pprint\n",
        "from ray.rllib.agents.ppo import PPOTrainer\n",
        "from ray.rllib.agents.ddpg import DDPGTrainer\n",
        "from ray.rllib.agents.a3c import A2CTrainer\n",
        "from ray.rllib.agents.a3c import a2c\n",
        "from ray.rllib.agents.ddpg import ddpg, td3\n",
        "from ray.rllib.agents.ppo import ppo\n",
        "from ray.rllib.agents.sac import sac\n",
        "import sys\n",
        "sys.path.append(\"../FinRL-Library\")\n",
        "import os\n",
        "import itertools\n",
        "from ray import tune\n",
        "from ray.tune.suggest import ConcurrencyLimiter\n",
        "from ray.tune.schedulers import AsyncHyperBandScheduler\n",
        "from ray.tune.suggest.optuna import OptunaSearch\n",
        "\n",
        "from ray.tune.registry import register_env\n",
        "\n",
        "import time\n",
        "import psutil\n",
        "psutil_memory_in_bytes = psutil.virtual_memory().total\n",
        "ray._private.utils.get_system_memory = lambda: psutil_memory_in_bytes\n",
        "from typing import Dict, Optional, Any"
      ]
    },
    {
      "cell_type": "code",
      "execution_count": 3,
      "metadata": {
        "id": "F6DvqEVi3rxv"
      },
      "outputs": [],
      "source": [
        "import os\n",
        "root_path = 'MARKETS'\n",
        "from finrl import config\n",
        "from finrl import config_tickers\n",
        "import os\n",
        "from finrl.main import check_and_make_directories\n",
        "\n",
        "CHOOSEN_MARKET = 'Crypto_market' \n",
        "\n",
        "DATA_SAVE_DIR = os.path.join(root_path, CHOOSEN_MARKET, 'DATASET')\n",
        "TRAINED_MODEL_DIR = os.path.join(root_path, CHOOSEN_MARKET, 'TRAINED_MODEL_DIR')\n",
        "TENSORBOARD_LOG_DIR = os.path.join(root_path, CHOOSEN_MARKET, 'TENSORBOARD_LOG_DIR')\n",
        "RESULTS_DIR = os.path.join(root_path, CHOOSEN_MARKET, 'RESULTS_DIR')\n",
        "TUNED_MODELS_DIR = os.path.join(root_path, CHOOSEN_MARKET, 'TUNED_MODELS')\n",
        "\n",
        "check_and_make_directories([DATA_SAVE_DIR, TRAINED_MODEL_DIR, TENSORBOARD_LOG_DIR, RESULTS_DIR, TUNED_MODELS_DIR])\n",
        "\n",
        "#if not os.path.exists(\"./\" + config.DATA_SAVE_DIR):\n",
        "#    os.makedirs(\"./\" + config.DATA_SAVE_DIR)\n",
        "#if not os.path.exists(\"./\" + config.TRAINED_MODEL_DIR):\n",
        "#    os.makedirs(\"./\" + config.TRAINED_MODEL_DIR)\n",
        "#if not os.path.exists(\"./\" + config.TENSORBOARD_LOG_DIR):\n",
        "#    os.makedirs(\"./\" + config.TENSORBOARD_LOG_DIR)\n",
        "#if not os.path.exists(\"./\" + config.RESULTS_DIR):\n",
        "#    os.makedirs(\"./\" + config.RESULTS_DIR)\n",
        "# if not os.path.exists(\"./\" + \"tuned_models\"):\n",
        "#     os.makedirs(\"./\" + \"tuned_models\")"
      ]
    },
    {
      "cell_type": "markdown",
      "metadata": {
        "id": "rUTc0CApMCQP"
      },
      "source": [
        "##Defining the hyperparameter search space\n",
        "\n",
        "1. You can look up [here](https://docs.ray.io/en/latest/tune/key-concepts.html#search-spaces) to learn how to define hyperparameter search space\n",
        "2. Jump over to this [link](https://github.com/DLR-RM/rl-baselines3-zoo/blob/master/utils/hyperparams_opt.py) to find the range of different hyperparameter\n",
        "3. To learn about different hyperparameters for different algorithms for RLlib models, jump over to this [link](https://docs.ray.io/en/latest/rllib-algorithms.html)"
      ]
    },
    {
      "cell_type": "code",
      "execution_count": 4,
      "metadata": {
        "id": "c5luix7ZydIG"
      },
      "outputs": [],
      "source": [
        "def sample_ddpg_params():\n",
        "  \n",
        "  return {\n",
        "  \"buffer_size\": tune.choice([int(1e4), int(1e5), int(1e6)]),\n",
        "  \"lr\": tune.loguniform(1e-5, 1),\n",
        "  \"train_batch_size\": tune.choice([32, 64, 128, 256, 512])\n",
        "  }\n",
        "def sample_a2c_params():\n",
        "  \n",
        "  return{\n",
        "       \"lambda\": tune.choice([0.1,0.3,0.5,0.7,0.9,1.0]),\n",
        "      \"entropy_coeff\": tune.loguniform(0.00000001, 0.1),\n",
        "      \"lr\": tune.loguniform(1e-5, 1) \n",
        "      \n",
        "  }\n",
        "\n",
        "def sample_ppo_params():\n",
        "  return {\n",
        "      \"entropy_coeff\": tune.loguniform(0.00000001, 0.1),\n",
        "      #\"entropy_coeff\": tune.loguniform(0.0001, 0.1),\n",
        "      \"lr\": tune.loguniform(5e-5, 1),\n",
        "      #\"lr\": tune.loguniform(5e-4, 1),\n",
        "      \"sgd_minibatch_size\": tune.choice([ 32, 64, 128, 256, 512]),\n",
        "      \"lambda\": tune.choice([0.1,0.3,0.5,0.7,0.9,1.0])\n",
        "  }\n",
        "  "
      ]
    },
    {
      "cell_type": "code",
      "execution_count": 5,
      "metadata": {
        "id": "Yb3PMaAZ2gUy"
      },
      "outputs": [],
      "source": [
        "MODELS = {\"a2c\": a2c, \"ddpg\": ddpg, \"td3\": td3, \"sac\": sac, \"ppo\": ppo}"
      ]
    },
    {
      "cell_type": "markdown",
      "metadata": {
        "id": "ZWG4u7NsOI98"
      },
      "source": [
        "## Getting the training and testing environment"
      ]
    },
    {
      "cell_type": "code",
      "execution_count": 17,
      "metadata": {},
      "outputs": [],
      "source": [
        "from finrl.finrl_meta.preprocessor.CryptoDataReader import CryptoDataLoader\n",
        "import datetime\n",
        "from finrl.finrl_meta.env_stock_trading.env_stocktrading import StockTradingEnv\n"
      ]
    },
    {
      "cell_type": "code",
      "execution_count": 7,
      "metadata": {},
      "outputs": [],
      "source": [
        "api_key='cbj22uqad3i2thcmtg80'\n",
        "choosen_symbols = ['BTC', 'ETH', 'USDT', 'USDC', 'BNB', 'XRP', 'ADA', 'BUSD', 'SOL', 'DOT']"
      ]
    },
    {
      "cell_type": "code",
      "execution_count": 8,
      "metadata": {},
      "outputs": [],
      "source": [
        "def fix_date(crypto_df):\n",
        "    dates = []\n",
        "    for unixdate in crypto_df['date']:\n",
        "        utcdate = datetime.datetime.fromtimestamp(unixdate).strftime('%Y-%m-%d')\n",
        "        dates.append(utcdate)\n",
        "    crypto_df['date'] = dates\n",
        "    return crypto_df\n",
        "\n",
        "def fetch_data(API_KEY, choosen_symbols, start, end):\n",
        "    data_loader = CryptoDataLoader(choosen_symbols, API_KEY)\n",
        "    crypto_df = data_loader.load_crypto_candles(start= start, end= end)\n",
        "    crypto_df = data_loader.cleansing_holcv_dataframes(crypto_df)\n",
        "    crypto_df = fix_date(crypto_df)\n",
        "    data = crypto_df.copy()\n",
        "    data  = data_loader.crypto_clean_data(data)\n",
        "    \n",
        "    return data\n"
      ]
    },
    {
      "cell_type": "code",
      "execution_count": 18,
      "metadata": {},
      "outputs": [],
      "source": [
        "def config_env_kwargs(train):\n",
        "    stock_dimension = len(train.tic.unique())\n",
        "    state_space = 1 + len(config.INDICATORS)*stock_dimension + 2*stock_dimension\n",
        "    print(f\"Stock Dimension: {stock_dimension}, State Space: {state_space}\")\n",
        "    \n",
        "    buy_cost_list = sell_cost_list = [0.001] * stock_dimension\n",
        "    num_stock_shares = [0] * stock_dimension\n",
        "\n",
        "    env_kwargs = {\n",
        "        \"hmax\": 100,\n",
        "        \"initial_amount\": 1000000,\n",
        "        \"num_stock_shares\": num_stock_shares,\n",
        "        \"buy_cost_pct\": buy_cost_list,\n",
        "        \"sell_cost_pct\": sell_cost_list,\n",
        "        \"state_space\": state_space,\n",
        "        \"stock_dim\": stock_dimension,\n",
        "        \"tech_indicator_list\": config.INDICATORS,\n",
        "        \"action_space\": stock_dimension,\n",
        "        \"reward_scaling\": 1e-4\n",
        "    }\n",
        "    return env_kwargs"
      ]
    },
    {
      "cell_type": "code",
      "execution_count": 19,
      "metadata": {
        "id": "HmEAS3Vmt2d2"
      },
      "outputs": [],
      "source": [
        "def fetch_preprocess_data(API_KEY,start_date, end_date, choosen_symbols, \n",
        "          technical_indicator_list):\n",
        "    \n",
        "    #fetch data\n",
        "    #DP = DataProcessor(data_source, **kwargs)\n",
        "    #data = DP.download_data(ticker_list, start_date, end_date, time_interval)\n",
        "    #data = DP.clean_data(data)\n",
        "    #data = DP.add_technical_indicator(data, technical_indicator_list)\n",
        "    #if if_vix:\n",
        "    #    data = DP.add_vix(data)\n",
        "    #price_array, tech_array, turbulence_array = DP.df_to_array(data, if_vix)\n",
        "\n",
        "    data = fetch_data(API_KEY, choosen_symbols, start_date, end_date)\n",
        "\n",
        "    \n",
        "    fe = FeatureEngineer(\n",
        "                    use_technical_indicator = True,\n",
        "                    tech_indicator_list =  config.INDICATORS,\n",
        "                    use_vix= True ,\n",
        "                    use_turbulence=True,\n",
        "                    user_defined_feature = False)\n",
        "\n",
        "    processed = fe.preprocess_data(data)\n",
        "\n",
        "    list_ticker = processed[\"tic\"].unique().tolist()\n",
        "    list_date = list(pd.date_range(processed['date'].min(),processed['date'].max()).astype(str))\n",
        "    combination = list(itertools.product(list_date,list_ticker))\n",
        "    \n",
        "    processed_full = pd.DataFrame(combination,columns=[\"date\",\"tic\"]).merge(processed,on=[\"date\",\"tic\"],how=\"left\")\n",
        "    processed_full = processed_full[processed_full['date'].isin(processed['date'])]\n",
        "    processed_full = processed_full.sort_values(['date','tic'])\n",
        "\n",
        "    processed_full = processed_full.fillna(0)\n",
        "\n",
        "    train_start_date = datetime.datetime(2019,10,21).strftime('%Y-%m-%d')\n",
        "# from config.py TRAIN_END_DATE is a string\n",
        "    train_end_date = datetime.datetime(2021,4,24).strftime('%Y-%m-%d')\n",
        "    trade_end_date = datetime.datetime(2021,9,24).strftime('%Y-%m-%d')\n",
        "    train = data_split(processed_full, train_start_date ,train_end_date)\n",
        "    trade = data_split(processed_full, train_end_date ,trade_end_date)\n",
        "\n",
        "    return train, trade\n",
        "\n",
        "def get_train_env(train, env_kwargs):\n",
        "    e_train_gym = StockTradingEnv(df = train, **env_kwargs)\n",
        "    return e_train_gym"
      ]
    },
    {
      "cell_type": "code",
      "execution_count": 20,
      "metadata": {
        "id": "Sx6O3qevuaDC"
      },
      "outputs": [],
      "source": [
        "#Function to calculate the sharpe ratio from the list of total_episode_reward\n",
        "def calculate_sharpe(episode_reward:list):\n",
        "  perf_data = pd.DataFrame(data=episode_reward,columns=['reward'])\n",
        "  perf_data['daily_return'] = perf_data['reward'].pct_change(1)\n",
        "  if perf_data['daily_return'].std() !=0:\n",
        "    sharpe = (252**0.5)*perf_data['daily_return'].mean()/ \\\n",
        "          perf_data['daily_return'].std()\n",
        "    return sharpe\n",
        "  else:\n",
        "    return 0\n",
        "\n",
        "def get_test_config(trade, env_kwargs):\n",
        "  \n",
        "  ##DP = DataProcessor(data_source, **kwargs)\n",
        "  ##data = DP.download_data(ticker_list, start_date, end_date, time_interval)\n",
        "  ##data = DP.clean_data(data)\n",
        "  ##data = DP.add_technical_indicator(data, technical_indicator_list)\n",
        "  \n",
        "  ##if if_vix:\n",
        "  ##    data = DP.add_vix(data)\n",
        "  \n",
        "  ##price_array, tech_array, turbulence_array = DP.df_to_array(data, if_vix)\n",
        "  ##test_env_config = {'price_array':price_array,\n",
        "  ##          'tech_array':tech_array,\n",
        "  ##          'turbulence_array':turbulence_array,'if_train':False}\n",
        "  ##return test_env_config\n",
        "  \n",
        "  e_trade_gym = StockTradingEnv(df = trade,  turbulence_threshold = 70,risk_indicator_col='vix', **env_kwargs)\n",
        "\n",
        "\n",
        "def val_or_test(test_env_config,agent_path,model_name,env):\n",
        "  episode_total_reward = DRL_prediction(model_name,test_env_config,\n",
        "                                env = env,\n",
        "                                agent_path=agent_path)\n",
        "\n",
        "\n",
        "  return calculate_sharpe(episode_total_reward),episode_total_reward"
      ]
    },
    {
      "cell_type": "code",
      "execution_count": 21,
      "metadata": {
        "id": "HM12Fz7IrN4P"
      },
      "outputs": [],
      "source": [
        "TRAIN_START_DATE = datetime.date(2019,10,21).timetuple()\n",
        "TRAIN_END_DATE = datetime.date(2020,10,21).timetuple()\n",
        "\n",
        "VAL_START_DATE = datetime.date(2020,10,22).timetuple()\n",
        "VAL_END_DATE = datetime.date(2021,4,24).timetuple()\n",
        "\n",
        "TEST_START_DATE = datetime.date(2021,4,25).timetuple()\n",
        "TEST_END_DATE = datetime.date(2021,9,24).timetuple()"
      ]
    },
    {
      "cell_type": "code",
      "execution_count": 22,
      "metadata": {
        "id": "tjrZFwhLsHHH"
      },
      "outputs": [],
      "source": [
        "technical_indicator_list =config.INDICATORS\n",
        "model_name = 'ppo'\n"
      ]
    },
    {
      "cell_type": "code",
      "execution_count": 23,
      "metadata": {},
      "outputs": [
        {
          "data": {
            "text/plain": [
              "['macd',\n",
              " 'boll_ub',\n",
              " 'boll_lb',\n",
              " 'rsi_30',\n",
              " 'cci_30',\n",
              " 'dx_30',\n",
              " 'close_30_sma',\n",
              " 'close_60_sma']"
            ]
          },
          "execution_count": 23,
          "metadata": {},
          "output_type": "execute_result"
        }
      ],
      "source": [
        "technical_indicator_list"
      ]
    },
    {
      "cell_type": "code",
      "execution_count": 24,
      "metadata": {},
      "outputs": [],
      "source": [
        "api_key='cbj22uqad3i2thcmtg80'\n",
        "choosen_symbols = ['BTC', 'ETH', 'USDT', 'USDC', 'BNB', 'XRP', 'ADA', 'BUSD', 'SOL', 'DOT']"
      ]
    },
    {
      "cell_type": "code",
      "execution_count": 25,
      "metadata": {
        "colab": {
          "base_uri": "https://localhost:8080/"
        },
        "id": "ZwzmewVuyp6m",
        "outputId": "80f8ebb3-fbac-46ac-887b-ac37a9bdf6cd"
      },
      "outputs": [
        {
          "name": "stdout",
          "output_type": "stream",
          "text": [
            "704\n"
          ]
        },
        {
          "name": "stderr",
          "output_type": "stream",
          "text": [
            "/mnt/f/financial_projects/Deep Reinforcement Learning Approaches on Stock Prediction/FinRL/finrl/finrl_meta/preprocessor/preprocessors.py:151: FutureWarning: The frame.append method is deprecated and will be removed from pandas in a future version. Use pandas.concat instead.\n",
            "  indicator_df = indicator_df.append(\n",
            "/mnt/f/financial_projects/Deep Reinforcement Learning Approaches on Stock Prediction/FinRL/finrl/finrl_meta/preprocessor/preprocessors.py:151: FutureWarning: The frame.append method is deprecated and will be removed from pandas in a future version. Use pandas.concat instead.\n",
            "  indicator_df = indicator_df.append(\n",
            "/mnt/f/financial_projects/Deep Reinforcement Learning Approaches on Stock Prediction/FinRL/finrl/finrl_meta/preprocessor/preprocessors.py:151: FutureWarning: The frame.append method is deprecated and will be removed from pandas in a future version. Use pandas.concat instead.\n",
            "  indicator_df = indicator_df.append(\n",
            "/mnt/f/financial_projects/Deep Reinforcement Learning Approaches on Stock Prediction/FinRL/finrl/finrl_meta/preprocessor/preprocessors.py:151: FutureWarning: The frame.append method is deprecated and will be removed from pandas in a future version. Use pandas.concat instead.\n",
            "  indicator_df = indicator_df.append(\n",
            "/mnt/f/financial_projects/Deep Reinforcement Learning Approaches on Stock Prediction/FinRL/finrl/finrl_meta/preprocessor/preprocessors.py:151: FutureWarning: The frame.append method is deprecated and will be removed from pandas in a future version. Use pandas.concat instead.\n",
            "  indicator_df = indicator_df.append(\n",
            "/mnt/f/financial_projects/Deep Reinforcement Learning Approaches on Stock Prediction/FinRL/finrl/finrl_meta/preprocessor/preprocessors.py:151: FutureWarning: The frame.append method is deprecated and will be removed from pandas in a future version. Use pandas.concat instead.\n",
            "  indicator_df = indicator_df.append(\n",
            "/mnt/f/financial_projects/Deep Reinforcement Learning Approaches on Stock Prediction/FinRL/finrl/finrl_meta/preprocessor/preprocessors.py:151: FutureWarning: The frame.append method is deprecated and will be removed from pandas in a future version. Use pandas.concat instead.\n",
            "  indicator_df = indicator_df.append(\n",
            "/mnt/f/financial_projects/Deep Reinforcement Learning Approaches on Stock Prediction/FinRL/finrl/finrl_meta/preprocessor/preprocessors.py:151: FutureWarning: The frame.append method is deprecated and will be removed from pandas in a future version. Use pandas.concat instead.\n",
            "  indicator_df = indicator_df.append(\n",
            "/mnt/f/financial_projects/Deep Reinforcement Learning Approaches on Stock Prediction/FinRL/finrl/finrl_meta/preprocessor/preprocessors.py:151: FutureWarning: The frame.append method is deprecated and will be removed from pandas in a future version. Use pandas.concat instead.\n",
            "  indicator_df = indicator_df.append(\n",
            "/mnt/f/financial_projects/Deep Reinforcement Learning Approaches on Stock Prediction/FinRL/finrl/finrl_meta/preprocessor/preprocessors.py:151: FutureWarning: The frame.append method is deprecated and will be removed from pandas in a future version. Use pandas.concat instead.\n",
            "  indicator_df = indicator_df.append(\n",
            "/mnt/f/financial_projects/Deep Reinforcement Learning Approaches on Stock Prediction/FinRL/finrl/finrl_meta/preprocessor/preprocessors.py:151: FutureWarning: The frame.append method is deprecated and will be removed from pandas in a future version. Use pandas.concat instead.\n",
            "  indicator_df = indicator_df.append(\n",
            "/mnt/f/financial_projects/Deep Reinforcement Learning Approaches on Stock Prediction/FinRL/finrl/finrl_meta/preprocessor/preprocessors.py:151: FutureWarning: The frame.append method is deprecated and will be removed from pandas in a future version. Use pandas.concat instead.\n",
            "  indicator_df = indicator_df.append(\n",
            "/mnt/f/financial_projects/Deep Reinforcement Learning Approaches on Stock Prediction/FinRL/finrl/finrl_meta/preprocessor/preprocessors.py:151: FutureWarning: The frame.append method is deprecated and will be removed from pandas in a future version. Use pandas.concat instead.\n",
            "  indicator_df = indicator_df.append(\n",
            "/mnt/f/financial_projects/Deep Reinforcement Learning Approaches on Stock Prediction/FinRL/finrl/finrl_meta/preprocessor/preprocessors.py:151: FutureWarning: The frame.append method is deprecated and will be removed from pandas in a future version. Use pandas.concat instead.\n",
            "  indicator_df = indicator_df.append(\n",
            "/mnt/f/financial_projects/Deep Reinforcement Learning Approaches on Stock Prediction/FinRL/finrl/finrl_meta/preprocessor/preprocessors.py:151: FutureWarning: The frame.append method is deprecated and will be removed from pandas in a future version. Use pandas.concat instead.\n",
            "  indicator_df = indicator_df.append(\n",
            "/mnt/f/financial_projects/Deep Reinforcement Learning Approaches on Stock Prediction/FinRL/finrl/finrl_meta/preprocessor/preprocessors.py:151: FutureWarning: The frame.append method is deprecated and will be removed from pandas in a future version. Use pandas.concat instead.\n",
            "  indicator_df = indicator_df.append(\n",
            "/mnt/f/financial_projects/Deep Reinforcement Learning Approaches on Stock Prediction/FinRL/finrl/finrl_meta/preprocessor/preprocessors.py:151: FutureWarning: The frame.append method is deprecated and will be removed from pandas in a future version. Use pandas.concat instead.\n",
            "  indicator_df = indicator_df.append(\n",
            "/mnt/f/financial_projects/Deep Reinforcement Learning Approaches on Stock Prediction/FinRL/finrl/finrl_meta/preprocessor/preprocessors.py:151: FutureWarning: The frame.append method is deprecated and will be removed from pandas in a future version. Use pandas.concat instead.\n",
            "  indicator_df = indicator_df.append(\n",
            "/mnt/f/financial_projects/Deep Reinforcement Learning Approaches on Stock Prediction/FinRL/finrl/finrl_meta/preprocessor/preprocessors.py:151: FutureWarning: The frame.append method is deprecated and will be removed from pandas in a future version. Use pandas.concat instead.\n",
            "  indicator_df = indicator_df.append(\n",
            "/mnt/f/financial_projects/Deep Reinforcement Learning Approaches on Stock Prediction/FinRL/finrl/finrl_meta/preprocessor/preprocessors.py:151: FutureWarning: The frame.append method is deprecated and will be removed from pandas in a future version. Use pandas.concat instead.\n",
            "  indicator_df = indicator_df.append(\n",
            "/mnt/f/financial_projects/Deep Reinforcement Learning Approaches on Stock Prediction/FinRL/finrl/finrl_meta/preprocessor/preprocessors.py:151: FutureWarning: The frame.append method is deprecated and will be removed from pandas in a future version. Use pandas.concat instead.\n",
            "  indicator_df = indicator_df.append(\n",
            "/mnt/f/financial_projects/Deep Reinforcement Learning Approaches on Stock Prediction/FinRL/finrl/finrl_meta/preprocessor/preprocessors.py:151: FutureWarning: The frame.append method is deprecated and will be removed from pandas in a future version. Use pandas.concat instead.\n",
            "  indicator_df = indicator_df.append(\n",
            "/mnt/f/financial_projects/Deep Reinforcement Learning Approaches on Stock Prediction/FinRL/finrl/finrl_meta/preprocessor/preprocessors.py:151: FutureWarning: The frame.append method is deprecated and will be removed from pandas in a future version. Use pandas.concat instead.\n",
            "  indicator_df = indicator_df.append(\n",
            "/mnt/f/financial_projects/Deep Reinforcement Learning Approaches on Stock Prediction/FinRL/finrl/finrl_meta/preprocessor/preprocessors.py:151: FutureWarning: The frame.append method is deprecated and will be removed from pandas in a future version. Use pandas.concat instead.\n",
            "  indicator_df = indicator_df.append(\n",
            "/mnt/f/financial_projects/Deep Reinforcement Learning Approaches on Stock Prediction/FinRL/finrl/finrl_meta/preprocessor/preprocessors.py:151: FutureWarning: The frame.append method is deprecated and will be removed from pandas in a future version. Use pandas.concat instead.\n",
            "  indicator_df = indicator_df.append(\n",
            "/mnt/f/financial_projects/Deep Reinforcement Learning Approaches on Stock Prediction/FinRL/finrl/finrl_meta/preprocessor/preprocessors.py:151: FutureWarning: The frame.append method is deprecated and will be removed from pandas in a future version. Use pandas.concat instead.\n",
            "  indicator_df = indicator_df.append(\n",
            "/mnt/f/financial_projects/Deep Reinforcement Learning Approaches on Stock Prediction/FinRL/finrl/finrl_meta/preprocessor/preprocessors.py:151: FutureWarning: The frame.append method is deprecated and will be removed from pandas in a future version. Use pandas.concat instead.\n",
            "  indicator_df = indicator_df.append(\n",
            "/mnt/f/financial_projects/Deep Reinforcement Learning Approaches on Stock Prediction/FinRL/finrl/finrl_meta/preprocessor/preprocessors.py:151: FutureWarning: The frame.append method is deprecated and will be removed from pandas in a future version. Use pandas.concat instead.\n",
            "  indicator_df = indicator_df.append(\n",
            "/mnt/f/financial_projects/Deep Reinforcement Learning Approaches on Stock Prediction/FinRL/finrl/finrl_meta/preprocessor/preprocessors.py:151: FutureWarning: The frame.append method is deprecated and will be removed from pandas in a future version. Use pandas.concat instead.\n",
            "  indicator_df = indicator_df.append(\n",
            "/mnt/f/financial_projects/Deep Reinforcement Learning Approaches on Stock Prediction/FinRL/finrl/finrl_meta/preprocessor/preprocessors.py:151: FutureWarning: The frame.append method is deprecated and will be removed from pandas in a future version. Use pandas.concat instead.\n",
            "  indicator_df = indicator_df.append(\n",
            "/mnt/f/financial_projects/Deep Reinforcement Learning Approaches on Stock Prediction/FinRL/finrl/finrl_meta/preprocessor/preprocessors.py:151: FutureWarning: The frame.append method is deprecated and will be removed from pandas in a future version. Use pandas.concat instead.\n",
            "  indicator_df = indicator_df.append(\n",
            "/mnt/f/financial_projects/Deep Reinforcement Learning Approaches on Stock Prediction/FinRL/finrl/finrl_meta/preprocessor/preprocessors.py:151: FutureWarning: The frame.append method is deprecated and will be removed from pandas in a future version. Use pandas.concat instead.\n",
            "  indicator_df = indicator_df.append(\n",
            "/mnt/f/financial_projects/Deep Reinforcement Learning Approaches on Stock Prediction/FinRL/finrl/finrl_meta/preprocessor/preprocessors.py:151: FutureWarning: The frame.append method is deprecated and will be removed from pandas in a future version. Use pandas.concat instead.\n",
            "  indicator_df = indicator_df.append(\n",
            "/mnt/f/financial_projects/Deep Reinforcement Learning Approaches on Stock Prediction/FinRL/finrl/finrl_meta/preprocessor/preprocessors.py:151: FutureWarning: The frame.append method is deprecated and will be removed from pandas in a future version. Use pandas.concat instead.\n",
            "  indicator_df = indicator_df.append(\n",
            "/mnt/f/financial_projects/Deep Reinforcement Learning Approaches on Stock Prediction/FinRL/finrl/finrl_meta/preprocessor/preprocessors.py:151: FutureWarning: The frame.append method is deprecated and will be removed from pandas in a future version. Use pandas.concat instead.\n",
            "  indicator_df = indicator_df.append(\n",
            "/mnt/f/financial_projects/Deep Reinforcement Learning Approaches on Stock Prediction/FinRL/finrl/finrl_meta/preprocessor/preprocessors.py:151: FutureWarning: The frame.append method is deprecated and will be removed from pandas in a future version. Use pandas.concat instead.\n",
            "  indicator_df = indicator_df.append(\n",
            "/mnt/f/financial_projects/Deep Reinforcement Learning Approaches on Stock Prediction/FinRL/finrl/finrl_meta/preprocessor/preprocessors.py:151: FutureWarning: The frame.append method is deprecated and will be removed from pandas in a future version. Use pandas.concat instead.\n",
            "  indicator_df = indicator_df.append(\n",
            "/mnt/f/financial_projects/Deep Reinforcement Learning Approaches on Stock Prediction/FinRL/finrl/finrl_meta/preprocessor/preprocessors.py:151: FutureWarning: The frame.append method is deprecated and will be removed from pandas in a future version. Use pandas.concat instead.\n",
            "  indicator_df = indicator_df.append(\n",
            "/mnt/f/financial_projects/Deep Reinforcement Learning Approaches on Stock Prediction/FinRL/finrl/finrl_meta/preprocessor/preprocessors.py:151: FutureWarning: The frame.append method is deprecated and will be removed from pandas in a future version. Use pandas.concat instead.\n",
            "  indicator_df = indicator_df.append(\n",
            "/mnt/f/financial_projects/Deep Reinforcement Learning Approaches on Stock Prediction/FinRL/finrl/finrl_meta/preprocessor/preprocessors.py:151: FutureWarning: The frame.append method is deprecated and will be removed from pandas in a future version. Use pandas.concat instead.\n",
            "  indicator_df = indicator_df.append(\n",
            "/mnt/f/financial_projects/Deep Reinforcement Learning Approaches on Stock Prediction/FinRL/finrl/finrl_meta/preprocessor/preprocessors.py:151: FutureWarning: The frame.append method is deprecated and will be removed from pandas in a future version. Use pandas.concat instead.\n",
            "  indicator_df = indicator_df.append(\n",
            "/mnt/f/financial_projects/Deep Reinforcement Learning Approaches on Stock Prediction/FinRL/finrl/finrl_meta/preprocessor/preprocessors.py:151: FutureWarning: The frame.append method is deprecated and will be removed from pandas in a future version. Use pandas.concat instead.\n",
            "  indicator_df = indicator_df.append(\n",
            "/mnt/f/financial_projects/Deep Reinforcement Learning Approaches on Stock Prediction/FinRL/finrl/finrl_meta/preprocessor/preprocessors.py:151: FutureWarning: The frame.append method is deprecated and will be removed from pandas in a future version. Use pandas.concat instead.\n",
            "  indicator_df = indicator_df.append(\n",
            "/mnt/f/financial_projects/Deep Reinforcement Learning Approaches on Stock Prediction/FinRL/finrl/finrl_meta/preprocessor/preprocessors.py:151: FutureWarning: The frame.append method is deprecated and will be removed from pandas in a future version. Use pandas.concat instead.\n",
            "  indicator_df = indicator_df.append(\n",
            "/mnt/f/financial_projects/Deep Reinforcement Learning Approaches on Stock Prediction/FinRL/finrl/finrl_meta/preprocessor/preprocessors.py:151: FutureWarning: The frame.append method is deprecated and will be removed from pandas in a future version. Use pandas.concat instead.\n",
            "  indicator_df = indicator_df.append(\n",
            "/mnt/f/financial_projects/Deep Reinforcement Learning Approaches on Stock Prediction/FinRL/finrl/finrl_meta/preprocessor/preprocessors.py:151: FutureWarning: The frame.append method is deprecated and will be removed from pandas in a future version. Use pandas.concat instead.\n",
            "  indicator_df = indicator_df.append(\n",
            "/mnt/f/financial_projects/Deep Reinforcement Learning Approaches on Stock Prediction/FinRL/finrl/finrl_meta/preprocessor/preprocessors.py:151: FutureWarning: The frame.append method is deprecated and will be removed from pandas in a future version. Use pandas.concat instead.\n",
            "  indicator_df = indicator_df.append(\n",
            "/mnt/f/financial_projects/Deep Reinforcement Learning Approaches on Stock Prediction/FinRL/finrl/finrl_meta/preprocessor/preprocessors.py:151: FutureWarning: The frame.append method is deprecated and will be removed from pandas in a future version. Use pandas.concat instead.\n",
            "  indicator_df = indicator_df.append(\n",
            "/mnt/f/financial_projects/Deep Reinforcement Learning Approaches on Stock Prediction/FinRL/finrl/finrl_meta/preprocessor/preprocessors.py:151: FutureWarning: The frame.append method is deprecated and will be removed from pandas in a future version. Use pandas.concat instead.\n",
            "  indicator_df = indicator_df.append(\n",
            "/mnt/f/financial_projects/Deep Reinforcement Learning Approaches on Stock Prediction/FinRL/finrl/finrl_meta/preprocessor/preprocessors.py:151: FutureWarning: The frame.append method is deprecated and will be removed from pandas in a future version. Use pandas.concat instead.\n",
            "  indicator_df = indicator_df.append(\n",
            "/mnt/f/financial_projects/Deep Reinforcement Learning Approaches on Stock Prediction/FinRL/finrl/finrl_meta/preprocessor/preprocessors.py:151: FutureWarning: The frame.append method is deprecated and will be removed from pandas in a future version. Use pandas.concat instead.\n",
            "  indicator_df = indicator_df.append(\n",
            "/mnt/f/financial_projects/Deep Reinforcement Learning Approaches on Stock Prediction/FinRL/finrl/finrl_meta/preprocessor/preprocessors.py:151: FutureWarning: The frame.append method is deprecated and will be removed from pandas in a future version. Use pandas.concat instead.\n",
            "  indicator_df = indicator_df.append(\n",
            "/mnt/f/financial_projects/Deep Reinforcement Learning Approaches on Stock Prediction/FinRL/finrl/finrl_meta/preprocessor/preprocessors.py:151: FutureWarning: The frame.append method is deprecated and will be removed from pandas in a future version. Use pandas.concat instead.\n",
            "  indicator_df = indicator_df.append(\n",
            "/mnt/f/financial_projects/Deep Reinforcement Learning Approaches on Stock Prediction/FinRL/finrl/finrl_meta/preprocessor/preprocessors.py:151: FutureWarning: The frame.append method is deprecated and will be removed from pandas in a future version. Use pandas.concat instead.\n",
            "  indicator_df = indicator_df.append(\n",
            "/mnt/f/financial_projects/Deep Reinforcement Learning Approaches on Stock Prediction/FinRL/finrl/finrl_meta/preprocessor/preprocessors.py:151: FutureWarning: The frame.append method is deprecated and will be removed from pandas in a future version. Use pandas.concat instead.\n",
            "  indicator_df = indicator_df.append(\n",
            "/mnt/f/financial_projects/Deep Reinforcement Learning Approaches on Stock Prediction/FinRL/finrl/finrl_meta/preprocessor/preprocessors.py:151: FutureWarning: The frame.append method is deprecated and will be removed from pandas in a future version. Use pandas.concat instead.\n",
            "  indicator_df = indicator_df.append(\n",
            "/mnt/f/financial_projects/Deep Reinforcement Learning Approaches on Stock Prediction/FinRL/finrl/finrl_meta/preprocessor/preprocessors.py:151: FutureWarning: The frame.append method is deprecated and will be removed from pandas in a future version. Use pandas.concat instead.\n",
            "  indicator_df = indicator_df.append(\n",
            "/mnt/f/financial_projects/Deep Reinforcement Learning Approaches on Stock Prediction/FinRL/finrl/finrl_meta/preprocessor/preprocessors.py:151: FutureWarning: The frame.append method is deprecated and will be removed from pandas in a future version. Use pandas.concat instead.\n",
            "  indicator_df = indicator_df.append(\n",
            "/mnt/f/financial_projects/Deep Reinforcement Learning Approaches on Stock Prediction/FinRL/finrl/finrl_meta/preprocessor/preprocessors.py:151: FutureWarning: The frame.append method is deprecated and will be removed from pandas in a future version. Use pandas.concat instead.\n",
            "  indicator_df = indicator_df.append(\n",
            "/mnt/f/financial_projects/Deep Reinforcement Learning Approaches on Stock Prediction/FinRL/finrl/finrl_meta/preprocessor/preprocessors.py:151: FutureWarning: The frame.append method is deprecated and will be removed from pandas in a future version. Use pandas.concat instead.\n",
            "  indicator_df = indicator_df.append(\n",
            "/mnt/f/financial_projects/Deep Reinforcement Learning Approaches on Stock Prediction/FinRL/finrl/finrl_meta/preprocessor/preprocessors.py:151: FutureWarning: The frame.append method is deprecated and will be removed from pandas in a future version. Use pandas.concat instead.\n",
            "  indicator_df = indicator_df.append(\n",
            "/mnt/f/financial_projects/Deep Reinforcement Learning Approaches on Stock Prediction/FinRL/finrl/finrl_meta/preprocessor/preprocessors.py:151: FutureWarning: The frame.append method is deprecated and will be removed from pandas in a future version. Use pandas.concat instead.\n",
            "  indicator_df = indicator_df.append(\n",
            "/mnt/f/financial_projects/Deep Reinforcement Learning Approaches on Stock Prediction/FinRL/finrl/finrl_meta/preprocessor/preprocessors.py:151: FutureWarning: The frame.append method is deprecated and will be removed from pandas in a future version. Use pandas.concat instead.\n",
            "  indicator_df = indicator_df.append(\n",
            "/mnt/f/financial_projects/Deep Reinforcement Learning Approaches on Stock Prediction/FinRL/finrl/finrl_meta/preprocessor/preprocessors.py:151: FutureWarning: The frame.append method is deprecated and will be removed from pandas in a future version. Use pandas.concat instead.\n",
            "  indicator_df = indicator_df.append(\n",
            "/mnt/f/financial_projects/Deep Reinforcement Learning Approaches on Stock Prediction/FinRL/finrl/finrl_meta/preprocessor/preprocessors.py:151: FutureWarning: The frame.append method is deprecated and will be removed from pandas in a future version. Use pandas.concat instead.\n",
            "  indicator_df = indicator_df.append(\n",
            "/mnt/f/financial_projects/Deep Reinforcement Learning Approaches on Stock Prediction/FinRL/finrl/finrl_meta/preprocessor/preprocessors.py:151: FutureWarning: The frame.append method is deprecated and will be removed from pandas in a future version. Use pandas.concat instead.\n",
            "  indicator_df = indicator_df.append(\n",
            "/mnt/f/financial_projects/Deep Reinforcement Learning Approaches on Stock Prediction/FinRL/finrl/finrl_meta/preprocessor/preprocessors.py:151: FutureWarning: The frame.append method is deprecated and will be removed from pandas in a future version. Use pandas.concat instead.\n",
            "  indicator_df = indicator_df.append(\n",
            "/mnt/f/financial_projects/Deep Reinforcement Learning Approaches on Stock Prediction/FinRL/finrl/finrl_meta/preprocessor/preprocessors.py:151: FutureWarning: The frame.append method is deprecated and will be removed from pandas in a future version. Use pandas.concat instead.\n",
            "  indicator_df = indicator_df.append(\n",
            "/mnt/f/financial_projects/Deep Reinforcement Learning Approaches on Stock Prediction/FinRL/finrl/finrl_meta/preprocessor/preprocessors.py:151: FutureWarning: The frame.append method is deprecated and will be removed from pandas in a future version. Use pandas.concat instead.\n",
            "  indicator_df = indicator_df.append(\n",
            "/mnt/f/financial_projects/Deep Reinforcement Learning Approaches on Stock Prediction/FinRL/finrl/finrl_meta/preprocessor/preprocessors.py:151: FutureWarning: The frame.append method is deprecated and will be removed from pandas in a future version. Use pandas.concat instead.\n",
            "  indicator_df = indicator_df.append(\n",
            "/mnt/f/financial_projects/Deep Reinforcement Learning Approaches on Stock Prediction/FinRL/finrl/finrl_meta/preprocessor/preprocessors.py:151: FutureWarning: The frame.append method is deprecated and will be removed from pandas in a future version. Use pandas.concat instead.\n",
            "  indicator_df = indicator_df.append(\n",
            "/mnt/f/financial_projects/Deep Reinforcement Learning Approaches on Stock Prediction/FinRL/finrl/finrl_meta/preprocessor/preprocessors.py:151: FutureWarning: The frame.append method is deprecated and will be removed from pandas in a future version. Use pandas.concat instead.\n",
            "  indicator_df = indicator_df.append(\n",
            "/mnt/f/financial_projects/Deep Reinforcement Learning Approaches on Stock Prediction/FinRL/finrl/finrl_meta/preprocessor/preprocessors.py:151: FutureWarning: The frame.append method is deprecated and will be removed from pandas in a future version. Use pandas.concat instead.\n",
            "  indicator_df = indicator_df.append(\n",
            "/mnt/f/financial_projects/Deep Reinforcement Learning Approaches on Stock Prediction/FinRL/finrl/finrl_meta/preprocessor/preprocessors.py:151: FutureWarning: The frame.append method is deprecated and will be removed from pandas in a future version. Use pandas.concat instead.\n",
            "  indicator_df = indicator_df.append(\n",
            "/mnt/f/financial_projects/Deep Reinforcement Learning Approaches on Stock Prediction/FinRL/finrl/finrl_meta/preprocessor/preprocessors.py:151: FutureWarning: The frame.append method is deprecated and will be removed from pandas in a future version. Use pandas.concat instead.\n",
            "  indicator_df = indicator_df.append(\n",
            "/mnt/f/financial_projects/Deep Reinforcement Learning Approaches on Stock Prediction/FinRL/finrl/finrl_meta/preprocessor/preprocessors.py:151: FutureWarning: The frame.append method is deprecated and will be removed from pandas in a future version. Use pandas.concat instead.\n",
            "  indicator_df = indicator_df.append(\n",
            "/mnt/f/financial_projects/Deep Reinforcement Learning Approaches on Stock Prediction/FinRL/finrl/finrl_meta/preprocessor/preprocessors.py:151: FutureWarning: The frame.append method is deprecated and will be removed from pandas in a future version. Use pandas.concat instead.\n",
            "  indicator_df = indicator_df.append(\n",
            "/mnt/f/financial_projects/Deep Reinforcement Learning Approaches on Stock Prediction/FinRL/finrl/finrl_meta/preprocessor/preprocessors.py:151: FutureWarning: The frame.append method is deprecated and will be removed from pandas in a future version. Use pandas.concat instead.\n",
            "  indicator_df = indicator_df.append(\n",
            "/mnt/f/financial_projects/Deep Reinforcement Learning Approaches on Stock Prediction/FinRL/finrl/finrl_meta/preprocessor/preprocessors.py:151: FutureWarning: The frame.append method is deprecated and will be removed from pandas in a future version. Use pandas.concat instead.\n",
            "  indicator_df = indicator_df.append(\n",
            "/mnt/f/financial_projects/Deep Reinforcement Learning Approaches on Stock Prediction/FinRL/finrl/finrl_meta/preprocessor/preprocessors.py:151: FutureWarning: The frame.append method is deprecated and will be removed from pandas in a future version. Use pandas.concat instead.\n",
            "  indicator_df = indicator_df.append(\n",
            "/mnt/f/financial_projects/Deep Reinforcement Learning Approaches on Stock Prediction/FinRL/finrl/finrl_meta/preprocessor/preprocessors.py:151: FutureWarning: The frame.append method is deprecated and will be removed from pandas in a future version. Use pandas.concat instead.\n",
            "  indicator_df = indicator_df.append(\n",
            "/mnt/f/financial_projects/Deep Reinforcement Learning Approaches on Stock Prediction/FinRL/finrl/finrl_meta/preprocessor/preprocessors.py:151: FutureWarning: The frame.append method is deprecated and will be removed from pandas in a future version. Use pandas.concat instead.\n",
            "  indicator_df = indicator_df.append(\n",
            "/mnt/f/financial_projects/Deep Reinforcement Learning Approaches on Stock Prediction/FinRL/finrl/finrl_meta/preprocessor/preprocessors.py:151: FutureWarning: The frame.append method is deprecated and will be removed from pandas in a future version. Use pandas.concat instead.\n",
            "  indicator_df = indicator_df.append(\n",
            "/mnt/f/financial_projects/Deep Reinforcement Learning Approaches on Stock Prediction/FinRL/finrl/finrl_meta/preprocessor/preprocessors.py:151: FutureWarning: The frame.append method is deprecated and will be removed from pandas in a future version. Use pandas.concat instead.\n",
            "  indicator_df = indicator_df.append(\n",
            "/mnt/f/financial_projects/Deep Reinforcement Learning Approaches on Stock Prediction/FinRL/finrl/finrl_meta/preprocessor/preprocessors.py:151: FutureWarning: The frame.append method is deprecated and will be removed from pandas in a future version. Use pandas.concat instead.\n",
            "  indicator_df = indicator_df.append(\n",
            "/mnt/f/financial_projects/Deep Reinforcement Learning Approaches on Stock Prediction/FinRL/finrl/finrl_meta/preprocessor/preprocessors.py:151: FutureWarning: The frame.append method is deprecated and will be removed from pandas in a future version. Use pandas.concat instead.\n",
            "  indicator_df = indicator_df.append(\n",
            "/mnt/f/financial_projects/Deep Reinforcement Learning Approaches on Stock Prediction/FinRL/finrl/finrl_meta/preprocessor/preprocessors.py:151: FutureWarning: The frame.append method is deprecated and will be removed from pandas in a future version. Use pandas.concat instead.\n",
            "  indicator_df = indicator_df.append(\n",
            "/mnt/f/financial_projects/Deep Reinforcement Learning Approaches on Stock Prediction/FinRL/finrl/finrl_meta/preprocessor/preprocessors.py:151: FutureWarning: The frame.append method is deprecated and will be removed from pandas in a future version. Use pandas.concat instead.\n",
            "  indicator_df = indicator_df.append(\n",
            "/mnt/f/financial_projects/Deep Reinforcement Learning Approaches on Stock Prediction/FinRL/finrl/finrl_meta/preprocessor/preprocessors.py:151: FutureWarning: The frame.append method is deprecated and will be removed from pandas in a future version. Use pandas.concat instead.\n",
            "  indicator_df = indicator_df.append(\n",
            "/mnt/f/financial_projects/Deep Reinforcement Learning Approaches on Stock Prediction/FinRL/finrl/finrl_meta/preprocessor/preprocessors.py:151: FutureWarning: The frame.append method is deprecated and will be removed from pandas in a future version. Use pandas.concat instead.\n",
            "  indicator_df = indicator_df.append(\n",
            "/mnt/f/financial_projects/Deep Reinforcement Learning Approaches on Stock Prediction/FinRL/finrl/finrl_meta/preprocessor/preprocessors.py:151: FutureWarning: The frame.append method is deprecated and will be removed from pandas in a future version. Use pandas.concat instead.\n",
            "  indicator_df = indicator_df.append(\n",
            "/mnt/f/financial_projects/Deep Reinforcement Learning Approaches on Stock Prediction/FinRL/finrl/finrl_meta/preprocessor/preprocessors.py:151: FutureWarning: The frame.append method is deprecated and will be removed from pandas in a future version. Use pandas.concat instead.\n",
            "  indicator_df = indicator_df.append(\n",
            "/mnt/f/financial_projects/Deep Reinforcement Learning Approaches on Stock Prediction/FinRL/finrl/finrl_meta/preprocessor/preprocessors.py:151: FutureWarning: The frame.append method is deprecated and will be removed from pandas in a future version. Use pandas.concat instead.\n",
            "  indicator_df = indicator_df.append(\n",
            "/mnt/f/financial_projects/Deep Reinforcement Learning Approaches on Stock Prediction/FinRL/finrl/finrl_meta/preprocessor/preprocessors.py:151: FutureWarning: The frame.append method is deprecated and will be removed from pandas in a future version. Use pandas.concat instead.\n",
            "  indicator_df = indicator_df.append(\n",
            "/mnt/f/financial_projects/Deep Reinforcement Learning Approaches on Stock Prediction/FinRL/finrl/finrl_meta/preprocessor/preprocessors.py:151: FutureWarning: The frame.append method is deprecated and will be removed from pandas in a future version. Use pandas.concat instead.\n",
            "  indicator_df = indicator_df.append(\n",
            "/mnt/f/financial_projects/Deep Reinforcement Learning Approaches on Stock Prediction/FinRL/finrl/finrl_meta/preprocessor/preprocessors.py:151: FutureWarning: The frame.append method is deprecated and will be removed from pandas in a future version. Use pandas.concat instead.\n",
            "  indicator_df = indicator_df.append(\n",
            "/mnt/f/financial_projects/Deep Reinforcement Learning Approaches on Stock Prediction/FinRL/finrl/finrl_meta/preprocessor/preprocessors.py:151: FutureWarning: The frame.append method is deprecated and will be removed from pandas in a future version. Use pandas.concat instead.\n",
            "  indicator_df = indicator_df.append(\n",
            "/mnt/f/financial_projects/Deep Reinforcement Learning Approaches on Stock Prediction/FinRL/finrl/finrl_meta/preprocessor/preprocessors.py:151: FutureWarning: The frame.append method is deprecated and will be removed from pandas in a future version. Use pandas.concat instead.\n",
            "  indicator_df = indicator_df.append(\n",
            "/mnt/f/financial_projects/Deep Reinforcement Learning Approaches on Stock Prediction/FinRL/finrl/finrl_meta/preprocessor/preprocessors.py:151: FutureWarning: The frame.append method is deprecated and will be removed from pandas in a future version. Use pandas.concat instead.\n",
            "  indicator_df = indicator_df.append(\n",
            "/mnt/f/financial_projects/Deep Reinforcement Learning Approaches on Stock Prediction/FinRL/finrl/finrl_meta/preprocessor/preprocessors.py:151: FutureWarning: The frame.append method is deprecated and will be removed from pandas in a future version. Use pandas.concat instead.\n",
            "  indicator_df = indicator_df.append(\n",
            "/mnt/f/financial_projects/Deep Reinforcement Learning Approaches on Stock Prediction/FinRL/finrl/finrl_meta/preprocessor/preprocessors.py:151: FutureWarning: The frame.append method is deprecated and will be removed from pandas in a future version. Use pandas.concat instead.\n",
            "  indicator_df = indicator_df.append(\n",
            "/mnt/f/financial_projects/Deep Reinforcement Learning Approaches on Stock Prediction/FinRL/finrl/finrl_meta/preprocessor/preprocessors.py:151: FutureWarning: The frame.append method is deprecated and will be removed from pandas in a future version. Use pandas.concat instead.\n",
            "  indicator_df = indicator_df.append(\n",
            "/mnt/f/financial_projects/Deep Reinforcement Learning Approaches on Stock Prediction/FinRL/finrl/finrl_meta/preprocessor/preprocessors.py:151: FutureWarning: The frame.append method is deprecated and will be removed from pandas in a future version. Use pandas.concat instead.\n",
            "  indicator_df = indicator_df.append(\n",
            "/mnt/f/financial_projects/Deep Reinforcement Learning Approaches on Stock Prediction/FinRL/finrl/finrl_meta/preprocessor/preprocessors.py:151: FutureWarning: The frame.append method is deprecated and will be removed from pandas in a future version. Use pandas.concat instead.\n",
            "  indicator_df = indicator_df.append(\n",
            "/mnt/f/financial_projects/Deep Reinforcement Learning Approaches on Stock Prediction/FinRL/finrl/finrl_meta/preprocessor/preprocessors.py:151: FutureWarning: The frame.append method is deprecated and will be removed from pandas in a future version. Use pandas.concat instead.\n",
            "  indicator_df = indicator_df.append(\n",
            "/mnt/f/financial_projects/Deep Reinforcement Learning Approaches on Stock Prediction/FinRL/finrl/finrl_meta/preprocessor/preprocessors.py:151: FutureWarning: The frame.append method is deprecated and will be removed from pandas in a future version. Use pandas.concat instead.\n",
            "  indicator_df = indicator_df.append(\n",
            "/mnt/f/financial_projects/Deep Reinforcement Learning Approaches on Stock Prediction/FinRL/finrl/finrl_meta/preprocessor/preprocessors.py:151: FutureWarning: The frame.append method is deprecated and will be removed from pandas in a future version. Use pandas.concat instead.\n",
            "  indicator_df = indicator_df.append(\n",
            "/mnt/f/financial_projects/Deep Reinforcement Learning Approaches on Stock Prediction/FinRL/finrl/finrl_meta/preprocessor/preprocessors.py:151: FutureWarning: The frame.append method is deprecated and will be removed from pandas in a future version. Use pandas.concat instead.\n",
            "  indicator_df = indicator_df.append(\n",
            "/mnt/f/financial_projects/Deep Reinforcement Learning Approaches on Stock Prediction/FinRL/finrl/finrl_meta/preprocessor/preprocessors.py:151: FutureWarning: The frame.append method is deprecated and will be removed from pandas in a future version. Use pandas.concat instead.\n",
            "  indicator_df = indicator_df.append(\n",
            "/mnt/f/financial_projects/Deep Reinforcement Learning Approaches on Stock Prediction/FinRL/finrl/finrl_meta/preprocessor/preprocessors.py:151: FutureWarning: The frame.append method is deprecated and will be removed from pandas in a future version. Use pandas.concat instead.\n",
            "  indicator_df = indicator_df.append(\n",
            "/mnt/f/financial_projects/Deep Reinforcement Learning Approaches on Stock Prediction/FinRL/finrl/finrl_meta/preprocessor/preprocessors.py:151: FutureWarning: The frame.append method is deprecated and will be removed from pandas in a future version. Use pandas.concat instead.\n",
            "  indicator_df = indicator_df.append(\n",
            "/mnt/f/financial_projects/Deep Reinforcement Learning Approaches on Stock Prediction/FinRL/finrl/finrl_meta/preprocessor/preprocessors.py:151: FutureWarning: The frame.append method is deprecated and will be removed from pandas in a future version. Use pandas.concat instead.\n",
            "  indicator_df = indicator_df.append(\n",
            "/mnt/f/financial_projects/Deep Reinforcement Learning Approaches on Stock Prediction/FinRL/finrl/finrl_meta/preprocessor/preprocessors.py:151: FutureWarning: The frame.append method is deprecated and will be removed from pandas in a future version. Use pandas.concat instead.\n",
            "  indicator_df = indicator_df.append(\n",
            "/mnt/f/financial_projects/Deep Reinforcement Learning Approaches on Stock Prediction/FinRL/finrl/finrl_meta/preprocessor/preprocessors.py:151: FutureWarning: The frame.append method is deprecated and will be removed from pandas in a future version. Use pandas.concat instead.\n",
            "  indicator_df = indicator_df.append(\n",
            "/mnt/f/financial_projects/Deep Reinforcement Learning Approaches on Stock Prediction/FinRL/finrl/finrl_meta/preprocessor/preprocessors.py:151: FutureWarning: The frame.append method is deprecated and will be removed from pandas in a future version. Use pandas.concat instead.\n",
            "  indicator_df = indicator_df.append(\n",
            "/mnt/f/financial_projects/Deep Reinforcement Learning Approaches on Stock Prediction/FinRL/finrl/finrl_meta/preprocessor/preprocessors.py:151: FutureWarning: The frame.append method is deprecated and will be removed from pandas in a future version. Use pandas.concat instead.\n",
            "  indicator_df = indicator_df.append(\n",
            "/mnt/f/financial_projects/Deep Reinforcement Learning Approaches on Stock Prediction/FinRL/finrl/finrl_meta/preprocessor/preprocessors.py:151: FutureWarning: The frame.append method is deprecated and will be removed from pandas in a future version. Use pandas.concat instead.\n",
            "  indicator_df = indicator_df.append(\n",
            "/mnt/f/financial_projects/Deep Reinforcement Learning Approaches on Stock Prediction/FinRL/finrl/finrl_meta/preprocessor/preprocessors.py:151: FutureWarning: The frame.append method is deprecated and will be removed from pandas in a future version. Use pandas.concat instead.\n",
            "  indicator_df = indicator_df.append(\n",
            "/mnt/f/financial_projects/Deep Reinforcement Learning Approaches on Stock Prediction/FinRL/finrl/finrl_meta/preprocessor/preprocessors.py:151: FutureWarning: The frame.append method is deprecated and will be removed from pandas in a future version. Use pandas.concat instead.\n",
            "  indicator_df = indicator_df.append(\n",
            "/mnt/f/financial_projects/Deep Reinforcement Learning Approaches on Stock Prediction/FinRL/finrl/finrl_meta/preprocessor/preprocessors.py:151: FutureWarning: The frame.append method is deprecated and will be removed from pandas in a future version. Use pandas.concat instead.\n",
            "  indicator_df = indicator_df.append(\n",
            "/mnt/f/financial_projects/Deep Reinforcement Learning Approaches on Stock Prediction/FinRL/finrl/finrl_meta/preprocessor/preprocessors.py:151: FutureWarning: The frame.append method is deprecated and will be removed from pandas in a future version. Use pandas.concat instead.\n",
            "  indicator_df = indicator_df.append(\n",
            "/mnt/f/financial_projects/Deep Reinforcement Learning Approaches on Stock Prediction/FinRL/finrl/finrl_meta/preprocessor/preprocessors.py:151: FutureWarning: The frame.append method is deprecated and will be removed from pandas in a future version. Use pandas.concat instead.\n",
            "  indicator_df = indicator_df.append(\n",
            "/mnt/f/financial_projects/Deep Reinforcement Learning Approaches on Stock Prediction/FinRL/finrl/finrl_meta/preprocessor/preprocessors.py:151: FutureWarning: The frame.append method is deprecated and will be removed from pandas in a future version. Use pandas.concat instead.\n",
            "  indicator_df = indicator_df.append(\n",
            "/mnt/f/financial_projects/Deep Reinforcement Learning Approaches on Stock Prediction/FinRL/finrl/finrl_meta/preprocessor/preprocessors.py:151: FutureWarning: The frame.append method is deprecated and will be removed from pandas in a future version. Use pandas.concat instead.\n",
            "  indicator_df = indicator_df.append(\n",
            "/mnt/f/financial_projects/Deep Reinforcement Learning Approaches on Stock Prediction/FinRL/finrl/finrl_meta/preprocessor/preprocessors.py:151: FutureWarning: The frame.append method is deprecated and will be removed from pandas in a future version. Use pandas.concat instead.\n",
            "  indicator_df = indicator_df.append(\n",
            "/mnt/f/financial_projects/Deep Reinforcement Learning Approaches on Stock Prediction/FinRL/finrl/finrl_meta/preprocessor/preprocessors.py:151: FutureWarning: The frame.append method is deprecated and will be removed from pandas in a future version. Use pandas.concat instead.\n",
            "  indicator_df = indicator_df.append(\n",
            "/mnt/f/financial_projects/Deep Reinforcement Learning Approaches on Stock Prediction/FinRL/finrl/finrl_meta/preprocessor/preprocessors.py:151: FutureWarning: The frame.append method is deprecated and will be removed from pandas in a future version. Use pandas.concat instead.\n",
            "  indicator_df = indicator_df.append(\n",
            "/mnt/f/financial_projects/Deep Reinforcement Learning Approaches on Stock Prediction/FinRL/finrl/finrl_meta/preprocessor/preprocessors.py:151: FutureWarning: The frame.append method is deprecated and will be removed from pandas in a future version. Use pandas.concat instead.\n",
            "  indicator_df = indicator_df.append(\n",
            "/mnt/f/financial_projects/Deep Reinforcement Learning Approaches on Stock Prediction/FinRL/finrl/finrl_meta/preprocessor/preprocessors.py:151: FutureWarning: The frame.append method is deprecated and will be removed from pandas in a future version. Use pandas.concat instead.\n",
            "  indicator_df = indicator_df.append(\n",
            "/mnt/f/financial_projects/Deep Reinforcement Learning Approaches on Stock Prediction/FinRL/finrl/finrl_meta/preprocessor/preprocessors.py:151: FutureWarning: The frame.append method is deprecated and will be removed from pandas in a future version. Use pandas.concat instead.\n",
            "  indicator_df = indicator_df.append(\n",
            "/mnt/f/financial_projects/Deep Reinforcement Learning Approaches on Stock Prediction/FinRL/finrl/finrl_meta/preprocessor/preprocessors.py:151: FutureWarning: The frame.append method is deprecated and will be removed from pandas in a future version. Use pandas.concat instead.\n",
            "  indicator_df = indicator_df.append(\n",
            "/mnt/f/financial_projects/Deep Reinforcement Learning Approaches on Stock Prediction/FinRL/finrl/finrl_meta/preprocessor/preprocessors.py:151: FutureWarning: The frame.append method is deprecated and will be removed from pandas in a future version. Use pandas.concat instead.\n",
            "  indicator_df = indicator_df.append(\n",
            "/mnt/f/financial_projects/Deep Reinforcement Learning Approaches on Stock Prediction/FinRL/finrl/finrl_meta/preprocessor/preprocessors.py:151: FutureWarning: The frame.append method is deprecated and will be removed from pandas in a future version. Use pandas.concat instead.\n",
            "  indicator_df = indicator_df.append(\n",
            "/mnt/f/financial_projects/Deep Reinforcement Learning Approaches on Stock Prediction/FinRL/finrl/finrl_meta/preprocessor/preprocessors.py:151: FutureWarning: The frame.append method is deprecated and will be removed from pandas in a future version. Use pandas.concat instead.\n",
            "  indicator_df = indicator_df.append(\n",
            "/mnt/f/financial_projects/Deep Reinforcement Learning Approaches on Stock Prediction/FinRL/finrl/finrl_meta/preprocessor/preprocessors.py:151: FutureWarning: The frame.append method is deprecated and will be removed from pandas in a future version. Use pandas.concat instead.\n",
            "  indicator_df = indicator_df.append(\n",
            "/mnt/f/financial_projects/Deep Reinforcement Learning Approaches on Stock Prediction/FinRL/finrl/finrl_meta/preprocessor/preprocessors.py:151: FutureWarning: The frame.append method is deprecated and will be removed from pandas in a future version. Use pandas.concat instead.\n",
            "  indicator_df = indicator_df.append(\n",
            "/mnt/f/financial_projects/Deep Reinforcement Learning Approaches on Stock Prediction/FinRL/finrl/finrl_meta/preprocessor/preprocessors.py:151: FutureWarning: The frame.append method is deprecated and will be removed from pandas in a future version. Use pandas.concat instead.\n",
            "  indicator_df = indicator_df.append(\n",
            "/mnt/f/financial_projects/Deep Reinforcement Learning Approaches on Stock Prediction/FinRL/finrl/finrl_meta/preprocessor/preprocessors.py:151: FutureWarning: The frame.append method is deprecated and will be removed from pandas in a future version. Use pandas.concat instead.\n",
            "  indicator_df = indicator_df.append(\n",
            "/mnt/f/financial_projects/Deep Reinforcement Learning Approaches on Stock Prediction/FinRL/finrl/finrl_meta/preprocessor/preprocessors.py:151: FutureWarning: The frame.append method is deprecated and will be removed from pandas in a future version. Use pandas.concat instead.\n",
            "  indicator_df = indicator_df.append(\n",
            "/mnt/f/financial_projects/Deep Reinforcement Learning Approaches on Stock Prediction/FinRL/finrl/finrl_meta/preprocessor/preprocessors.py:151: FutureWarning: The frame.append method is deprecated and will be removed from pandas in a future version. Use pandas.concat instead.\n",
            "  indicator_df = indicator_df.append(\n",
            "/mnt/f/financial_projects/Deep Reinforcement Learning Approaches on Stock Prediction/FinRL/finrl/finrl_meta/preprocessor/preprocessors.py:151: FutureWarning: The frame.append method is deprecated and will be removed from pandas in a future version. Use pandas.concat instead.\n",
            "  indicator_df = indicator_df.append(\n",
            "/mnt/f/financial_projects/Deep Reinforcement Learning Approaches on Stock Prediction/FinRL/finrl/finrl_meta/preprocessor/preprocessors.py:151: FutureWarning: The frame.append method is deprecated and will be removed from pandas in a future version. Use pandas.concat instead.\n",
            "  indicator_df = indicator_df.append(\n",
            "/mnt/f/financial_projects/Deep Reinforcement Learning Approaches on Stock Prediction/FinRL/finrl/finrl_meta/preprocessor/preprocessors.py:151: FutureWarning: The frame.append method is deprecated and will be removed from pandas in a future version. Use pandas.concat instead.\n",
            "  indicator_df = indicator_df.append(\n",
            "/mnt/f/financial_projects/Deep Reinforcement Learning Approaches on Stock Prediction/FinRL/finrl/finrl_meta/preprocessor/preprocessors.py:151: FutureWarning: The frame.append method is deprecated and will be removed from pandas in a future version. Use pandas.concat instead.\n",
            "  indicator_df = indicator_df.append(\n",
            "/mnt/f/financial_projects/Deep Reinforcement Learning Approaches on Stock Prediction/FinRL/finrl/finrl_meta/preprocessor/preprocessors.py:151: FutureWarning: The frame.append method is deprecated and will be removed from pandas in a future version. Use pandas.concat instead.\n",
            "  indicator_df = indicator_df.append(\n",
            "/mnt/f/financial_projects/Deep Reinforcement Learning Approaches on Stock Prediction/FinRL/finrl/finrl_meta/preprocessor/preprocessors.py:151: FutureWarning: The frame.append method is deprecated and will be removed from pandas in a future version. Use pandas.concat instead.\n",
            "  indicator_df = indicator_df.append(\n",
            "/mnt/f/financial_projects/Deep Reinforcement Learning Approaches on Stock Prediction/FinRL/finrl/finrl_meta/preprocessor/preprocessors.py:151: FutureWarning: The frame.append method is deprecated and will be removed from pandas in a future version. Use pandas.concat instead.\n",
            "  indicator_df = indicator_df.append(\n",
            "/mnt/f/financial_projects/Deep Reinforcement Learning Approaches on Stock Prediction/FinRL/finrl/finrl_meta/preprocessor/preprocessors.py:151: FutureWarning: The frame.append method is deprecated and will be removed from pandas in a future version. Use pandas.concat instead.\n",
            "  indicator_df = indicator_df.append(\n",
            "/mnt/f/financial_projects/Deep Reinforcement Learning Approaches on Stock Prediction/FinRL/finrl/finrl_meta/preprocessor/preprocessors.py:151: FutureWarning: The frame.append method is deprecated and will be removed from pandas in a future version. Use pandas.concat instead.\n",
            "  indicator_df = indicator_df.append(\n",
            "/mnt/f/financial_projects/Deep Reinforcement Learning Approaches on Stock Prediction/FinRL/finrl/finrl_meta/preprocessor/preprocessors.py:151: FutureWarning: The frame.append method is deprecated and will be removed from pandas in a future version. Use pandas.concat instead.\n",
            "  indicator_df = indicator_df.append(\n",
            "/mnt/f/financial_projects/Deep Reinforcement Learning Approaches on Stock Prediction/FinRL/finrl/finrl_meta/preprocessor/preprocessors.py:151: FutureWarning: The frame.append method is deprecated and will be removed from pandas in a future version. Use pandas.concat instead.\n",
            "  indicator_df = indicator_df.append(\n",
            "/mnt/f/financial_projects/Deep Reinforcement Learning Approaches on Stock Prediction/FinRL/finrl/finrl_meta/preprocessor/preprocessors.py:151: FutureWarning: The frame.append method is deprecated and will be removed from pandas in a future version. Use pandas.concat instead.\n",
            "  indicator_df = indicator_df.append(\n",
            "/mnt/f/financial_projects/Deep Reinforcement Learning Approaches on Stock Prediction/FinRL/finrl/finrl_meta/preprocessor/preprocessors.py:151: FutureWarning: The frame.append method is deprecated and will be removed from pandas in a future version. Use pandas.concat instead.\n",
            "  indicator_df = indicator_df.append(\n",
            "/mnt/f/financial_projects/Deep Reinforcement Learning Approaches on Stock Prediction/FinRL/finrl/finrl_meta/preprocessor/preprocessors.py:151: FutureWarning: The frame.append method is deprecated and will be removed from pandas in a future version. Use pandas.concat instead.\n",
            "  indicator_df = indicator_df.append(\n",
            "/mnt/f/financial_projects/Deep Reinforcement Learning Approaches on Stock Prediction/FinRL/finrl/finrl_meta/preprocessor/preprocessors.py:151: FutureWarning: The frame.append method is deprecated and will be removed from pandas in a future version. Use pandas.concat instead.\n",
            "  indicator_df = indicator_df.append(\n",
            "/mnt/f/financial_projects/Deep Reinforcement Learning Approaches on Stock Prediction/FinRL/finrl/finrl_meta/preprocessor/preprocessors.py:151: FutureWarning: The frame.append method is deprecated and will be removed from pandas in a future version. Use pandas.concat instead.\n",
            "  indicator_df = indicator_df.append(\n",
            "/mnt/f/financial_projects/Deep Reinforcement Learning Approaches on Stock Prediction/FinRL/finrl/finrl_meta/preprocessor/preprocessors.py:151: FutureWarning: The frame.append method is deprecated and will be removed from pandas in a future version. Use pandas.concat instead.\n",
            "  indicator_df = indicator_df.append(\n",
            "/mnt/f/financial_projects/Deep Reinforcement Learning Approaches on Stock Prediction/FinRL/finrl/finrl_meta/preprocessor/preprocessors.py:151: FutureWarning: The frame.append method is deprecated and will be removed from pandas in a future version. Use pandas.concat instead.\n",
            "  indicator_df = indicator_df.append(\n",
            "/mnt/f/financial_projects/Deep Reinforcement Learning Approaches on Stock Prediction/FinRL/finrl/finrl_meta/preprocessor/preprocessors.py:151: FutureWarning: The frame.append method is deprecated and will be removed from pandas in a future version. Use pandas.concat instead.\n",
            "  indicator_df = indicator_df.append(\n",
            "/mnt/f/financial_projects/Deep Reinforcement Learning Approaches on Stock Prediction/FinRL/finrl/finrl_meta/preprocessor/preprocessors.py:151: FutureWarning: The frame.append method is deprecated and will be removed from pandas in a future version. Use pandas.concat instead.\n",
            "  indicator_df = indicator_df.append(\n",
            "/mnt/f/financial_projects/Deep Reinforcement Learning Approaches on Stock Prediction/FinRL/finrl/finrl_meta/preprocessor/preprocessors.py:151: FutureWarning: The frame.append method is deprecated and will be removed from pandas in a future version. Use pandas.concat instead.\n",
            "  indicator_df = indicator_df.append(\n",
            "/mnt/f/financial_projects/Deep Reinforcement Learning Approaches on Stock Prediction/FinRL/finrl/finrl_meta/preprocessor/preprocessors.py:151: FutureWarning: The frame.append method is deprecated and will be removed from pandas in a future version. Use pandas.concat instead.\n",
            "  indicator_df = indicator_df.append(\n",
            "/mnt/f/financial_projects/Deep Reinforcement Learning Approaches on Stock Prediction/FinRL/finrl/finrl_meta/preprocessor/preprocessors.py:151: FutureWarning: The frame.append method is deprecated and will be removed from pandas in a future version. Use pandas.concat instead.\n",
            "  indicator_df = indicator_df.append(\n",
            "/mnt/f/financial_projects/Deep Reinforcement Learning Approaches on Stock Prediction/FinRL/finrl/finrl_meta/preprocessor/preprocessors.py:151: FutureWarning: The frame.append method is deprecated and will be removed from pandas in a future version. Use pandas.concat instead.\n",
            "  indicator_df = indicator_df.append(\n",
            "/mnt/f/financial_projects/Deep Reinforcement Learning Approaches on Stock Prediction/FinRL/finrl/finrl_meta/preprocessor/preprocessors.py:151: FutureWarning: The frame.append method is deprecated and will be removed from pandas in a future version. Use pandas.concat instead.\n",
            "  indicator_df = indicator_df.append(\n",
            "/mnt/f/financial_projects/Deep Reinforcement Learning Approaches on Stock Prediction/FinRL/finrl/finrl_meta/preprocessor/preprocessors.py:151: FutureWarning: The frame.append method is deprecated and will be removed from pandas in a future version. Use pandas.concat instead.\n",
            "  indicator_df = indicator_df.append(\n",
            "/mnt/f/financial_projects/Deep Reinforcement Learning Approaches on Stock Prediction/FinRL/finrl/finrl_meta/preprocessor/preprocessors.py:151: FutureWarning: The frame.append method is deprecated and will be removed from pandas in a future version. Use pandas.concat instead.\n",
            "  indicator_df = indicator_df.append(\n",
            "/mnt/f/financial_projects/Deep Reinforcement Learning Approaches on Stock Prediction/FinRL/finrl/finrl_meta/preprocessor/preprocessors.py:151: FutureWarning: The frame.append method is deprecated and will be removed from pandas in a future version. Use pandas.concat instead.\n",
            "  indicator_df = indicator_df.append(\n",
            "/mnt/f/financial_projects/Deep Reinforcement Learning Approaches on Stock Prediction/FinRL/finrl/finrl_meta/preprocessor/preprocessors.py:151: FutureWarning: The frame.append method is deprecated and will be removed from pandas in a future version. Use pandas.concat instead.\n",
            "  indicator_df = indicator_df.append(\n",
            "/mnt/f/financial_projects/Deep Reinforcement Learning Approaches on Stock Prediction/FinRL/finrl/finrl_meta/preprocessor/preprocessors.py:151: FutureWarning: The frame.append method is deprecated and will be removed from pandas in a future version. Use pandas.concat instead.\n",
            "  indicator_df = indicator_df.append(\n",
            "/mnt/f/financial_projects/Deep Reinforcement Learning Approaches on Stock Prediction/FinRL/finrl/finrl_meta/preprocessor/preprocessors.py:151: FutureWarning: The frame.append method is deprecated and will be removed from pandas in a future version. Use pandas.concat instead.\n",
            "  indicator_df = indicator_df.append(\n",
            "/mnt/f/financial_projects/Deep Reinforcement Learning Approaches on Stock Prediction/FinRL/finrl/finrl_meta/preprocessor/preprocessors.py:151: FutureWarning: The frame.append method is deprecated and will be removed from pandas in a future version. Use pandas.concat instead.\n",
            "  indicator_df = indicator_df.append(\n",
            "/mnt/f/financial_projects/Deep Reinforcement Learning Approaches on Stock Prediction/FinRL/finrl/finrl_meta/preprocessor/preprocessors.py:151: FutureWarning: The frame.append method is deprecated and will be removed from pandas in a future version. Use pandas.concat instead.\n",
            "  indicator_df = indicator_df.append(\n",
            "/mnt/f/financial_projects/Deep Reinforcement Learning Approaches on Stock Prediction/FinRL/finrl/finrl_meta/preprocessor/preprocessors.py:151: FutureWarning: The frame.append method is deprecated and will be removed from pandas in a future version. Use pandas.concat instead.\n",
            "  indicator_df = indicator_df.append(\n",
            "/mnt/f/financial_projects/Deep Reinforcement Learning Approaches on Stock Prediction/FinRL/finrl/finrl_meta/preprocessor/preprocessors.py:151: FutureWarning: The frame.append method is deprecated and will be removed from pandas in a future version. Use pandas.concat instead.\n",
            "  indicator_df = indicator_df.append(\n",
            "/mnt/f/financial_projects/Deep Reinforcement Learning Approaches on Stock Prediction/FinRL/finrl/finrl_meta/preprocessor/preprocessors.py:151: FutureWarning: The frame.append method is deprecated and will be removed from pandas in a future version. Use pandas.concat instead.\n",
            "  indicator_df = indicator_df.append(\n",
            "/mnt/f/financial_projects/Deep Reinforcement Learning Approaches on Stock Prediction/FinRL/finrl/finrl_meta/preprocessor/preprocessors.py:151: FutureWarning: The frame.append method is deprecated and will be removed from pandas in a future version. Use pandas.concat instead.\n",
            "  indicator_df = indicator_df.append(\n",
            "/mnt/f/financial_projects/Deep Reinforcement Learning Approaches on Stock Prediction/FinRL/finrl/finrl_meta/preprocessor/preprocessors.py:151: FutureWarning: The frame.append method is deprecated and will be removed from pandas in a future version. Use pandas.concat instead.\n",
            "  indicator_df = indicator_df.append(\n",
            "/mnt/f/financial_projects/Deep Reinforcement Learning Approaches on Stock Prediction/FinRL/finrl/finrl_meta/preprocessor/preprocessors.py:151: FutureWarning: The frame.append method is deprecated and will be removed from pandas in a future version. Use pandas.concat instead.\n",
            "  indicator_df = indicator_df.append(\n",
            "/mnt/f/financial_projects/Deep Reinforcement Learning Approaches on Stock Prediction/FinRL/finrl/finrl_meta/preprocessor/preprocessors.py:151: FutureWarning: The frame.append method is deprecated and will be removed from pandas in a future version. Use pandas.concat instead.\n",
            "  indicator_df = indicator_df.append(\n",
            "/mnt/f/financial_projects/Deep Reinforcement Learning Approaches on Stock Prediction/FinRL/finrl/finrl_meta/preprocessor/preprocessors.py:151: FutureWarning: The frame.append method is deprecated and will be removed from pandas in a future version. Use pandas.concat instead.\n",
            "  indicator_df = indicator_df.append(\n",
            "/mnt/f/financial_projects/Deep Reinforcement Learning Approaches on Stock Prediction/FinRL/finrl/finrl_meta/preprocessor/preprocessors.py:151: FutureWarning: The frame.append method is deprecated and will be removed from pandas in a future version. Use pandas.concat instead.\n",
            "  indicator_df = indicator_df.append(\n",
            "/mnt/f/financial_projects/Deep Reinforcement Learning Approaches on Stock Prediction/FinRL/finrl/finrl_meta/preprocessor/preprocessors.py:151: FutureWarning: The frame.append method is deprecated and will be removed from pandas in a future version. Use pandas.concat instead.\n",
            "  indicator_df = indicator_df.append(\n",
            "/mnt/f/financial_projects/Deep Reinforcement Learning Approaches on Stock Prediction/FinRL/finrl/finrl_meta/preprocessor/preprocessors.py:151: FutureWarning: The frame.append method is deprecated and will be removed from pandas in a future version. Use pandas.concat instead.\n",
            "  indicator_df = indicator_df.append(\n",
            "/mnt/f/financial_projects/Deep Reinforcement Learning Approaches on Stock Prediction/FinRL/finrl/finrl_meta/preprocessor/preprocessors.py:151: FutureWarning: The frame.append method is deprecated and will be removed from pandas in a future version. Use pandas.concat instead.\n",
            "  indicator_df = indicator_df.append(\n",
            "/mnt/f/financial_projects/Deep Reinforcement Learning Approaches on Stock Prediction/FinRL/finrl/finrl_meta/preprocessor/preprocessors.py:151: FutureWarning: The frame.append method is deprecated and will be removed from pandas in a future version. Use pandas.concat instead.\n",
            "  indicator_df = indicator_df.append(\n",
            "/mnt/f/financial_projects/Deep Reinforcement Learning Approaches on Stock Prediction/FinRL/finrl/finrl_meta/preprocessor/preprocessors.py:151: FutureWarning: The frame.append method is deprecated and will be removed from pandas in a future version. Use pandas.concat instead.\n",
            "  indicator_df = indicator_df.append(\n",
            "/mnt/f/financial_projects/Deep Reinforcement Learning Approaches on Stock Prediction/FinRL/finrl/finrl_meta/preprocessor/preprocessors.py:151: FutureWarning: The frame.append method is deprecated and will be removed from pandas in a future version. Use pandas.concat instead.\n",
            "  indicator_df = indicator_df.append(\n",
            "/mnt/f/financial_projects/Deep Reinforcement Learning Approaches on Stock Prediction/FinRL/finrl/finrl_meta/preprocessor/preprocessors.py:151: FutureWarning: The frame.append method is deprecated and will be removed from pandas in a future version. Use pandas.concat instead.\n",
            "  indicator_df = indicator_df.append(\n",
            "/mnt/f/financial_projects/Deep Reinforcement Learning Approaches on Stock Prediction/FinRL/finrl/finrl_meta/preprocessor/preprocessors.py:151: FutureWarning: The frame.append method is deprecated and will be removed from pandas in a future version. Use pandas.concat instead.\n",
            "  indicator_df = indicator_df.append(\n",
            "/mnt/f/financial_projects/Deep Reinforcement Learning Approaches on Stock Prediction/FinRL/finrl/finrl_meta/preprocessor/preprocessors.py:151: FutureWarning: The frame.append method is deprecated and will be removed from pandas in a future version. Use pandas.concat instead.\n",
            "  indicator_df = indicator_df.append(\n",
            "/mnt/f/financial_projects/Deep Reinforcement Learning Approaches on Stock Prediction/FinRL/finrl/finrl_meta/preprocessor/preprocessors.py:151: FutureWarning: The frame.append method is deprecated and will be removed from pandas in a future version. Use pandas.concat instead.\n",
            "  indicator_df = indicator_df.append(\n",
            "/mnt/f/financial_projects/Deep Reinforcement Learning Approaches on Stock Prediction/FinRL/finrl/finrl_meta/preprocessor/preprocessors.py:151: FutureWarning: The frame.append method is deprecated and will be removed from pandas in a future version. Use pandas.concat instead.\n",
            "  indicator_df = indicator_df.append(\n",
            "/mnt/f/financial_projects/Deep Reinforcement Learning Approaches on Stock Prediction/FinRL/finrl/finrl_meta/preprocessor/preprocessors.py:151: FutureWarning: The frame.append method is deprecated and will be removed from pandas in a future version. Use pandas.concat instead.\n",
            "  indicator_df = indicator_df.append(\n",
            "/mnt/f/financial_projects/Deep Reinforcement Learning Approaches on Stock Prediction/FinRL/finrl/finrl_meta/preprocessor/preprocessors.py:151: FutureWarning: The frame.append method is deprecated and will be removed from pandas in a future version. Use pandas.concat instead.\n",
            "  indicator_df = indicator_df.append(\n",
            "/mnt/f/financial_projects/Deep Reinforcement Learning Approaches on Stock Prediction/FinRL/finrl/finrl_meta/preprocessor/preprocessors.py:151: FutureWarning: The frame.append method is deprecated and will be removed from pandas in a future version. Use pandas.concat instead.\n",
            "  indicator_df = indicator_df.append(\n",
            "/mnt/f/financial_projects/Deep Reinforcement Learning Approaches on Stock Prediction/FinRL/finrl/finrl_meta/preprocessor/preprocessors.py:151: FutureWarning: The frame.append method is deprecated and will be removed from pandas in a future version. Use pandas.concat instead.\n",
            "  indicator_df = indicator_df.append(\n",
            "/mnt/f/financial_projects/Deep Reinforcement Learning Approaches on Stock Prediction/FinRL/finrl/finrl_meta/preprocessor/preprocessors.py:151: FutureWarning: The frame.append method is deprecated and will be removed from pandas in a future version. Use pandas.concat instead.\n",
            "  indicator_df = indicator_df.append(\n",
            "/mnt/f/financial_projects/Deep Reinforcement Learning Approaches on Stock Prediction/FinRL/finrl/finrl_meta/preprocessor/preprocessors.py:151: FutureWarning: The frame.append method is deprecated and will be removed from pandas in a future version. Use pandas.concat instead.\n",
            "  indicator_df = indicator_df.append(\n",
            "/mnt/f/financial_projects/Deep Reinforcement Learning Approaches on Stock Prediction/FinRL/finrl/finrl_meta/preprocessor/preprocessors.py:151: FutureWarning: The frame.append method is deprecated and will be removed from pandas in a future version. Use pandas.concat instead.\n",
            "  indicator_df = indicator_df.append(\n",
            "/mnt/f/financial_projects/Deep Reinforcement Learning Approaches on Stock Prediction/FinRL/finrl/finrl_meta/preprocessor/preprocessors.py:151: FutureWarning: The frame.append method is deprecated and will be removed from pandas in a future version. Use pandas.concat instead.\n",
            "  indicator_df = indicator_df.append(\n",
            "/mnt/f/financial_projects/Deep Reinforcement Learning Approaches on Stock Prediction/FinRL/finrl/finrl_meta/preprocessor/preprocessors.py:151: FutureWarning: The frame.append method is deprecated and will be removed from pandas in a future version. Use pandas.concat instead.\n",
            "  indicator_df = indicator_df.append(\n",
            "/mnt/f/financial_projects/Deep Reinforcement Learning Approaches on Stock Prediction/FinRL/finrl/finrl_meta/preprocessor/preprocessors.py:151: FutureWarning: The frame.append method is deprecated and will be removed from pandas in a future version. Use pandas.concat instead.\n",
            "  indicator_df = indicator_df.append(\n",
            "/mnt/f/financial_projects/Deep Reinforcement Learning Approaches on Stock Prediction/FinRL/finrl/finrl_meta/preprocessor/preprocessors.py:151: FutureWarning: The frame.append method is deprecated and will be removed from pandas in a future version. Use pandas.concat instead.\n",
            "  indicator_df = indicator_df.append(\n",
            "/mnt/f/financial_projects/Deep Reinforcement Learning Approaches on Stock Prediction/FinRL/finrl/finrl_meta/preprocessor/preprocessors.py:151: FutureWarning: The frame.append method is deprecated and will be removed from pandas in a future version. Use pandas.concat instead.\n",
            "  indicator_df = indicator_df.append(\n",
            "/mnt/f/financial_projects/Deep Reinforcement Learning Approaches on Stock Prediction/FinRL/finrl/finrl_meta/preprocessor/preprocessors.py:151: FutureWarning: The frame.append method is deprecated and will be removed from pandas in a future version. Use pandas.concat instead.\n",
            "  indicator_df = indicator_df.append(\n",
            "/mnt/f/financial_projects/Deep Reinforcement Learning Approaches on Stock Prediction/FinRL/finrl/finrl_meta/preprocessor/preprocessors.py:151: FutureWarning: The frame.append method is deprecated and will be removed from pandas in a future version. Use pandas.concat instead.\n",
            "  indicator_df = indicator_df.append(\n",
            "/mnt/f/financial_projects/Deep Reinforcement Learning Approaches on Stock Prediction/FinRL/finrl/finrl_meta/preprocessor/preprocessors.py:151: FutureWarning: The frame.append method is deprecated and will be removed from pandas in a future version. Use pandas.concat instead.\n",
            "  indicator_df = indicator_df.append(\n",
            "/mnt/f/financial_projects/Deep Reinforcement Learning Approaches on Stock Prediction/FinRL/finrl/finrl_meta/preprocessor/preprocessors.py:151: FutureWarning: The frame.append method is deprecated and will be removed from pandas in a future version. Use pandas.concat instead.\n",
            "  indicator_df = indicator_df.append(\n",
            "/mnt/f/financial_projects/Deep Reinforcement Learning Approaches on Stock Prediction/FinRL/finrl/finrl_meta/preprocessor/preprocessors.py:151: FutureWarning: The frame.append method is deprecated and will be removed from pandas in a future version. Use pandas.concat instead.\n",
            "  indicator_df = indicator_df.append(\n",
            "/mnt/f/financial_projects/Deep Reinforcement Learning Approaches on Stock Prediction/FinRL/finrl/finrl_meta/preprocessor/preprocessors.py:151: FutureWarning: The frame.append method is deprecated and will be removed from pandas in a future version. Use pandas.concat instead.\n",
            "  indicator_df = indicator_df.append(\n",
            "/mnt/f/financial_projects/Deep Reinforcement Learning Approaches on Stock Prediction/FinRL/finrl/finrl_meta/preprocessor/preprocessors.py:151: FutureWarning: The frame.append method is deprecated and will be removed from pandas in a future version. Use pandas.concat instead.\n",
            "  indicator_df = indicator_df.append(\n",
            "/mnt/f/financial_projects/Deep Reinforcement Learning Approaches on Stock Prediction/FinRL/finrl/finrl_meta/preprocessor/preprocessors.py:151: FutureWarning: The frame.append method is deprecated and will be removed from pandas in a future version. Use pandas.concat instead.\n",
            "  indicator_df = indicator_df.append(\n",
            "/mnt/f/financial_projects/Deep Reinforcement Learning Approaches on Stock Prediction/FinRL/finrl/finrl_meta/preprocessor/preprocessors.py:151: FutureWarning: The frame.append method is deprecated and will be removed from pandas in a future version. Use pandas.concat instead.\n",
            "  indicator_df = indicator_df.append(\n",
            "/mnt/f/financial_projects/Deep Reinforcement Learning Approaches on Stock Prediction/FinRL/finrl/finrl_meta/preprocessor/preprocessors.py:151: FutureWarning: The frame.append method is deprecated and will be removed from pandas in a future version. Use pandas.concat instead.\n",
            "  indicator_df = indicator_df.append(\n",
            "/mnt/f/financial_projects/Deep Reinforcement Learning Approaches on Stock Prediction/FinRL/finrl/finrl_meta/preprocessor/preprocessors.py:151: FutureWarning: The frame.append method is deprecated and will be removed from pandas in a future version. Use pandas.concat instead.\n",
            "  indicator_df = indicator_df.append(\n",
            "/mnt/f/financial_projects/Deep Reinforcement Learning Approaches on Stock Prediction/FinRL/finrl/finrl_meta/preprocessor/preprocessors.py:151: FutureWarning: The frame.append method is deprecated and will be removed from pandas in a future version. Use pandas.concat instead.\n",
            "  indicator_df = indicator_df.append(\n",
            "/mnt/f/financial_projects/Deep Reinforcement Learning Approaches on Stock Prediction/FinRL/finrl/finrl_meta/preprocessor/preprocessors.py:151: FutureWarning: The frame.append method is deprecated and will be removed from pandas in a future version. Use pandas.concat instead.\n",
            "  indicator_df = indicator_df.append(\n",
            "/mnt/f/financial_projects/Deep Reinforcement Learning Approaches on Stock Prediction/FinRL/finrl/finrl_meta/preprocessor/preprocessors.py:151: FutureWarning: The frame.append method is deprecated and will be removed from pandas in a future version. Use pandas.concat instead.\n",
            "  indicator_df = indicator_df.append(\n",
            "/mnt/f/financial_projects/Deep Reinforcement Learning Approaches on Stock Prediction/FinRL/finrl/finrl_meta/preprocessor/preprocessors.py:151: FutureWarning: The frame.append method is deprecated and will be removed from pandas in a future version. Use pandas.concat instead.\n",
            "  indicator_df = indicator_df.append(\n",
            "/mnt/f/financial_projects/Deep Reinforcement Learning Approaches on Stock Prediction/FinRL/finrl/finrl_meta/preprocessor/preprocessors.py:151: FutureWarning: The frame.append method is deprecated and will be removed from pandas in a future version. Use pandas.concat instead.\n",
            "  indicator_df = indicator_df.append(\n",
            "/mnt/f/financial_projects/Deep Reinforcement Learning Approaches on Stock Prediction/FinRL/finrl/finrl_meta/preprocessor/preprocessors.py:151: FutureWarning: The frame.append method is deprecated and will be removed from pandas in a future version. Use pandas.concat instead.\n",
            "  indicator_df = indicator_df.append(\n",
            "/mnt/f/financial_projects/Deep Reinforcement Learning Approaches on Stock Prediction/FinRL/finrl/finrl_meta/preprocessor/preprocessors.py:151: FutureWarning: The frame.append method is deprecated and will be removed from pandas in a future version. Use pandas.concat instead.\n",
            "  indicator_df = indicator_df.append(\n",
            "/mnt/f/financial_projects/Deep Reinforcement Learning Approaches on Stock Prediction/FinRL/finrl/finrl_meta/preprocessor/preprocessors.py:151: FutureWarning: The frame.append method is deprecated and will be removed from pandas in a future version. Use pandas.concat instead.\n",
            "  indicator_df = indicator_df.append(\n",
            "/mnt/f/financial_projects/Deep Reinforcement Learning Approaches on Stock Prediction/FinRL/finrl/finrl_meta/preprocessor/preprocessors.py:151: FutureWarning: The frame.append method is deprecated and will be removed from pandas in a future version. Use pandas.concat instead.\n",
            "  indicator_df = indicator_df.append(\n",
            "/mnt/f/financial_projects/Deep Reinforcement Learning Approaches on Stock Prediction/FinRL/finrl/finrl_meta/preprocessor/preprocessors.py:151: FutureWarning: The frame.append method is deprecated and will be removed from pandas in a future version. Use pandas.concat instead.\n",
            "  indicator_df = indicator_df.append(\n",
            "/mnt/f/financial_projects/Deep Reinforcement Learning Approaches on Stock Prediction/FinRL/finrl/finrl_meta/preprocessor/preprocessors.py:151: FutureWarning: The frame.append method is deprecated and will be removed from pandas in a future version. Use pandas.concat instead.\n",
            "  indicator_df = indicator_df.append(\n",
            "/mnt/f/financial_projects/Deep Reinforcement Learning Approaches on Stock Prediction/FinRL/finrl/finrl_meta/preprocessor/preprocessors.py:151: FutureWarning: The frame.append method is deprecated and will be removed from pandas in a future version. Use pandas.concat instead.\n",
            "  indicator_df = indicator_df.append(\n",
            "/mnt/f/financial_projects/Deep Reinforcement Learning Approaches on Stock Prediction/FinRL/finrl/finrl_meta/preprocessor/preprocessors.py:151: FutureWarning: The frame.append method is deprecated and will be removed from pandas in a future version. Use pandas.concat instead.\n",
            "  indicator_df = indicator_df.append(\n",
            "/mnt/f/financial_projects/Deep Reinforcement Learning Approaches on Stock Prediction/FinRL/finrl/finrl_meta/preprocessor/preprocessors.py:151: FutureWarning: The frame.append method is deprecated and will be removed from pandas in a future version. Use pandas.concat instead.\n",
            "  indicator_df = indicator_df.append(\n",
            "/mnt/f/financial_projects/Deep Reinforcement Learning Approaches on Stock Prediction/FinRL/finrl/finrl_meta/preprocessor/preprocessors.py:151: FutureWarning: The frame.append method is deprecated and will be removed from pandas in a future version. Use pandas.concat instead.\n",
            "  indicator_df = indicator_df.append(\n",
            "/mnt/f/financial_projects/Deep Reinforcement Learning Approaches on Stock Prediction/FinRL/finrl/finrl_meta/preprocessor/preprocessors.py:151: FutureWarning: The frame.append method is deprecated and will be removed from pandas in a future version. Use pandas.concat instead.\n",
            "  indicator_df = indicator_df.append(\n",
            "/mnt/f/financial_projects/Deep Reinforcement Learning Approaches on Stock Prediction/FinRL/finrl/finrl_meta/preprocessor/preprocessors.py:151: FutureWarning: The frame.append method is deprecated and will be removed from pandas in a future version. Use pandas.concat instead.\n",
            "  indicator_df = indicator_df.append(\n",
            "/mnt/f/financial_projects/Deep Reinforcement Learning Approaches on Stock Prediction/FinRL/finrl/finrl_meta/preprocessor/preprocessors.py:151: FutureWarning: The frame.append method is deprecated and will be removed from pandas in a future version. Use pandas.concat instead.\n",
            "  indicator_df = indicator_df.append(\n",
            "/mnt/f/financial_projects/Deep Reinforcement Learning Approaches on Stock Prediction/FinRL/finrl/finrl_meta/preprocessor/preprocessors.py:151: FutureWarning: The frame.append method is deprecated and will be removed from pandas in a future version. Use pandas.concat instead.\n",
            "  indicator_df = indicator_df.append(\n",
            "/mnt/f/financial_projects/Deep Reinforcement Learning Approaches on Stock Prediction/FinRL/finrl/finrl_meta/preprocessor/preprocessors.py:151: FutureWarning: The frame.append method is deprecated and will be removed from pandas in a future version. Use pandas.concat instead.\n",
            "  indicator_df = indicator_df.append(\n",
            "/mnt/f/financial_projects/Deep Reinforcement Learning Approaches on Stock Prediction/FinRL/finrl/finrl_meta/preprocessor/preprocessors.py:151: FutureWarning: The frame.append method is deprecated and will be removed from pandas in a future version. Use pandas.concat instead.\n",
            "  indicator_df = indicator_df.append(\n",
            "/mnt/f/financial_projects/Deep Reinforcement Learning Approaches on Stock Prediction/FinRL/finrl/finrl_meta/preprocessor/preprocessors.py:151: FutureWarning: The frame.append method is deprecated and will be removed from pandas in a future version. Use pandas.concat instead.\n",
            "  indicator_df = indicator_df.append(\n",
            "/mnt/f/financial_projects/Deep Reinforcement Learning Approaches on Stock Prediction/FinRL/finrl/finrl_meta/preprocessor/preprocessors.py:151: FutureWarning: The frame.append method is deprecated and will be removed from pandas in a future version. Use pandas.concat instead.\n",
            "  indicator_df = indicator_df.append(\n",
            "/mnt/f/financial_projects/Deep Reinforcement Learning Approaches on Stock Prediction/FinRL/finrl/finrl_meta/preprocessor/preprocessors.py:151: FutureWarning: The frame.append method is deprecated and will be removed from pandas in a future version. Use pandas.concat instead.\n",
            "  indicator_df = indicator_df.append(\n",
            "/mnt/f/financial_projects/Deep Reinforcement Learning Approaches on Stock Prediction/FinRL/finrl/finrl_meta/preprocessor/preprocessors.py:151: FutureWarning: The frame.append method is deprecated and will be removed from pandas in a future version. Use pandas.concat instead.\n",
            "  indicator_df = indicator_df.append(\n",
            "/mnt/f/financial_projects/Deep Reinforcement Learning Approaches on Stock Prediction/FinRL/finrl/finrl_meta/preprocessor/preprocessors.py:151: FutureWarning: The frame.append method is deprecated and will be removed from pandas in a future version. Use pandas.concat instead.\n",
            "  indicator_df = indicator_df.append(\n",
            "/mnt/f/financial_projects/Deep Reinforcement Learning Approaches on Stock Prediction/FinRL/finrl/finrl_meta/preprocessor/preprocessors.py:151: FutureWarning: The frame.append method is deprecated and will be removed from pandas in a future version. Use pandas.concat instead.\n",
            "  indicator_df = indicator_df.append(\n",
            "/mnt/f/financial_projects/Deep Reinforcement Learning Approaches on Stock Prediction/FinRL/finrl/finrl_meta/preprocessor/preprocessors.py:151: FutureWarning: The frame.append method is deprecated and will be removed from pandas in a future version. Use pandas.concat instead.\n",
            "  indicator_df = indicator_df.append(\n",
            "/mnt/f/financial_projects/Deep Reinforcement Learning Approaches on Stock Prediction/FinRL/finrl/finrl_meta/preprocessor/preprocessors.py:151: FutureWarning: The frame.append method is deprecated and will be removed from pandas in a future version. Use pandas.concat instead.\n",
            "  indicator_df = indicator_df.append(\n",
            "/mnt/f/financial_projects/Deep Reinforcement Learning Approaches on Stock Prediction/FinRL/finrl/finrl_meta/preprocessor/preprocessors.py:151: FutureWarning: The frame.append method is deprecated and will be removed from pandas in a future version. Use pandas.concat instead.\n",
            "  indicator_df = indicator_df.append(\n",
            "/mnt/f/financial_projects/Deep Reinforcement Learning Approaches on Stock Prediction/FinRL/finrl/finrl_meta/preprocessor/preprocessors.py:151: FutureWarning: The frame.append method is deprecated and will be removed from pandas in a future version. Use pandas.concat instead.\n",
            "  indicator_df = indicator_df.append(\n",
            "/mnt/f/financial_projects/Deep Reinforcement Learning Approaches on Stock Prediction/FinRL/finrl/finrl_meta/preprocessor/preprocessors.py:151: FutureWarning: The frame.append method is deprecated and will be removed from pandas in a future version. Use pandas.concat instead.\n",
            "  indicator_df = indicator_df.append(\n",
            "/mnt/f/financial_projects/Deep Reinforcement Learning Approaches on Stock Prediction/FinRL/finrl/finrl_meta/preprocessor/preprocessors.py:151: FutureWarning: The frame.append method is deprecated and will be removed from pandas in a future version. Use pandas.concat instead.\n",
            "  indicator_df = indicator_df.append(\n",
            "/mnt/f/financial_projects/Deep Reinforcement Learning Approaches on Stock Prediction/FinRL/finrl/finrl_meta/preprocessor/preprocessors.py:151: FutureWarning: The frame.append method is deprecated and will be removed from pandas in a future version. Use pandas.concat instead.\n",
            "  indicator_df = indicator_df.append(\n",
            "/mnt/f/financial_projects/Deep Reinforcement Learning Approaches on Stock Prediction/FinRL/finrl/finrl_meta/preprocessor/preprocessors.py:151: FutureWarning: The frame.append method is deprecated and will be removed from pandas in a future version. Use pandas.concat instead.\n",
            "  indicator_df = indicator_df.append(\n",
            "/mnt/f/financial_projects/Deep Reinforcement Learning Approaches on Stock Prediction/FinRL/finrl/finrl_meta/preprocessor/preprocessors.py:151: FutureWarning: The frame.append method is deprecated and will be removed from pandas in a future version. Use pandas.concat instead.\n",
            "  indicator_df = indicator_df.append(\n",
            "/mnt/f/financial_projects/Deep Reinforcement Learning Approaches on Stock Prediction/FinRL/finrl/finrl_meta/preprocessor/preprocessors.py:151: FutureWarning: The frame.append method is deprecated and will be removed from pandas in a future version. Use pandas.concat instead.\n",
            "  indicator_df = indicator_df.append(\n",
            "/mnt/f/financial_projects/Deep Reinforcement Learning Approaches on Stock Prediction/FinRL/finrl/finrl_meta/preprocessor/preprocessors.py:151: FutureWarning: The frame.append method is deprecated and will be removed from pandas in a future version. Use pandas.concat instead.\n",
            "  indicator_df = indicator_df.append(\n",
            "/mnt/f/financial_projects/Deep Reinforcement Learning Approaches on Stock Prediction/FinRL/finrl/finrl_meta/preprocessor/preprocessors.py:151: FutureWarning: The frame.append method is deprecated and will be removed from pandas in a future version. Use pandas.concat instead.\n",
            "  indicator_df = indicator_df.append(\n",
            "/mnt/f/financial_projects/Deep Reinforcement Learning Approaches on Stock Prediction/FinRL/finrl/finrl_meta/preprocessor/preprocessors.py:151: FutureWarning: The frame.append method is deprecated and will be removed from pandas in a future version. Use pandas.concat instead.\n",
            "  indicator_df = indicator_df.append(\n",
            "/mnt/f/financial_projects/Deep Reinforcement Learning Approaches on Stock Prediction/FinRL/finrl/finrl_meta/preprocessor/preprocessors.py:151: FutureWarning: The frame.append method is deprecated and will be removed from pandas in a future version. Use pandas.concat instead.\n",
            "  indicator_df = indicator_df.append(\n",
            "/mnt/f/financial_projects/Deep Reinforcement Learning Approaches on Stock Prediction/FinRL/finrl/finrl_meta/preprocessor/preprocessors.py:151: FutureWarning: The frame.append method is deprecated and will be removed from pandas in a future version. Use pandas.concat instead.\n",
            "  indicator_df = indicator_df.append(\n",
            "/mnt/f/financial_projects/Deep Reinforcement Learning Approaches on Stock Prediction/FinRL/finrl/finrl_meta/preprocessor/preprocessors.py:151: FutureWarning: The frame.append method is deprecated and will be removed from pandas in a future version. Use pandas.concat instead.\n",
            "  indicator_df = indicator_df.append(\n",
            "/mnt/f/financial_projects/Deep Reinforcement Learning Approaches on Stock Prediction/FinRL/finrl/finrl_meta/preprocessor/preprocessors.py:151: FutureWarning: The frame.append method is deprecated and will be removed from pandas in a future version. Use pandas.concat instead.\n",
            "  indicator_df = indicator_df.append(\n",
            "/mnt/f/financial_projects/Deep Reinforcement Learning Approaches on Stock Prediction/FinRL/finrl/finrl_meta/preprocessor/preprocessors.py:151: FutureWarning: The frame.append method is deprecated and will be removed from pandas in a future version. Use pandas.concat instead.\n",
            "  indicator_df = indicator_df.append(\n",
            "/mnt/f/financial_projects/Deep Reinforcement Learning Approaches on Stock Prediction/FinRL/finrl/finrl_meta/preprocessor/preprocessors.py:151: FutureWarning: The frame.append method is deprecated and will be removed from pandas in a future version. Use pandas.concat instead.\n",
            "  indicator_df = indicator_df.append(\n",
            "/mnt/f/financial_projects/Deep Reinforcement Learning Approaches on Stock Prediction/FinRL/finrl/finrl_meta/preprocessor/preprocessors.py:151: FutureWarning: The frame.append method is deprecated and will be removed from pandas in a future version. Use pandas.concat instead.\n",
            "  indicator_df = indicator_df.append(\n",
            "/mnt/f/financial_projects/Deep Reinforcement Learning Approaches on Stock Prediction/FinRL/finrl/finrl_meta/preprocessor/preprocessors.py:151: FutureWarning: The frame.append method is deprecated and will be removed from pandas in a future version. Use pandas.concat instead.\n",
            "  indicator_df = indicator_df.append(\n",
            "/mnt/f/financial_projects/Deep Reinforcement Learning Approaches on Stock Prediction/FinRL/finrl/finrl_meta/preprocessor/preprocessors.py:151: FutureWarning: The frame.append method is deprecated and will be removed from pandas in a future version. Use pandas.concat instead.\n",
            "  indicator_df = indicator_df.append(\n",
            "/mnt/f/financial_projects/Deep Reinforcement Learning Approaches on Stock Prediction/FinRL/finrl/finrl_meta/preprocessor/preprocessors.py:151: FutureWarning: The frame.append method is deprecated and will be removed from pandas in a future version. Use pandas.concat instead.\n",
            "  indicator_df = indicator_df.append(\n",
            "/mnt/f/financial_projects/Deep Reinforcement Learning Approaches on Stock Prediction/FinRL/finrl/finrl_meta/preprocessor/preprocessors.py:151: FutureWarning: The frame.append method is deprecated and will be removed from pandas in a future version. Use pandas.concat instead.\n",
            "  indicator_df = indicator_df.append(\n",
            "/mnt/f/financial_projects/Deep Reinforcement Learning Approaches on Stock Prediction/FinRL/finrl/finrl_meta/preprocessor/preprocessors.py:151: FutureWarning: The frame.append method is deprecated and will be removed from pandas in a future version. Use pandas.concat instead.\n",
            "  indicator_df = indicator_df.append(\n",
            "/mnt/f/financial_projects/Deep Reinforcement Learning Approaches on Stock Prediction/FinRL/finrl/finrl_meta/preprocessor/preprocessors.py:151: FutureWarning: The frame.append method is deprecated and will be removed from pandas in a future version. Use pandas.concat instead.\n",
            "  indicator_df = indicator_df.append(\n",
            "/mnt/f/financial_projects/Deep Reinforcement Learning Approaches on Stock Prediction/FinRL/finrl/finrl_meta/preprocessor/preprocessors.py:151: FutureWarning: The frame.append method is deprecated and will be removed from pandas in a future version. Use pandas.concat instead.\n",
            "  indicator_df = indicator_df.append(\n",
            "/mnt/f/financial_projects/Deep Reinforcement Learning Approaches on Stock Prediction/FinRL/finrl/finrl_meta/preprocessor/preprocessors.py:151: FutureWarning: The frame.append method is deprecated and will be removed from pandas in a future version. Use pandas.concat instead.\n",
            "  indicator_df = indicator_df.append(\n",
            "/mnt/f/financial_projects/Deep Reinforcement Learning Approaches on Stock Prediction/FinRL/finrl/finrl_meta/preprocessor/preprocessors.py:151: FutureWarning: The frame.append method is deprecated and will be removed from pandas in a future version. Use pandas.concat instead.\n",
            "  indicator_df = indicator_df.append(\n"
          ]
        },
        {
          "name": "stdout",
          "output_type": "stream",
          "text": [
            "Successfully added technical indicators\n",
            "[*********************100%***********************]  1 of 1 completed\n",
            "Shape of DataFrame:  (279, 8)\n",
            "Successfully added vix\n"
          ]
        },
        {
          "name": "stderr",
          "output_type": "stream",
          "text": [
            "/mnt/f/financial_projects/Deep Reinforcement Learning Approaches on Stock Prediction/FinRL/finrl/finrl_meta/preprocessor/yahoodownloader.py:51: FutureWarning: The frame.append method is deprecated and will be removed from pandas in a future version. Use pandas.concat instead.\n",
            "  data_df = data_df.append(temp_df)\n"
          ]
        },
        {
          "name": "stdout",
          "output_type": "stream",
          "text": [
            "Successfully added turbulence index\n"
          ]
        }
      ],
      "source": [
        "train,trade = fetch_preprocess_data(api_key,TRAIN_START_DATE,TEST_END_DATE,choosen_symbols, technical_indicator_list)\n"
      ]
    },
    {
      "cell_type": "markdown",
      "metadata": {
        "id": "pplgHdQtOOQH"
      },
      "source": [
        "## Registering the environment"
      ]
    },
    {
      "cell_type": "code",
      "execution_count": 26,
      "metadata": {
        "id": "QS0ytuI8KFf5"
      },
      "outputs": [
        {
          "name": "stdout",
          "output_type": "stream",
          "text": [
            "Stock Dimension: 34, State Space: 341\n"
          ]
        }
      ],
      "source": [
        "from ray.tune.registry import register_env\n",
        "\n",
        "env_kwargs = config_env_kwargs(train)\n",
        "#get_train_env(train, env_kwargs)\n",
        "env_name = 'StockTrading_train_env'\n",
        "register_env(env_name, lambda config: get_train_env(train, env_kwargs))"
      ]
    },
    {
      "cell_type": "code",
      "execution_count": 27,
      "metadata": {},
      "outputs": [],
      "source": [
        "import torch\n",
        "device = torch.device('cuda' if torch.cuda.is_available() else 'cpu')\n"
      ]
    },
    {
      "cell_type": "code",
      "execution_count": 28,
      "metadata": {},
      "outputs": [
        {
          "data": {
            "text/plain": [
              "True"
            ]
          },
          "execution_count": 28,
          "metadata": {},
          "output_type": "execute_result"
        }
      ],
      "source": [
        "torch.cuda.is_available()"
      ]
    },
    {
      "cell_type": "markdown",
      "metadata": {
        "id": "0toGh9-_OThw"
      },
      "source": [
        "## Running tune "
      ]
    },
    {
      "cell_type": "code",
      "execution_count": 30,
      "metadata": {
        "id": "SbF64_hRsqhT"
      },
      "outputs": [],
      "source": [
        "MODEL_TRAINER = {'a2c':A2CTrainer,'ppo':PPOTrainer,'ddpg':DDPGTrainer}\n",
        "if model_name == \"ddpg\":\n",
        "    sample_hyperparameters = sample_ddpg_params()\n",
        "elif model_name == \"ppo\":\n",
        "  sample_hyperparameters = sample_ppo_params()\n",
        "elif model_name == \"a2c\":\n",
        "  sample_hyperparameters = sample_a2c_params()\n",
        "  \n",
        "def run_optuna_tune():\n",
        "\n",
        "  algo = OptunaSearch()\n",
        "  algo = ConcurrencyLimiter(algo,max_concurrent=4)\n",
        "  scheduler = AsyncHyperBandScheduler()\n",
        "  num_samples = 10\n",
        "  training_iterations = 100\n",
        "\n",
        "  analysis = tune.run(\n",
        "      MODEL_TRAINER[model_name],\n",
        "      metric=\"episode_reward_mean\", #The metric to optimize for tuning\n",
        "      mode=\"max\", #Maximize the metric\n",
        "      search_alg = algo,#OptunaSearch method which uses Tree Parzen estimator to sample hyperparameters\n",
        "      scheduler=scheduler, #To prune bad trials\n",
        "      config = {**sample_hyperparameters,\n",
        "                'env':'StockTrading_train_env','num_workers':1,\n",
        "                'num_gpus':1,'framework':'torch'},\n",
        "      num_samples = num_samples, #Number of hyperparameters to test out\n",
        "      stop = {'training_iteration':training_iterations},#Time attribute to validate the results\n",
        "      verbose=1,local_dir=TUNED_MODELS_DIR,#Saving tensorboard plots\n",
        "      # resources_per_trial={'gpu':1,'cpu':1},\n",
        "      max_failures = 1,#Extra Trying for the failed trials\n",
        "      raise_on_failed_trial=False,#Don't return error even if you have errored trials\n",
        "      keep_checkpoints_num = num_samples-5, \n",
        "      checkpoint_score_attr ='episode_reward_mean',#Only store keep_checkpoints_num trials based on this score\n",
        "      checkpoint_freq=training_iterations#Checpointing all the trials\n",
        "  )\n",
        "  print(\"Best hyperparameter: \", analysis.best_config)\n",
        "  return analysis"
      ]
    },
    {
      "cell_type": "code",
      "execution_count": 31,
      "metadata": {
        "colab": {
          "base_uri": "https://localhost:8080/",
          "height": 875
        },
        "id": "zDz4GUMLuSUE",
        "outputId": "9751b541-0805-4cb5-9759-9c4c5817ba96"
      },
      "outputs": [
        {
          "data": {
            "text/html": [
              "== Status ==<br>Current time: 2022-10-08 20:10:49 (running for 00:11:21.79)<br>Memory usage on this node: 4.4/6.1 GiB<br>Using AsyncHyperBand: num_stopped=0\n",
              "Bracket: Iter 64.000: None | Iter 16.000: None | Iter 4.000: 13.813532824095818 | Iter 1.000: 30.785419000343126<br>Resources requested: 2.0/8 CPUs, 1.0/1 GPUs, 0.0/2.75 GiB heap, 0.0/1.38 GiB objects (0.0/1.0 accelerator_type:G)<br>Current best trial: 022a830c with episode_reward_mean=25.51030653433286 and parameters={'num_workers': 1, 'num_envs_per_worker': 1, 'create_env_on_driver': False, 'rollout_fragment_length': 200, 'batch_mode': 'truncate_episodes', 'gamma': 0.99, 'lr': 0.0021437247653511293, 'train_batch_size': 4000, 'model': {'_use_default_native_models': False, '_disable_preprocessor_api': False, '_disable_action_flattening': False, 'fcnet_hiddens': [256, 256], 'fcnet_activation': 'tanh', 'conv_filters': None, 'conv_activation': 'relu', 'post_fcnet_hiddens': [], 'post_fcnet_activation': 'relu', 'free_log_std': False, 'no_final_linear': False, 'vf_share_layers': False, 'use_lstm': False, 'max_seq_len': 20, 'lstm_cell_size': 256, 'lstm_use_prev_action': False, 'lstm_use_prev_reward': False, '_time_major': False, 'use_attention': False, 'attention_num_transformer_units': 1, 'attention_dim': 64, 'attention_num_heads': 1, 'attention_head_dim': 32, 'attention_memory_inference': 50, 'attention_memory_training': 50, 'attention_position_wise_mlp_dim': 32, 'attention_init_gru_gate_bias': 2.0, 'attention_use_n_prev_actions': 0, 'attention_use_n_prev_rewards': 0, 'framestack': True, 'dim': 84, 'grayscale': False, 'zero_mean': True, 'custom_model': None, 'custom_model_config': {}, 'custom_action_dist': None, 'custom_preprocessor': None, 'lstm_use_prev_action_reward': -1}, 'optimizer': {}, 'horizon': None, 'soft_horizon': False, 'no_done_at_end': False, 'env': 'StockTrading_train_env', 'observation_space': None, 'action_space': None, 'env_config': {}, 'remote_worker_envs': False, 'remote_env_batch_wait_ms': 0, 'env_task_fn': None, 'render_env': False, 'record_env': False, 'clip_rewards': None, 'normalize_actions': True, 'clip_actions': False, 'preprocessor_pref': 'deepmind', 'log_level': 'WARN', 'callbacks': <class 'ray.rllib.agents.callbacks.DefaultCallbacks'>, 'ignore_worker_failures': False, 'recreate_failed_workers': False, 'log_sys_usage': True, 'fake_sampler': False, 'framework': 'torch', 'eager_tracing': False, 'eager_max_retraces': 20, 'explore': True, 'exploration_config': {'type': 'StochasticSampling'}, 'evaluation_interval': 0, 'evaluation_duration': 10, 'evaluation_duration_unit': 'episodes', 'evaluation_parallel_to_training': False, 'in_evaluation': False, 'evaluation_config': {'num_workers': 1, 'num_envs_per_worker': 1, 'create_env_on_driver': False, 'rollout_fragment_length': 200, 'batch_mode': 'truncate_episodes', 'gamma': 0.99, 'lr': 0.0021437247653511293, 'train_batch_size': 4000, 'model': {'_use_default_native_models': False, '_disable_preprocessor_api': False, '_disable_action_flattening': False, 'fcnet_hiddens': [256, 256], 'fcnet_activation': 'tanh', 'conv_filters': None, 'conv_activation': 'relu', 'post_fcnet_hiddens': [], 'post_fcnet_activation': 'relu', 'free_log_std': False, 'no_final_linear': False, 'vf_share_layers': False, 'use_lstm': False, 'max_seq_len': 20, 'lstm_cell_size': 256, 'lstm_use_prev_action': False, 'lstm_use_prev_reward': False, '_time_major': False, 'use_attention': False, 'attention_num_transformer_units': 1, 'attention_dim': 64, 'attention_num_heads': 1, 'attention_head_dim': 32, 'attention_memory_inference': 50, 'attention_memory_training': 50, 'attention_position_wise_mlp_dim': 32, 'attention_init_gru_gate_bias': 2.0, 'attention_use_n_prev_actions': 0, 'attention_use_n_prev_rewards': 0, 'framestack': True, 'dim': 84, 'grayscale': False, 'zero_mean': True, 'custom_model': None, 'custom_model_config': {}, 'custom_action_dist': None, 'custom_preprocessor': None, 'lstm_use_prev_action_reward': -1}, 'optimizer': {}, 'horizon': None, 'soft_horizon': False, 'no_done_at_end': False, 'env': 'StockTrading_train_env', 'observation_space': None, 'action_space': None, 'env_config': {}, 'remote_worker_envs': False, 'remote_env_batch_wait_ms': 0, 'env_task_fn': None, 'render_env': False, 'record_env': False, 'clip_rewards': None, 'normalize_actions': True, 'clip_actions': False, 'preprocessor_pref': 'deepmind', 'log_level': 'WARN', 'callbacks': <class 'ray.rllib.agents.callbacks.DefaultCallbacks'>, 'ignore_worker_failures': False, 'recreate_failed_workers': False, 'log_sys_usage': True, 'fake_sampler': False, 'framework': 'torch', 'eager_tracing': False, 'eager_max_retraces': 20, 'explore': True, 'exploration_config': {'type': 'StochasticSampling'}, 'evaluation_interval': 0, 'evaluation_duration': 10, 'evaluation_duration_unit': 'episodes', 'evaluation_parallel_to_training': False, 'in_evaluation': False, 'evaluation_config': {}, 'evaluation_num_workers': 0, 'custom_eval_function': None, 'always_attach_evaluation_results': False, 'keep_per_episode_custom_metrics': False, 'sample_async': False, 'sample_collector': <class 'ray.rllib.evaluation.collectors.simple_list_collector.SimpleListCollector'>, 'observation_filter': 'NoFilter', 'synchronize_filters': True, 'tf_session_args': {'intra_op_parallelism_threads': 2, 'inter_op_parallelism_threads': 2, 'gpu_options': {'allow_growth': True}, 'log_device_placement': False, 'device_count': {'CPU': 1}, 'allow_soft_placement': True}, 'local_tf_session_args': {'intra_op_parallelism_threads': 8, 'inter_op_parallelism_threads': 8}, 'compress_observations': False, 'metrics_episode_collection_timeout_s': 180, 'metrics_num_episodes_for_smoothing': 100, 'min_time_s_per_reporting': None, 'min_train_timesteps_per_reporting': None, 'min_sample_timesteps_per_reporting': 0, 'seed': None, 'extra_python_environs_for_driver': {}, 'extra_python_environs_for_worker': {}, 'num_gpus': 1, '_fake_gpus': False, 'num_cpus_per_worker': 1, 'num_gpus_per_worker': 0, 'custom_resources_per_worker': {}, 'num_cpus_for_driver': 1, 'placement_strategy': 'PACK', 'input': 'sampler', 'input_config': {}, 'actions_in_input_normalized': False, 'input_evaluation': ['is', 'wis'], 'postprocess_inputs': False, 'shuffle_buffer_size': 0, 'output': None, 'output_config': {}, 'output_compress_columns': ['obs', 'new_obs'], 'output_max_file_size': 67108864, 'multiagent': {'policies': {'default_policy': PolicySpec(policy_class=<class 'ray.rllib.agents.ppo.ppo_torch_policy.PPOTorchPolicy'>, observation_space=Box([-inf -inf -inf -inf -inf -inf -inf -inf -inf -inf -inf -inf -inf -inf\n",
              " -inf -inf -inf -inf -inf -inf -inf -inf -inf -inf -inf -inf -inf -inf\n",
              " -inf -inf -inf -inf -inf -inf -inf -inf -inf -inf -inf -inf -inf -inf\n",
              " -inf -inf -inf -inf -inf -inf -inf -inf -inf -inf -inf -inf -inf -inf\n",
              " -inf -inf -inf -inf -inf -inf -inf -inf -inf -inf -inf -inf -inf -inf\n",
              " -inf -inf -inf -inf -inf -inf -inf -inf -inf -inf -inf -inf -inf -inf\n",
              " -inf -inf -inf -inf -inf -inf -inf -inf -inf -inf -inf -inf -inf -inf\n",
              " -inf -inf -inf -inf -inf -inf -inf -inf -inf -inf -inf -inf -inf -inf\n",
              " -inf -inf -inf -inf -inf -inf -inf -inf -inf -inf -inf -inf -inf -inf\n",
              " -inf -inf -inf -inf -inf -inf -inf -inf -inf -inf -inf -inf -inf -inf\n",
              " -inf -inf -inf -inf -inf -inf -inf -inf -inf -inf -inf -inf -inf -inf\n",
              " -inf -inf -inf -inf -inf -inf -inf -inf -inf -inf -inf -inf -inf -inf\n",
              " -inf -inf -inf -inf -inf -inf -inf -inf -inf -inf -inf -inf -inf -inf\n",
              " -inf -inf -inf -inf -inf -inf -inf -inf -inf -inf -inf -inf -inf -inf\n",
              " -inf -inf -inf -inf -inf -inf -inf -inf -inf -inf -inf -inf -inf -inf\n",
              " -inf -inf -inf -inf -inf -inf -inf -inf -inf -inf -inf -inf -inf -inf\n",
              " -inf -inf -inf -inf -inf -inf -inf -inf -inf -inf -inf -inf -inf -inf\n",
              " -inf -inf -inf -inf -inf -inf -inf -inf -inf -inf -inf -inf -inf -inf\n",
              " -inf -inf -inf -inf -inf -inf -inf -inf -inf -inf -inf -inf -inf -inf\n",
              " -inf -inf -inf -inf -inf -inf -inf -inf -inf -inf -inf -inf -inf -inf\n",
              " -inf -inf -inf -inf -inf -inf -inf -inf -inf -inf -inf -inf -inf -inf\n",
              " -inf -inf -inf -inf -inf -inf -inf -inf -inf -inf -inf -inf -inf -inf\n",
              " -inf -inf -inf -inf -inf -inf -inf -inf -inf -inf -inf -inf -inf -inf\n",
              " -inf -inf -inf -inf -inf -inf -inf -inf -inf -inf -inf -inf -inf -inf\n",
              " -inf -inf -inf -inf -inf], [inf inf inf inf inf inf inf inf inf inf inf inf inf inf inf inf inf inf\n",
              " inf inf inf inf inf inf inf inf inf inf inf inf inf inf inf inf inf inf\n",
              " inf inf inf inf inf inf inf inf inf inf inf inf inf inf inf inf inf inf\n",
              " inf inf inf inf inf inf inf inf inf inf inf inf inf inf inf inf inf inf\n",
              " inf inf inf inf inf inf inf inf inf inf inf inf inf inf inf inf inf inf\n",
              " inf inf inf inf inf inf inf inf inf inf inf inf inf inf inf inf inf inf\n",
              " inf inf inf inf inf inf inf inf inf inf inf inf inf inf inf inf inf inf\n",
              " inf inf inf inf inf inf inf inf inf inf inf inf inf inf inf inf inf inf\n",
              " inf inf inf inf inf inf inf inf inf inf inf inf inf inf inf inf inf inf\n",
              " inf inf inf inf inf inf inf inf inf inf inf inf inf inf inf inf inf inf\n",
              " inf inf inf inf inf inf inf inf inf inf inf inf inf inf inf inf inf inf\n",
              " inf inf inf inf inf inf inf inf inf inf inf inf inf inf inf inf inf inf\n",
              " inf inf inf inf inf inf inf inf inf inf inf inf inf inf inf inf inf inf\n",
              " inf inf inf inf inf inf inf inf inf inf inf inf inf inf inf inf inf inf\n",
              " inf inf inf inf inf inf inf inf inf inf inf inf inf inf inf inf inf inf\n",
              " inf inf inf inf inf inf inf inf inf inf inf inf inf inf inf inf inf inf\n",
              " inf inf inf inf inf inf inf inf inf inf inf inf inf inf inf inf inf inf\n",
              " inf inf inf inf inf inf inf inf inf inf inf inf inf inf inf inf inf inf\n",
              " inf inf inf inf inf inf inf inf inf inf inf inf inf inf inf inf inf], (341,), float32), action_space=Box([-1. -1. -1. -1. -1. -1. -1. -1. -1. -1. -1. -1. -1. -1. -1. -1. -1. -1.\n",
              " -1. -1. -1. -1. -1. -1. -1. -1. -1. -1. -1. -1. -1. -1. -1. -1.], [1. 1. 1. 1. 1. 1. 1. 1. 1. 1. 1. 1. 1. 1. 1. 1. 1. 1. 1. 1. 1. 1. 1. 1.\n",
              " 1. 1. 1. 1. 1. 1. 1. 1. 1. 1.], (34,), float32), config={})}, 'policy_map_capacity': 100, 'policy_map_cache': None, 'policy_mapping_fn': None, 'policies_to_train': None, 'observation_fn': None, 'replay_mode': 'independent', 'count_steps_by': 'env_steps'}, 'logger_config': None, '_tf_policy_handles_more_than_one_loss': False, '_disable_preprocessor_api': False, '_disable_action_flattening': False, '_disable_execution_plan_api': True, 'disable_env_checking': False, 'simple_optimizer': False, 'monitor': -1, 'evaluation_num_episodes': -1, 'metrics_smoothing_episodes': -1, 'timesteps_per_iteration': 0, 'min_iter_time_s': -1, 'collect_metrics_timeout': -1, 'lr_schedule': None, 'use_critic': True, 'use_gae': True, 'kl_coeff': 0.2, 'sgd_minibatch_size': 256, 'num_sgd_iter': 30, 'shuffle_sequences': True, 'vf_loss_coeff': 1.0, 'entropy_coeff': 0.0041913738115907945, 'entropy_coeff_schedule': None, 'clip_param': 0.3, 'vf_clip_param': 10.0, 'grad_clip': None, 'kl_target': 0.01, 'lambda': 0.7}, 'evaluation_num_workers': 0, 'custom_eval_function': None, 'always_attach_evaluation_results': False, 'keep_per_episode_custom_metrics': False, 'sample_async': False, 'sample_collector': <class 'ray.rllib.evaluation.collectors.simple_list_collector.SimpleListCollector'>, 'observation_filter': 'NoFilter', 'synchronize_filters': True, 'tf_session_args': {'intra_op_parallelism_threads': 2, 'inter_op_parallelism_threads': 2, 'gpu_options': {'allow_growth': True}, 'log_device_placement': False, 'device_count': {'CPU': 1}, 'allow_soft_placement': True}, 'local_tf_session_args': {'intra_op_parallelism_threads': 8, 'inter_op_parallelism_threads': 8}, 'compress_observations': False, 'metrics_episode_collection_timeout_s': 180, 'metrics_num_episodes_for_smoothing': 100, 'min_time_s_per_reporting': None, 'min_train_timesteps_per_reporting': None, 'min_sample_timesteps_per_reporting': 0, 'seed': None, 'extra_python_environs_for_driver': {}, 'extra_python_environs_for_worker': {}, 'num_gpus': 1, '_fake_gpus': False, 'num_cpus_per_worker': 1, 'num_gpus_per_worker': 0, 'custom_resources_per_worker': {}, 'num_cpus_for_driver': 1, 'placement_strategy': 'PACK', 'input': 'sampler', 'input_config': {}, 'actions_in_input_normalized': False, 'input_evaluation': ['is', 'wis'], 'postprocess_inputs': False, 'shuffle_buffer_size': 0, 'output': None, 'output_config': {}, 'output_compress_columns': ['obs', 'new_obs'], 'output_max_file_size': 67108864, 'multiagent': {'policies': {'default_policy': PolicySpec(policy_class=<class 'ray.rllib.agents.ppo.ppo_torch_policy.PPOTorchPolicy'>, observation_space=Box([-inf -inf -inf -inf -inf -inf -inf -inf -inf -inf -inf -inf -inf -inf\n",
              " -inf -inf -inf -inf -inf -inf -inf -inf -inf -inf -inf -inf -inf -inf\n",
              " -inf -inf -inf -inf -inf -inf -inf -inf -inf -inf -inf -inf -inf -inf\n",
              " -inf -inf -inf -inf -inf -inf -inf -inf -inf -inf -inf -inf -inf -inf\n",
              " -inf -inf -inf -inf -inf -inf -inf -inf -inf -inf -inf -inf -inf -inf\n",
              " -inf -inf -inf -inf -inf -inf -inf -inf -inf -inf -inf -inf -inf -inf\n",
              " -inf -inf -inf -inf -inf -inf -inf -inf -inf -inf -inf -inf -inf -inf\n",
              " -inf -inf -inf -inf -inf -inf -inf -inf -inf -inf -inf -inf -inf -inf\n",
              " -inf -inf -inf -inf -inf -inf -inf -inf -inf -inf -inf -inf -inf -inf\n",
              " -inf -inf -inf -inf -inf -inf -inf -inf -inf -inf -inf -inf -inf -inf\n",
              " -inf -inf -inf -inf -inf -inf -inf -inf -inf -inf -inf -inf -inf -inf\n",
              " -inf -inf -inf -inf -inf -inf -inf -inf -inf -inf -inf -inf -inf -inf\n",
              " -inf -inf -inf -inf -inf -inf -inf -inf -inf -inf -inf -inf -inf -inf\n",
              " -inf -inf -inf -inf -inf -inf -inf -inf -inf -inf -inf -inf -inf -inf\n",
              " -inf -inf -inf -inf -inf -inf -inf -inf -inf -inf -inf -inf -inf -inf\n",
              " -inf -inf -inf -inf -inf -inf -inf -inf -inf -inf -inf -inf -inf -inf\n",
              " -inf -inf -inf -inf -inf -inf -inf -inf -inf -inf -inf -inf -inf -inf\n",
              " -inf -inf -inf -inf -inf -inf -inf -inf -inf -inf -inf -inf -inf -inf\n",
              " -inf -inf -inf -inf -inf -inf -inf -inf -inf -inf -inf -inf -inf -inf\n",
              " -inf -inf -inf -inf -inf -inf -inf -inf -inf -inf -inf -inf -inf -inf\n",
              " -inf -inf -inf -inf -inf -inf -inf -inf -inf -inf -inf -inf -inf -inf\n",
              " -inf -inf -inf -inf -inf -inf -inf -inf -inf -inf -inf -inf -inf -inf\n",
              " -inf -inf -inf -inf -inf -inf -inf -inf -inf -inf -inf -inf -inf -inf\n",
              " -inf -inf -inf -inf -inf -inf -inf -inf -inf -inf -inf -inf -inf -inf\n",
              " -inf -inf -inf -inf -inf], [inf inf inf inf inf inf inf inf inf inf inf inf inf inf inf inf inf inf\n",
              " inf inf inf inf inf inf inf inf inf inf inf inf inf inf inf inf inf inf\n",
              " inf inf inf inf inf inf inf inf inf inf inf inf inf inf inf inf inf inf\n",
              " inf inf inf inf inf inf inf inf inf inf inf inf inf inf inf inf inf inf\n",
              " inf inf inf inf inf inf inf inf inf inf inf inf inf inf inf inf inf inf\n",
              " inf inf inf inf inf inf inf inf inf inf inf inf inf inf inf inf inf inf\n",
              " inf inf inf inf inf inf inf inf inf inf inf inf inf inf inf inf inf inf\n",
              " inf inf inf inf inf inf inf inf inf inf inf inf inf inf inf inf inf inf\n",
              " inf inf inf inf inf inf inf inf inf inf inf inf inf inf inf inf inf inf\n",
              " inf inf inf inf inf inf inf inf inf inf inf inf inf inf inf inf inf inf\n",
              " inf inf inf inf inf inf inf inf inf inf inf inf inf inf inf inf inf inf\n",
              " inf inf inf inf inf inf inf inf inf inf inf inf inf inf inf inf inf inf\n",
              " inf inf inf inf inf inf inf inf inf inf inf inf inf inf inf inf inf inf\n",
              " inf inf inf inf inf inf inf inf inf inf inf inf inf inf inf inf inf inf\n",
              " inf inf inf inf inf inf inf inf inf inf inf inf inf inf inf inf inf inf\n",
              " inf inf inf inf inf inf inf inf inf inf inf inf inf inf inf inf inf inf\n",
              " inf inf inf inf inf inf inf inf inf inf inf inf inf inf inf inf inf inf\n",
              " inf inf inf inf inf inf inf inf inf inf inf inf inf inf inf inf inf inf\n",
              " inf inf inf inf inf inf inf inf inf inf inf inf inf inf inf inf inf], (341,), float32), action_space=Box([-1. -1. -1. -1. -1. -1. -1. -1. -1. -1. -1. -1. -1. -1. -1. -1. -1. -1.\n",
              " -1. -1. -1. -1. -1. -1. -1. -1. -1. -1. -1. -1. -1. -1. -1. -1.], [1. 1. 1. 1. 1. 1. 1. 1. 1. 1. 1. 1. 1. 1. 1. 1. 1. 1. 1. 1. 1. 1. 1. 1.\n",
              " 1. 1. 1. 1. 1. 1. 1. 1. 1. 1.], (34,), float32), config={})}, 'policy_map_capacity': 100, 'policy_map_cache': None, 'policy_mapping_fn': None, 'policies_to_train': None, 'observation_fn': None, 'replay_mode': 'independent', 'count_steps_by': 'env_steps'}, 'logger_config': None, '_tf_policy_handles_more_than_one_loss': False, '_disable_preprocessor_api': False, '_disable_action_flattening': False, '_disable_execution_plan_api': True, 'disable_env_checking': False, 'simple_optimizer': False, 'monitor': -1, 'evaluation_num_episodes': -1, 'metrics_smoothing_episodes': -1, 'timesteps_per_iteration': 0, 'min_iter_time_s': -1, 'collect_metrics_timeout': -1, 'lr_schedule': None, 'use_critic': True, 'use_gae': True, 'kl_coeff': 0.2, 'sgd_minibatch_size': 256, 'num_sgd_iter': 30, 'shuffle_sequences': True, 'vf_loss_coeff': 1.0, 'entropy_coeff': 0.0041913738115907945, 'entropy_coeff_schedule': None, 'clip_param': 0.3, 'vf_clip_param': 10.0, 'grad_clip': None, 'kl_target': 0.01, 'lambda': 0.7}<br>Result logdir: /mnt/f/financial_projects/Deep Reinforcement Learning Approaches on Stock Prediction/FinRL/MARKETS/Crypto_market/TUNED_MODELS/PPOTrainer_2022-10-08_19-59-27<br>Number of trials: 4/10 (2 ERROR, 1 PENDING, 1 RUNNING)<br>Number of errored trials: 3<br><table>\n",
              "<thead>\n",
              "<tr><th>Trial name                                </th><th style=\"text-align: right;\">  # failures</th><th>error file                                                                                                                                                                                                                                                                                                                   </th></tr>\n",
              "</thead>\n",
              "<tbody>\n",
              "<tr><td>PPOTrainer_StockTrading_train_env_60e92f84</td><td style=\"text-align: right;\">           2</td><td>/mnt/f/financial_projects/Deep Reinforcement Learning Approaches on Stock Prediction/FinRL/MARKETS/Crypto_market/TUNED_MODELS/PPOTrainer_2022-10-08_19-59-27/PPOTrainer_StockTrading_train_env_60e92f84_1_entropy_coeff=0.0035,env=StockTrading_train_env,framework=torch,lambda=0.7000,lr=0.02_2022-10-08_19-59-28/error.txt</td></tr>\n",
              "<tr><td>PPOTrainer_StockTrading_train_env_852ee1f4</td><td style=\"text-align: right;\">           2</td><td>/mnt/f/financial_projects/Deep Reinforcement Learning Approaches on Stock Prediction/FinRL/MARKETS/Crypto_market/TUNED_MODELS/PPOTrainer_2022-10-08_19-59-27/PPOTrainer_StockTrading_train_env_852ee1f4_2_entropy_coeff=0.0000,env=StockTrading_train_env,framework=torch,lambda=0.9000,lr=0.08_2022-10-08_20-00-54/error.txt</td></tr>\n",
              "<tr><td>PPOTrainer_StockTrading_train_env_e5b5ec2a</td><td style=\"text-align: right;\">           1</td><td>/mnt/f/financial_projects/Deep Reinforcement Learning Approaches on Stock Prediction/FinRL/MARKETS/Crypto_market/TUNED_MODELS/PPOTrainer_2022-10-08_19-59-27/PPOTrainer_StockTrading_train_env_e5b5ec2a_3_entropy_coeff=0.0007,env=StockTrading_train_env,framework=torch,lambda=0.7000,lr=0.60_2022-10-08_20-03-57/error.txt</td></tr>\n",
              "</tbody>\n",
              "</table><br>"
            ],
            "text/plain": [
              "<IPython.core.display.HTML object>"
            ]
          },
          "metadata": {},
          "output_type": "display_data"
        }
      ],
      "source": [
        "analysis = run_optuna_tune()"
      ]
    },
    {
      "cell_type": "markdown",
      "metadata": {},
      "source": []
    },
    {
      "cell_type": "markdown",
      "metadata": {
        "id": "6d3a8-KROYJ_"
      },
      "source": [
        "## Best config, directory and checkpoint for hyperparameters\n",
        "\n"
      ]
    },
    {
      "cell_type": "code",
      "execution_count": 23,
      "metadata": {
        "colab": {
          "base_uri": "https://localhost:8080/"
        },
        "id": "OGDP01DcCR9Z",
        "outputId": "a7fc74da-7a98-4d4e-b4ac-49e00c0fdd69"
      },
      "outputs": [
        {
          "name": "stderr",
          "output_type": "stream",
          "text": [
            "2022-10-08 16:14:07,948\tWARNING experiment_analysis.py:591 -- Could not find best trial. Did you pass the correct `metric` parameter?\n"
          ]
        }
      ],
      "source": [
        "best_config = analysis.get_best_config(metric='episode_reward_mean',mode='max')\n",
        "best_config"
      ]
    },
    {
      "cell_type": "code",
      "execution_count": 24,
      "metadata": {
        "colab": {
          "base_uri": "https://localhost:8080/",
          "height": 53
        },
        "id": "Awbo9S2sZbOv",
        "outputId": "71e9fd9b-23ee-4f19-8b30-63da1add087e"
      },
      "outputs": [
        {
          "name": "stderr",
          "output_type": "stream",
          "text": [
            "2022-10-08 16:14:21,860\tWARNING experiment_analysis.py:591 -- Could not find best trial. Did you pass the correct `metric` parameter?\n"
          ]
        }
      ],
      "source": [
        "best_logdir = analysis.get_best_logdir(metric='episode_reward_mean',mode='max')\n",
        "best_logdir"
      ]
    },
    {
      "cell_type": "code",
      "execution_count": null,
      "metadata": {
        "colab": {
          "base_uri": "https://localhost:8080/",
          "height": 53
        },
        "id": "wa-dilLhHGEd",
        "outputId": "f1432e32-f049-4605-c836-da1a6436f2bb"
      },
      "outputs": [
        {
          "data": {
            "application/vnd.google.colaboratory.intrinsic+json": {
              "type": "string"
            },
            "text/plain": [
              "'/content/tuned_models/A2C_2022-01-06_06-46-44/A2C_StockTrading_train_env_c4a4a4e2_7_entropy_coeff=1.9875e-06,framework=torch,lambda=0.5,lr=0.0034153,num_gpus=1,num_workers=1_2022-01-06_07-25-04/checkpoint_000100/checkpoint-100'"
            ]
          },
          "execution_count": 18,
          "metadata": {},
          "output_type": "execute_result"
        }
      ],
      "source": [
        "best_checkpoint = analysis.best_checkpoint\n",
        "best_checkpoint"
      ]
    },
    {
      "cell_type": "code",
      "execution_count": null,
      "metadata": {
        "id": "RgcBMJBzAhZl"
      },
      "outputs": [],
      "source": [
        "# sharpe,df_account_test,df_action_test = val_or_test(TEST_START_DATE, TEST_END_DATE, ticker_list, data_source, time_interval, \n",
        "#          technical_indicator_list, env, model_name,best_checkpoint, if_vix = True)"
      ]
    },
    {
      "cell_type": "code",
      "execution_count": null,
      "metadata": {
        "colab": {
          "base_uri": "https://localhost:8080/"
        },
        "id": "tO2MmLVTZWs-",
        "outputId": "56022129-ffe8-4f57-96c4-efc473a7140b"
      },
      "outputs": [
        {
          "name": "stdout",
          "output_type": "stream",
          "text": [
            "\r[*********************100%***********************]  1 of 1 completed\n",
            "Shape of DataFrame:  (294, 9)\n",
            "Clean data for TSLA\n",
            "Data clean for TSLA is finished.\n",
            "Data clean all finished!\n",
            "[*********************100%***********************]  1 of 1 completed\n",
            "Shape of DataFrame:  (294, 9)\n",
            "Clean data for ^VIX\n",
            "Data clean for ^VIX is finished.\n",
            "Data clean all finished!\n",
            "['TSLA']\n",
            "Successfully transformed into array\n"
          ]
        }
      ],
      "source": [
        "test_env_config = get_test_config(TEST_START_DATE, TEST_END_DATE, ticker_list, data_source, time_interval, \n",
        "                        technical_indicator_list, env, model_name)"
      ]
    },
    {
      "cell_type": "code",
      "execution_count": null,
      "metadata": {
        "id": "Dt0mhUOgeWtX"
      },
      "outputs": [],
      "source": [
        "sharpe,account,actions = val_or_test(test_env_config,agent_path,model_name,env)"
      ]
    },
    {
      "cell_type": "code",
      "execution_count": null,
      "metadata": {
        "id": "Wis62wQaYHTR"
      },
      "outputs": [],
      "source": [
        "def DRL_prediction(\n",
        "        model_name,\n",
        "        test_env_config,\n",
        "        env,\n",
        "        model_config,\n",
        "        agent_path,\n",
        "        env_name_test='StockTrading_test_env'\n",
        "    ):\n",
        "\n",
        "        env_instance = env(test_env_config)\n",
        "        \n",
        "        register_env(env_name_test, lambda config: env(test_env_config))\n",
        "        model_config['env'] = env_name_test\n",
        "        # ray.init() # Other Ray APIs will not work until `ray.init()` is called.\n",
        "        if model_name == \"ppo\":\n",
        "            trainer = MODELS[model_name].PPOTrainer(config=model_config)\n",
        "        elif model_name == \"a2c\":\n",
        "            trainer = MODELS[model_name].A2CTrainer(config=model_config)\n",
        "        elif model_name == \"ddpg\":\n",
        "            trainer = MODELS[model_name].DDPGTrainer(config=model_config)\n",
        "        elif model_name == \"td3\":\n",
        "            trainer = MODELS[model_name].TD3Trainer(config=model_config)\n",
        "        elif model_name == \"sac\":\n",
        "            trainer = MODELS[model_name].SACTrainer(config=model_config)\n",
        "\n",
        "        try:\n",
        "            trainer.restore(agent_path)\n",
        "            print(\"Restoring from checkpoint path\", agent_path)\n",
        "        except BaseException:\n",
        "            raise ValueError(\"Fail to load agent!\")\n",
        "\n",
        "        # test on the testing env\n",
        "        state = env_instance.reset()\n",
        "        episode_returns = list()  # the cumulative_return / initial_account\n",
        "        episode_total_assets = list()\n",
        "        episode_total_assets.append(env_instance.initial_total_asset)\n",
        "        done = False\n",
        "        while not done:\n",
        "            action = trainer.compute_single_action(state)\n",
        "            state, reward, done, _ = env_instance.step(action)\n",
        "\n",
        "            total_asset = (\n",
        "                env_instance.amount\n",
        "                + (env_instance.price_ary[env_instance.day] * env_instance.stocks).sum()\n",
        "            )\n",
        "            episode_total_assets.append(total_asset)\n",
        "            episode_return = total_asset / env_instance.initial_total_asset\n",
        "            episode_returns.append(episode_return)\n",
        "        ray.shutdown()\n",
        "        print(\"episode return: \" + str(episode_return))\n",
        "        print(\"Test Finished!\")\n",
        "        return episode_total_assets"
      ]
    },
    {
      "cell_type": "code",
      "execution_count": null,
      "metadata": {
        "colab": {
          "base_uri": "https://localhost:8080/"
        },
        "id": "mS_6EclCc-rR",
        "outputId": "029a8c98-3628-4db8-c251-50eff1d8aa4f"
      },
      "outputs": [
        {
          "name": "stderr",
          "output_type": "stream",
          "text": [
            "\u001b[2m\u001b[36m(RolloutWorker pid=54558)\u001b[0m 2022-01-06 08:15:05,638\tWARNING deprecation.py:46 -- DeprecationWarning: `convert_to_non_torch_type` has been deprecated. Use `ray/rllib/utils/numpy.py::convert_to_numpy` instead. This will raise an error in the future!\n",
            "2022-01-06 08:15:05,784\tINFO trainable.py:468 -- Restored on 172.28.0.2 from checkpoint: /content/tuned_models/A2C_2022-01-06_06-46-44/A2C_StockTrading_train_env_c4a4a4e2_7_entropy_coeff=1.9875e-06,framework=torch,lambda=0.5,lr=0.0034153,num_gpus=1,num_workers=1_2022-01-06_07-25-04/checkpoint_000100/checkpoint-100\n",
            "2022-01-06 08:15:05,857\tINFO trainable.py:475 -- Current state after restoring: {'_iteration': 100, '_timesteps_total': 0, '_time_total': 1010.0849390029907, '_episodes_total': 307}\n"
          ]
        },
        {
          "name": "stdout",
          "output_type": "stream",
          "text": [
            "Restoring from checkpoint path /content/tuned_models/A2C_2022-01-06_06-46-44/A2C_StockTrading_train_env_c4a4a4e2_7_entropy_coeff=1.9875e-06,framework=torch,lambda=0.5,lr=0.0034153,num_gpus=1,num_workers=1_2022-01-06_07-25-04/checkpoint_000100/checkpoint-100\n",
            "episode return: 1.0\n",
            "Test Finished!\n"
          ]
        }
      ],
      "source": [
        "episode_total_assets = DRL_prediction(\n",
        "        model_name,\n",
        "        test_env_config,\n",
        "        env,\n",
        "        best_config,\n",
        "        best_checkpoint,\n",
        "        env_name_test='StockTrading_test_env')"
      ]
    },
    {
      "cell_type": "code",
      "execution_count": null,
      "metadata": {
        "id": "uRgs0r2Udbvn"
      },
      "outputs": [],
      "source": [
        "print('The test sharpe ratio is: ',calculate_sharpe(episode_total_assets))\n",
        "df_account_test = pd.DataFrame(data=episode_total_assets,columns=['account_value'])"
      ]
    }
  ],
  "metadata": {
    "accelerator": "GPU",
    "colab": {
      "collapsed_sections": [],
      "include_colab_link": true,
      "name": "FinRL Raytune for Hyperparameter Optimization.ipynb",
      "provenance": []
    },
    "kernelspec": {
      "display_name": "Python 3.8.2 ('FinRl')",
      "language": "python",
      "name": "python3"
    },
    "language_info": {
      "codemirror_mode": {
        "name": "ipython",
        "version": 3
      },
      "file_extension": ".py",
      "mimetype": "text/x-python",
      "name": "python",
      "nbconvert_exporter": "python",
      "pygments_lexer": "ipython3",
      "version": "3.8.2"
    },
    "vscode": {
      "interpreter": {
        "hash": "4a913f0b5b2020ea25813dce4293e7824585e87f8cd8de80d0bb160f8ff78697"
      }
    }
  },
  "nbformat": 4,
  "nbformat_minor": 0
}
