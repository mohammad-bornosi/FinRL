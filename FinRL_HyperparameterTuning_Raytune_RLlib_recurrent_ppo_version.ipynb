{
  "cells": [
    {
      "cell_type": "markdown",
      "metadata": {
        "colab_type": "text",
        "id": "view-in-github"
      },
      "source": [
        "<a href=\"https://colab.research.google.com/github/AI4Finance-Foundation/FinRL/blob/master/FinRL_Raytune_for_Hyperparameter_Optimization_RLlib%20Models.ipynb\" target=\"_parent\"><img src=\"https://colab.research.google.com/assets/colab-badge.svg\" alt=\"Open In Colab\"/></a>"
      ]
    },
    {
      "cell_type": "code",
      "execution_count": null,
      "metadata": {
        "id": "ZMPanjastOY4"
      },
      "outputs": [],
      "source": [
        "#Installing FinRL\n",
        "%%capture\n",
        "#!pip install git+https://github.com/AI4Finance-LLC/FinRL-Library.git"
      ]
    },
    {
      "cell_type": "code",
      "execution_count": null,
      "metadata": {
        "id": "W_0SxBYTtWNB"
      },
      "outputs": [],
      "source": [
        "%%capture\n",
        "#!pip install \"ray[tune]\" optuna"
      ]
    },
    {
      "cell_type": "code",
      "execution_count": null,
      "metadata": {
        "id": "kW4g9mfwMl7K"
      },
      "outputs": [],
      "source": [
        "%%capture\n",
        "#!pip install int_date==0.1.8"
      ]
    },
    {
      "cell_type": "markdown",
      "metadata": {
        "id": "lPh7bRBVL9u3"
      },
      "source": [
        "#Importing libraries"
      ]
    },
    {
      "cell_type": "code",
      "execution_count": 1,
      "metadata": {
        "colab": {
          "base_uri": "https://localhost:8080/"
        },
        "id": "AnFm0-vntYQw",
        "outputId": "a0a02d75-faaf-4ea4-d38a-b1f0fb3d6103"
      },
      "outputs": [
        {
          "name": "stderr",
          "output_type": "stream",
          "text": [
            "/home/mohammad/anaconda3/envs/FinRl/lib/python3.8/site-packages/tqdm/auto.py:22: TqdmWarning: IProgress not found. Please update jupyter and ipywidgets. See https://ipywidgets.readthedocs.io/en/stable/user_install.html\n",
            "  from .autonotebook import tqdm as notebook_tqdm\n",
            "/home/mohammad/anaconda3/envs/FinRl/lib/python3.8/site-packages/pyfolio/pos.py:26: UserWarning: Module \"zipline.assets\" not found; multipliers will not be applied to position notionals.\n",
            "  warnings.warn(\n"
          ]
        }
      ],
      "source": [
        "#Importing the libraries\n",
        "import pandas as pd\n",
        "import numpy as np\n",
        "import matplotlib\n",
        "import matplotlib.pyplot as plt\n",
        "# matplotlib.use('Agg')\n",
        "import datetime\n",
        "import optuna\n",
        "%matplotlib inline\n",
        "from finrl import config\n",
        "from finrl.finrl_meta.preprocessor.yahoodownloader import YahooDownloader\n",
        "from finrl.finrl_meta.preprocessor.preprocessors import FeatureEngineer, data_split\n",
        "from finrl.finrl_meta.env_stock_trading.env_stocktrading_np import StockTradingEnv as StockTradingEnv_numpy \n",
        "from finrl.agents.rllib.models import DRLAgent as DRLAgent_rllib\n",
        "from stable_baselines3.common.vec_env import DummyVecEnv\n",
        "from finrl.finrl_meta.data_processor import DataProcessor\n",
        "from finrl.plot import backtest_stats, backtest_plot, get_daily_return, get_baseline\n",
        "import ray\n",
        "from pprint import pprint\n",
        "from ray.rllib.agents.ppo import PPOTrainer\n",
        "from ray.rllib.agents.ddpg import DDPGTrainer\n",
        "from ray.rllib.agents.a3c import A2CTrainer\n",
        "from ray.rllib.agents.a3c import a2c\n",
        "from ray.rllib.agents.ddpg import ddpg, td3\n",
        "from ray.rllib.agents.ppo import ppo\n",
        "from ray.rllib.agents.sac import sac\n",
        "import sys\n",
        "sys.path.append(\"../FinRL-Library\")\n",
        "import os\n",
        "import itertools\n",
        "from ray import tune\n",
        "from ray.tune.suggest import ConcurrencyLimiter\n",
        "from ray.tune.schedulers import AsyncHyperBandScheduler\n",
        "from ray.tune.suggest.optuna import OptunaSearch\n",
        "\n",
        "from ray.tune.registry import register_env\n",
        "\n",
        "import time\n",
        "import psutil\n",
        "psutil_memory_in_bytes = psutil.virtual_memory().total\n",
        "ray._private.utils.get_system_memory = lambda: psutil_memory_in_bytes\n",
        "from typing import Dict, Optional, Any"
      ]
    },
    {
      "cell_type": "code",
      "execution_count": 2,
      "metadata": {
        "id": "F6DvqEVi3rxv"
      },
      "outputs": [],
      "source": [
        "import os\n",
        "root_path = 'MARKETS'\n",
        "from finrl import config\n",
        "from finrl import config_tickers\n",
        "import os\n",
        "from finrl.main import check_and_make_directories\n",
        "\n",
        "CHOOSEN_MARKET = 'Crypto_market' \n",
        "\n",
        "DATA_SAVE_DIR = os.path.join(root_path, CHOOSEN_MARKET, 'DATASET')\n",
        "TRAINED_MODEL_DIR = os.path.join(root_path, CHOOSEN_MARKET, 'TRAINED_MODEL_DIR')\n",
        "TENSORBOARD_LOG_DIR = os.path.join(root_path, CHOOSEN_MARKET, 'TENSORBOARD_LOG_DIR')\n",
        "RESULTS_DIR = os.path.join(root_path, CHOOSEN_MARKET, 'RESULTS_DIR')\n",
        "TUNED_MODELS_DIR = os.path.join(root_path, CHOOSEN_MARKET, 'TUNED_MODELS')\n",
        "\n",
        "check_and_make_directories([DATA_SAVE_DIR, TRAINED_MODEL_DIR, TENSORBOARD_LOG_DIR, RESULTS_DIR, TUNED_MODELS_DIR])\n",
        "\n",
        "#if not os.path.exists(\"./\" + config.DATA_SAVE_DIR):\n",
        "#    os.makedirs(\"./\" + config.DATA_SAVE_DIR)\n",
        "#if not os.path.exists(\"./\" + config.TRAINED_MODEL_DIR):\n",
        "#    os.makedirs(\"./\" + config.TRAINED_MODEL_DIR)\n",
        "#if not os.path.exists(\"./\" + config.TENSORBOARD_LOG_DIR):\n",
        "#    os.makedirs(\"./\" + config.TENSORBOARD_LOG_DIR)\n",
        "#if not os.path.exists(\"./\" + config.RESULTS_DIR):\n",
        "#    os.makedirs(\"./\" + config.RESULTS_DIR)\n",
        "# if not os.path.exists(\"./\" + \"tuned_models\"):\n",
        "#     os.makedirs(\"./\" + \"tuned_models\")"
      ]
    },
    {
      "cell_type": "markdown",
      "metadata": {
        "id": "rUTc0CApMCQP"
      },
      "source": [
        "##Defining the hyperparameter search space\n",
        "\n",
        "1. You can look up [here](https://docs.ray.io/en/latest/tune/key-concepts.html#search-spaces) to learn how to define hyperparameter search space\n",
        "2. Jump over to this [link](https://github.com/DLR-RM/rl-baselines3-zoo/blob/master/utils/hyperparams_opt.py) to find the range of different hyperparameter\n",
        "3. To learn about different hyperparameters for different algorithms for RLlib models, jump over to this [link](https://docs.ray.io/en/latest/rllib-algorithms.html)"
      ]
    },
    {
      "cell_type": "code",
      "execution_count": 3,
      "metadata": {
        "id": "c5luix7ZydIG"
      },
      "outputs": [],
      "source": [
        "def sample_ddpg_params():\n",
        "  \n",
        "  return {\n",
        "  \"buffer_size\": tune.choice([int(1e4), int(1e5), int(1e6)]),\n",
        "  \"lr\": tune.loguniform(1e-5, 1),\n",
        "  \"train_batch_size\": tune.choice([32, 64, 128, 256, 512])\n",
        "  }\n",
        "def sample_a2c_params():\n",
        "  \n",
        "  return{\n",
        "       \"lambda\": tune.choice([0.1,0.3,0.5,0.7,0.9,1.0]),\n",
        "      \"entropy_coeff\": tune.loguniform(0.00000001, 0.1),\n",
        "      \"lr\": tune.loguniform(1e-5, 1) \n",
        "      \n",
        "  }\n",
        "\n",
        "def sample_ppo_params():\n",
        "  return {\n",
        "      \"entropy_coeff\": tune.loguniform(0.00000001, 0.1),\n",
        "      \"lr\": tune.loguniform(5e-5, 1),\n",
        "      \"sgd_minibatch_size\": tune.choice([ 32, 64, 128, 256, 512]),\n",
        "      \"lambda\": tune.choice([0.1,0.3,0.5,0.7,0.9,1.0])\n",
        "  }\n",
        "  "
      ]
    },
    {
      "cell_type": "code",
      "execution_count": 4,
      "metadata": {
        "id": "Yb3PMaAZ2gUy"
      },
      "outputs": [],
      "source": [
        "MODELS = {\"a2c\": a2c, \"ddpg\": ddpg, \"td3\": td3, \"sac\": sac, \"ppo\": ppo}"
      ]
    },
    {
      "cell_type": "markdown",
      "metadata": {
        "id": "ZWG4u7NsOI98"
      },
      "source": [
        "## Getting the training and testing environment"
      ]
    },
    {
      "cell_type": "code",
      "execution_count": 5,
      "metadata": {},
      "outputs": [],
      "source": [
        "import datetime"
      ]
    },
    {
      "cell_type": "code",
      "execution_count": 6,
      "metadata": {
        "id": "HmEAS3Vmt2d2"
      },
      "outputs": [],
      "source": [
        "def get_train_env(start_date, end_date, ticker_list, data_source, time_interval, \n",
        "          technical_indicator_list, env, model_name, if_vix = True,\n",
        "          **kwargs):\n",
        "    \n",
        "    #fetch data\n",
        "    DP = DataProcessor(data_source, **kwargs)\n",
        "    data = DP.download_data(ticker_list, start_date, end_date, time_interval)\n",
        "    data = DP.clean_data(data)\n",
        "    data = DP.add_technical_indicator(data, technical_indicator_list)\n",
        "    if if_vix:\n",
        "        data = DP.add_vix(data)\n",
        "    price_array, tech_array, turbulence_array = DP.df_to_array(data, if_vix)\n",
        "    train_env_config = {'price_array':price_array,\n",
        "              'tech_array':tech_array,\n",
        "              'turbulence_array':turbulence_array,\n",
        "              'if_train':True}\n",
        "    \n",
        "    return train_env_config"
      ]
    },
    {
      "cell_type": "code",
      "execution_count": 7,
      "metadata": {
        "id": "Sx6O3qevuaDC"
      },
      "outputs": [],
      "source": [
        "#Function to calculate the sharpe ratio from the list of total_episode_reward\n",
        "def calculate_sharpe(episode_reward:list):\n",
        "  perf_data = pd.DataFrame(data=episode_reward,columns=['reward'])\n",
        "  perf_data['daily_return'] = perf_data['reward'].pct_change(1)\n",
        "  if perf_data['daily_return'].std() !=0:\n",
        "    sharpe = (252**0.5)*perf_data['daily_return'].mean()/ \\\n",
        "          perf_data['daily_return'].std()\n",
        "    return sharpe\n",
        "  else:\n",
        "    return 0\n",
        "\n",
        "def get_test_config(start_date, end_date, ticker_list, data_source, time_interval, \n",
        "         technical_indicator_list, env, model_name, if_vix = True,\n",
        "         **kwargs):\n",
        "  \n",
        "  DP = DataProcessor(data_source, **kwargs)\n",
        "  data = DP.download_data(ticker_list, start_date, end_date, time_interval)\n",
        "  data = DP.clean_data(data)\n",
        "  data = DP.add_technical_indicator(data, technical_indicator_list)\n",
        "  \n",
        "  if if_vix:\n",
        "      data = DP.add_vix(data)\n",
        "  \n",
        "  price_array, tech_array, turbulence_array = DP.df_to_array(data, if_vix)\n",
        "  test_env_config = {'price_array':price_array,\n",
        "            'tech_array':tech_array,\n",
        "            'turbulence_array':turbulence_array,'if_train':False}\n",
        "  return test_env_config\n",
        "\n",
        "def val_or_test(test_env_config,agent_path,model_name,env):\n",
        "  episode_total_reward = DRL_prediction(model_name,test_env_config,\n",
        "                                env = env,\n",
        "                                agent_path=agent_path)\n",
        "\n",
        "\n",
        "  return calculate_sharpe(episode_total_reward),episode_total_reward"
      ]
    },
    {
      "cell_type": "code",
      "execution_count": 8,
      "metadata": {
        "id": "HM12Fz7IrN4P"
      },
      "outputs": [],
      "source": [
        "TRAIN_START_DATE = '2019-10-21'\n",
        "TRAIN_END_DATE = '2020-10-21'\n",
        "\n",
        "VAL_START_DATE = '2020-10-22'\n",
        "VAL_END_DATE = '2021-04-24'\n",
        "\n",
        "TEST_START_DATE = '2021-04-25'\n",
        "TEST_END_DATE = '2021-09-24'"
      ]
    },
    {
      "cell_type": "code",
      "execution_count": 9,
      "metadata": {},
      "outputs": [],
      "source": [
        "from finrl.finrl_meta.preprocessor.CryptoDataReader import CryptoDataLoader\n",
        "\n",
        "api_key='cbj22uqad3i2thcmtg80'\n",
        "choosen_symbols = ['BTC', 'ETH', 'USDT', 'USDC', 'BNB', 'XRP', 'ADA', 'BUSD', 'SOL', 'DOT']\n",
        "\n",
        "data_loader = CryptoDataLoader(symbols_list= choosen_symbols, api_key=api_key)\n",
        "\n",
        "#crypto_df = data_loader.load_crypto_candles()\n",
        "\n",
        "#crypto_symbols_df = data_loader.cleansing_holcv_dataframes(crypto_df)\n",
        "\n",
        "#dates = []\n",
        "#import datetime\n",
        "#for unixdate in crypto_symbols_df['date']:\n",
        "#    utcdate = datetime.datetime.fromtimestamp(unixdate).strftime('%Y-%m-%d')\n",
        "#    dates.append(utcdate)\n",
        "#crypto_symbols_df['date'] = dates\n",
        "\n",
        "#data = crypto_symbols_df.copy()\n",
        "#data  = data_loader.crypto_clean_data(data)"
      ]
    },
    {
      "cell_type": "code",
      "execution_count": 14,
      "metadata": {},
      "outputs": [
        {
          "data": {
            "text/plain": [
              "[{'description': 'Binance ADA/BTC',\n",
              "  'displaySymbol': 'ADA/BTC',\n",
              "  'symbol': 'BINANCE:ADABTC'},\n",
              " {'description': 'Binance BNB/USDT',\n",
              "  'displaySymbol': 'BNB/USDT',\n",
              "  'symbol': 'BINANCE:BNBUSDT'},\n",
              " {'description': 'Binance SOL/BNB',\n",
              "  'displaySymbol': 'SOL/BNB',\n",
              "  'symbol': 'BINANCE:SOLBNB'},\n",
              " {'description': 'Binance BNB/BTC',\n",
              "  'displaySymbol': 'BNB/BTC',\n",
              "  'symbol': 'BINANCE:BNBBTC'},\n",
              " {'description': 'Binance BTC/USDT',\n",
              "  'displaySymbol': 'BTC/USDT',\n",
              "  'symbol': 'BINANCE:BTCUSDT'},\n",
              " {'description': 'Binance DOT/BTC',\n",
              "  'displaySymbol': 'DOT/BTC',\n",
              "  'symbol': 'BINANCE:DOTBTC'},\n",
              " {'description': 'Binance BNB/BUSD',\n",
              "  'displaySymbol': 'BNB/BUSD',\n",
              "  'symbol': 'BINANCE:BNBBUSD'},\n",
              " {'description': 'Binance ADA/ETH',\n",
              "  'displaySymbol': 'ADA/ETH',\n",
              "  'symbol': 'BINANCE:ADAETH'},\n",
              " {'description': 'Binance XRP/BTC',\n",
              "  'displaySymbol': 'XRP/BTC',\n",
              "  'symbol': 'BINANCE:XRPBTC'},\n",
              " {'description': 'Binance ADA/USDT',\n",
              "  'displaySymbol': 'ADA/USDT',\n",
              "  'symbol': 'BINANCE:ADAUSDT'},\n",
              " {'description': 'Binance ETH/BUSD',\n",
              "  'displaySymbol': 'ETH/BUSD',\n",
              "  'symbol': 'BINANCE:ETHBUSD'},\n",
              " {'description': 'Binance XRP/ETH',\n",
              "  'displaySymbol': 'XRP/ETH',\n",
              "  'symbol': 'BINANCE:XRPETH'},\n",
              " {'description': 'Binance SOL/BTC',\n",
              "  'displaySymbol': 'SOL/BTC',\n",
              "  'symbol': 'BINANCE:SOLBTC'},\n",
              " {'description': 'Binance BUSD/USDT',\n",
              "  'displaySymbol': 'BUSD/USDT',\n",
              "  'symbol': 'BINANCE:BUSDUSDT'},\n",
              " {'description': 'Binance XRP/USDT',\n",
              "  'displaySymbol': 'XRP/USDT',\n",
              "  'symbol': 'BINANCE:XRPUSDT'},\n",
              " {'description': 'Binance BTC/USDC',\n",
              "  'displaySymbol': 'BTC/USDC',\n",
              "  'symbol': 'BINANCE:BTCUSDC'},\n",
              " {'description': 'Binance ETH/USDC',\n",
              "  'displaySymbol': 'ETH/USDC',\n",
              "  'symbol': 'BINANCE:ETHUSDC'},\n",
              " {'description': 'Binance ADA/BUSD',\n",
              "  'displaySymbol': 'ADA/BUSD',\n",
              "  'symbol': 'BINANCE:ADABUSD'},\n",
              " {'description': 'Binance SOL/BUSD',\n",
              "  'displaySymbol': 'SOL/BUSD',\n",
              "  'symbol': 'BINANCE:SOLBUSD'},\n",
              " {'description': 'Binance USDC/BNB',\n",
              "  'displaySymbol': 'USDC/BNB',\n",
              "  'symbol': 'BINANCE:USDCBNB'},\n",
              " {'description': 'Binance ADA/USDC',\n",
              "  'displaySymbol': 'ADA/USDC',\n",
              "  'symbol': 'BINANCE:ADAUSDC'},\n",
              " {'description': 'Binance BNB/ETH',\n",
              "  'displaySymbol': 'BNB/ETH',\n",
              "  'symbol': 'BINANCE:BNBETH'},\n",
              " {'description': 'Binance USDC/USDT',\n",
              "  'displaySymbol': 'USDC/USDT',\n",
              "  'symbol': 'BINANCE:USDCUSDT'},\n",
              " {'description': 'Binance XRP/BNB',\n",
              "  'displaySymbol': 'XRP/BNB',\n",
              "  'symbol': 'BINANCE:XRPBNB'},\n",
              " {'description': 'Binance DOT/BNB',\n",
              "  'displaySymbol': 'DOT/BNB',\n",
              "  'symbol': 'BINANCE:DOTBNB'},\n",
              " {'description': 'Binance BTC/BUSD',\n",
              "  'displaySymbol': 'BTC/BUSD',\n",
              "  'symbol': 'BINANCE:BTCBUSD'},\n",
              " {'description': 'Binance DOT/USDT',\n",
              "  'displaySymbol': 'DOT/USDT',\n",
              "  'symbol': 'BINANCE:DOTUSDT'},\n",
              " {'description': 'Binance USDC/BUSD',\n",
              "  'displaySymbol': 'USDC/BUSD',\n",
              "  'symbol': 'BINANCE:USDCBUSD'},\n",
              " {'description': 'Binance SOL/USDT',\n",
              "  'displaySymbol': 'SOL/USDT',\n",
              "  'symbol': 'BINANCE:SOLUSDT'},\n",
              " {'description': 'Binance ETH/BTC',\n",
              "  'displaySymbol': 'ETH/BTC',\n",
              "  'symbol': 'BINANCE:ETHBTC'},\n",
              " {'description': 'Binance DOT/ETH',\n",
              "  'displaySymbol': 'DOT/ETH',\n",
              "  'symbol': 'BINANCE:DOTETH'},\n",
              " {'description': 'Binance DOT/BUSD',\n",
              "  'displaySymbol': 'DOT/BUSD',\n",
              "  'symbol': 'BINANCE:DOTBUSD'},\n",
              " {'description': 'Binance BNB/USDC',\n",
              "  'displaySymbol': 'BNB/USDC',\n",
              "  'symbol': 'BINANCE:BNBUSDC'},\n",
              " {'description': 'Binance XRP/BUSD',\n",
              "  'displaySymbol': 'XRP/BUSD',\n",
              "  'symbol': 'BINANCE:XRPBUSD'},\n",
              " {'description': 'Binance SOL/ETH',\n",
              "  'displaySymbol': 'SOL/ETH',\n",
              "  'symbol': 'BINANCE:SOLETH'},\n",
              " {'description': 'Binance SOL/USDC',\n",
              "  'displaySymbol': 'SOL/USDC',\n",
              "  'symbol': 'BINANCE:SOLUSDC'},\n",
              " {'description': 'Binance ADA/BNB',\n",
              "  'displaySymbol': 'ADA/BNB',\n",
              "  'symbol': 'BINANCE:ADABNB'},\n",
              " {'description': 'Binance ETH/USDT',\n",
              "  'displaySymbol': 'ETH/USDT',\n",
              "  'symbol': 'BINANCE:ETHUSDT'},\n",
              " {'description': 'Binance XRP/USDC',\n",
              "  'displaySymbol': 'XRP/USDC',\n",
              "  'symbol': 'BINANCE:XRPUSDC'}]"
            ]
          },
          "execution_count": 14,
          "metadata": {},
          "output_type": "execute_result"
        }
      ],
      "source": [
        "data_loader.load_choosed_symbols()"
      ]
    },
    {
      "cell_type": "code",
      "execution_count": 15,
      "metadata": {},
      "outputs": [],
      "source": [
        "ticker_info = data_loader.load_choosed_symbols()\n",
        "ticker_list = []\n",
        "for symbol in ticker_info :\n",
        "    ticker_list.append(symbol['displaySymbol'])"
      ]
    },
    {
      "cell_type": "code",
      "execution_count": 16,
      "metadata": {},
      "outputs": [
        {
          "data": {
            "text/plain": [
              "['SOL/ETH',\n",
              " 'SOL/USDC',\n",
              " 'ADA/BNB',\n",
              " 'ETH/USDT',\n",
              " 'XRP/USDC',\n",
              " 'ADA/BTC',\n",
              " 'BNB/USDT',\n",
              " 'SOL/BNB',\n",
              " 'BNB/BTC',\n",
              " 'BTC/USDT',\n",
              " 'DOT/BTC',\n",
              " 'BNB/BUSD',\n",
              " 'ADA/ETH',\n",
              " 'XRP/BTC',\n",
              " 'ADA/USDT',\n",
              " 'ETH/BUSD',\n",
              " 'XRP/ETH',\n",
              " 'SOL/BTC',\n",
              " 'BUSD/USDT',\n",
              " 'XRP/USDT',\n",
              " 'BTC/USDC',\n",
              " 'ETH/USDC',\n",
              " 'ADA/BUSD',\n",
              " 'SOL/BUSD',\n",
              " 'USDC/BNB',\n",
              " 'ADA/USDC',\n",
              " 'BNB/ETH',\n",
              " 'USDC/USDT',\n",
              " 'XRP/BNB',\n",
              " 'DOT/BNB',\n",
              " 'BTC/BUSD',\n",
              " 'DOT/USDT',\n",
              " 'USDC/BUSD',\n",
              " 'SOL/USDT',\n",
              " 'ETH/BTC',\n",
              " 'DOT/ETH',\n",
              " 'DOT/BUSD',\n",
              " 'BNB/USDC',\n",
              " 'XRP/BUSD']"
            ]
          },
          "execution_count": 16,
          "metadata": {},
          "output_type": "execute_result"
        }
      ],
      "source": [
        "ticker_list"
      ]
    },
    {
      "cell_type": "code",
      "execution_count": 11,
      "metadata": {
        "id": "tjrZFwhLsHHH"
      },
      "outputs": [],
      "source": [
        "technical_indicator_list =config.INDICATORS\n",
        "\n",
        "model_name = 'a2c'\n",
        "env = StockTradingEnv_numpy\n",
        "#ticker_list = ['TSLA']\n",
        "data_source = 'wrds'\n",
        "time_interval = '1D'"
      ]
    },
    {
      "cell_type": "code",
      "execution_count": 12,
      "metadata": {},
      "outputs": [
        {
          "data": {
            "text/plain": [
              "['macd',\n",
              " 'boll_ub',\n",
              " 'boll_lb',\n",
              " 'rsi_30',\n",
              " 'cci_30',\n",
              " 'dx_30',\n",
              " 'close_30_sma',\n",
              " 'close_60_sma']"
            ]
          },
          "execution_count": 12,
          "metadata": {},
          "output_type": "execute_result"
        }
      ],
      "source": [
        "technical_indicator_list"
      ]
    },
    {
      "cell_type": "code",
      "execution_count": 17,
      "metadata": {
        "colab": {
          "base_uri": "https://localhost:8080/"
        },
        "id": "ZwzmewVuyp6m",
        "outputId": "80f8ebb3-fbac-46ac-887b-ac37a9bdf6cd"
      },
      "outputs": [
        {
          "name": "stdout",
          "output_type": "stream",
          "text": [
            "There was an error with your password.\n"
          ]
        },
        {
          "ename": "OperationalError",
          "evalue": "(psycopg2.OperationalError) connection to server at \"wrds-pgdata.wharton.upenn.edu\" (165.123.60.118), port 9737 failed: fe_sendauth: no password supplied\n\n(Background on this error at: https://sqlalche.me/e/14/e3q8)",
          "output_type": "error",
          "traceback": [
            "\u001b[0;31m---------------------------------------------------------------------------\u001b[0m",
            "\u001b[0;31mOperationalError\u001b[0m                          Traceback (most recent call last)",
            "File \u001b[0;32m~/anaconda3/envs/FinRl/lib/python3.8/site-packages/sqlalchemy/engine/base.py:3280\u001b[0m, in \u001b[0;36mEngine._wrap_pool_connect\u001b[0;34m(self, fn, connection)\u001b[0m\n\u001b[1;32m   3279\u001b[0m \u001b[39mtry\u001b[39;00m:\n\u001b[0;32m-> 3280\u001b[0m     \u001b[39mreturn\u001b[39;00m fn()\n\u001b[1;32m   3281\u001b[0m \u001b[39mexcept\u001b[39;00m dialect\u001b[39m.\u001b[39mdbapi\u001b[39m.\u001b[39mError \u001b[39mas\u001b[39;00m e:\n",
            "File \u001b[0;32m~/anaconda3/envs/FinRl/lib/python3.8/site-packages/sqlalchemy/pool/base.py:310\u001b[0m, in \u001b[0;36mPool.connect\u001b[0;34m(self)\u001b[0m\n\u001b[1;32m    303\u001b[0m \u001b[39m\"\"\"Return a DBAPI connection from the pool.\u001b[39;00m\n\u001b[1;32m    304\u001b[0m \n\u001b[1;32m    305\u001b[0m \u001b[39mThe connection is instrumented such that when its\u001b[39;00m\n\u001b[0;32m   (...)\u001b[0m\n\u001b[1;32m    308\u001b[0m \n\u001b[1;32m    309\u001b[0m \u001b[39m\"\"\"\u001b[39;00m\n\u001b[0;32m--> 310\u001b[0m \u001b[39mreturn\u001b[39;00m _ConnectionFairy\u001b[39m.\u001b[39;49m_checkout(\u001b[39mself\u001b[39;49m)\n",
            "File \u001b[0;32m~/anaconda3/envs/FinRl/lib/python3.8/site-packages/sqlalchemy/pool/base.py:868\u001b[0m, in \u001b[0;36m_ConnectionFairy._checkout\u001b[0;34m(cls, pool, threadconns, fairy)\u001b[0m\n\u001b[1;32m    867\u001b[0m \u001b[39mif\u001b[39;00m \u001b[39mnot\u001b[39;00m fairy:\n\u001b[0;32m--> 868\u001b[0m     fairy \u001b[39m=\u001b[39m _ConnectionRecord\u001b[39m.\u001b[39;49mcheckout(pool)\n\u001b[1;32m    870\u001b[0m     fairy\u001b[39m.\u001b[39m_pool \u001b[39m=\u001b[39m pool\n",
            "File \u001b[0;32m~/anaconda3/envs/FinRl/lib/python3.8/site-packages/sqlalchemy/pool/base.py:476\u001b[0m, in \u001b[0;36m_ConnectionRecord.checkout\u001b[0;34m(cls, pool)\u001b[0m\n\u001b[1;32m    474\u001b[0m \u001b[39m@classmethod\u001b[39m\n\u001b[1;32m    475\u001b[0m \u001b[39mdef\u001b[39;00m \u001b[39mcheckout\u001b[39m(\u001b[39mcls\u001b[39m, pool):\n\u001b[0;32m--> 476\u001b[0m     rec \u001b[39m=\u001b[39m pool\u001b[39m.\u001b[39;49m_do_get()\n\u001b[1;32m    477\u001b[0m     \u001b[39mtry\u001b[39;00m:\n",
            "File \u001b[0;32m~/anaconda3/envs/FinRl/lib/python3.8/site-packages/sqlalchemy/pool/impl.py:146\u001b[0m, in \u001b[0;36mQueuePool._do_get\u001b[0;34m(self)\u001b[0m\n\u001b[1;32m    145\u001b[0m         \u001b[39mwith\u001b[39;00m util\u001b[39m.\u001b[39msafe_reraise():\n\u001b[0;32m--> 146\u001b[0m             \u001b[39mself\u001b[39m\u001b[39m.\u001b[39m_dec_overflow()\n\u001b[1;32m    147\u001b[0m \u001b[39melse\u001b[39;00m:\n",
            "File \u001b[0;32m~/anaconda3/envs/FinRl/lib/python3.8/site-packages/sqlalchemy/util/langhelpers.py:70\u001b[0m, in \u001b[0;36msafe_reraise.__exit__\u001b[0;34m(self, type_, value, traceback)\u001b[0m\n\u001b[1;32m     69\u001b[0m     \u001b[39mif\u001b[39;00m \u001b[39mnot\u001b[39;00m \u001b[39mself\u001b[39m\u001b[39m.\u001b[39mwarn_only:\n\u001b[0;32m---> 70\u001b[0m         compat\u001b[39m.\u001b[39;49mraise_(\n\u001b[1;32m     71\u001b[0m             exc_value,\n\u001b[1;32m     72\u001b[0m             with_traceback\u001b[39m=\u001b[39;49mexc_tb,\n\u001b[1;32m     73\u001b[0m         )\n\u001b[1;32m     74\u001b[0m \u001b[39melse\u001b[39;00m:\n",
            "File \u001b[0;32m~/anaconda3/envs/FinRl/lib/python3.8/site-packages/sqlalchemy/util/compat.py:208\u001b[0m, in \u001b[0;36mraise_\u001b[0;34m(***failed resolving arguments***)\u001b[0m\n\u001b[1;32m    207\u001b[0m \u001b[39mtry\u001b[39;00m:\n\u001b[0;32m--> 208\u001b[0m     \u001b[39mraise\u001b[39;00m exception\n\u001b[1;32m    209\u001b[0m \u001b[39mfinally\u001b[39;00m:\n\u001b[1;32m    210\u001b[0m     \u001b[39m# credit to\u001b[39;00m\n\u001b[1;32m    211\u001b[0m     \u001b[39m# https://cosmicpercolator.com/2016/01/13/exception-leaks-in-python-2-and-3/\u001b[39;00m\n\u001b[1;32m    212\u001b[0m     \u001b[39m# as the __traceback__ object creates a cycle\u001b[39;00m\n",
            "File \u001b[0;32m~/anaconda3/envs/FinRl/lib/python3.8/site-packages/sqlalchemy/pool/impl.py:143\u001b[0m, in \u001b[0;36mQueuePool._do_get\u001b[0;34m(self)\u001b[0m\n\u001b[1;32m    142\u001b[0m \u001b[39mtry\u001b[39;00m:\n\u001b[0;32m--> 143\u001b[0m     \u001b[39mreturn\u001b[39;00m \u001b[39mself\u001b[39;49m\u001b[39m.\u001b[39;49m_create_connection()\n\u001b[1;32m    144\u001b[0m \u001b[39mexcept\u001b[39;00m:\n",
            "File \u001b[0;32m~/anaconda3/envs/FinRl/lib/python3.8/site-packages/sqlalchemy/pool/base.py:256\u001b[0m, in \u001b[0;36mPool._create_connection\u001b[0;34m(self)\u001b[0m\n\u001b[1;32m    254\u001b[0m \u001b[39m\"\"\"Called by subclasses to create a new ConnectionRecord.\"\"\"\u001b[39;00m\n\u001b[0;32m--> 256\u001b[0m \u001b[39mreturn\u001b[39;00m _ConnectionRecord(\u001b[39mself\u001b[39;49m)\n",
            "File \u001b[0;32m~/anaconda3/envs/FinRl/lib/python3.8/site-packages/sqlalchemy/pool/base.py:371\u001b[0m, in \u001b[0;36m_ConnectionRecord.__init__\u001b[0;34m(self, pool, connect)\u001b[0m\n\u001b[1;32m    370\u001b[0m \u001b[39mif\u001b[39;00m connect:\n\u001b[0;32m--> 371\u001b[0m     \u001b[39mself\u001b[39;49m\u001b[39m.\u001b[39;49m__connect()\n\u001b[1;32m    372\u001b[0m \u001b[39mself\u001b[39m\u001b[39m.\u001b[39mfinalize_callback \u001b[39m=\u001b[39m deque()\n",
            "File \u001b[0;32m~/anaconda3/envs/FinRl/lib/python3.8/site-packages/sqlalchemy/pool/base.py:666\u001b[0m, in \u001b[0;36m_ConnectionRecord.__connect\u001b[0;34m(self)\u001b[0m\n\u001b[1;32m    665\u001b[0m     \u001b[39mwith\u001b[39;00m util\u001b[39m.\u001b[39msafe_reraise():\n\u001b[0;32m--> 666\u001b[0m         pool\u001b[39m.\u001b[39mlogger\u001b[39m.\u001b[39mdebug(\u001b[39m\"\u001b[39m\u001b[39mError on connect(): \u001b[39m\u001b[39m%s\u001b[39;00m\u001b[39m\"\u001b[39m, e)\n\u001b[1;32m    667\u001b[0m \u001b[39melse\u001b[39;00m:\n\u001b[1;32m    668\u001b[0m     \u001b[39m# in SQLAlchemy 1.4 the first_connect event is not used by\u001b[39;00m\n\u001b[1;32m    669\u001b[0m     \u001b[39m# the engine, so this will usually not be set\u001b[39;00m\n",
            "File \u001b[0;32m~/anaconda3/envs/FinRl/lib/python3.8/site-packages/sqlalchemy/util/langhelpers.py:70\u001b[0m, in \u001b[0;36msafe_reraise.__exit__\u001b[0;34m(self, type_, value, traceback)\u001b[0m\n\u001b[1;32m     69\u001b[0m     \u001b[39mif\u001b[39;00m \u001b[39mnot\u001b[39;00m \u001b[39mself\u001b[39m\u001b[39m.\u001b[39mwarn_only:\n\u001b[0;32m---> 70\u001b[0m         compat\u001b[39m.\u001b[39;49mraise_(\n\u001b[1;32m     71\u001b[0m             exc_value,\n\u001b[1;32m     72\u001b[0m             with_traceback\u001b[39m=\u001b[39;49mexc_tb,\n\u001b[1;32m     73\u001b[0m         )\n\u001b[1;32m     74\u001b[0m \u001b[39melse\u001b[39;00m:\n",
            "File \u001b[0;32m~/anaconda3/envs/FinRl/lib/python3.8/site-packages/sqlalchemy/util/compat.py:208\u001b[0m, in \u001b[0;36mraise_\u001b[0;34m(***failed resolving arguments***)\u001b[0m\n\u001b[1;32m    207\u001b[0m \u001b[39mtry\u001b[39;00m:\n\u001b[0;32m--> 208\u001b[0m     \u001b[39mraise\u001b[39;00m exception\n\u001b[1;32m    209\u001b[0m \u001b[39mfinally\u001b[39;00m:\n\u001b[1;32m    210\u001b[0m     \u001b[39m# credit to\u001b[39;00m\n\u001b[1;32m    211\u001b[0m     \u001b[39m# https://cosmicpercolator.com/2016/01/13/exception-leaks-in-python-2-and-3/\u001b[39;00m\n\u001b[1;32m    212\u001b[0m     \u001b[39m# as the __traceback__ object creates a cycle\u001b[39;00m\n",
            "File \u001b[0;32m~/anaconda3/envs/FinRl/lib/python3.8/site-packages/sqlalchemy/pool/base.py:661\u001b[0m, in \u001b[0;36m_ConnectionRecord.__connect\u001b[0;34m(self)\u001b[0m\n\u001b[1;32m    660\u001b[0m \u001b[39mself\u001b[39m\u001b[39m.\u001b[39mstarttime \u001b[39m=\u001b[39m time\u001b[39m.\u001b[39mtime()\n\u001b[0;32m--> 661\u001b[0m \u001b[39mself\u001b[39m\u001b[39m.\u001b[39mdbapi_connection \u001b[39m=\u001b[39m connection \u001b[39m=\u001b[39m pool\u001b[39m.\u001b[39;49m_invoke_creator(\u001b[39mself\u001b[39;49m)\n\u001b[1;32m    662\u001b[0m pool\u001b[39m.\u001b[39mlogger\u001b[39m.\u001b[39mdebug(\u001b[39m\"\u001b[39m\u001b[39mCreated new connection \u001b[39m\u001b[39m%r\u001b[39;00m\u001b[39m\"\u001b[39m, connection)\n",
            "File \u001b[0;32m~/anaconda3/envs/FinRl/lib/python3.8/site-packages/sqlalchemy/engine/create.py:590\u001b[0m, in \u001b[0;36mcreate_engine.<locals>.connect\u001b[0;34m(connection_record)\u001b[0m\n\u001b[1;32m    589\u001b[0m             \u001b[39mreturn\u001b[39;00m connection\n\u001b[0;32m--> 590\u001b[0m \u001b[39mreturn\u001b[39;00m dialect\u001b[39m.\u001b[39;49mconnect(\u001b[39m*\u001b[39;49mcargs, \u001b[39m*\u001b[39;49m\u001b[39m*\u001b[39;49mcparams)\n",
            "File \u001b[0;32m~/anaconda3/envs/FinRl/lib/python3.8/site-packages/sqlalchemy/engine/default.py:597\u001b[0m, in \u001b[0;36mDefaultDialect.connect\u001b[0;34m(self, *cargs, **cparams)\u001b[0m\n\u001b[1;32m    595\u001b[0m \u001b[39mdef\u001b[39;00m \u001b[39mconnect\u001b[39m(\u001b[39mself\u001b[39m, \u001b[39m*\u001b[39mcargs, \u001b[39m*\u001b[39m\u001b[39m*\u001b[39mcparams):\n\u001b[1;32m    596\u001b[0m     \u001b[39m# inherits the docstring from interfaces.Dialect.connect\u001b[39;00m\n\u001b[0;32m--> 597\u001b[0m     \u001b[39mreturn\u001b[39;00m \u001b[39mself\u001b[39;49m\u001b[39m.\u001b[39;49mdbapi\u001b[39m.\u001b[39;49mconnect(\u001b[39m*\u001b[39;49mcargs, \u001b[39m*\u001b[39;49m\u001b[39m*\u001b[39;49mcparams)\n",
            "File \u001b[0;32m~/anaconda3/envs/FinRl/lib/python3.8/site-packages/psycopg2/__init__.py:122\u001b[0m, in \u001b[0;36mconnect\u001b[0;34m(dsn, connection_factory, cursor_factory, **kwargs)\u001b[0m\n\u001b[1;32m    121\u001b[0m dsn \u001b[39m=\u001b[39m _ext\u001b[39m.\u001b[39mmake_dsn(dsn, \u001b[39m*\u001b[39m\u001b[39m*\u001b[39mkwargs)\n\u001b[0;32m--> 122\u001b[0m conn \u001b[39m=\u001b[39m _connect(dsn, connection_factory\u001b[39m=\u001b[39;49mconnection_factory, \u001b[39m*\u001b[39;49m\u001b[39m*\u001b[39;49mkwasync)\n\u001b[1;32m    123\u001b[0m \u001b[39mif\u001b[39;00m cursor_factory \u001b[39mis\u001b[39;00m \u001b[39mnot\u001b[39;00m \u001b[39mNone\u001b[39;00m:\n",
            "\u001b[0;31mOperationalError\u001b[0m: connection to server at \"wrds-pgdata.wharton.upenn.edu\" (165.123.60.118), port 9737 failed: fe_sendauth: no password supplied\n",
            "\nThe above exception was the direct cause of the following exception:\n",
            "\u001b[0;31mOperationalError\u001b[0m                          Traceback (most recent call last)",
            "File \u001b[0;32m~/anaconda3/envs/FinRl/lib/python3.8/site-packages/wrds/sql.py:106\u001b[0m, in \u001b[0;36mConnection.connect\u001b[0;34m(self)\u001b[0m\n\u001b[1;32m    105\u001b[0m \u001b[39mtry\u001b[39;00m:\n\u001b[0;32m--> 106\u001b[0m     \u001b[39mself\u001b[39m\u001b[39m.\u001b[39mconnection \u001b[39m=\u001b[39m \u001b[39mself\u001b[39;49m\u001b[39m.\u001b[39;49mengine\u001b[39m.\u001b[39;49mconnect()\n\u001b[1;32m    107\u001b[0m \u001b[39mexcept\u001b[39;00m \u001b[39mException\u001b[39;00m \u001b[39mas\u001b[39;00m e:\n\u001b[1;32m    108\u001b[0m     \u001b[39m# These things should probably not be exported all over creation\u001b[39;00m\n",
            "File \u001b[0;32m~/anaconda3/envs/FinRl/lib/python3.8/site-packages/sqlalchemy/engine/base.py:3234\u001b[0m, in \u001b[0;36mEngine.connect\u001b[0;34m(self, close_with_result)\u001b[0m\n\u001b[1;32m   3220\u001b[0m \u001b[39m\"\"\"Return a new :class:`_engine.Connection` object.\u001b[39;00m\n\u001b[1;32m   3221\u001b[0m \n\u001b[1;32m   3222\u001b[0m \u001b[39mThe :class:`_engine.Connection` object is a facade that uses a DBAPI\u001b[39;00m\n\u001b[0;32m   (...)\u001b[0m\n\u001b[1;32m   3231\u001b[0m \n\u001b[1;32m   3232\u001b[0m \u001b[39m\"\"\"\u001b[39;00m\n\u001b[0;32m-> 3234\u001b[0m \u001b[39mreturn\u001b[39;00m \u001b[39mself\u001b[39;49m\u001b[39m.\u001b[39;49m_connection_cls(\u001b[39mself\u001b[39;49m, close_with_result\u001b[39m=\u001b[39;49mclose_with_result)\n",
            "File \u001b[0;32m~/anaconda3/envs/FinRl/lib/python3.8/site-packages/sqlalchemy/engine/base.py:96\u001b[0m, in \u001b[0;36mConnection.__init__\u001b[0;34m(self, engine, connection, close_with_result, _branch_from, _execution_options, _dispatch, _has_events, _allow_revalidate)\u001b[0m\n\u001b[1;32m     92\u001b[0m \u001b[39melse\u001b[39;00m:\n\u001b[1;32m     93\u001b[0m     \u001b[39mself\u001b[39m\u001b[39m.\u001b[39m_dbapi_connection \u001b[39m=\u001b[39m (\n\u001b[1;32m     94\u001b[0m         connection\n\u001b[1;32m     95\u001b[0m         \u001b[39mif\u001b[39;00m connection \u001b[39mis\u001b[39;00m \u001b[39mnot\u001b[39;00m \u001b[39mNone\u001b[39;00m\n\u001b[0;32m---> 96\u001b[0m         \u001b[39melse\u001b[39;00m engine\u001b[39m.\u001b[39;49mraw_connection()\n\u001b[1;32m     97\u001b[0m     )\n\u001b[1;32m     99\u001b[0m     \u001b[39mself\u001b[39m\u001b[39m.\u001b[39m_transaction \u001b[39m=\u001b[39m \u001b[39mself\u001b[39m\u001b[39m.\u001b[39m_nested_transaction \u001b[39m=\u001b[39m \u001b[39mNone\u001b[39;00m\n",
            "File \u001b[0;32m~/anaconda3/envs/FinRl/lib/python3.8/site-packages/sqlalchemy/engine/base.py:3313\u001b[0m, in \u001b[0;36mEngine.raw_connection\u001b[0;34m(self, _connection)\u001b[0m\n\u001b[1;32m   3292\u001b[0m \u001b[39m\"\"\"Return a \"raw\" DBAPI connection from the connection pool.\u001b[39;00m\n\u001b[1;32m   3293\u001b[0m \n\u001b[1;32m   3294\u001b[0m \u001b[39mThe returned object is a proxied version of the DBAPI\u001b[39;00m\n\u001b[0;32m   (...)\u001b[0m\n\u001b[1;32m   3311\u001b[0m \n\u001b[1;32m   3312\u001b[0m \u001b[39m\"\"\"\u001b[39;00m\n\u001b[0;32m-> 3313\u001b[0m \u001b[39mreturn\u001b[39;00m \u001b[39mself\u001b[39;49m\u001b[39m.\u001b[39;49m_wrap_pool_connect(\u001b[39mself\u001b[39;49m\u001b[39m.\u001b[39;49mpool\u001b[39m.\u001b[39;49mconnect, _connection)\n",
            "File \u001b[0;32m~/anaconda3/envs/FinRl/lib/python3.8/site-packages/sqlalchemy/engine/base.py:3283\u001b[0m, in \u001b[0;36mEngine._wrap_pool_connect\u001b[0;34m(self, fn, connection)\u001b[0m\n\u001b[1;32m   3282\u001b[0m \u001b[39mif\u001b[39;00m connection \u001b[39mis\u001b[39;00m \u001b[39mNone\u001b[39;00m:\n\u001b[0;32m-> 3283\u001b[0m     Connection\u001b[39m.\u001b[39;49m_handle_dbapi_exception_noconnection(\n\u001b[1;32m   3284\u001b[0m         e, dialect, \u001b[39mself\u001b[39;49m\n\u001b[1;32m   3285\u001b[0m     )\n\u001b[1;32m   3286\u001b[0m \u001b[39melse\u001b[39;00m:\n",
            "File \u001b[0;32m~/anaconda3/envs/FinRl/lib/python3.8/site-packages/sqlalchemy/engine/base.py:2117\u001b[0m, in \u001b[0;36mConnection._handle_dbapi_exception_noconnection\u001b[0;34m(cls, e, dialect, engine)\u001b[0m\n\u001b[1;32m   2116\u001b[0m \u001b[39melif\u001b[39;00m should_wrap:\n\u001b[0;32m-> 2117\u001b[0m     util\u001b[39m.\u001b[39;49mraise_(\n\u001b[1;32m   2118\u001b[0m         sqlalchemy_exception, with_traceback\u001b[39m=\u001b[39;49mexc_info[\u001b[39m2\u001b[39;49m], from_\u001b[39m=\u001b[39;49me\n\u001b[1;32m   2119\u001b[0m     )\n\u001b[1;32m   2120\u001b[0m \u001b[39melse\u001b[39;00m:\n",
            "File \u001b[0;32m~/anaconda3/envs/FinRl/lib/python3.8/site-packages/sqlalchemy/util/compat.py:208\u001b[0m, in \u001b[0;36mraise_\u001b[0;34m(***failed resolving arguments***)\u001b[0m\n\u001b[1;32m    207\u001b[0m \u001b[39mtry\u001b[39;00m:\n\u001b[0;32m--> 208\u001b[0m     \u001b[39mraise\u001b[39;00m exception\n\u001b[1;32m    209\u001b[0m \u001b[39mfinally\u001b[39;00m:\n\u001b[1;32m    210\u001b[0m     \u001b[39m# credit to\u001b[39;00m\n\u001b[1;32m    211\u001b[0m     \u001b[39m# https://cosmicpercolator.com/2016/01/13/exception-leaks-in-python-2-and-3/\u001b[39;00m\n\u001b[1;32m    212\u001b[0m     \u001b[39m# as the __traceback__ object creates a cycle\u001b[39;00m\n",
            "File \u001b[0;32m~/anaconda3/envs/FinRl/lib/python3.8/site-packages/sqlalchemy/engine/base.py:3280\u001b[0m, in \u001b[0;36mEngine._wrap_pool_connect\u001b[0;34m(self, fn, connection)\u001b[0m\n\u001b[1;32m   3279\u001b[0m \u001b[39mtry\u001b[39;00m:\n\u001b[0;32m-> 3280\u001b[0m     \u001b[39mreturn\u001b[39;00m fn()\n\u001b[1;32m   3281\u001b[0m \u001b[39mexcept\u001b[39;00m dialect\u001b[39m.\u001b[39mdbapi\u001b[39m.\u001b[39mError \u001b[39mas\u001b[39;00m e:\n",
            "File \u001b[0;32m~/anaconda3/envs/FinRl/lib/python3.8/site-packages/sqlalchemy/pool/base.py:310\u001b[0m, in \u001b[0;36mPool.connect\u001b[0;34m(self)\u001b[0m\n\u001b[1;32m    303\u001b[0m \u001b[39m\"\"\"Return a DBAPI connection from the pool.\u001b[39;00m\n\u001b[1;32m    304\u001b[0m \n\u001b[1;32m    305\u001b[0m \u001b[39mThe connection is instrumented such that when its\u001b[39;00m\n\u001b[0;32m   (...)\u001b[0m\n\u001b[1;32m    308\u001b[0m \n\u001b[1;32m    309\u001b[0m \u001b[39m\"\"\"\u001b[39;00m\n\u001b[0;32m--> 310\u001b[0m \u001b[39mreturn\u001b[39;00m _ConnectionFairy\u001b[39m.\u001b[39;49m_checkout(\u001b[39mself\u001b[39;49m)\n",
            "File \u001b[0;32m~/anaconda3/envs/FinRl/lib/python3.8/site-packages/sqlalchemy/pool/base.py:868\u001b[0m, in \u001b[0;36m_ConnectionFairy._checkout\u001b[0;34m(cls, pool, threadconns, fairy)\u001b[0m\n\u001b[1;32m    867\u001b[0m \u001b[39mif\u001b[39;00m \u001b[39mnot\u001b[39;00m fairy:\n\u001b[0;32m--> 868\u001b[0m     fairy \u001b[39m=\u001b[39m _ConnectionRecord\u001b[39m.\u001b[39;49mcheckout(pool)\n\u001b[1;32m    870\u001b[0m     fairy\u001b[39m.\u001b[39m_pool \u001b[39m=\u001b[39m pool\n",
            "File \u001b[0;32m~/anaconda3/envs/FinRl/lib/python3.8/site-packages/sqlalchemy/pool/base.py:476\u001b[0m, in \u001b[0;36m_ConnectionRecord.checkout\u001b[0;34m(cls, pool)\u001b[0m\n\u001b[1;32m    474\u001b[0m \u001b[39m@classmethod\u001b[39m\n\u001b[1;32m    475\u001b[0m \u001b[39mdef\u001b[39;00m \u001b[39mcheckout\u001b[39m(\u001b[39mcls\u001b[39m, pool):\n\u001b[0;32m--> 476\u001b[0m     rec \u001b[39m=\u001b[39m pool\u001b[39m.\u001b[39;49m_do_get()\n\u001b[1;32m    477\u001b[0m     \u001b[39mtry\u001b[39;00m:\n",
            "File \u001b[0;32m~/anaconda3/envs/FinRl/lib/python3.8/site-packages/sqlalchemy/pool/impl.py:146\u001b[0m, in \u001b[0;36mQueuePool._do_get\u001b[0;34m(self)\u001b[0m\n\u001b[1;32m    145\u001b[0m         \u001b[39mwith\u001b[39;00m util\u001b[39m.\u001b[39msafe_reraise():\n\u001b[0;32m--> 146\u001b[0m             \u001b[39mself\u001b[39m\u001b[39m.\u001b[39m_dec_overflow()\n\u001b[1;32m    147\u001b[0m \u001b[39melse\u001b[39;00m:\n",
            "File \u001b[0;32m~/anaconda3/envs/FinRl/lib/python3.8/site-packages/sqlalchemy/util/langhelpers.py:70\u001b[0m, in \u001b[0;36msafe_reraise.__exit__\u001b[0;34m(self, type_, value, traceback)\u001b[0m\n\u001b[1;32m     69\u001b[0m     \u001b[39mif\u001b[39;00m \u001b[39mnot\u001b[39;00m \u001b[39mself\u001b[39m\u001b[39m.\u001b[39mwarn_only:\n\u001b[0;32m---> 70\u001b[0m         compat\u001b[39m.\u001b[39;49mraise_(\n\u001b[1;32m     71\u001b[0m             exc_value,\n\u001b[1;32m     72\u001b[0m             with_traceback\u001b[39m=\u001b[39;49mexc_tb,\n\u001b[1;32m     73\u001b[0m         )\n\u001b[1;32m     74\u001b[0m \u001b[39melse\u001b[39;00m:\n",
            "File \u001b[0;32m~/anaconda3/envs/FinRl/lib/python3.8/site-packages/sqlalchemy/util/compat.py:208\u001b[0m, in \u001b[0;36mraise_\u001b[0;34m(***failed resolving arguments***)\u001b[0m\n\u001b[1;32m    207\u001b[0m \u001b[39mtry\u001b[39;00m:\n\u001b[0;32m--> 208\u001b[0m     \u001b[39mraise\u001b[39;00m exception\n\u001b[1;32m    209\u001b[0m \u001b[39mfinally\u001b[39;00m:\n\u001b[1;32m    210\u001b[0m     \u001b[39m# credit to\u001b[39;00m\n\u001b[1;32m    211\u001b[0m     \u001b[39m# https://cosmicpercolator.com/2016/01/13/exception-leaks-in-python-2-and-3/\u001b[39;00m\n\u001b[1;32m    212\u001b[0m     \u001b[39m# as the __traceback__ object creates a cycle\u001b[39;00m\n",
            "File \u001b[0;32m~/anaconda3/envs/FinRl/lib/python3.8/site-packages/sqlalchemy/pool/impl.py:143\u001b[0m, in \u001b[0;36mQueuePool._do_get\u001b[0;34m(self)\u001b[0m\n\u001b[1;32m    142\u001b[0m \u001b[39mtry\u001b[39;00m:\n\u001b[0;32m--> 143\u001b[0m     \u001b[39mreturn\u001b[39;00m \u001b[39mself\u001b[39;49m\u001b[39m.\u001b[39;49m_create_connection()\n\u001b[1;32m    144\u001b[0m \u001b[39mexcept\u001b[39;00m:\n",
            "File \u001b[0;32m~/anaconda3/envs/FinRl/lib/python3.8/site-packages/sqlalchemy/pool/base.py:256\u001b[0m, in \u001b[0;36mPool._create_connection\u001b[0;34m(self)\u001b[0m\n\u001b[1;32m    254\u001b[0m \u001b[39m\"\"\"Called by subclasses to create a new ConnectionRecord.\"\"\"\u001b[39;00m\n\u001b[0;32m--> 256\u001b[0m \u001b[39mreturn\u001b[39;00m _ConnectionRecord(\u001b[39mself\u001b[39;49m)\n",
            "File \u001b[0;32m~/anaconda3/envs/FinRl/lib/python3.8/site-packages/sqlalchemy/pool/base.py:371\u001b[0m, in \u001b[0;36m_ConnectionRecord.__init__\u001b[0;34m(self, pool, connect)\u001b[0m\n\u001b[1;32m    370\u001b[0m \u001b[39mif\u001b[39;00m connect:\n\u001b[0;32m--> 371\u001b[0m     \u001b[39mself\u001b[39;49m\u001b[39m.\u001b[39;49m__connect()\n\u001b[1;32m    372\u001b[0m \u001b[39mself\u001b[39m\u001b[39m.\u001b[39mfinalize_callback \u001b[39m=\u001b[39m deque()\n",
            "File \u001b[0;32m~/anaconda3/envs/FinRl/lib/python3.8/site-packages/sqlalchemy/pool/base.py:666\u001b[0m, in \u001b[0;36m_ConnectionRecord.__connect\u001b[0;34m(self)\u001b[0m\n\u001b[1;32m    665\u001b[0m     \u001b[39mwith\u001b[39;00m util\u001b[39m.\u001b[39msafe_reraise():\n\u001b[0;32m--> 666\u001b[0m         pool\u001b[39m.\u001b[39mlogger\u001b[39m.\u001b[39mdebug(\u001b[39m\"\u001b[39m\u001b[39mError on connect(): \u001b[39m\u001b[39m%s\u001b[39;00m\u001b[39m\"\u001b[39m, e)\n\u001b[1;32m    667\u001b[0m \u001b[39melse\u001b[39;00m:\n\u001b[1;32m    668\u001b[0m     \u001b[39m# in SQLAlchemy 1.4 the first_connect event is not used by\u001b[39;00m\n\u001b[1;32m    669\u001b[0m     \u001b[39m# the engine, so this will usually not be set\u001b[39;00m\n",
            "File \u001b[0;32m~/anaconda3/envs/FinRl/lib/python3.8/site-packages/sqlalchemy/util/langhelpers.py:70\u001b[0m, in \u001b[0;36msafe_reraise.__exit__\u001b[0;34m(self, type_, value, traceback)\u001b[0m\n\u001b[1;32m     69\u001b[0m     \u001b[39mif\u001b[39;00m \u001b[39mnot\u001b[39;00m \u001b[39mself\u001b[39m\u001b[39m.\u001b[39mwarn_only:\n\u001b[0;32m---> 70\u001b[0m         compat\u001b[39m.\u001b[39;49mraise_(\n\u001b[1;32m     71\u001b[0m             exc_value,\n\u001b[1;32m     72\u001b[0m             with_traceback\u001b[39m=\u001b[39;49mexc_tb,\n\u001b[1;32m     73\u001b[0m         )\n\u001b[1;32m     74\u001b[0m \u001b[39melse\u001b[39;00m:\n",
            "File \u001b[0;32m~/anaconda3/envs/FinRl/lib/python3.8/site-packages/sqlalchemy/util/compat.py:208\u001b[0m, in \u001b[0;36mraise_\u001b[0;34m(***failed resolving arguments***)\u001b[0m\n\u001b[1;32m    207\u001b[0m \u001b[39mtry\u001b[39;00m:\n\u001b[0;32m--> 208\u001b[0m     \u001b[39mraise\u001b[39;00m exception\n\u001b[1;32m    209\u001b[0m \u001b[39mfinally\u001b[39;00m:\n\u001b[1;32m    210\u001b[0m     \u001b[39m# credit to\u001b[39;00m\n\u001b[1;32m    211\u001b[0m     \u001b[39m# https://cosmicpercolator.com/2016/01/13/exception-leaks-in-python-2-and-3/\u001b[39;00m\n\u001b[1;32m    212\u001b[0m     \u001b[39m# as the __traceback__ object creates a cycle\u001b[39;00m\n",
            "File \u001b[0;32m~/anaconda3/envs/FinRl/lib/python3.8/site-packages/sqlalchemy/pool/base.py:661\u001b[0m, in \u001b[0;36m_ConnectionRecord.__connect\u001b[0;34m(self)\u001b[0m\n\u001b[1;32m    660\u001b[0m \u001b[39mself\u001b[39m\u001b[39m.\u001b[39mstarttime \u001b[39m=\u001b[39m time\u001b[39m.\u001b[39mtime()\n\u001b[0;32m--> 661\u001b[0m \u001b[39mself\u001b[39m\u001b[39m.\u001b[39mdbapi_connection \u001b[39m=\u001b[39m connection \u001b[39m=\u001b[39m pool\u001b[39m.\u001b[39;49m_invoke_creator(\u001b[39mself\u001b[39;49m)\n\u001b[1;32m    662\u001b[0m pool\u001b[39m.\u001b[39mlogger\u001b[39m.\u001b[39mdebug(\u001b[39m\"\u001b[39m\u001b[39mCreated new connection \u001b[39m\u001b[39m%r\u001b[39;00m\u001b[39m\"\u001b[39m, connection)\n",
            "File \u001b[0;32m~/anaconda3/envs/FinRl/lib/python3.8/site-packages/sqlalchemy/engine/create.py:590\u001b[0m, in \u001b[0;36mcreate_engine.<locals>.connect\u001b[0;34m(connection_record)\u001b[0m\n\u001b[1;32m    589\u001b[0m             \u001b[39mreturn\u001b[39;00m connection\n\u001b[0;32m--> 590\u001b[0m \u001b[39mreturn\u001b[39;00m dialect\u001b[39m.\u001b[39;49mconnect(\u001b[39m*\u001b[39;49mcargs, \u001b[39m*\u001b[39;49m\u001b[39m*\u001b[39;49mcparams)\n",
            "File \u001b[0;32m~/anaconda3/envs/FinRl/lib/python3.8/site-packages/sqlalchemy/engine/default.py:597\u001b[0m, in \u001b[0;36mDefaultDialect.connect\u001b[0;34m(self, *cargs, **cparams)\u001b[0m\n\u001b[1;32m    595\u001b[0m \u001b[39mdef\u001b[39;00m \u001b[39mconnect\u001b[39m(\u001b[39mself\u001b[39m, \u001b[39m*\u001b[39mcargs, \u001b[39m*\u001b[39m\u001b[39m*\u001b[39mcparams):\n\u001b[1;32m    596\u001b[0m     \u001b[39m# inherits the docstring from interfaces.Dialect.connect\u001b[39;00m\n\u001b[0;32m--> 597\u001b[0m     \u001b[39mreturn\u001b[39;00m \u001b[39mself\u001b[39;49m\u001b[39m.\u001b[39;49mdbapi\u001b[39m.\u001b[39;49mconnect(\u001b[39m*\u001b[39;49mcargs, \u001b[39m*\u001b[39;49m\u001b[39m*\u001b[39;49mcparams)\n",
            "File \u001b[0;32m~/anaconda3/envs/FinRl/lib/python3.8/site-packages/psycopg2/__init__.py:122\u001b[0m, in \u001b[0;36mconnect\u001b[0;34m(dsn, connection_factory, cursor_factory, **kwargs)\u001b[0m\n\u001b[1;32m    121\u001b[0m dsn \u001b[39m=\u001b[39m _ext\u001b[39m.\u001b[39mmake_dsn(dsn, \u001b[39m*\u001b[39m\u001b[39m*\u001b[39mkwargs)\n\u001b[0;32m--> 122\u001b[0m conn \u001b[39m=\u001b[39m _connect(dsn, connection_factory\u001b[39m=\u001b[39;49mconnection_factory, \u001b[39m*\u001b[39;49m\u001b[39m*\u001b[39;49mkwasync)\n\u001b[1;32m    123\u001b[0m \u001b[39mif\u001b[39;00m cursor_factory \u001b[39mis\u001b[39;00m \u001b[39mnot\u001b[39;00m \u001b[39mNone\u001b[39;00m:\n",
            "\u001b[0;31mOperationalError\u001b[0m: (psycopg2.OperationalError) connection to server at \"wrds-pgdata.wharton.upenn.edu\" (165.123.60.118), port 9737 failed: fe_sendauth: no password supplied\n\n(Background on this error at: https://sqlalche.me/e/14/e3q8)",
            "\nDuring handling of the above exception, another exception occurred:\n",
            "\u001b[0;31mOperationalError\u001b[0m                          Traceback (most recent call last)",
            "File \u001b[0;32m~/anaconda3/envs/FinRl/lib/python3.8/site-packages/sqlalchemy/engine/base.py:3280\u001b[0m, in \u001b[0;36mEngine._wrap_pool_connect\u001b[0;34m(self, fn, connection)\u001b[0m\n\u001b[1;32m   3279\u001b[0m \u001b[39mtry\u001b[39;00m:\n\u001b[0;32m-> 3280\u001b[0m     \u001b[39mreturn\u001b[39;00m fn()\n\u001b[1;32m   3281\u001b[0m \u001b[39mexcept\u001b[39;00m dialect\u001b[39m.\u001b[39mdbapi\u001b[39m.\u001b[39mError \u001b[39mas\u001b[39;00m e:\n",
            "File \u001b[0;32m~/anaconda3/envs/FinRl/lib/python3.8/site-packages/sqlalchemy/pool/base.py:310\u001b[0m, in \u001b[0;36mPool.connect\u001b[0;34m(self)\u001b[0m\n\u001b[1;32m    303\u001b[0m \u001b[39m\"\"\"Return a DBAPI connection from the pool.\u001b[39;00m\n\u001b[1;32m    304\u001b[0m \n\u001b[1;32m    305\u001b[0m \u001b[39mThe connection is instrumented such that when its\u001b[39;00m\n\u001b[0;32m   (...)\u001b[0m\n\u001b[1;32m    308\u001b[0m \n\u001b[1;32m    309\u001b[0m \u001b[39m\"\"\"\u001b[39;00m\n\u001b[0;32m--> 310\u001b[0m \u001b[39mreturn\u001b[39;00m _ConnectionFairy\u001b[39m.\u001b[39;49m_checkout(\u001b[39mself\u001b[39;49m)\n",
            "File \u001b[0;32m~/anaconda3/envs/FinRl/lib/python3.8/site-packages/sqlalchemy/pool/base.py:868\u001b[0m, in \u001b[0;36m_ConnectionFairy._checkout\u001b[0;34m(cls, pool, threadconns, fairy)\u001b[0m\n\u001b[1;32m    867\u001b[0m \u001b[39mif\u001b[39;00m \u001b[39mnot\u001b[39;00m fairy:\n\u001b[0;32m--> 868\u001b[0m     fairy \u001b[39m=\u001b[39m _ConnectionRecord\u001b[39m.\u001b[39;49mcheckout(pool)\n\u001b[1;32m    870\u001b[0m     fairy\u001b[39m.\u001b[39m_pool \u001b[39m=\u001b[39m pool\n",
            "File \u001b[0;32m~/anaconda3/envs/FinRl/lib/python3.8/site-packages/sqlalchemy/pool/base.py:476\u001b[0m, in \u001b[0;36m_ConnectionRecord.checkout\u001b[0;34m(cls, pool)\u001b[0m\n\u001b[1;32m    474\u001b[0m \u001b[39m@classmethod\u001b[39m\n\u001b[1;32m    475\u001b[0m \u001b[39mdef\u001b[39;00m \u001b[39mcheckout\u001b[39m(\u001b[39mcls\u001b[39m, pool):\n\u001b[0;32m--> 476\u001b[0m     rec \u001b[39m=\u001b[39m pool\u001b[39m.\u001b[39;49m_do_get()\n\u001b[1;32m    477\u001b[0m     \u001b[39mtry\u001b[39;00m:\n",
            "File \u001b[0;32m~/anaconda3/envs/FinRl/lib/python3.8/site-packages/sqlalchemy/pool/impl.py:146\u001b[0m, in \u001b[0;36mQueuePool._do_get\u001b[0;34m(self)\u001b[0m\n\u001b[1;32m    145\u001b[0m         \u001b[39mwith\u001b[39;00m util\u001b[39m.\u001b[39msafe_reraise():\n\u001b[0;32m--> 146\u001b[0m             \u001b[39mself\u001b[39m\u001b[39m.\u001b[39m_dec_overflow()\n\u001b[1;32m    147\u001b[0m \u001b[39melse\u001b[39;00m:\n",
            "File \u001b[0;32m~/anaconda3/envs/FinRl/lib/python3.8/site-packages/sqlalchemy/util/langhelpers.py:70\u001b[0m, in \u001b[0;36msafe_reraise.__exit__\u001b[0;34m(self, type_, value, traceback)\u001b[0m\n\u001b[1;32m     69\u001b[0m     \u001b[39mif\u001b[39;00m \u001b[39mnot\u001b[39;00m \u001b[39mself\u001b[39m\u001b[39m.\u001b[39mwarn_only:\n\u001b[0;32m---> 70\u001b[0m         compat\u001b[39m.\u001b[39;49mraise_(\n\u001b[1;32m     71\u001b[0m             exc_value,\n\u001b[1;32m     72\u001b[0m             with_traceback\u001b[39m=\u001b[39;49mexc_tb,\n\u001b[1;32m     73\u001b[0m         )\n\u001b[1;32m     74\u001b[0m \u001b[39melse\u001b[39;00m:\n",
            "File \u001b[0;32m~/anaconda3/envs/FinRl/lib/python3.8/site-packages/sqlalchemy/util/compat.py:208\u001b[0m, in \u001b[0;36mraise_\u001b[0;34m(***failed resolving arguments***)\u001b[0m\n\u001b[1;32m    207\u001b[0m \u001b[39mtry\u001b[39;00m:\n\u001b[0;32m--> 208\u001b[0m     \u001b[39mraise\u001b[39;00m exception\n\u001b[1;32m    209\u001b[0m \u001b[39mfinally\u001b[39;00m:\n\u001b[1;32m    210\u001b[0m     \u001b[39m# credit to\u001b[39;00m\n\u001b[1;32m    211\u001b[0m     \u001b[39m# https://cosmicpercolator.com/2016/01/13/exception-leaks-in-python-2-and-3/\u001b[39;00m\n\u001b[1;32m    212\u001b[0m     \u001b[39m# as the __traceback__ object creates a cycle\u001b[39;00m\n",
            "File \u001b[0;32m~/anaconda3/envs/FinRl/lib/python3.8/site-packages/sqlalchemy/pool/impl.py:143\u001b[0m, in \u001b[0;36mQueuePool._do_get\u001b[0;34m(self)\u001b[0m\n\u001b[1;32m    142\u001b[0m \u001b[39mtry\u001b[39;00m:\n\u001b[0;32m--> 143\u001b[0m     \u001b[39mreturn\u001b[39;00m \u001b[39mself\u001b[39;49m\u001b[39m.\u001b[39;49m_create_connection()\n\u001b[1;32m    144\u001b[0m \u001b[39mexcept\u001b[39;00m:\n",
            "File \u001b[0;32m~/anaconda3/envs/FinRl/lib/python3.8/site-packages/sqlalchemy/pool/base.py:256\u001b[0m, in \u001b[0;36mPool._create_connection\u001b[0;34m(self)\u001b[0m\n\u001b[1;32m    254\u001b[0m \u001b[39m\"\"\"Called by subclasses to create a new ConnectionRecord.\"\"\"\u001b[39;00m\n\u001b[0;32m--> 256\u001b[0m \u001b[39mreturn\u001b[39;00m _ConnectionRecord(\u001b[39mself\u001b[39;49m)\n",
            "File \u001b[0;32m~/anaconda3/envs/FinRl/lib/python3.8/site-packages/sqlalchemy/pool/base.py:371\u001b[0m, in \u001b[0;36m_ConnectionRecord.__init__\u001b[0;34m(self, pool, connect)\u001b[0m\n\u001b[1;32m    370\u001b[0m \u001b[39mif\u001b[39;00m connect:\n\u001b[0;32m--> 371\u001b[0m     \u001b[39mself\u001b[39;49m\u001b[39m.\u001b[39;49m__connect()\n\u001b[1;32m    372\u001b[0m \u001b[39mself\u001b[39m\u001b[39m.\u001b[39mfinalize_callback \u001b[39m=\u001b[39m deque()\n",
            "File \u001b[0;32m~/anaconda3/envs/FinRl/lib/python3.8/site-packages/sqlalchemy/pool/base.py:666\u001b[0m, in \u001b[0;36m_ConnectionRecord.__connect\u001b[0;34m(self)\u001b[0m\n\u001b[1;32m    665\u001b[0m     \u001b[39mwith\u001b[39;00m util\u001b[39m.\u001b[39msafe_reraise():\n\u001b[0;32m--> 666\u001b[0m         pool\u001b[39m.\u001b[39mlogger\u001b[39m.\u001b[39mdebug(\u001b[39m\"\u001b[39m\u001b[39mError on connect(): \u001b[39m\u001b[39m%s\u001b[39;00m\u001b[39m\"\u001b[39m, e)\n\u001b[1;32m    667\u001b[0m \u001b[39melse\u001b[39;00m:\n\u001b[1;32m    668\u001b[0m     \u001b[39m# in SQLAlchemy 1.4 the first_connect event is not used by\u001b[39;00m\n\u001b[1;32m    669\u001b[0m     \u001b[39m# the engine, so this will usually not be set\u001b[39;00m\n",
            "File \u001b[0;32m~/anaconda3/envs/FinRl/lib/python3.8/site-packages/sqlalchemy/util/langhelpers.py:70\u001b[0m, in \u001b[0;36msafe_reraise.__exit__\u001b[0;34m(self, type_, value, traceback)\u001b[0m\n\u001b[1;32m     69\u001b[0m     \u001b[39mif\u001b[39;00m \u001b[39mnot\u001b[39;00m \u001b[39mself\u001b[39m\u001b[39m.\u001b[39mwarn_only:\n\u001b[0;32m---> 70\u001b[0m         compat\u001b[39m.\u001b[39;49mraise_(\n\u001b[1;32m     71\u001b[0m             exc_value,\n\u001b[1;32m     72\u001b[0m             with_traceback\u001b[39m=\u001b[39;49mexc_tb,\n\u001b[1;32m     73\u001b[0m         )\n\u001b[1;32m     74\u001b[0m \u001b[39melse\u001b[39;00m:\n",
            "File \u001b[0;32m~/anaconda3/envs/FinRl/lib/python3.8/site-packages/sqlalchemy/util/compat.py:208\u001b[0m, in \u001b[0;36mraise_\u001b[0;34m(***failed resolving arguments***)\u001b[0m\n\u001b[1;32m    207\u001b[0m \u001b[39mtry\u001b[39;00m:\n\u001b[0;32m--> 208\u001b[0m     \u001b[39mraise\u001b[39;00m exception\n\u001b[1;32m    209\u001b[0m \u001b[39mfinally\u001b[39;00m:\n\u001b[1;32m    210\u001b[0m     \u001b[39m# credit to\u001b[39;00m\n\u001b[1;32m    211\u001b[0m     \u001b[39m# https://cosmicpercolator.com/2016/01/13/exception-leaks-in-python-2-and-3/\u001b[39;00m\n\u001b[1;32m    212\u001b[0m     \u001b[39m# as the __traceback__ object creates a cycle\u001b[39;00m\n",
            "File \u001b[0;32m~/anaconda3/envs/FinRl/lib/python3.8/site-packages/sqlalchemy/pool/base.py:661\u001b[0m, in \u001b[0;36m_ConnectionRecord.__connect\u001b[0;34m(self)\u001b[0m\n\u001b[1;32m    660\u001b[0m \u001b[39mself\u001b[39m\u001b[39m.\u001b[39mstarttime \u001b[39m=\u001b[39m time\u001b[39m.\u001b[39mtime()\n\u001b[0;32m--> 661\u001b[0m \u001b[39mself\u001b[39m\u001b[39m.\u001b[39mdbapi_connection \u001b[39m=\u001b[39m connection \u001b[39m=\u001b[39m pool\u001b[39m.\u001b[39;49m_invoke_creator(\u001b[39mself\u001b[39;49m)\n\u001b[1;32m    662\u001b[0m pool\u001b[39m.\u001b[39mlogger\u001b[39m.\u001b[39mdebug(\u001b[39m\"\u001b[39m\u001b[39mCreated new connection \u001b[39m\u001b[39m%r\u001b[39;00m\u001b[39m\"\u001b[39m, connection)\n",
            "File \u001b[0;32m~/anaconda3/envs/FinRl/lib/python3.8/site-packages/sqlalchemy/engine/create.py:590\u001b[0m, in \u001b[0;36mcreate_engine.<locals>.connect\u001b[0;34m(connection_record)\u001b[0m\n\u001b[1;32m    589\u001b[0m             \u001b[39mreturn\u001b[39;00m connection\n\u001b[0;32m--> 590\u001b[0m \u001b[39mreturn\u001b[39;00m dialect\u001b[39m.\u001b[39;49mconnect(\u001b[39m*\u001b[39;49mcargs, \u001b[39m*\u001b[39;49m\u001b[39m*\u001b[39;49mcparams)\n",
            "File \u001b[0;32m~/anaconda3/envs/FinRl/lib/python3.8/site-packages/sqlalchemy/engine/default.py:597\u001b[0m, in \u001b[0;36mDefaultDialect.connect\u001b[0;34m(self, *cargs, **cparams)\u001b[0m\n\u001b[1;32m    595\u001b[0m \u001b[39mdef\u001b[39;00m \u001b[39mconnect\u001b[39m(\u001b[39mself\u001b[39m, \u001b[39m*\u001b[39mcargs, \u001b[39m*\u001b[39m\u001b[39m*\u001b[39mcparams):\n\u001b[1;32m    596\u001b[0m     \u001b[39m# inherits the docstring from interfaces.Dialect.connect\u001b[39;00m\n\u001b[0;32m--> 597\u001b[0m     \u001b[39mreturn\u001b[39;00m \u001b[39mself\u001b[39;49m\u001b[39m.\u001b[39;49mdbapi\u001b[39m.\u001b[39;49mconnect(\u001b[39m*\u001b[39;49mcargs, \u001b[39m*\u001b[39;49m\u001b[39m*\u001b[39;49mcparams)\n",
            "File \u001b[0;32m~/anaconda3/envs/FinRl/lib/python3.8/site-packages/psycopg2/__init__.py:122\u001b[0m, in \u001b[0;36mconnect\u001b[0;34m(dsn, connection_factory, cursor_factory, **kwargs)\u001b[0m\n\u001b[1;32m    121\u001b[0m dsn \u001b[39m=\u001b[39m _ext\u001b[39m.\u001b[39mmake_dsn(dsn, \u001b[39m*\u001b[39m\u001b[39m*\u001b[39mkwargs)\n\u001b[0;32m--> 122\u001b[0m conn \u001b[39m=\u001b[39m _connect(dsn, connection_factory\u001b[39m=\u001b[39;49mconnection_factory, \u001b[39m*\u001b[39;49m\u001b[39m*\u001b[39;49mkwasync)\n\u001b[1;32m    123\u001b[0m \u001b[39mif\u001b[39;00m cursor_factory \u001b[39mis\u001b[39;00m \u001b[39mnot\u001b[39;00m \u001b[39mNone\u001b[39;00m:\n",
            "\u001b[0;31mOperationalError\u001b[0m: connection to server at \"wrds-pgdata.wharton.upenn.edu\" (165.123.60.118), port 9737 failed: fe_sendauth: no password supplied\n",
            "\nThe above exception was the direct cause of the following exception:\n",
            "\u001b[0;31mOperationalError\u001b[0m                          Traceback (most recent call last)",
            "\u001b[1;32m/mnt/f/financial_projects/Deep Reinforcement Learning Approaches on Stock Prediction/FinRL/FinRL_HyperparameterTuning_Raytune_RLlib_recurrent_ppo_version.ipynb Cell 22\u001b[0m in \u001b[0;36m<cell line: 1>\u001b[0;34m()\u001b[0m\n\u001b[0;32m----> <a href='vscode-notebook-cell://wsl%2Bu18/mnt/f/financial_projects/Deep%20Reinforcement%20Learning%20Approaches%20on%20Stock%20Prediction/FinRL/FinRL_HyperparameterTuning_Raytune_RLlib_recurrent_ppo_version.ipynb#X26sdnNjb2RlLXJlbW90ZQ%3D%3D?line=0'>1</a>\u001b[0m train_env_config \u001b[39m=\u001b[39m get_train_env(TRAIN_START_DATE, VAL_END_DATE, \n\u001b[1;32m      <a href='vscode-notebook-cell://wsl%2Bu18/mnt/f/financial_projects/Deep%20Reinforcement%20Learning%20Approaches%20on%20Stock%20Prediction/FinRL/FinRL_HyperparameterTuning_Raytune_RLlib_recurrent_ppo_version.ipynb#X26sdnNjb2RlLXJlbW90ZQ%3D%3D?line=1'>2</a>\u001b[0m                      ticker_list, data_source, time_interval, \n\u001b[1;32m      <a href='vscode-notebook-cell://wsl%2Bu18/mnt/f/financial_projects/Deep%20Reinforcement%20Learning%20Approaches%20on%20Stock%20Prediction/FinRL/FinRL_HyperparameterTuning_Raytune_RLlib_recurrent_ppo_version.ipynb#X26sdnNjb2RlLXJlbW90ZQ%3D%3D?line=2'>3</a>\u001b[0m                         technical_indicator_list, env, model_name)\n",
            "\u001b[1;32m/mnt/f/financial_projects/Deep Reinforcement Learning Approaches on Stock Prediction/FinRL/FinRL_HyperparameterTuning_Raytune_RLlib_recurrent_ppo_version.ipynb Cell 22\u001b[0m in \u001b[0;36mget_train_env\u001b[0;34m(start_date, end_date, ticker_list, data_source, time_interval, technical_indicator_list, env, model_name, if_vix, **kwargs)\u001b[0m\n\u001b[1;32m      <a href='vscode-notebook-cell://wsl%2Bu18/mnt/f/financial_projects/Deep%20Reinforcement%20Learning%20Approaches%20on%20Stock%20Prediction/FinRL/FinRL_HyperparameterTuning_Raytune_RLlib_recurrent_ppo_version.ipynb#X26sdnNjb2RlLXJlbW90ZQ%3D%3D?line=0'>1</a>\u001b[0m \u001b[39mdef\u001b[39;00m \u001b[39mget_train_env\u001b[39m(start_date, end_date, ticker_list, data_source, time_interval, \n\u001b[1;32m      <a href='vscode-notebook-cell://wsl%2Bu18/mnt/f/financial_projects/Deep%20Reinforcement%20Learning%20Approaches%20on%20Stock%20Prediction/FinRL/FinRL_HyperparameterTuning_Raytune_RLlib_recurrent_ppo_version.ipynb#X26sdnNjb2RlLXJlbW90ZQ%3D%3D?line=1'>2</a>\u001b[0m           technical_indicator_list, env, model_name, if_vix \u001b[39m=\u001b[39m \u001b[39mTrue\u001b[39;00m,\n\u001b[1;32m      <a href='vscode-notebook-cell://wsl%2Bu18/mnt/f/financial_projects/Deep%20Reinforcement%20Learning%20Approaches%20on%20Stock%20Prediction/FinRL/FinRL_HyperparameterTuning_Raytune_RLlib_recurrent_ppo_version.ipynb#X26sdnNjb2RlLXJlbW90ZQ%3D%3D?line=2'>3</a>\u001b[0m           \u001b[39m*\u001b[39m\u001b[39m*\u001b[39mkwargs):\n\u001b[1;32m      <a href='vscode-notebook-cell://wsl%2Bu18/mnt/f/financial_projects/Deep%20Reinforcement%20Learning%20Approaches%20on%20Stock%20Prediction/FinRL/FinRL_HyperparameterTuning_Raytune_RLlib_recurrent_ppo_version.ipynb#X26sdnNjb2RlLXJlbW90ZQ%3D%3D?line=3'>4</a>\u001b[0m     \n\u001b[1;32m      <a href='vscode-notebook-cell://wsl%2Bu18/mnt/f/financial_projects/Deep%20Reinforcement%20Learning%20Approaches%20on%20Stock%20Prediction/FinRL/FinRL_HyperparameterTuning_Raytune_RLlib_recurrent_ppo_version.ipynb#X26sdnNjb2RlLXJlbW90ZQ%3D%3D?line=4'>5</a>\u001b[0m     \u001b[39m#fetch data\u001b[39;00m\n\u001b[0;32m----> <a href='vscode-notebook-cell://wsl%2Bu18/mnt/f/financial_projects/Deep%20Reinforcement%20Learning%20Approaches%20on%20Stock%20Prediction/FinRL/FinRL_HyperparameterTuning_Raytune_RLlib_recurrent_ppo_version.ipynb#X26sdnNjb2RlLXJlbW90ZQ%3D%3D?line=5'>6</a>\u001b[0m     DP \u001b[39m=\u001b[39m DataProcessor(data_source, \u001b[39m*\u001b[39;49m\u001b[39m*\u001b[39;49mkwargs)\n\u001b[1;32m      <a href='vscode-notebook-cell://wsl%2Bu18/mnt/f/financial_projects/Deep%20Reinforcement%20Learning%20Approaches%20on%20Stock%20Prediction/FinRL/FinRL_HyperparameterTuning_Raytune_RLlib_recurrent_ppo_version.ipynb#X26sdnNjb2RlLXJlbW90ZQ%3D%3D?line=6'>7</a>\u001b[0m     data \u001b[39m=\u001b[39m DP\u001b[39m.\u001b[39mdownload_data(ticker_list, start_date, end_date, time_interval)\n\u001b[1;32m      <a href='vscode-notebook-cell://wsl%2Bu18/mnt/f/financial_projects/Deep%20Reinforcement%20Learning%20Approaches%20on%20Stock%20Prediction/FinRL/FinRL_HyperparameterTuning_Raytune_RLlib_recurrent_ppo_version.ipynb#X26sdnNjb2RlLXJlbW90ZQ%3D%3D?line=7'>8</a>\u001b[0m     data \u001b[39m=\u001b[39m DP\u001b[39m.\u001b[39mclean_data(data)\n",
            "File \u001b[0;32m/mnt/f/financial_projects/Deep Reinforcement Learning Approaches on Stock Prediction/FinRL/finrl/finrl_meta/data_processor.py:24\u001b[0m, in \u001b[0;36mDataProcessor.__init__\u001b[0;34m(self, data_source, **kwargs)\u001b[0m\n\u001b[1;32m     21\u001b[0m         \u001b[39mraise\u001b[39;00m \u001b[39mValueError\u001b[39;00m(\u001b[39m\"\u001b[39m\u001b[39mPlease input correct account info for alpaca!\u001b[39m\u001b[39m\"\u001b[39m)\n\u001b[1;32m     23\u001b[0m \u001b[39melif\u001b[39;00m data_source \u001b[39m==\u001b[39m \u001b[39m\"\u001b[39m\u001b[39mwrds\u001b[39m\u001b[39m\"\u001b[39m:\n\u001b[0;32m---> 24\u001b[0m     \u001b[39mself\u001b[39m\u001b[39m.\u001b[39mprocessor \u001b[39m=\u001b[39m Wrds()\n\u001b[1;32m     26\u001b[0m \u001b[39melif\u001b[39;00m data_source \u001b[39m==\u001b[39m \u001b[39m\"\u001b[39m\u001b[39myahoofinance\u001b[39m\u001b[39m\"\u001b[39m:\n\u001b[1;32m     27\u001b[0m     \u001b[39mself\u001b[39m\u001b[39m.\u001b[39mprocessor \u001b[39m=\u001b[39m YahooFinance()\n",
            "File \u001b[0;32m/mnt/f/financial_projects/Deep Reinforcement Learning Approaches on Stock Prediction/FinRL/finrl/finrl_meta/data_processors/processor_wrds.py:16\u001b[0m, in \u001b[0;36mWrdsProcessor.__init__\u001b[0;34m(self, if_offline)\u001b[0m\n\u001b[1;32m     14\u001b[0m \u001b[39mdef\u001b[39;00m \u001b[39m__init__\u001b[39m(\u001b[39mself\u001b[39m, if_offline\u001b[39m=\u001b[39m\u001b[39mFalse\u001b[39;00m):\n\u001b[1;32m     15\u001b[0m     \u001b[39mif\u001b[39;00m \u001b[39mnot\u001b[39;00m if_offline:\n\u001b[0;32m---> 16\u001b[0m         \u001b[39mself\u001b[39m\u001b[39m.\u001b[39mdb \u001b[39m=\u001b[39m wrds\u001b[39m.\u001b[39;49mConnection()\n",
            "File \u001b[0;32m~/anaconda3/envs/FinRl/lib/python3.8/site-packages/wrds/sql.py:100\u001b[0m, in \u001b[0;36mConnection.__init__\u001b[0;34m(self, autoconnect, **kwargs)\u001b[0m\n\u001b[1;32m     92\u001b[0m     \u001b[39mself\u001b[39m\u001b[39m.\u001b[39mengine \u001b[39m=\u001b[39m sa\u001b[39m.\u001b[39mcreate_engine(\n\u001b[1;32m     93\u001b[0m         pguri\u001b[39m.\u001b[39mformat(\n\u001b[1;32m     94\u001b[0m             host\u001b[39m=\u001b[39m\u001b[39mself\u001b[39m\u001b[39m.\u001b[39m_hostname,\n\u001b[0;32m   (...)\u001b[0m\n\u001b[1;32m     97\u001b[0m         isolation_level\u001b[39m=\u001b[39m\u001b[39m\"\u001b[39m\u001b[39mAUTOCOMMIT\u001b[39m\u001b[39m\"\u001b[39m,\n\u001b[1;32m     98\u001b[0m         connect_args\u001b[39m=\u001b[39m\u001b[39mself\u001b[39m\u001b[39m.\u001b[39m_connect_args)\n\u001b[1;32m     99\u001b[0m \u001b[39mif\u001b[39;00m (autoconnect):\n\u001b[0;32m--> 100\u001b[0m     \u001b[39mself\u001b[39;49m\u001b[39m.\u001b[39;49mconnect()\n\u001b[1;32m    101\u001b[0m     \u001b[39mself\u001b[39m\u001b[39m.\u001b[39mload_library_list()\n",
            "File \u001b[0;32m~/anaconda3/envs/FinRl/lib/python3.8/site-packages/wrds/sql.py:126\u001b[0m, in \u001b[0;36mConnection.connect\u001b[0;34m(self)\u001b[0m\n\u001b[1;32m    124\u001b[0m     \u001b[39mself\u001b[39m\u001b[39m.\u001b[39m_username \u001b[39m=\u001b[39m \u001b[39mNone\u001b[39;00m\n\u001b[1;32m    125\u001b[0m     \u001b[39mself\u001b[39m\u001b[39m.\u001b[39m_password \u001b[39m=\u001b[39m \u001b[39mNone\u001b[39;00m\n\u001b[0;32m--> 126\u001b[0m     \u001b[39mraise\u001b[39;00m e\n\u001b[1;32m    128\u001b[0m \u001b[39m# Connection successful. Offer to create a .pgpass for the user.\u001b[39;00m\n\u001b[1;32m    129\u001b[0m \u001b[39mprint\u001b[39m(\u001b[39m\"\u001b[39m\u001b[39mWRDS recommends setting up a .pgpass file.\u001b[39m\u001b[39m\"\u001b[39m)\n",
            "File \u001b[0;32m~/anaconda3/envs/FinRl/lib/python3.8/site-packages/wrds/sql.py:121\u001b[0m, in \u001b[0;36mConnection.connect\u001b[0;34m(self)\u001b[0m\n\u001b[1;32m    111\u001b[0m \u001b[39mself\u001b[39m\u001b[39m.\u001b[39mengine \u001b[39m=\u001b[39m sa\u001b[39m.\u001b[39mcreate_engine(\n\u001b[1;32m    112\u001b[0m     pghost\u001b[39m.\u001b[39mformat(\n\u001b[1;32m    113\u001b[0m         usr\u001b[39m=\u001b[39m\u001b[39mself\u001b[39m\u001b[39m.\u001b[39m_username,\n\u001b[0;32m   (...)\u001b[0m\n\u001b[1;32m    118\u001b[0m     isolation_level\u001b[39m=\u001b[39m\u001b[39m\"\u001b[39m\u001b[39mAUTOCOMMIT\u001b[39m\u001b[39m\"\u001b[39m,\n\u001b[1;32m    119\u001b[0m     connect_args\u001b[39m=\u001b[39m\u001b[39mself\u001b[39m\u001b[39m.\u001b[39m_connect_args)\n\u001b[1;32m    120\u001b[0m \u001b[39mtry\u001b[39;00m:\n\u001b[0;32m--> 121\u001b[0m     \u001b[39mself\u001b[39m\u001b[39m.\u001b[39mconnection \u001b[39m=\u001b[39m \u001b[39mself\u001b[39;49m\u001b[39m.\u001b[39;49mengine\u001b[39m.\u001b[39;49mconnect()\n\u001b[1;32m    122\u001b[0m \u001b[39mexcept\u001b[39;00m \u001b[39mException\u001b[39;00m \u001b[39mas\u001b[39;00m e:\n\u001b[1;32m    123\u001b[0m     \u001b[39mprint\u001b[39m(\u001b[39m\"\u001b[39m\u001b[39mThere was an error with your password.\u001b[39m\u001b[39m\"\u001b[39m)\n",
            "File \u001b[0;32m~/anaconda3/envs/FinRl/lib/python3.8/site-packages/sqlalchemy/engine/base.py:3234\u001b[0m, in \u001b[0;36mEngine.connect\u001b[0;34m(self, close_with_result)\u001b[0m\n\u001b[1;32m   3219\u001b[0m \u001b[39mdef\u001b[39;00m \u001b[39mconnect\u001b[39m(\u001b[39mself\u001b[39m, close_with_result\u001b[39m=\u001b[39m\u001b[39mFalse\u001b[39;00m):\n\u001b[1;32m   3220\u001b[0m     \u001b[39m\"\"\"Return a new :class:`_engine.Connection` object.\u001b[39;00m\n\u001b[1;32m   3221\u001b[0m \n\u001b[1;32m   3222\u001b[0m \u001b[39m    The :class:`_engine.Connection` object is a facade that uses a DBAPI\u001b[39;00m\n\u001b[0;32m   (...)\u001b[0m\n\u001b[1;32m   3231\u001b[0m \n\u001b[1;32m   3232\u001b[0m \u001b[39m    \"\"\"\u001b[39;00m\n\u001b[0;32m-> 3234\u001b[0m     \u001b[39mreturn\u001b[39;00m \u001b[39mself\u001b[39;49m\u001b[39m.\u001b[39;49m_connection_cls(\u001b[39mself\u001b[39;49m, close_with_result\u001b[39m=\u001b[39;49mclose_with_result)\n",
            "File \u001b[0;32m~/anaconda3/envs/FinRl/lib/python3.8/site-packages/sqlalchemy/engine/base.py:96\u001b[0m, in \u001b[0;36mConnection.__init__\u001b[0;34m(self, engine, connection, close_with_result, _branch_from, _execution_options, _dispatch, _has_events, _allow_revalidate)\u001b[0m\n\u001b[1;32m     91\u001b[0m     \u001b[39mself\u001b[39m\u001b[39m.\u001b[39m_has_events \u001b[39m=\u001b[39m _branch_from\u001b[39m.\u001b[39m_has_events\n\u001b[1;32m     92\u001b[0m \u001b[39melse\u001b[39;00m:\n\u001b[1;32m     93\u001b[0m     \u001b[39mself\u001b[39m\u001b[39m.\u001b[39m_dbapi_connection \u001b[39m=\u001b[39m (\n\u001b[1;32m     94\u001b[0m         connection\n\u001b[1;32m     95\u001b[0m         \u001b[39mif\u001b[39;00m connection \u001b[39mis\u001b[39;00m \u001b[39mnot\u001b[39;00m \u001b[39mNone\u001b[39;00m\n\u001b[0;32m---> 96\u001b[0m         \u001b[39melse\u001b[39;00m engine\u001b[39m.\u001b[39;49mraw_connection()\n\u001b[1;32m     97\u001b[0m     )\n\u001b[1;32m     99\u001b[0m     \u001b[39mself\u001b[39m\u001b[39m.\u001b[39m_transaction \u001b[39m=\u001b[39m \u001b[39mself\u001b[39m\u001b[39m.\u001b[39m_nested_transaction \u001b[39m=\u001b[39m \u001b[39mNone\u001b[39;00m\n\u001b[1;32m    100\u001b[0m     \u001b[39mself\u001b[39m\u001b[39m.\u001b[39m__savepoint_seq \u001b[39m=\u001b[39m \u001b[39m0\u001b[39m\n",
            "File \u001b[0;32m~/anaconda3/envs/FinRl/lib/python3.8/site-packages/sqlalchemy/engine/base.py:3313\u001b[0m, in \u001b[0;36mEngine.raw_connection\u001b[0;34m(self, _connection)\u001b[0m\n\u001b[1;32m   3291\u001b[0m \u001b[39mdef\u001b[39;00m \u001b[39mraw_connection\u001b[39m(\u001b[39mself\u001b[39m, _connection\u001b[39m=\u001b[39m\u001b[39mNone\u001b[39;00m):\n\u001b[1;32m   3292\u001b[0m     \u001b[39m\"\"\"Return a \"raw\" DBAPI connection from the connection pool.\u001b[39;00m\n\u001b[1;32m   3293\u001b[0m \n\u001b[1;32m   3294\u001b[0m \u001b[39m    The returned object is a proxied version of the DBAPI\u001b[39;00m\n\u001b[0;32m   (...)\u001b[0m\n\u001b[1;32m   3311\u001b[0m \n\u001b[1;32m   3312\u001b[0m \u001b[39m    \"\"\"\u001b[39;00m\n\u001b[0;32m-> 3313\u001b[0m     \u001b[39mreturn\u001b[39;00m \u001b[39mself\u001b[39;49m\u001b[39m.\u001b[39;49m_wrap_pool_connect(\u001b[39mself\u001b[39;49m\u001b[39m.\u001b[39;49mpool\u001b[39m.\u001b[39;49mconnect, _connection)\n",
            "File \u001b[0;32m~/anaconda3/envs/FinRl/lib/python3.8/site-packages/sqlalchemy/engine/base.py:3283\u001b[0m, in \u001b[0;36mEngine._wrap_pool_connect\u001b[0;34m(self, fn, connection)\u001b[0m\n\u001b[1;32m   3281\u001b[0m \u001b[39mexcept\u001b[39;00m dialect\u001b[39m.\u001b[39mdbapi\u001b[39m.\u001b[39mError \u001b[39mas\u001b[39;00m e:\n\u001b[1;32m   3282\u001b[0m     \u001b[39mif\u001b[39;00m connection \u001b[39mis\u001b[39;00m \u001b[39mNone\u001b[39;00m:\n\u001b[0;32m-> 3283\u001b[0m         Connection\u001b[39m.\u001b[39;49m_handle_dbapi_exception_noconnection(\n\u001b[1;32m   3284\u001b[0m             e, dialect, \u001b[39mself\u001b[39;49m\n\u001b[1;32m   3285\u001b[0m         )\n\u001b[1;32m   3286\u001b[0m     \u001b[39melse\u001b[39;00m:\n\u001b[1;32m   3287\u001b[0m         util\u001b[39m.\u001b[39mraise_(\n\u001b[1;32m   3288\u001b[0m             sys\u001b[39m.\u001b[39mexc_info()[\u001b[39m1\u001b[39m], with_traceback\u001b[39m=\u001b[39msys\u001b[39m.\u001b[39mexc_info()[\u001b[39m2\u001b[39m]\n\u001b[1;32m   3289\u001b[0m         )\n",
            "File \u001b[0;32m~/anaconda3/envs/FinRl/lib/python3.8/site-packages/sqlalchemy/engine/base.py:2117\u001b[0m, in \u001b[0;36mConnection._handle_dbapi_exception_noconnection\u001b[0;34m(cls, e, dialect, engine)\u001b[0m\n\u001b[1;32m   2115\u001b[0m     util\u001b[39m.\u001b[39mraise_(newraise, with_traceback\u001b[39m=\u001b[39mexc_info[\u001b[39m2\u001b[39m], from_\u001b[39m=\u001b[39me)\n\u001b[1;32m   2116\u001b[0m \u001b[39melif\u001b[39;00m should_wrap:\n\u001b[0;32m-> 2117\u001b[0m     util\u001b[39m.\u001b[39;49mraise_(\n\u001b[1;32m   2118\u001b[0m         sqlalchemy_exception, with_traceback\u001b[39m=\u001b[39;49mexc_info[\u001b[39m2\u001b[39;49m], from_\u001b[39m=\u001b[39;49me\n\u001b[1;32m   2119\u001b[0m     )\n\u001b[1;32m   2120\u001b[0m \u001b[39melse\u001b[39;00m:\n\u001b[1;32m   2121\u001b[0m     util\u001b[39m.\u001b[39mraise_(exc_info[\u001b[39m1\u001b[39m], with_traceback\u001b[39m=\u001b[39mexc_info[\u001b[39m2\u001b[39m])\n",
            "File \u001b[0;32m~/anaconda3/envs/FinRl/lib/python3.8/site-packages/sqlalchemy/util/compat.py:208\u001b[0m, in \u001b[0;36mraise_\u001b[0;34m(***failed resolving arguments***)\u001b[0m\n\u001b[1;32m    205\u001b[0m     exception\u001b[39m.\u001b[39m__cause__ \u001b[39m=\u001b[39m replace_context\n\u001b[1;32m    207\u001b[0m \u001b[39mtry\u001b[39;00m:\n\u001b[0;32m--> 208\u001b[0m     \u001b[39mraise\u001b[39;00m exception\n\u001b[1;32m    209\u001b[0m \u001b[39mfinally\u001b[39;00m:\n\u001b[1;32m    210\u001b[0m     \u001b[39m# credit to\u001b[39;00m\n\u001b[1;32m    211\u001b[0m     \u001b[39m# https://cosmicpercolator.com/2016/01/13/exception-leaks-in-python-2-and-3/\u001b[39;00m\n\u001b[1;32m    212\u001b[0m     \u001b[39m# as the __traceback__ object creates a cycle\u001b[39;00m\n\u001b[1;32m    213\u001b[0m     \u001b[39mdel\u001b[39;00m exception, replace_context, from_, with_traceback\n",
            "File \u001b[0;32m~/anaconda3/envs/FinRl/lib/python3.8/site-packages/sqlalchemy/engine/base.py:3280\u001b[0m, in \u001b[0;36mEngine._wrap_pool_connect\u001b[0;34m(self, fn, connection)\u001b[0m\n\u001b[1;32m   3278\u001b[0m dialect \u001b[39m=\u001b[39m \u001b[39mself\u001b[39m\u001b[39m.\u001b[39mdialect\n\u001b[1;32m   3279\u001b[0m \u001b[39mtry\u001b[39;00m:\n\u001b[0;32m-> 3280\u001b[0m     \u001b[39mreturn\u001b[39;00m fn()\n\u001b[1;32m   3281\u001b[0m \u001b[39mexcept\u001b[39;00m dialect\u001b[39m.\u001b[39mdbapi\u001b[39m.\u001b[39mError \u001b[39mas\u001b[39;00m e:\n\u001b[1;32m   3282\u001b[0m     \u001b[39mif\u001b[39;00m connection \u001b[39mis\u001b[39;00m \u001b[39mNone\u001b[39;00m:\n",
            "File \u001b[0;32m~/anaconda3/envs/FinRl/lib/python3.8/site-packages/sqlalchemy/pool/base.py:310\u001b[0m, in \u001b[0;36mPool.connect\u001b[0;34m(self)\u001b[0m\n\u001b[1;32m    302\u001b[0m \u001b[39mdef\u001b[39;00m \u001b[39mconnect\u001b[39m(\u001b[39mself\u001b[39m):\n\u001b[1;32m    303\u001b[0m     \u001b[39m\"\"\"Return a DBAPI connection from the pool.\u001b[39;00m\n\u001b[1;32m    304\u001b[0m \n\u001b[1;32m    305\u001b[0m \u001b[39m    The connection is instrumented such that when its\u001b[39;00m\n\u001b[0;32m   (...)\u001b[0m\n\u001b[1;32m    308\u001b[0m \n\u001b[1;32m    309\u001b[0m \u001b[39m    \"\"\"\u001b[39;00m\n\u001b[0;32m--> 310\u001b[0m     \u001b[39mreturn\u001b[39;00m _ConnectionFairy\u001b[39m.\u001b[39;49m_checkout(\u001b[39mself\u001b[39;49m)\n",
            "File \u001b[0;32m~/anaconda3/envs/FinRl/lib/python3.8/site-packages/sqlalchemy/pool/base.py:868\u001b[0m, in \u001b[0;36m_ConnectionFairy._checkout\u001b[0;34m(cls, pool, threadconns, fairy)\u001b[0m\n\u001b[1;32m    865\u001b[0m \u001b[39m@classmethod\u001b[39m\n\u001b[1;32m    866\u001b[0m \u001b[39mdef\u001b[39;00m \u001b[39m_checkout\u001b[39m(\u001b[39mcls\u001b[39m, pool, threadconns\u001b[39m=\u001b[39m\u001b[39mNone\u001b[39;00m, fairy\u001b[39m=\u001b[39m\u001b[39mNone\u001b[39;00m):\n\u001b[1;32m    867\u001b[0m     \u001b[39mif\u001b[39;00m \u001b[39mnot\u001b[39;00m fairy:\n\u001b[0;32m--> 868\u001b[0m         fairy \u001b[39m=\u001b[39m _ConnectionRecord\u001b[39m.\u001b[39;49mcheckout(pool)\n\u001b[1;32m    870\u001b[0m         fairy\u001b[39m.\u001b[39m_pool \u001b[39m=\u001b[39m pool\n\u001b[1;32m    871\u001b[0m         fairy\u001b[39m.\u001b[39m_counter \u001b[39m=\u001b[39m \u001b[39m0\u001b[39m\n",
            "File \u001b[0;32m~/anaconda3/envs/FinRl/lib/python3.8/site-packages/sqlalchemy/pool/base.py:476\u001b[0m, in \u001b[0;36m_ConnectionRecord.checkout\u001b[0;34m(cls, pool)\u001b[0m\n\u001b[1;32m    474\u001b[0m \u001b[39m@classmethod\u001b[39m\n\u001b[1;32m    475\u001b[0m \u001b[39mdef\u001b[39;00m \u001b[39mcheckout\u001b[39m(\u001b[39mcls\u001b[39m, pool):\n\u001b[0;32m--> 476\u001b[0m     rec \u001b[39m=\u001b[39m pool\u001b[39m.\u001b[39;49m_do_get()\n\u001b[1;32m    477\u001b[0m     \u001b[39mtry\u001b[39;00m:\n\u001b[1;32m    478\u001b[0m         dbapi_connection \u001b[39m=\u001b[39m rec\u001b[39m.\u001b[39mget_connection()\n",
            "File \u001b[0;32m~/anaconda3/envs/FinRl/lib/python3.8/site-packages/sqlalchemy/pool/impl.py:146\u001b[0m, in \u001b[0;36mQueuePool._do_get\u001b[0;34m(self)\u001b[0m\n\u001b[1;32m    144\u001b[0m     \u001b[39mexcept\u001b[39;00m:\n\u001b[1;32m    145\u001b[0m         \u001b[39mwith\u001b[39;00m util\u001b[39m.\u001b[39msafe_reraise():\n\u001b[0;32m--> 146\u001b[0m             \u001b[39mself\u001b[39m\u001b[39m.\u001b[39m_dec_overflow()\n\u001b[1;32m    147\u001b[0m \u001b[39melse\u001b[39;00m:\n\u001b[1;32m    148\u001b[0m     \u001b[39mreturn\u001b[39;00m \u001b[39mself\u001b[39m\u001b[39m.\u001b[39m_do_get()\n",
            "File \u001b[0;32m~/anaconda3/envs/FinRl/lib/python3.8/site-packages/sqlalchemy/util/langhelpers.py:70\u001b[0m, in \u001b[0;36msafe_reraise.__exit__\u001b[0;34m(self, type_, value, traceback)\u001b[0m\n\u001b[1;32m     68\u001b[0m     \u001b[39mself\u001b[39m\u001b[39m.\u001b[39m_exc_info \u001b[39m=\u001b[39m \u001b[39mNone\u001b[39;00m  \u001b[39m# remove potential circular references\u001b[39;00m\n\u001b[1;32m     69\u001b[0m     \u001b[39mif\u001b[39;00m \u001b[39mnot\u001b[39;00m \u001b[39mself\u001b[39m\u001b[39m.\u001b[39mwarn_only:\n\u001b[0;32m---> 70\u001b[0m         compat\u001b[39m.\u001b[39;49mraise_(\n\u001b[1;32m     71\u001b[0m             exc_value,\n\u001b[1;32m     72\u001b[0m             with_traceback\u001b[39m=\u001b[39;49mexc_tb,\n\u001b[1;32m     73\u001b[0m         )\n\u001b[1;32m     74\u001b[0m \u001b[39melse\u001b[39;00m:\n\u001b[1;32m     75\u001b[0m     \u001b[39mif\u001b[39;00m \u001b[39mnot\u001b[39;00m compat\u001b[39m.\u001b[39mpy3k \u001b[39mand\u001b[39;00m \u001b[39mself\u001b[39m\u001b[39m.\u001b[39m_exc_info \u001b[39mand\u001b[39;00m \u001b[39mself\u001b[39m\u001b[39m.\u001b[39m_exc_info[\u001b[39m1\u001b[39m]:\n\u001b[1;32m     76\u001b[0m         \u001b[39m# emulate Py3K's behavior of telling us when an exception\u001b[39;00m\n\u001b[1;32m     77\u001b[0m         \u001b[39m# occurs in an exception handler.\u001b[39;00m\n",
            "File \u001b[0;32m~/anaconda3/envs/FinRl/lib/python3.8/site-packages/sqlalchemy/util/compat.py:208\u001b[0m, in \u001b[0;36mraise_\u001b[0;34m(***failed resolving arguments***)\u001b[0m\n\u001b[1;32m    205\u001b[0m     exception\u001b[39m.\u001b[39m__cause__ \u001b[39m=\u001b[39m replace_context\n\u001b[1;32m    207\u001b[0m \u001b[39mtry\u001b[39;00m:\n\u001b[0;32m--> 208\u001b[0m     \u001b[39mraise\u001b[39;00m exception\n\u001b[1;32m    209\u001b[0m \u001b[39mfinally\u001b[39;00m:\n\u001b[1;32m    210\u001b[0m     \u001b[39m# credit to\u001b[39;00m\n\u001b[1;32m    211\u001b[0m     \u001b[39m# https://cosmicpercolator.com/2016/01/13/exception-leaks-in-python-2-and-3/\u001b[39;00m\n\u001b[1;32m    212\u001b[0m     \u001b[39m# as the __traceback__ object creates a cycle\u001b[39;00m\n\u001b[1;32m    213\u001b[0m     \u001b[39mdel\u001b[39;00m exception, replace_context, from_, with_traceback\n",
            "File \u001b[0;32m~/anaconda3/envs/FinRl/lib/python3.8/site-packages/sqlalchemy/pool/impl.py:143\u001b[0m, in \u001b[0;36mQueuePool._do_get\u001b[0;34m(self)\u001b[0m\n\u001b[1;32m    141\u001b[0m \u001b[39mif\u001b[39;00m \u001b[39mself\u001b[39m\u001b[39m.\u001b[39m_inc_overflow():\n\u001b[1;32m    142\u001b[0m     \u001b[39mtry\u001b[39;00m:\n\u001b[0;32m--> 143\u001b[0m         \u001b[39mreturn\u001b[39;00m \u001b[39mself\u001b[39;49m\u001b[39m.\u001b[39;49m_create_connection()\n\u001b[1;32m    144\u001b[0m     \u001b[39mexcept\u001b[39;00m:\n\u001b[1;32m    145\u001b[0m         \u001b[39mwith\u001b[39;00m util\u001b[39m.\u001b[39msafe_reraise():\n",
            "File \u001b[0;32m~/anaconda3/envs/FinRl/lib/python3.8/site-packages/sqlalchemy/pool/base.py:256\u001b[0m, in \u001b[0;36mPool._create_connection\u001b[0;34m(self)\u001b[0m\n\u001b[1;32m    253\u001b[0m \u001b[39mdef\u001b[39;00m \u001b[39m_create_connection\u001b[39m(\u001b[39mself\u001b[39m):\n\u001b[1;32m    254\u001b[0m     \u001b[39m\"\"\"Called by subclasses to create a new ConnectionRecord.\"\"\"\u001b[39;00m\n\u001b[0;32m--> 256\u001b[0m     \u001b[39mreturn\u001b[39;00m _ConnectionRecord(\u001b[39mself\u001b[39;49m)\n",
            "File \u001b[0;32m~/anaconda3/envs/FinRl/lib/python3.8/site-packages/sqlalchemy/pool/base.py:371\u001b[0m, in \u001b[0;36m_ConnectionRecord.__init__\u001b[0;34m(self, pool, connect)\u001b[0m\n\u001b[1;32m    369\u001b[0m \u001b[39mself\u001b[39m\u001b[39m.\u001b[39m__pool \u001b[39m=\u001b[39m pool\n\u001b[1;32m    370\u001b[0m \u001b[39mif\u001b[39;00m connect:\n\u001b[0;32m--> 371\u001b[0m     \u001b[39mself\u001b[39;49m\u001b[39m.\u001b[39;49m__connect()\n\u001b[1;32m    372\u001b[0m \u001b[39mself\u001b[39m\u001b[39m.\u001b[39mfinalize_callback \u001b[39m=\u001b[39m deque()\n",
            "File \u001b[0;32m~/anaconda3/envs/FinRl/lib/python3.8/site-packages/sqlalchemy/pool/base.py:666\u001b[0m, in \u001b[0;36m_ConnectionRecord.__connect\u001b[0;34m(self)\u001b[0m\n\u001b[1;32m    664\u001b[0m \u001b[39mexcept\u001b[39;00m \u001b[39mException\u001b[39;00m \u001b[39mas\u001b[39;00m e:\n\u001b[1;32m    665\u001b[0m     \u001b[39mwith\u001b[39;00m util\u001b[39m.\u001b[39msafe_reraise():\n\u001b[0;32m--> 666\u001b[0m         pool\u001b[39m.\u001b[39mlogger\u001b[39m.\u001b[39mdebug(\u001b[39m\"\u001b[39m\u001b[39mError on connect(): \u001b[39m\u001b[39m%s\u001b[39;00m\u001b[39m\"\u001b[39m, e)\n\u001b[1;32m    667\u001b[0m \u001b[39melse\u001b[39;00m:\n\u001b[1;32m    668\u001b[0m     \u001b[39m# in SQLAlchemy 1.4 the first_connect event is not used by\u001b[39;00m\n\u001b[1;32m    669\u001b[0m     \u001b[39m# the engine, so this will usually not be set\u001b[39;00m\n\u001b[1;32m    670\u001b[0m     \u001b[39mif\u001b[39;00m pool\u001b[39m.\u001b[39mdispatch\u001b[39m.\u001b[39mfirst_connect:\n",
            "File \u001b[0;32m~/anaconda3/envs/FinRl/lib/python3.8/site-packages/sqlalchemy/util/langhelpers.py:70\u001b[0m, in \u001b[0;36msafe_reraise.__exit__\u001b[0;34m(self, type_, value, traceback)\u001b[0m\n\u001b[1;32m     68\u001b[0m     \u001b[39mself\u001b[39m\u001b[39m.\u001b[39m_exc_info \u001b[39m=\u001b[39m \u001b[39mNone\u001b[39;00m  \u001b[39m# remove potential circular references\u001b[39;00m\n\u001b[1;32m     69\u001b[0m     \u001b[39mif\u001b[39;00m \u001b[39mnot\u001b[39;00m \u001b[39mself\u001b[39m\u001b[39m.\u001b[39mwarn_only:\n\u001b[0;32m---> 70\u001b[0m         compat\u001b[39m.\u001b[39;49mraise_(\n\u001b[1;32m     71\u001b[0m             exc_value,\n\u001b[1;32m     72\u001b[0m             with_traceback\u001b[39m=\u001b[39;49mexc_tb,\n\u001b[1;32m     73\u001b[0m         )\n\u001b[1;32m     74\u001b[0m \u001b[39melse\u001b[39;00m:\n\u001b[1;32m     75\u001b[0m     \u001b[39mif\u001b[39;00m \u001b[39mnot\u001b[39;00m compat\u001b[39m.\u001b[39mpy3k \u001b[39mand\u001b[39;00m \u001b[39mself\u001b[39m\u001b[39m.\u001b[39m_exc_info \u001b[39mand\u001b[39;00m \u001b[39mself\u001b[39m\u001b[39m.\u001b[39m_exc_info[\u001b[39m1\u001b[39m]:\n\u001b[1;32m     76\u001b[0m         \u001b[39m# emulate Py3K's behavior of telling us when an exception\u001b[39;00m\n\u001b[1;32m     77\u001b[0m         \u001b[39m# occurs in an exception handler.\u001b[39;00m\n",
            "File \u001b[0;32m~/anaconda3/envs/FinRl/lib/python3.8/site-packages/sqlalchemy/util/compat.py:208\u001b[0m, in \u001b[0;36mraise_\u001b[0;34m(***failed resolving arguments***)\u001b[0m\n\u001b[1;32m    205\u001b[0m     exception\u001b[39m.\u001b[39m__cause__ \u001b[39m=\u001b[39m replace_context\n\u001b[1;32m    207\u001b[0m \u001b[39mtry\u001b[39;00m:\n\u001b[0;32m--> 208\u001b[0m     \u001b[39mraise\u001b[39;00m exception\n\u001b[1;32m    209\u001b[0m \u001b[39mfinally\u001b[39;00m:\n\u001b[1;32m    210\u001b[0m     \u001b[39m# credit to\u001b[39;00m\n\u001b[1;32m    211\u001b[0m     \u001b[39m# https://cosmicpercolator.com/2016/01/13/exception-leaks-in-python-2-and-3/\u001b[39;00m\n\u001b[1;32m    212\u001b[0m     \u001b[39m# as the __traceback__ object creates a cycle\u001b[39;00m\n\u001b[1;32m    213\u001b[0m     \u001b[39mdel\u001b[39;00m exception, replace_context, from_, with_traceback\n",
            "File \u001b[0;32m~/anaconda3/envs/FinRl/lib/python3.8/site-packages/sqlalchemy/pool/base.py:661\u001b[0m, in \u001b[0;36m_ConnectionRecord.__connect\u001b[0;34m(self)\u001b[0m\n\u001b[1;32m    659\u001b[0m \u001b[39mtry\u001b[39;00m:\n\u001b[1;32m    660\u001b[0m     \u001b[39mself\u001b[39m\u001b[39m.\u001b[39mstarttime \u001b[39m=\u001b[39m time\u001b[39m.\u001b[39mtime()\n\u001b[0;32m--> 661\u001b[0m     \u001b[39mself\u001b[39m\u001b[39m.\u001b[39mdbapi_connection \u001b[39m=\u001b[39m connection \u001b[39m=\u001b[39m pool\u001b[39m.\u001b[39;49m_invoke_creator(\u001b[39mself\u001b[39;49m)\n\u001b[1;32m    662\u001b[0m     pool\u001b[39m.\u001b[39mlogger\u001b[39m.\u001b[39mdebug(\u001b[39m\"\u001b[39m\u001b[39mCreated new connection \u001b[39m\u001b[39m%r\u001b[39;00m\u001b[39m\"\u001b[39m, connection)\n\u001b[1;32m    663\u001b[0m     \u001b[39mself\u001b[39m\u001b[39m.\u001b[39mfresh \u001b[39m=\u001b[39m \u001b[39mTrue\u001b[39;00m\n",
            "File \u001b[0;32m~/anaconda3/envs/FinRl/lib/python3.8/site-packages/sqlalchemy/engine/create.py:590\u001b[0m, in \u001b[0;36mcreate_engine.<locals>.connect\u001b[0;34m(connection_record)\u001b[0m\n\u001b[1;32m    588\u001b[0m         \u001b[39mif\u001b[39;00m connection \u001b[39mis\u001b[39;00m \u001b[39mnot\u001b[39;00m \u001b[39mNone\u001b[39;00m:\n\u001b[1;32m    589\u001b[0m             \u001b[39mreturn\u001b[39;00m connection\n\u001b[0;32m--> 590\u001b[0m \u001b[39mreturn\u001b[39;00m dialect\u001b[39m.\u001b[39;49mconnect(\u001b[39m*\u001b[39;49mcargs, \u001b[39m*\u001b[39;49m\u001b[39m*\u001b[39;49mcparams)\n",
            "File \u001b[0;32m~/anaconda3/envs/FinRl/lib/python3.8/site-packages/sqlalchemy/engine/default.py:597\u001b[0m, in \u001b[0;36mDefaultDialect.connect\u001b[0;34m(self, *cargs, **cparams)\u001b[0m\n\u001b[1;32m    595\u001b[0m \u001b[39mdef\u001b[39;00m \u001b[39mconnect\u001b[39m(\u001b[39mself\u001b[39m, \u001b[39m*\u001b[39mcargs, \u001b[39m*\u001b[39m\u001b[39m*\u001b[39mcparams):\n\u001b[1;32m    596\u001b[0m     \u001b[39m# inherits the docstring from interfaces.Dialect.connect\u001b[39;00m\n\u001b[0;32m--> 597\u001b[0m     \u001b[39mreturn\u001b[39;00m \u001b[39mself\u001b[39;49m\u001b[39m.\u001b[39;49mdbapi\u001b[39m.\u001b[39;49mconnect(\u001b[39m*\u001b[39;49mcargs, \u001b[39m*\u001b[39;49m\u001b[39m*\u001b[39;49mcparams)\n",
            "File \u001b[0;32m~/anaconda3/envs/FinRl/lib/python3.8/site-packages/psycopg2/__init__.py:122\u001b[0m, in \u001b[0;36mconnect\u001b[0;34m(dsn, connection_factory, cursor_factory, **kwargs)\u001b[0m\n\u001b[1;32m    119\u001b[0m     kwasync[\u001b[39m'\u001b[39m\u001b[39masync_\u001b[39m\u001b[39m'\u001b[39m] \u001b[39m=\u001b[39m kwargs\u001b[39m.\u001b[39mpop(\u001b[39m'\u001b[39m\u001b[39masync_\u001b[39m\u001b[39m'\u001b[39m)\n\u001b[1;32m    121\u001b[0m dsn \u001b[39m=\u001b[39m _ext\u001b[39m.\u001b[39mmake_dsn(dsn, \u001b[39m*\u001b[39m\u001b[39m*\u001b[39mkwargs)\n\u001b[0;32m--> 122\u001b[0m conn \u001b[39m=\u001b[39m _connect(dsn, connection_factory\u001b[39m=\u001b[39;49mconnection_factory, \u001b[39m*\u001b[39;49m\u001b[39m*\u001b[39;49mkwasync)\n\u001b[1;32m    123\u001b[0m \u001b[39mif\u001b[39;00m cursor_factory \u001b[39mis\u001b[39;00m \u001b[39mnot\u001b[39;00m \u001b[39mNone\u001b[39;00m:\n\u001b[1;32m    124\u001b[0m     conn\u001b[39m.\u001b[39mcursor_factory \u001b[39m=\u001b[39m cursor_factory\n",
            "\u001b[0;31mOperationalError\u001b[0m: (psycopg2.OperationalError) connection to server at \"wrds-pgdata.wharton.upenn.edu\" (165.123.60.118), port 9737 failed: fe_sendauth: no password supplied\n\n(Background on this error at: https://sqlalche.me/e/14/e3q8)"
          ]
        }
      ],
      "source": [
        "train_env_config = get_train_env(TRAIN_START_DATE, VAL_END_DATE, \n",
        "                     ticker_list, data_source, time_interval, \n",
        "                        technical_indicator_list, env, model_name)"
      ]
    },
    {
      "cell_type": "markdown",
      "metadata": {
        "id": "pplgHdQtOOQH"
      },
      "source": [
        "## Registering the environment"
      ]
    },
    {
      "cell_type": "code",
      "execution_count": null,
      "metadata": {
        "id": "QS0ytuI8KFf5"
      },
      "outputs": [],
      "source": [
        "from ray.tune.registry import register_env\n",
        "\n",
        "env_name = 'StockTrading_train_env'\n",
        "register_env(env_name, lambda config: env(train_env_config))"
      ]
    },
    {
      "cell_type": "markdown",
      "metadata": {
        "id": "0toGh9-_OThw"
      },
      "source": [
        "## Running tune "
      ]
    },
    {
      "cell_type": "code",
      "execution_count": null,
      "metadata": {
        "id": "SbF64_hRsqhT"
      },
      "outputs": [],
      "source": [
        "MODEL_TRAINER = {'a2c':A2CTrainer,'ppo':PPOTrainer,'ddpg':DDPGTrainer}\n",
        "if model_name == \"ddpg\":\n",
        "    sample_hyperparameters = sample_ddpg_params()\n",
        "elif model_name == \"ppo\":\n",
        "  sample_hyperparameters = sample_ppo_params()\n",
        "elif model_name == \"a2c\":\n",
        "  sample_hyperparameters = sample_a2c_params()\n",
        "  \n",
        "def run_optuna_tune():\n",
        "\n",
        "  algo = OptunaSearch()\n",
        "  algo = ConcurrencyLimiter(algo,max_concurrent=4)\n",
        "  scheduler = AsyncHyperBandScheduler()\n",
        "  num_samples = 10\n",
        "  training_iterations = 100\n",
        "\n",
        "  analysis = tune.run(\n",
        "      MODEL_TRAINER[model_name],\n",
        "      metric=\"episode_reward_mean\", #The metric to optimize for tuning\n",
        "      mode=\"max\", #Maximize the metric\n",
        "      search_alg = algo,#OptunaSearch method which uses Tree Parzen estimator to sample hyperparameters\n",
        "      scheduler=scheduler, #To prune bad trials\n",
        "      config = {**sample_hyperparameters,\n",
        "                'env':'StockTrading_train_env','num_workers':1,\n",
        "                'num_gpus':1,'framework':'torch'},\n",
        "      num_samples = num_samples, #Number of hyperparameters to test out\n",
        "      stop = {'training_iteration':training_iterations},#Time attribute to validate the results\n",
        "      verbose=1,local_dir=\"./tuned_models\",#Saving tensorboard plots\n",
        "      # resources_per_trial={'gpu':1,'cpu':1},\n",
        "      max_failures = 1,#Extra Trying for the failed trials\n",
        "      raise_on_failed_trial=False,#Don't return error even if you have errored trials\n",
        "      keep_checkpoints_num = num_samples-5, \n",
        "      checkpoint_score_attr ='episode_reward_mean',#Only store keep_checkpoints_num trials based on this score\n",
        "      checkpoint_freq=training_iterations#Checpointing all the trials\n",
        "  )\n",
        "  print(\"Best hyperparameter: \", analysis.best_config)\n",
        "  return analysis"
      ]
    },
    {
      "cell_type": "code",
      "execution_count": null,
      "metadata": {
        "colab": {
          "base_uri": "https://localhost:8080/",
          "height": 875
        },
        "id": "zDz4GUMLuSUE",
        "outputId": "9751b541-0805-4cb5-9759-9c4c5817ba96"
      },
      "outputs": [
        {
          "data": {
            "text/html": [
              "== Status ==<br>Current time: 2022-01-06 07:46:55 (running for 01:00:10.86)<br>Memory usage on this node: 3.8/12.7 GiB<br>Using AsyncHyperBand: num_stopped=3\n",
              "Bracket: Iter 64.000: 2625.543680458008 | Iter 16.000: 2217.164554705456 | Iter 4.000: 1752.9660842756712 | Iter 1.000: nan<br>Resources requested: 0/2 CPUs, 0/1 GPUs, 0.0/6.92 GiB heap, 0.0/3.46 GiB objects (0.0/1.0 accelerator_type:K80)<br>Current best trial: c4a4a4e2 with episode_reward_mean=2261.1426521735193 and parameters={'num_workers': 1, 'num_envs_per_worker': 1, 'create_env_on_driver': False, 'rollout_fragment_length': 20, 'batch_mode': 'truncate_episodes', 'gamma': 0.99, 'lr': 0.003415320208891929, 'train_batch_size': 200, 'model': {'_use_default_native_models': False, '_disable_preprocessor_api': False, 'fcnet_hiddens': [256, 256], 'fcnet_activation': 'tanh', 'conv_filters': None, 'conv_activation': 'relu', 'post_fcnet_hiddens': [], 'post_fcnet_activation': 'relu', 'free_log_std': False, 'no_final_linear': False, 'vf_share_layers': True, 'use_lstm': False, 'max_seq_len': 20, 'lstm_cell_size': 256, 'lstm_use_prev_action': False, 'lstm_use_prev_reward': False, '_time_major': False, 'use_attention': False, 'attention_num_transformer_units': 1, 'attention_dim': 64, 'attention_num_heads': 1, 'attention_head_dim': 32, 'attention_memory_inference': 50, 'attention_memory_training': 50, 'attention_position_wise_mlp_dim': 32, 'attention_init_gru_gate_bias': 2.0, 'attention_use_n_prev_actions': 0, 'attention_use_n_prev_rewards': 0, 'framestack': True, 'dim': 84, 'grayscale': False, 'zero_mean': True, 'custom_model': None, 'custom_model_config': {}, 'custom_action_dist': None, 'custom_preprocessor': None, 'lstm_use_prev_action_reward': -1}, 'optimizer': {}, 'horizon': None, 'soft_horizon': False, 'no_done_at_end': False, 'env': 'StockTrading_train_env', 'observation_space': None, 'action_space': None, 'env_config': {}, 'remote_worker_envs': False, 'remote_env_batch_wait_ms': 0, 'env_task_fn': None, 'render_env': False, 'record_env': False, 'clip_rewards': None, 'normalize_actions': True, 'clip_actions': False, 'preprocessor_pref': 'deepmind', 'log_level': 'WARN', 'callbacks': <class 'ray.rllib.agents.callbacks.DefaultCallbacks'>, 'ignore_worker_failures': False, 'log_sys_usage': True, 'fake_sampler': False, 'framework': 'torch', 'eager_tracing': False, 'eager_max_retraces': 20, 'explore': True, 'exploration_config': {'type': 'StochasticSampling'}, 'evaluation_interval': None, 'evaluation_num_episodes': 10, 'evaluation_parallel_to_training': False, 'in_evaluation': False, 'evaluation_config': {}, 'evaluation_num_workers': 0, 'custom_eval_function': None, 'sample_async': False, 'sample_collector': <class 'ray.rllib.evaluation.collectors.simple_list_collector.SimpleListCollector'>, 'observation_filter': 'NoFilter', 'synchronize_filters': True, 'tf_session_args': {'intra_op_parallelism_threads': 2, 'inter_op_parallelism_threads': 2, 'gpu_options': {'allow_growth': True}, 'log_device_placement': False, 'device_count': {'CPU': 1}, 'allow_soft_placement': True}, 'local_tf_session_args': {'intra_op_parallelism_threads': 8, 'inter_op_parallelism_threads': 8}, 'compress_observations': False, 'collect_metrics_timeout': 180, 'metrics_smoothing_episodes': 100, 'min_iter_time_s': 10, 'timesteps_per_iteration': 0, 'seed': None, 'extra_python_environs_for_driver': {}, 'extra_python_environs_for_worker': {}, 'num_gpus': 1, '_fake_gpus': False, 'num_cpus_per_worker': 1, 'num_gpus_per_worker': 0, 'custom_resources_per_worker': {}, 'num_cpus_for_driver': 1, 'placement_strategy': 'PACK', 'input': 'sampler', 'input_config': {}, 'actions_in_input_normalized': False, 'input_evaluation': ['is', 'wis'], 'postprocess_inputs': False, 'shuffle_buffer_size': 0, 'output': None, 'output_compress_columns': ['obs', 'new_obs'], 'output_max_file_size': 67108864, 'multiagent': {'policies': {'default_policy': PolicySpec(policy_class=<class 'ray.rllib.policy.policy_template.A3CTorchPolicy'>, observation_space=None, action_space=None, config={})}, 'policy_map_capacity': 100, 'policy_map_cache': None, 'policy_mapping_fn': None, 'policies_to_train': None, 'observation_fn': None, 'replay_mode': 'independent', 'count_steps_by': 'env_steps'}, 'logger_config': None, '_tf_policy_handles_more_than_one_loss': False, '_disable_preprocessor_api': False, 'simple_optimizer': False, 'monitor': -1, 'use_critic': True, 'use_gae': True, 'lambda': 0.5, 'grad_clip': 40.0, 'lr_schedule': None, 'vf_loss_coeff': 0.5, 'entropy_coeff': 1.9874536358446893e-06, 'entropy_coeff_schedule': None, 'microbatch_size': None}<br>Result logdir: /content/tuned_models/A2C_2022-01-06_06-46-44<br>Number of trials: 10/10 (4 ERROR, 6 TERMINATED)<br>Number of errored trials: 4<br><table>\n",
              "<thead>\n",
              "<tr><th>Trial name                         </th><th style=\"text-align: right;\">  # failures</th><th>error file                                                                                                                                                                                                </th></tr>\n",
              "</thead>\n",
              "<tbody>\n",
              "<tr><td>A2C_StockTrading_train_env_957cacc8</td><td style=\"text-align: right;\">           2</td><td>/content/tuned_models/A2C_2022-01-06_06-46-44/A2C_StockTrading_train_env_957cacc8_5_entropy_coeff=0.076541,framework=torch,lambda=0.3,lr=0.26807,num_gpus=1,num_workers=1_2022-01-06_07-23-45/error.txt   </td></tr>\n",
              "<tr><td>A2C_StockTrading_train_env_b0f90b9a</td><td style=\"text-align: right;\">           2</td><td>/content/tuned_models/A2C_2022-01-06_06-46-44/A2C_StockTrading_train_env_b0f90b9a_6_entropy_coeff=0.0098996,framework=torch,lambda=0.9,lr=0.25954,num_gpus=1,num_workers=1_2022-01-06_07-24-31/error.txt  </td></tr>\n",
              "<tr><td>A2C_StockTrading_train_env_dd1f1458</td><td style=\"text-align: right;\">           2</td><td>/content/tuned_models/A2C_2022-01-06_06-46-44/A2C_StockTrading_train_env_dd1f1458_8_entropy_coeff=0.00020697,framework=torch,lambda=0.3,lr=0.14676,num_gpus=1,num_workers=1_2022-01-06_07-25-45/error.txt </td></tr>\n",
              "<tr><td>A2C_StockTrading_train_env_57b1abb6</td><td style=\"text-align: right;\">           2</td><td>/content/tuned_models/A2C_2022-01-06_06-46-44/A2C_StockTrading_train_env_57b1abb6_10_entropy_coeff=1.3577e-08,framework=torch,lambda=0.1,lr=0.21904,num_gpus=1,num_workers=1_2022-01-06_07-43-30/error.txt</td></tr>\n",
              "</tbody>\n",
              "</table><br>"
            ],
            "text/plain": [
              "<IPython.core.display.HTML object>"
            ]
          },
          "metadata": {},
          "output_type": "display_data"
        },
        {
          "name": "stderr",
          "output_type": "stream",
          "text": [
            "2022-01-06 07:46:56,018\tERROR tune.py:622 -- Trials did not complete: [A2C_StockTrading_train_env_957cacc8, A2C_StockTrading_train_env_b0f90b9a, A2C_StockTrading_train_env_dd1f1458, A2C_StockTrading_train_env_57b1abb6]\n",
            "2022-01-06 07:46:56,022\tINFO tune.py:626 -- Total run time: 3611.50 seconds (3610.83 seconds for the tuning loop).\n"
          ]
        },
        {
          "name": "stdout",
          "output_type": "stream",
          "text": [
            "Best hyperparameter:  {'lambda': 0.5, 'entropy_coeff': 1.9874536358446893e-06, 'lr': 0.003415320208891929, 'env': 'StockTrading_train_env', 'num_workers': 1, 'num_gpus': 1, 'framework': 'torch'}\n"
          ]
        }
      ],
      "source": [
        "analysis = run_optuna_tune()"
      ]
    },
    {
      "cell_type": "markdown",
      "metadata": {
        "id": "6d3a8-KROYJ_"
      },
      "source": [
        "## Best config, directory and checkpoint for hyperparameters\n",
        "\n"
      ]
    },
    {
      "cell_type": "code",
      "execution_count": 9,
      "metadata": {
        "colab": {
          "base_uri": "https://localhost:8080/"
        },
        "id": "OGDP01DcCR9Z",
        "outputId": "a7fc74da-7a98-4d4e-b4ac-49e00c0fdd69"
      },
      "outputs": [
        {
          "ename": "NameError",
          "evalue": "name 'analysis' is not defined",
          "output_type": "error",
          "traceback": [
            "\u001b[0;31m---------------------------------------------------------------------------\u001b[0m",
            "\u001b[0;31mNameError\u001b[0m                                 Traceback (most recent call last)",
            "\u001b[1;32m/mnt/f/financial_projects/Deep Reinforcement Learning Approaches on Stock Prediction/FinRL/FinRL_HyperparameterTuning_Raytune_RLlib_recurrent_ppo_version.ipynb Cell 28\u001b[0m in \u001b[0;36m<cell line: 1>\u001b[0;34m()\u001b[0m\n\u001b[0;32m----> <a href='vscode-notebook-cell://wsl%2Bu18/mnt/f/financial_projects/Deep%20Reinforcement%20Learning%20Approaches%20on%20Stock%20Prediction/FinRL/FinRL_HyperparameterTuning_Raytune_RLlib_recurrent_ppo_version.ipynb#X36sdnNjb2RlLXJlbW90ZQ%3D%3D?line=0'>1</a>\u001b[0m best_config \u001b[39m=\u001b[39m analysis\u001b[39m.\u001b[39mget_best_config(metric\u001b[39m=\u001b[39m\u001b[39m'\u001b[39m\u001b[39mepisode_reward_mean\u001b[39m\u001b[39m'\u001b[39m,mode\u001b[39m=\u001b[39m\u001b[39m'\u001b[39m\u001b[39mmax\u001b[39m\u001b[39m'\u001b[39m)\n\u001b[1;32m      <a href='vscode-notebook-cell://wsl%2Bu18/mnt/f/financial_projects/Deep%20Reinforcement%20Learning%20Approaches%20on%20Stock%20Prediction/FinRL/FinRL_HyperparameterTuning_Raytune_RLlib_recurrent_ppo_version.ipynb#X36sdnNjb2RlLXJlbW90ZQ%3D%3D?line=1'>2</a>\u001b[0m best_config\n",
            "\u001b[0;31mNameError\u001b[0m: name 'analysis' is not defined"
          ]
        }
      ],
      "source": [
        "best_config = analysis.get_best_config(metric='episode_reward_mean',mode='max')\n",
        "best_config"
      ]
    },
    {
      "cell_type": "code",
      "execution_count": null,
      "metadata": {
        "colab": {
          "base_uri": "https://localhost:8080/",
          "height": 53
        },
        "id": "Awbo9S2sZbOv",
        "outputId": "71e9fd9b-23ee-4f19-8b30-63da1add087e"
      },
      "outputs": [
        {
          "data": {
            "application/vnd.google.colaboratory.intrinsic+json": {
              "type": "string"
            },
            "text/plain": [
              "'/content/tuned_models/A2C_2022-01-06_06-46-44/A2C_StockTrading_train_env_c4a4a4e2_7_entropy_coeff=1.9875e-06,framework=torch,lambda=0.5,lr=0.0034153,num_gpus=1,num_workers=1_2022-01-06_07-25-04'"
            ]
          },
          "execution_count": 17,
          "metadata": {},
          "output_type": "execute_result"
        }
      ],
      "source": [
        "best_logdir = analysis.get_best_logdir(metric='episode_reward_mean',mode='max')\n",
        "best_logdir"
      ]
    },
    {
      "cell_type": "code",
      "execution_count": null,
      "metadata": {
        "colab": {
          "base_uri": "https://localhost:8080/",
          "height": 53
        },
        "id": "wa-dilLhHGEd",
        "outputId": "f1432e32-f049-4605-c836-da1a6436f2bb"
      },
      "outputs": [
        {
          "data": {
            "application/vnd.google.colaboratory.intrinsic+json": {
              "type": "string"
            },
            "text/plain": [
              "'/content/tuned_models/A2C_2022-01-06_06-46-44/A2C_StockTrading_train_env_c4a4a4e2_7_entropy_coeff=1.9875e-06,framework=torch,lambda=0.5,lr=0.0034153,num_gpus=1,num_workers=1_2022-01-06_07-25-04/checkpoint_000100/checkpoint-100'"
            ]
          },
          "execution_count": 18,
          "metadata": {},
          "output_type": "execute_result"
        }
      ],
      "source": [
        "best_checkpoint = analysis.best_checkpoint\n",
        "best_checkpoint"
      ]
    },
    {
      "cell_type": "code",
      "execution_count": null,
      "metadata": {
        "id": "RgcBMJBzAhZl"
      },
      "outputs": [],
      "source": [
        "# sharpe,df_account_test,df_action_test = val_or_test(TEST_START_DATE, TEST_END_DATE, ticker_list, data_source, time_interval, \n",
        "#          technical_indicator_list, env, model_name,best_checkpoint, if_vix = True)"
      ]
    },
    {
      "cell_type": "code",
      "execution_count": null,
      "metadata": {
        "colab": {
          "base_uri": "https://localhost:8080/"
        },
        "id": "tO2MmLVTZWs-",
        "outputId": "56022129-ffe8-4f57-96c4-efc473a7140b"
      },
      "outputs": [
        {
          "name": "stdout",
          "output_type": "stream",
          "text": [
            "\r[*********************100%***********************]  1 of 1 completed\n",
            "Shape of DataFrame:  (294, 9)\n",
            "Clean data for TSLA\n",
            "Data clean for TSLA is finished.\n",
            "Data clean all finished!\n",
            "[*********************100%***********************]  1 of 1 completed\n",
            "Shape of DataFrame:  (294, 9)\n",
            "Clean data for ^VIX\n",
            "Data clean for ^VIX is finished.\n",
            "Data clean all finished!\n",
            "['TSLA']\n",
            "Successfully transformed into array\n"
          ]
        }
      ],
      "source": [
        "test_env_config = get_test_config(TEST_START_DATE, TEST_END_DATE, ticker_list, data_source, time_interval, \n",
        "                        technical_indicator_list, env, model_name)"
      ]
    },
    {
      "cell_type": "code",
      "execution_count": null,
      "metadata": {
        "id": "Dt0mhUOgeWtX"
      },
      "outputs": [],
      "source": [
        "sharpe,account,actions = val_or_test(test_env_config,agent_path,model_name,env)"
      ]
    },
    {
      "cell_type": "code",
      "execution_count": null,
      "metadata": {
        "id": "Wis62wQaYHTR"
      },
      "outputs": [],
      "source": [
        "def DRL_prediction(\n",
        "        model_name,\n",
        "        test_env_config,\n",
        "        env,\n",
        "        model_config,\n",
        "        agent_path,\n",
        "        env_name_test='StockTrading_test_env'\n",
        "    ):\n",
        "\n",
        "        env_instance = env(test_env_config)\n",
        "        \n",
        "        register_env(env_name_test, lambda config: env(test_env_config))\n",
        "        model_config['env'] = env_name_test\n",
        "        # ray.init() # Other Ray APIs will not work until `ray.init()` is called.\n",
        "        if model_name == \"ppo\":\n",
        "            trainer = MODELS[model_name].PPOTrainer(config=model_config)\n",
        "        elif model_name == \"a2c\":\n",
        "            trainer = MODELS[model_name].A2CTrainer(config=model_config)\n",
        "        elif model_name == \"ddpg\":\n",
        "            trainer = MODELS[model_name].DDPGTrainer(config=model_config)\n",
        "        elif model_name == \"td3\":\n",
        "            trainer = MODELS[model_name].TD3Trainer(config=model_config)\n",
        "        elif model_name == \"sac\":\n",
        "            trainer = MODELS[model_name].SACTrainer(config=model_config)\n",
        "\n",
        "        try:\n",
        "            trainer.restore(agent_path)\n",
        "            print(\"Restoring from checkpoint path\", agent_path)\n",
        "        except BaseException:\n",
        "            raise ValueError(\"Fail to load agent!\")\n",
        "\n",
        "        # test on the testing env\n",
        "        state = env_instance.reset()\n",
        "        episode_returns = list()  # the cumulative_return / initial_account\n",
        "        episode_total_assets = list()\n",
        "        episode_total_assets.append(env_instance.initial_total_asset)\n",
        "        done = False\n",
        "        while not done:\n",
        "            action = trainer.compute_single_action(state)\n",
        "            state, reward, done, _ = env_instance.step(action)\n",
        "\n",
        "            total_asset = (\n",
        "                env_instance.amount\n",
        "                + (env_instance.price_ary[env_instance.day] * env_instance.stocks).sum()\n",
        "            )\n",
        "            episode_total_assets.append(total_asset)\n",
        "            episode_return = total_asset / env_instance.initial_total_asset\n",
        "            episode_returns.append(episode_return)\n",
        "        ray.shutdown()\n",
        "        print(\"episode return: \" + str(episode_return))\n",
        "        print(\"Test Finished!\")\n",
        "        return episode_total_assets"
      ]
    },
    {
      "cell_type": "code",
      "execution_count": null,
      "metadata": {
        "colab": {
          "base_uri": "https://localhost:8080/"
        },
        "id": "mS_6EclCc-rR",
        "outputId": "029a8c98-3628-4db8-c251-50eff1d8aa4f"
      },
      "outputs": [
        {
          "name": "stderr",
          "output_type": "stream",
          "text": [
            "\u001b[2m\u001b[36m(RolloutWorker pid=54558)\u001b[0m 2022-01-06 08:15:05,638\tWARNING deprecation.py:46 -- DeprecationWarning: `convert_to_non_torch_type` has been deprecated. Use `ray/rllib/utils/numpy.py::convert_to_numpy` instead. This will raise an error in the future!\n",
            "2022-01-06 08:15:05,784\tINFO trainable.py:468 -- Restored on 172.28.0.2 from checkpoint: /content/tuned_models/A2C_2022-01-06_06-46-44/A2C_StockTrading_train_env_c4a4a4e2_7_entropy_coeff=1.9875e-06,framework=torch,lambda=0.5,lr=0.0034153,num_gpus=1,num_workers=1_2022-01-06_07-25-04/checkpoint_000100/checkpoint-100\n",
            "2022-01-06 08:15:05,857\tINFO trainable.py:475 -- Current state after restoring: {'_iteration': 100, '_timesteps_total': 0, '_time_total': 1010.0849390029907, '_episodes_total': 307}\n"
          ]
        },
        {
          "name": "stdout",
          "output_type": "stream",
          "text": [
            "Restoring from checkpoint path /content/tuned_models/A2C_2022-01-06_06-46-44/A2C_StockTrading_train_env_c4a4a4e2_7_entropy_coeff=1.9875e-06,framework=torch,lambda=0.5,lr=0.0034153,num_gpus=1,num_workers=1_2022-01-06_07-25-04/checkpoint_000100/checkpoint-100\n",
            "episode return: 1.0\n",
            "Test Finished!\n"
          ]
        }
      ],
      "source": [
        "episode_total_assets = DRL_prediction(\n",
        "        model_name,\n",
        "        test_env_config,\n",
        "        env,\n",
        "        best_config,\n",
        "        best_checkpoint,\n",
        "        env_name_test='StockTrading_test_env')"
      ]
    },
    {
      "cell_type": "code",
      "execution_count": null,
      "metadata": {
        "id": "uRgs0r2Udbvn"
      },
      "outputs": [],
      "source": [
        "print('The test sharpe ratio is: ',calculate_sharpe(episode_total_assets))\n",
        "df_account_test = pd.DataFrame(data=episode_total_assets,columns=['account_value'])"
      ]
    }
  ],
  "metadata": {
    "accelerator": "GPU",
    "colab": {
      "collapsed_sections": [],
      "include_colab_link": true,
      "name": "FinRL Raytune for Hyperparameter Optimization.ipynb",
      "provenance": []
    },
    "kernelspec": {
      "display_name": "Python 3.8.2 ('FinRl')",
      "language": "python",
      "name": "python3"
    },
    "language_info": {
      "codemirror_mode": {
        "name": "ipython",
        "version": 3
      },
      "file_extension": ".py",
      "mimetype": "text/x-python",
      "name": "python",
      "nbconvert_exporter": "python",
      "pygments_lexer": "ipython3",
      "version": "3.8.2"
    },
    "vscode": {
      "interpreter": {
        "hash": "4a913f0b5b2020ea25813dce4293e7824585e87f8cd8de80d0bb160f8ff78697"
      }
    }
  },
  "nbformat": 4,
  "nbformat_minor": 0
}
