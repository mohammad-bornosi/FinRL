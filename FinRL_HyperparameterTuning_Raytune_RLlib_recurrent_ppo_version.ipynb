{
  "cells": [
    {
      "cell_type": "markdown",
      "metadata": {
        "colab_type": "text",
        "id": "view-in-github"
      },
      "source": [
        "<a href=\"https://colab.research.google.com/github/AI4Finance-Foundation/FinRL/blob/master/FinRL_Raytune_for_Hyperparameter_Optimization_RLlib%20Models.ipynb\" target=\"_parent\"><img src=\"https://colab.research.google.com/assets/colab-badge.svg\" alt=\"Open In Colab\"/></a>"
      ]
    },
    {
      "cell_type": "code",
      "execution_count": 5,
      "metadata": {
        "id": "ZMPanjastOY4"
      },
      "outputs": [
        {
          "name": "stderr",
          "output_type": "stream",
          "text": [
            "UsageError: Line magic function `%%capture` not found.\n"
          ]
        }
      ],
      "source": [
        "#Installing FinRL\n",
        "%%capture\n",
        "#!pip install git+https://github.com/AI4Finance-LLC/FinRL-Library.git"
      ]
    },
    {
      "cell_type": "code",
      "execution_count": 6,
      "metadata": {
        "id": "W_0SxBYTtWNB"
      },
      "outputs": [],
      "source": [
        "%%capture\n",
        "#!pip install \"ray[tune]\" optuna"
      ]
    },
    {
      "cell_type": "code",
      "execution_count": 7,
      "metadata": {
        "id": "kW4g9mfwMl7K"
      },
      "outputs": [],
      "source": [
        "%%capture\n",
        "#!pip install int_date==0.1.8"
      ]
    },
    {
      "cell_type": "code",
      "execution_count": 26,
      "metadata": {},
      "outputs": [],
      "source": [
        "%reload_ext autoreload\n",
        "%autoreload 2"
      ]
    },
    {
      "cell_type": "markdown",
      "metadata": {
        "id": "lPh7bRBVL9u3"
      },
      "source": [
        "#Importing libraries"
      ]
    },
    {
      "cell_type": "code",
      "execution_count": 27,
      "metadata": {
        "colab": {
          "base_uri": "https://localhost:8080/"
        },
        "id": "AnFm0-vntYQw",
        "outputId": "a0a02d75-faaf-4ea4-d38a-b1f0fb3d6103"
      },
      "outputs": [],
      "source": [
        "#Importing the libraries\n",
        "import pandas as pd\n",
        "import numpy as np\n",
        "import matplotlib\n",
        "import matplotlib.pyplot as plt\n",
        "# matplotlib.use('Agg')\n",
        "import datetime\n",
        "import optuna\n",
        "%matplotlib inline\n",
        "from finrl import config\n",
        "from finrl.finrl_meta.preprocessor.yahoodownloader import YahooDownloader\n",
        "from finrl.finrl_meta.preprocessor.preprocessors import FeatureEngineer, data_split\n",
        "from finrl.finrl_meta.env_stock_trading.env_stocktrading_np import StockTradingEnv as StockTradingEnv_numpy \n",
        "from finrl.agents.rllib.models import DRLAgent as DRLAgent_rllib\n",
        "from stable_baselines3.common.vec_env import DummyVecEnv\n",
        "from finrl.finrl_meta.data_processor import DataProcessor\n",
        "from finrl.plot import backtest_stats, backtest_plot, get_daily_return, get_baseline\n",
        "import ray\n",
        "from pprint import pprint\n",
        "from ray.rllib.agents.ppo import PPOTrainer\n",
        "from ray.rllib.agents.ddpg import DDPGTrainer\n",
        "from ray.rllib.agents.a3c import A2CTrainer\n",
        "from ray.rllib.agents.a3c import a2c\n",
        "from ray.rllib.agents.ddpg import ddpg, td3\n",
        "from ray.rllib.agents.ppo import ppo\n",
        "from ray.rllib.agents.sac import sac\n",
        "import sys\n",
        "sys.path.append(\"../FinRL-Library\")\n",
        "import os\n",
        "import itertools\n",
        "from ray import tune\n",
        "from ray.tune.suggest import ConcurrencyLimiter\n",
        "from ray.tune.schedulers import AsyncHyperBandScheduler\n",
        "from ray.tune.suggest.optuna import OptunaSearch\n",
        "\n",
        "from ray.tune.registry import register_env\n",
        "\n",
        "import time\n",
        "import psutil\n",
        "psutil_memory_in_bytes = psutil.virtual_memory().total\n",
        "ray._private.utils.get_system_memory = lambda: psutil_memory_in_bytes\n",
        "from typing import Dict, Optional, Any"
      ]
    },
    {
      "cell_type": "code",
      "execution_count": 3,
      "metadata": {
        "id": "F6DvqEVi3rxv"
      },
      "outputs": [],
      "source": [
        "import os\n",
        "root_path = 'MARKETS'\n",
        "from finrl import config\n",
        "from finrl import config_tickers\n",
        "import os\n",
        "from finrl.main import check_and_make_directories\n",
        "\n",
        "CHOOSEN_MARKET = 'Crypto_market' \n",
        "\n",
        "DATA_SAVE_DIR = os.path.join(root_path, CHOOSEN_MARKET, 'DATASET')\n",
        "TRAINED_MODEL_DIR = os.path.join(root_path, CHOOSEN_MARKET, 'TRAINED_MODEL_DIR')\n",
        "TENSORBOARD_LOG_DIR = os.path.join(root_path, CHOOSEN_MARKET, 'TENSORBOARD_LOG_DIR')\n",
        "RESULTS_DIR = os.path.join(root_path, CHOOSEN_MARKET, 'RESULTS_DIR')\n",
        "TUNED_MODELS_DIR = os.path.join(root_path, CHOOSEN_MARKET, 'TUNED_MODELS')\n",
        "\n",
        "check_and_make_directories([DATA_SAVE_DIR, TRAINED_MODEL_DIR, TENSORBOARD_LOG_DIR, RESULTS_DIR, TUNED_MODELS_DIR])\n",
        "\n",
        "#if not os.path.exists(\"./\" + config.DATA_SAVE_DIR):\n",
        "#    os.makedirs(\"./\" + config.DATA_SAVE_DIR)\n",
        "#if not os.path.exists(\"./\" + config.TRAINED_MODEL_DIR):\n",
        "#    os.makedirs(\"./\" + config.TRAINED_MODEL_DIR)\n",
        "#if not os.path.exists(\"./\" + config.TENSORBOARD_LOG_DIR):\n",
        "#    os.makedirs(\"./\" + config.TENSORBOARD_LOG_DIR)\n",
        "#if not os.path.exists(\"./\" + config.RESULTS_DIR):\n",
        "#    os.makedirs(\"./\" + config.RESULTS_DIR)\n",
        "# if not os.path.exists(\"./\" + \"tuned_models\"):\n",
        "#     os.makedirs(\"./\" + \"tuned_models\")"
      ]
    },
    {
      "cell_type": "markdown",
      "metadata": {
        "id": "rUTc0CApMCQP"
      },
      "source": [
        "##Defining the hyperparameter search space\n",
        "\n",
        "1. You can look up [here](https://docs.ray.io/en/latest/tune/key-concepts.html#search-spaces) to learn how to define hyperparameter search space\n",
        "2. Jump over to this [link](https://github.com/DLR-RM/rl-baselines3-zoo/blob/master/utils/hyperparams_opt.py) to find the range of different hyperparameter\n",
        "3. To learn about different hyperparameters for different algorithms for RLlib models, jump over to this [link](https://docs.ray.io/en/latest/rllib-algorithms.html)"
      ]
    },
    {
      "cell_type": "code",
      "execution_count": 10,
      "metadata": {
        "id": "c5luix7ZydIG"
      },
      "outputs": [],
      "source": [
        "def sample_ddpg_params():\n",
        "  \n",
        "  return {\n",
        "  \"buffer_size\": tune.choice([int(1e4), int(1e5), int(1e6)]),\n",
        "  \"lr\": tune.loguniform(1e-5, 1),\n",
        "  \"train_batch_size\": tune.choice([32, 64, 128, 256, 512])\n",
        "  }\n",
        "def sample_a2c_params():\n",
        "  \n",
        "  return{\n",
        "       \"lambda\": tune.choice([0.1,0.3,0.5,0.7,0.9,1.0]),\n",
        "      \"entropy_coeff\": tune.loguniform(0.00000001, 0.1),\n",
        "      \"lr\": tune.loguniform(1e-5, 1) \n",
        "      \n",
        "  }\n",
        "\n",
        "def sample_ppo_params():\n",
        "  return {\n",
        "      #\"entropy_coeff\": tune.loguniform(0.00000001, 0.1),\n",
        "      \"entropy_coeff\": tune.loguniform(0.0001, 0.1),\n",
        "      #\"lr\": tune.loguniform(5e-5, 1),\n",
        "      \"lr\": tune.loguniform(5e-4, 1),\n",
        "      \"sgd_minibatch_size\": tune.choice([ 32, 64, 128, 256, 512]),\n",
        "      \"lambda\": tune.choice([0.1,0.3,0.5,0.7,0.9,1.0])\n",
        "  }\n",
        "  "
      ]
    },
    {
      "cell_type": "code",
      "execution_count": 11,
      "metadata": {
        "id": "Yb3PMaAZ2gUy"
      },
      "outputs": [],
      "source": [
        "MODELS = {\"a2c\": a2c, \"ddpg\": ddpg, \"td3\": td3, \"sac\": sac, \"ppo\": ppo}"
      ]
    },
    {
      "cell_type": "markdown",
      "metadata": {
        "id": "ZWG4u7NsOI98"
      },
      "source": [
        "## Getting the training and testing environment"
      ]
    },
    {
      "cell_type": "code",
      "execution_count": 12,
      "metadata": {},
      "outputs": [],
      "source": [
        "from finrl.finrl_meta.preprocessor.CryptoDataReader import CryptoDataLoader\n",
        "import datetime\n",
        "from finrl.finrl_meta.env_stock_trading.env_stocktrading import StockTradingEnv\n"
      ]
    },
    {
      "cell_type": "code",
      "execution_count": 13,
      "metadata": {},
      "outputs": [],
      "source": [
        "api_key='cbj22uqad3i2thcmtg80'\n",
        "choosen_symbols = ['BTC', 'ETH', 'USDT', 'USDC', 'BNB', 'XRP', 'ADA', 'BUSD', 'SOL', 'DOT']"
      ]
    },
    {
      "cell_type": "code",
      "execution_count": 14,
      "metadata": {},
      "outputs": [],
      "source": [
        "def fix_date(crypto_df):\n",
        "    dates = []\n",
        "    for unixdate in crypto_df['date']:\n",
        "        utcdate = datetime.datetime.fromtimestamp(unixdate).strftime('%Y-%m-%d')\n",
        "        dates.append(utcdate)\n",
        "    crypto_df['date'] = dates\n",
        "    return crypto_df\n",
        "\n",
        "def fetch_data(API_KEY, choosen_symbols, start, end):\n",
        "    data_loader = CryptoDataLoader(choosen_symbols, API_KEY)\n",
        "    crypto_df = data_loader.load_crypto_candles(start= start, end= end)\n",
        "    crypto_df = data_loader.cleansing_holcv_dataframes(crypto_df)\n",
        "    crypto_df = fix_date(crypto_df)\n",
        "    data = crypto_df.copy()\n",
        "    data  = data_loader.crypto_clean_data(data)\n",
        "    \n",
        "    return data\n"
      ]
    },
    {
      "cell_type": "code",
      "execution_count": 15,
      "metadata": {},
      "outputs": [],
      "source": [
        "def config_env_kwargs(train):\n",
        "    stock_dimension = len(train.tic.unique())\n",
        "    state_space = 1 + len(config.INDICATORS)*stock_dimension + 2*stock_dimension\n",
        "    print(f\"Stock Dimension: {stock_dimension}, State Space: {state_space}\")\n",
        "    \n",
        "    buy_cost_list = sell_cost_list = [0.001] * stock_dimension\n",
        "    num_stock_shares = [0] * stock_dimension\n",
        "\n",
        "    env_kwargs = {\n",
        "        \"hmax\": 100,\n",
        "        \"initial_amount\": 1000000,\n",
        "        \"num_stock_shares\": num_stock_shares,\n",
        "        \"buy_cost_pct\": buy_cost_list,\n",
        "        \"sell_cost_pct\": sell_cost_list,\n",
        "        \"state_space\": state_space,\n",
        "        \"stock_dim\": stock_dimension,\n",
        "        \"tech_indicator_list\": config.INDICATORS,\n",
        "        \"action_space\": stock_dimension,\n",
        "        \"reward_scaling\": 1e-4\n",
        "    }\n",
        "    return env_kwargs"
      ]
    },
    {
      "cell_type": "code",
      "execution_count": 16,
      "metadata": {
        "id": "HmEAS3Vmt2d2"
      },
      "outputs": [],
      "source": [
        "def fetch_preprocess_data(API_KEY,start_date, end_date, choosen_symbols, \n",
        "          technical_indicator_list):\n",
        "    \n",
        "    #fetch data\n",
        "    #DP = DataProcessor(data_source, **kwargs)\n",
        "    #data = DP.download_data(ticker_list, start_date, end_date, time_interval)\n",
        "    #data = DP.clean_data(data)\n",
        "    #data = DP.add_technical_indicator(data, technical_indicator_list)\n",
        "    #if if_vix:\n",
        "    #    data = DP.add_vix(data)\n",
        "    #price_array, tech_array, turbulence_array = DP.df_to_array(data, if_vix)\n",
        "\n",
        "    data = fetch_data(API_KEY, choosen_symbols, start_date, end_date)\n",
        "\n",
        "    \n",
        "    fe = FeatureEngineer(\n",
        "                    use_technical_indicator = True,\n",
        "                    tech_indicator_list =  config.INDICATORS,\n",
        "                    use_vix= True ,\n",
        "                    use_turbulence=True,\n",
        "                    user_defined_feature = False)\n",
        "\n",
        "    processed = fe.preprocess_data(data)\n",
        "\n",
        "    list_ticker = processed[\"tic\"].unique().tolist()\n",
        "    list_date = list(pd.date_range(processed['date'].min(),processed['date'].max()).astype(str))\n",
        "    combination = list(itertools.product(list_date,list_ticker))\n",
        "    \n",
        "    processed_full = pd.DataFrame(combination,columns=[\"date\",\"tic\"]).merge(processed,on=[\"date\",\"tic\"],how=\"left\")\n",
        "    processed_full = processed_full[processed_full['date'].isin(processed['date'])]\n",
        "    processed_full = processed_full.sort_values(['date','tic'])\n",
        "\n",
        "    processed_full = processed_full.fillna(0)\n",
        "\n",
        "    train_start_date = datetime.datetime(2019,10,21).strftime('%Y-%m-%d')\n",
        "# from config.py TRAIN_END_DATE is a string\n",
        "    train_end_date = datetime.datetime(2021,4,24).strftime('%Y-%m-%d')\n",
        "    trade_end_date = datetime.datetime(2021,9,24).strftime('%Y-%m-%d')\n",
        "    train = data_split(processed_full, train_start_date ,train_end_date)\n",
        "    trade = data_split(processed_full, train_end_date ,trade_end_date)\n",
        "\n",
        "    return train, trade\n",
        "\n",
        "def get_train_env(train, env_kwargs):\n",
        "    e_train_gym = StockTradingEnv(df = train, **env_kwargs)\n",
        "    return e_train_gym"
      ]
    },
    {
      "cell_type": "code",
      "execution_count": 17,
      "metadata": {
        "id": "Sx6O3qevuaDC"
      },
      "outputs": [],
      "source": [
        "#Function to calculate the sharpe ratio from the list of total_episode_reward\n",
        "def calculate_sharpe(episode_reward:list):\n",
        "  perf_data = pd.DataFrame(data=episode_reward,columns=['reward'])\n",
        "  perf_data['daily_return'] = perf_data['reward'].pct_change(1)\n",
        "  if perf_data['daily_return'].std() !=0:\n",
        "    sharpe = (252**0.5)*perf_data['daily_return'].mean()/ \\\n",
        "          perf_data['daily_return'].std()\n",
        "    return sharpe\n",
        "  else:\n",
        "    return 0\n",
        "\n",
        "def get_test_config(trade, env_kwargs):\n",
        "  \n",
        "  ##DP = DataProcessor(data_source, **kwargs)\n",
        "  ##data = DP.download_data(ticker_list, start_date, end_date, time_interval)\n",
        "  ##data = DP.clean_data(data)\n",
        "  ##data = DP.add_technical_indicator(data, technical_indicator_list)\n",
        "  \n",
        "  ##if if_vix:\n",
        "  ##    data = DP.add_vix(data)\n",
        "  \n",
        "  ##price_array, tech_array, turbulence_array = DP.df_to_array(data, if_vix)\n",
        "  ##test_env_config = {'price_array':price_array,\n",
        "  ##          'tech_array':tech_array,\n",
        "  ##          'turbulence_array':turbulence_array,'if_train':False}\n",
        "  ##return test_env_config\n",
        "  \n",
        "  e_trade_gym = StockTradingEnv(df = trade,  turbulence_threshold = 70,risk_indicator_col='vix', **env_kwargs)\n",
        "\n",
        "\n",
        "def val_or_test(test_env_config,agent_path,model_name,env):\n",
        "  episode_total_reward = DRL_prediction(model_name,test_env_config,\n",
        "                                env = env,\n",
        "                                agent_path=agent_path)\n",
        "\n",
        "\n",
        "  return calculate_sharpe(episode_total_reward),episode_total_reward"
      ]
    },
    {
      "cell_type": "code",
      "execution_count": 18,
      "metadata": {
        "id": "HM12Fz7IrN4P"
      },
      "outputs": [],
      "source": [
        "TRAIN_START_DATE = datetime.date(2019,10,21).timetuple()\n",
        "TRAIN_END_DATE = datetime.date(2020,10,21).timetuple()\n",
        "\n",
        "VAL_START_DATE = datetime.date(2020,10,22).timetuple()\n",
        "VAL_END_DATE = datetime.date(2021,4,24).timetuple()\n",
        "\n",
        "TEST_START_DATE = datetime.date(2021,4,25).timetuple()\n",
        "TEST_END_DATE = datetime.date(2021,9,24).timetuple()"
      ]
    },
    {
      "cell_type": "code",
      "execution_count": 19,
      "metadata": {
        "id": "tjrZFwhLsHHH"
      },
      "outputs": [],
      "source": [
        "technical_indicator_list =config.INDICATORS\n",
        "model_name = 'ppo'\n"
      ]
    },
    {
      "cell_type": "code",
      "execution_count": 21,
      "metadata": {},
      "outputs": [
        {
          "data": {
            "text/plain": [
              "['macd',\n",
              " 'boll_ub',\n",
              " 'boll_lb',\n",
              " 'rsi_30',\n",
              " 'cci_30',\n",
              " 'dx_30',\n",
              " 'close_30_sma',\n",
              " 'close_60_sma']"
            ]
          },
          "execution_count": 21,
          "metadata": {},
          "output_type": "execute_result"
        }
      ],
      "source": [
        "technical_indicator_list"
      ]
    },
    {
      "cell_type": "code",
      "execution_count": 22,
      "metadata": {},
      "outputs": [],
      "source": [
        "api_key='cbj22uqad3i2thcmtg80'\n",
        "choosen_symbols = ['BTC', 'ETH', 'USDT', 'USDC', 'BNB', 'XRP', 'ADA', 'BUSD', 'SOL', 'DOT']"
      ]
    },
    {
      "cell_type": "code",
      "execution_count": 28,
      "metadata": {
        "colab": {
          "base_uri": "https://localhost:8080/"
        },
        "id": "ZwzmewVuyp6m",
        "outputId": "80f8ebb3-fbac-46ac-887b-ac37a9bdf6cd"
      },
      "outputs": [
        {
          "name": "stdout",
          "output_type": "stream",
          "text": [
            "tic\n",
            "BINANCE:ADABNB        0\n",
            "BINANCE:ADABTC        0\n",
            "BINANCE:ADABUSD      31\n",
            "BINANCE:ADAETH        0\n",
            "BINANCE:ADAUSDC       0\n",
            "BINANCE:ADAUSDT       0\n",
            "BINANCE:BNBBTC        0\n",
            "BINANCE:BNBBUSD       0\n",
            "BINANCE:BNBETH        0\n",
            "BINANCE:BNBUSDC       0\n",
            "BINANCE:BNBUSDT       0\n",
            "BINANCE:BTCBUSD       0\n",
            "BINANCE:BTCUSDC       0\n",
            "BINANCE:BTCUSDT       0\n",
            "BINANCE:BUSDUSDT      0\n",
            "BINANCE:DOTBNB      302\n",
            "BINANCE:DOTBTC      302\n",
            "BINANCE:DOTBUSD     302\n",
            "BINANCE:DOTUSDT     302\n",
            "BINANCE:ETHBTC        0\n",
            "BINANCE:ETHBUSD       0\n",
            "BINANCE:ETHUSDC       0\n",
            "BINANCE:ETHUSDT       0\n",
            "BINANCE:SOLBNB      172\n",
            "BINANCE:SOLBTC      172\n",
            "BINANCE:SOLBUSD     172\n",
            "BINANCE:SOLUSDC     704\n",
            "BINANCE:SOLUSDT     295\n",
            "BINANCE:USDCBUSD    462\n",
            "BINANCE:USDCUSDT      0\n",
            "BINANCE:XRPBNB        0\n",
            "BINANCE:XRPBTC        0\n",
            "BINANCE:XRPBUSD       0\n",
            "BINANCE:XRPETH        0\n",
            "BINANCE:XRPUSDC       0\n",
            "BINANCE:XRPUSDT       0\n",
            "dtype: int64\n"
          ]
        },
        {
          "name": "stderr",
          "output_type": "stream",
          "text": [
            "/mnt/f/financial_projects/Deep Reinforcement Learning Approaches on Stock Prediction/FinRL/finrl/finrl_meta/preprocessor/preprocessors.py:151: FutureWarning: The frame.append method is deprecated and will be removed from pandas in a future version. Use pandas.concat instead.\n",
            "  temp_indicator[\"tic\"] = unique_ticker[i]\n",
            "/mnt/f/financial_projects/Deep Reinforcement Learning Approaches on Stock Prediction/FinRL/finrl/finrl_meta/preprocessor/preprocessors.py:151: FutureWarning: The frame.append method is deprecated and will be removed from pandas in a future version. Use pandas.concat instead.\n",
            "  temp_indicator[\"tic\"] = unique_ticker[i]\n",
            "/mnt/f/financial_projects/Deep Reinforcement Learning Approaches on Stock Prediction/FinRL/finrl/finrl_meta/preprocessor/preprocessors.py:151: FutureWarning: The frame.append method is deprecated and will be removed from pandas in a future version. Use pandas.concat instead.\n",
            "  temp_indicator[\"tic\"] = unique_ticker[i]\n",
            "/mnt/f/financial_projects/Deep Reinforcement Learning Approaches on Stock Prediction/FinRL/finrl/finrl_meta/preprocessor/preprocessors.py:151: FutureWarning: The frame.append method is deprecated and will be removed from pandas in a future version. Use pandas.concat instead.\n",
            "  temp_indicator[\"tic\"] = unique_ticker[i]\n",
            "/mnt/f/financial_projects/Deep Reinforcement Learning Approaches on Stock Prediction/FinRL/finrl/finrl_meta/preprocessor/preprocessors.py:151: FutureWarning: The frame.append method is deprecated and will be removed from pandas in a future version. Use pandas.concat instead.\n",
            "  temp_indicator[\"tic\"] = unique_ticker[i]\n",
            "/mnt/f/financial_projects/Deep Reinforcement Learning Approaches on Stock Prediction/FinRL/finrl/finrl_meta/preprocessor/preprocessors.py:151: FutureWarning: The frame.append method is deprecated and will be removed from pandas in a future version. Use pandas.concat instead.\n",
            "  temp_indicator[\"tic\"] = unique_ticker[i]\n",
            "/mnt/f/financial_projects/Deep Reinforcement Learning Approaches on Stock Prediction/FinRL/finrl/finrl_meta/preprocessor/preprocessors.py:151: FutureWarning: The frame.append method is deprecated and will be removed from pandas in a future version. Use pandas.concat instead.\n",
            "  temp_indicator[\"tic\"] = unique_ticker[i]\n",
            "/mnt/f/financial_projects/Deep Reinforcement Learning Approaches on Stock Prediction/FinRL/finrl/finrl_meta/preprocessor/preprocessors.py:151: FutureWarning: The frame.append method is deprecated and will be removed from pandas in a future version. Use pandas.concat instead.\n",
            "  temp_indicator[\"tic\"] = unique_ticker[i]\n",
            "/mnt/f/financial_projects/Deep Reinforcement Learning Approaches on Stock Prediction/FinRL/finrl/finrl_meta/preprocessor/preprocessors.py:151: FutureWarning: The frame.append method is deprecated and will be removed from pandas in a future version. Use pandas.concat instead.\n",
            "  temp_indicator[\"tic\"] = unique_ticker[i]\n",
            "/mnt/f/financial_projects/Deep Reinforcement Learning Approaches on Stock Prediction/FinRL/finrl/finrl_meta/preprocessor/preprocessors.py:151: FutureWarning: The frame.append method is deprecated and will be removed from pandas in a future version. Use pandas.concat instead.\n",
            "  temp_indicator[\"tic\"] = unique_ticker[i]\n",
            "/mnt/f/financial_projects/Deep Reinforcement Learning Approaches on Stock Prediction/FinRL/finrl/finrl_meta/preprocessor/preprocessors.py:151: FutureWarning: The frame.append method is deprecated and will be removed from pandas in a future version. Use pandas.concat instead.\n",
            "  temp_indicator[\"tic\"] = unique_ticker[i]\n",
            "/mnt/f/financial_projects/Deep Reinforcement Learning Approaches on Stock Prediction/FinRL/finrl/finrl_meta/preprocessor/preprocessors.py:151: FutureWarning: The frame.append method is deprecated and will be removed from pandas in a future version. Use pandas.concat instead.\n",
            "  temp_indicator[\"tic\"] = unique_ticker[i]\n",
            "/mnt/f/financial_projects/Deep Reinforcement Learning Approaches on Stock Prediction/FinRL/finrl/finrl_meta/preprocessor/preprocessors.py:151: FutureWarning: The frame.append method is deprecated and will be removed from pandas in a future version. Use pandas.concat instead.\n",
            "  temp_indicator[\"tic\"] = unique_ticker[i]\n",
            "/mnt/f/financial_projects/Deep Reinforcement Learning Approaches on Stock Prediction/FinRL/finrl/finrl_meta/preprocessor/preprocessors.py:151: FutureWarning: The frame.append method is deprecated and will be removed from pandas in a future version. Use pandas.concat instead.\n",
            "  temp_indicator[\"tic\"] = unique_ticker[i]\n",
            "/mnt/f/financial_projects/Deep Reinforcement Learning Approaches on Stock Prediction/FinRL/finrl/finrl_meta/preprocessor/preprocessors.py:151: FutureWarning: The frame.append method is deprecated and will be removed from pandas in a future version. Use pandas.concat instead.\n",
            "  temp_indicator[\"tic\"] = unique_ticker[i]\n",
            "/mnt/f/financial_projects/Deep Reinforcement Learning Approaches on Stock Prediction/FinRL/finrl/finrl_meta/preprocessor/preprocessors.py:151: FutureWarning: The frame.append method is deprecated and will be removed from pandas in a future version. Use pandas.concat instead.\n",
            "  temp_indicator[\"tic\"] = unique_ticker[i]\n",
            "/mnt/f/financial_projects/Deep Reinforcement Learning Approaches on Stock Prediction/FinRL/finrl/finrl_meta/preprocessor/preprocessors.py:151: FutureWarning: The frame.append method is deprecated and will be removed from pandas in a future version. Use pandas.concat instead.\n",
            "  temp_indicator[\"tic\"] = unique_ticker[i]\n",
            "/mnt/f/financial_projects/Deep Reinforcement Learning Approaches on Stock Prediction/FinRL/finrl/finrl_meta/preprocessor/preprocessors.py:151: FutureWarning: The frame.append method is deprecated and will be removed from pandas in a future version. Use pandas.concat instead.\n",
            "  temp_indicator[\"tic\"] = unique_ticker[i]\n",
            "/mnt/f/financial_projects/Deep Reinforcement Learning Approaches on Stock Prediction/FinRL/finrl/finrl_meta/preprocessor/preprocessors.py:151: FutureWarning: The frame.append method is deprecated and will be removed from pandas in a future version. Use pandas.concat instead.\n",
            "  temp_indicator[\"tic\"] = unique_ticker[i]\n",
            "/mnt/f/financial_projects/Deep Reinforcement Learning Approaches on Stock Prediction/FinRL/finrl/finrl_meta/preprocessor/preprocessors.py:151: FutureWarning: The frame.append method is deprecated and will be removed from pandas in a future version. Use pandas.concat instead.\n",
            "  temp_indicator[\"tic\"] = unique_ticker[i]\n",
            "/mnt/f/financial_projects/Deep Reinforcement Learning Approaches on Stock Prediction/FinRL/finrl/finrl_meta/preprocessor/preprocessors.py:151: FutureWarning: The frame.append method is deprecated and will be removed from pandas in a future version. Use pandas.concat instead.\n",
            "  temp_indicator[\"tic\"] = unique_ticker[i]\n",
            "/mnt/f/financial_projects/Deep Reinforcement Learning Approaches on Stock Prediction/FinRL/finrl/finrl_meta/preprocessor/preprocessors.py:151: FutureWarning: The frame.append method is deprecated and will be removed from pandas in a future version. Use pandas.concat instead.\n",
            "  temp_indicator[\"tic\"] = unique_ticker[i]\n",
            "/mnt/f/financial_projects/Deep Reinforcement Learning Approaches on Stock Prediction/FinRL/finrl/finrl_meta/preprocessor/preprocessors.py:151: FutureWarning: The frame.append method is deprecated and will be removed from pandas in a future version. Use pandas.concat instead.\n",
            "  temp_indicator[\"tic\"] = unique_ticker[i]\n",
            "/mnt/f/financial_projects/Deep Reinforcement Learning Approaches on Stock Prediction/FinRL/finrl/finrl_meta/preprocessor/preprocessors.py:151: FutureWarning: The frame.append method is deprecated and will be removed from pandas in a future version. Use pandas.concat instead.\n",
            "  temp_indicator[\"tic\"] = unique_ticker[i]\n",
            "/mnt/f/financial_projects/Deep Reinforcement Learning Approaches on Stock Prediction/FinRL/finrl/finrl_meta/preprocessor/preprocessors.py:151: FutureWarning: The frame.append method is deprecated and will be removed from pandas in a future version. Use pandas.concat instead.\n",
            "  temp_indicator[\"tic\"] = unique_ticker[i]\n",
            "/mnt/f/financial_projects/Deep Reinforcement Learning Approaches on Stock Prediction/FinRL/finrl/finrl_meta/preprocessor/preprocessors.py:151: FutureWarning: The frame.append method is deprecated and will be removed from pandas in a future version. Use pandas.concat instead.\n",
            "  temp_indicator[\"tic\"] = unique_ticker[i]\n",
            "/mnt/f/financial_projects/Deep Reinforcement Learning Approaches on Stock Prediction/FinRL/finrl/finrl_meta/preprocessor/preprocessors.py:151: FutureWarning: The frame.append method is deprecated and will be removed from pandas in a future version. Use pandas.concat instead.\n",
            "  temp_indicator[\"tic\"] = unique_ticker[i]\n",
            "/mnt/f/financial_projects/Deep Reinforcement Learning Approaches on Stock Prediction/FinRL/finrl/finrl_meta/preprocessor/preprocessors.py:151: FutureWarning: The frame.append method is deprecated and will be removed from pandas in a future version. Use pandas.concat instead.\n",
            "  temp_indicator[\"tic\"] = unique_ticker[i]\n",
            "/mnt/f/financial_projects/Deep Reinforcement Learning Approaches on Stock Prediction/FinRL/finrl/finrl_meta/preprocessor/preprocessors.py:151: FutureWarning: The frame.append method is deprecated and will be removed from pandas in a future version. Use pandas.concat instead.\n",
            "  temp_indicator[\"tic\"] = unique_ticker[i]\n",
            "/mnt/f/financial_projects/Deep Reinforcement Learning Approaches on Stock Prediction/FinRL/finrl/finrl_meta/preprocessor/preprocessors.py:151: FutureWarning: The frame.append method is deprecated and will be removed from pandas in a future version. Use pandas.concat instead.\n",
            "  temp_indicator[\"tic\"] = unique_ticker[i]\n",
            "/mnt/f/financial_projects/Deep Reinforcement Learning Approaches on Stock Prediction/FinRL/finrl/finrl_meta/preprocessor/preprocessors.py:151: FutureWarning: The frame.append method is deprecated and will be removed from pandas in a future version. Use pandas.concat instead.\n",
            "  temp_indicator[\"tic\"] = unique_ticker[i]\n",
            "/mnt/f/financial_projects/Deep Reinforcement Learning Approaches on Stock Prediction/FinRL/finrl/finrl_meta/preprocessor/preprocessors.py:151: FutureWarning: The frame.append method is deprecated and will be removed from pandas in a future version. Use pandas.concat instead.\n",
            "  temp_indicator[\"tic\"] = unique_ticker[i]\n",
            "/mnt/f/financial_projects/Deep Reinforcement Learning Approaches on Stock Prediction/FinRL/finrl/finrl_meta/preprocessor/preprocessors.py:151: FutureWarning: The frame.append method is deprecated and will be removed from pandas in a future version. Use pandas.concat instead.\n",
            "  temp_indicator[\"tic\"] = unique_ticker[i]\n",
            "/mnt/f/financial_projects/Deep Reinforcement Learning Approaches on Stock Prediction/FinRL/finrl/finrl_meta/preprocessor/preprocessors.py:151: FutureWarning: The frame.append method is deprecated and will be removed from pandas in a future version. Use pandas.concat instead.\n",
            "  temp_indicator[\"tic\"] = unique_ticker[i]\n",
            "/mnt/f/financial_projects/Deep Reinforcement Learning Approaches on Stock Prediction/FinRL/finrl/finrl_meta/preprocessor/preprocessors.py:151: FutureWarning: The frame.append method is deprecated and will be removed from pandas in a future version. Use pandas.concat instead.\n",
            "  temp_indicator[\"tic\"] = unique_ticker[i]\n",
            "/mnt/f/financial_projects/Deep Reinforcement Learning Approaches on Stock Prediction/FinRL/finrl/finrl_meta/preprocessor/preprocessors.py:151: FutureWarning: The frame.append method is deprecated and will be removed from pandas in a future version. Use pandas.concat instead.\n",
            "  temp_indicator[\"tic\"] = unique_ticker[i]\n",
            "/mnt/f/financial_projects/Deep Reinforcement Learning Approaches on Stock Prediction/FinRL/finrl/finrl_meta/preprocessor/preprocessors.py:151: FutureWarning: The frame.append method is deprecated and will be removed from pandas in a future version. Use pandas.concat instead.\n",
            "  temp_indicator[\"tic\"] = unique_ticker[i]\n",
            "/mnt/f/financial_projects/Deep Reinforcement Learning Approaches on Stock Prediction/FinRL/finrl/finrl_meta/preprocessor/preprocessors.py:151: FutureWarning: The frame.append method is deprecated and will be removed from pandas in a future version. Use pandas.concat instead.\n",
            "  temp_indicator[\"tic\"] = unique_ticker[i]\n",
            "/mnt/f/financial_projects/Deep Reinforcement Learning Approaches on Stock Prediction/FinRL/finrl/finrl_meta/preprocessor/preprocessors.py:151: FutureWarning: The frame.append method is deprecated and will be removed from pandas in a future version. Use pandas.concat instead.\n",
            "  temp_indicator[\"tic\"] = unique_ticker[i]\n",
            "/mnt/f/financial_projects/Deep Reinforcement Learning Approaches on Stock Prediction/FinRL/finrl/finrl_meta/preprocessor/preprocessors.py:151: FutureWarning: The frame.append method is deprecated and will be removed from pandas in a future version. Use pandas.concat instead.\n",
            "  temp_indicator[\"tic\"] = unique_ticker[i]\n",
            "/mnt/f/financial_projects/Deep Reinforcement Learning Approaches on Stock Prediction/FinRL/finrl/finrl_meta/preprocessor/preprocessors.py:151: FutureWarning: The frame.append method is deprecated and will be removed from pandas in a future version. Use pandas.concat instead.\n",
            "  temp_indicator[\"tic\"] = unique_ticker[i]\n",
            "/mnt/f/financial_projects/Deep Reinforcement Learning Approaches on Stock Prediction/FinRL/finrl/finrl_meta/preprocessor/preprocessors.py:151: FutureWarning: The frame.append method is deprecated and will be removed from pandas in a future version. Use pandas.concat instead.\n",
            "  temp_indicator[\"tic\"] = unique_ticker[i]\n",
            "/mnt/f/financial_projects/Deep Reinforcement Learning Approaches on Stock Prediction/FinRL/finrl/finrl_meta/preprocessor/preprocessors.py:151: FutureWarning: The frame.append method is deprecated and will be removed from pandas in a future version. Use pandas.concat instead.\n",
            "  temp_indicator[\"tic\"] = unique_ticker[i]\n",
            "/mnt/f/financial_projects/Deep Reinforcement Learning Approaches on Stock Prediction/FinRL/finrl/finrl_meta/preprocessor/preprocessors.py:151: FutureWarning: The frame.append method is deprecated and will be removed from pandas in a future version. Use pandas.concat instead.\n",
            "  temp_indicator[\"tic\"] = unique_ticker[i]\n",
            "/mnt/f/financial_projects/Deep Reinforcement Learning Approaches on Stock Prediction/FinRL/finrl/finrl_meta/preprocessor/preprocessors.py:151: FutureWarning: The frame.append method is deprecated and will be removed from pandas in a future version. Use pandas.concat instead.\n",
            "  temp_indicator[\"tic\"] = unique_ticker[i]\n",
            "/mnt/f/financial_projects/Deep Reinforcement Learning Approaches on Stock Prediction/FinRL/finrl/finrl_meta/preprocessor/preprocessors.py:151: FutureWarning: The frame.append method is deprecated and will be removed from pandas in a future version. Use pandas.concat instead.\n",
            "  temp_indicator[\"tic\"] = unique_ticker[i]\n",
            "/mnt/f/financial_projects/Deep Reinforcement Learning Approaches on Stock Prediction/FinRL/finrl/finrl_meta/preprocessor/preprocessors.py:151: FutureWarning: The frame.append method is deprecated and will be removed from pandas in a future version. Use pandas.concat instead.\n",
            "  temp_indicator[\"tic\"] = unique_ticker[i]\n",
            "/mnt/f/financial_projects/Deep Reinforcement Learning Approaches on Stock Prediction/FinRL/finrl/finrl_meta/preprocessor/preprocessors.py:151: FutureWarning: The frame.append method is deprecated and will be removed from pandas in a future version. Use pandas.concat instead.\n",
            "  temp_indicator[\"tic\"] = unique_ticker[i]\n",
            "/mnt/f/financial_projects/Deep Reinforcement Learning Approaches on Stock Prediction/FinRL/finrl/finrl_meta/preprocessor/preprocessors.py:151: FutureWarning: The frame.append method is deprecated and will be removed from pandas in a future version. Use pandas.concat instead.\n",
            "  temp_indicator[\"tic\"] = unique_ticker[i]\n",
            "/mnt/f/financial_projects/Deep Reinforcement Learning Approaches on Stock Prediction/FinRL/finrl/finrl_meta/preprocessor/preprocessors.py:151: FutureWarning: The frame.append method is deprecated and will be removed from pandas in a future version. Use pandas.concat instead.\n",
            "  temp_indicator[\"tic\"] = unique_ticker[i]\n",
            "/mnt/f/financial_projects/Deep Reinforcement Learning Approaches on Stock Prediction/FinRL/finrl/finrl_meta/preprocessor/preprocessors.py:151: FutureWarning: The frame.append method is deprecated and will be removed from pandas in a future version. Use pandas.concat instead.\n",
            "  temp_indicator[\"tic\"] = unique_ticker[i]\n",
            "/mnt/f/financial_projects/Deep Reinforcement Learning Approaches on Stock Prediction/FinRL/finrl/finrl_meta/preprocessor/preprocessors.py:151: FutureWarning: The frame.append method is deprecated and will be removed from pandas in a future version. Use pandas.concat instead.\n",
            "  temp_indicator[\"tic\"] = unique_ticker[i]\n",
            "/mnt/f/financial_projects/Deep Reinforcement Learning Approaches on Stock Prediction/FinRL/finrl/finrl_meta/preprocessor/preprocessors.py:151: FutureWarning: The frame.append method is deprecated and will be removed from pandas in a future version. Use pandas.concat instead.\n",
            "  temp_indicator[\"tic\"] = unique_ticker[i]\n",
            "/mnt/f/financial_projects/Deep Reinforcement Learning Approaches on Stock Prediction/FinRL/finrl/finrl_meta/preprocessor/preprocessors.py:151: FutureWarning: The frame.append method is deprecated and will be removed from pandas in a future version. Use pandas.concat instead.\n",
            "  temp_indicator[\"tic\"] = unique_ticker[i]\n",
            "/mnt/f/financial_projects/Deep Reinforcement Learning Approaches on Stock Prediction/FinRL/finrl/finrl_meta/preprocessor/preprocessors.py:151: FutureWarning: The frame.append method is deprecated and will be removed from pandas in a future version. Use pandas.concat instead.\n",
            "  temp_indicator[\"tic\"] = unique_ticker[i]\n",
            "/mnt/f/financial_projects/Deep Reinforcement Learning Approaches on Stock Prediction/FinRL/finrl/finrl_meta/preprocessor/preprocessors.py:151: FutureWarning: The frame.append method is deprecated and will be removed from pandas in a future version. Use pandas.concat instead.\n",
            "  temp_indicator[\"tic\"] = unique_ticker[i]\n",
            "/mnt/f/financial_projects/Deep Reinforcement Learning Approaches on Stock Prediction/FinRL/finrl/finrl_meta/preprocessor/preprocessors.py:151: FutureWarning: The frame.append method is deprecated and will be removed from pandas in a future version. Use pandas.concat instead.\n",
            "  temp_indicator[\"tic\"] = unique_ticker[i]\n",
            "/mnt/f/financial_projects/Deep Reinforcement Learning Approaches on Stock Prediction/FinRL/finrl/finrl_meta/preprocessor/preprocessors.py:151: FutureWarning: The frame.append method is deprecated and will be removed from pandas in a future version. Use pandas.concat instead.\n",
            "  temp_indicator[\"tic\"] = unique_ticker[i]\n",
            "/mnt/f/financial_projects/Deep Reinforcement Learning Approaches on Stock Prediction/FinRL/finrl/finrl_meta/preprocessor/preprocessors.py:151: FutureWarning: The frame.append method is deprecated and will be removed from pandas in a future version. Use pandas.concat instead.\n",
            "  temp_indicator[\"tic\"] = unique_ticker[i]\n",
            "/mnt/f/financial_projects/Deep Reinforcement Learning Approaches on Stock Prediction/FinRL/finrl/finrl_meta/preprocessor/preprocessors.py:151: FutureWarning: The frame.append method is deprecated and will be removed from pandas in a future version. Use pandas.concat instead.\n",
            "  temp_indicator[\"tic\"] = unique_ticker[i]\n",
            "/mnt/f/financial_projects/Deep Reinforcement Learning Approaches on Stock Prediction/FinRL/finrl/finrl_meta/preprocessor/preprocessors.py:151: FutureWarning: The frame.append method is deprecated and will be removed from pandas in a future version. Use pandas.concat instead.\n",
            "  temp_indicator[\"tic\"] = unique_ticker[i]\n",
            "/mnt/f/financial_projects/Deep Reinforcement Learning Approaches on Stock Prediction/FinRL/finrl/finrl_meta/preprocessor/preprocessors.py:151: FutureWarning: The frame.append method is deprecated and will be removed from pandas in a future version. Use pandas.concat instead.\n",
            "  temp_indicator[\"tic\"] = unique_ticker[i]\n",
            "/mnt/f/financial_projects/Deep Reinforcement Learning Approaches on Stock Prediction/FinRL/finrl/finrl_meta/preprocessor/preprocessors.py:151: FutureWarning: The frame.append method is deprecated and will be removed from pandas in a future version. Use pandas.concat instead.\n",
            "  temp_indicator[\"tic\"] = unique_ticker[i]\n",
            "/mnt/f/financial_projects/Deep Reinforcement Learning Approaches on Stock Prediction/FinRL/finrl/finrl_meta/preprocessor/preprocessors.py:151: FutureWarning: The frame.append method is deprecated and will be removed from pandas in a future version. Use pandas.concat instead.\n",
            "  temp_indicator[\"tic\"] = unique_ticker[i]\n",
            "/mnt/f/financial_projects/Deep Reinforcement Learning Approaches on Stock Prediction/FinRL/finrl/finrl_meta/preprocessor/preprocessors.py:151: FutureWarning: The frame.append method is deprecated and will be removed from pandas in a future version. Use pandas.concat instead.\n",
            "  temp_indicator[\"tic\"] = unique_ticker[i]\n",
            "/mnt/f/financial_projects/Deep Reinforcement Learning Approaches on Stock Prediction/FinRL/finrl/finrl_meta/preprocessor/preprocessors.py:151: FutureWarning: The frame.append method is deprecated and will be removed from pandas in a future version. Use pandas.concat instead.\n",
            "  temp_indicator[\"tic\"] = unique_ticker[i]\n",
            "/mnt/f/financial_projects/Deep Reinforcement Learning Approaches on Stock Prediction/FinRL/finrl/finrl_meta/preprocessor/preprocessors.py:151: FutureWarning: The frame.append method is deprecated and will be removed from pandas in a future version. Use pandas.concat instead.\n",
            "  temp_indicator[\"tic\"] = unique_ticker[i]\n",
            "/mnt/f/financial_projects/Deep Reinforcement Learning Approaches on Stock Prediction/FinRL/finrl/finrl_meta/preprocessor/preprocessors.py:151: FutureWarning: The frame.append method is deprecated and will be removed from pandas in a future version. Use pandas.concat instead.\n",
            "  temp_indicator[\"tic\"] = unique_ticker[i]\n",
            "/mnt/f/financial_projects/Deep Reinforcement Learning Approaches on Stock Prediction/FinRL/finrl/finrl_meta/preprocessor/preprocessors.py:151: FutureWarning: The frame.append method is deprecated and will be removed from pandas in a future version. Use pandas.concat instead.\n",
            "  temp_indicator[\"tic\"] = unique_ticker[i]\n",
            "/mnt/f/financial_projects/Deep Reinforcement Learning Approaches on Stock Prediction/FinRL/finrl/finrl_meta/preprocessor/preprocessors.py:151: FutureWarning: The frame.append method is deprecated and will be removed from pandas in a future version. Use pandas.concat instead.\n",
            "  temp_indicator[\"tic\"] = unique_ticker[i]\n",
            "/mnt/f/financial_projects/Deep Reinforcement Learning Approaches on Stock Prediction/FinRL/finrl/finrl_meta/preprocessor/preprocessors.py:151: FutureWarning: The frame.append method is deprecated and will be removed from pandas in a future version. Use pandas.concat instead.\n",
            "  temp_indicator[\"tic\"] = unique_ticker[i]\n",
            "/mnt/f/financial_projects/Deep Reinforcement Learning Approaches on Stock Prediction/FinRL/finrl/finrl_meta/preprocessor/preprocessors.py:151: FutureWarning: The frame.append method is deprecated and will be removed from pandas in a future version. Use pandas.concat instead.\n",
            "  temp_indicator[\"tic\"] = unique_ticker[i]\n",
            "/mnt/f/financial_projects/Deep Reinforcement Learning Approaches on Stock Prediction/FinRL/finrl/finrl_meta/preprocessor/preprocessors.py:151: FutureWarning: The frame.append method is deprecated and will be removed from pandas in a future version. Use pandas.concat instead.\n",
            "  temp_indicator[\"tic\"] = unique_ticker[i]\n",
            "/mnt/f/financial_projects/Deep Reinforcement Learning Approaches on Stock Prediction/FinRL/finrl/finrl_meta/preprocessor/preprocessors.py:151: FutureWarning: The frame.append method is deprecated and will be removed from pandas in a future version. Use pandas.concat instead.\n",
            "  temp_indicator[\"tic\"] = unique_ticker[i]\n",
            "/mnt/f/financial_projects/Deep Reinforcement Learning Approaches on Stock Prediction/FinRL/finrl/finrl_meta/preprocessor/preprocessors.py:151: FutureWarning: The frame.append method is deprecated and will be removed from pandas in a future version. Use pandas.concat instead.\n",
            "  temp_indicator[\"tic\"] = unique_ticker[i]\n",
            "/mnt/f/financial_projects/Deep Reinforcement Learning Approaches on Stock Prediction/FinRL/finrl/finrl_meta/preprocessor/preprocessors.py:151: FutureWarning: The frame.append method is deprecated and will be removed from pandas in a future version. Use pandas.concat instead.\n",
            "  temp_indicator[\"tic\"] = unique_ticker[i]\n",
            "/mnt/f/financial_projects/Deep Reinforcement Learning Approaches on Stock Prediction/FinRL/finrl/finrl_meta/preprocessor/preprocessors.py:151: FutureWarning: The frame.append method is deprecated and will be removed from pandas in a future version. Use pandas.concat instead.\n",
            "  temp_indicator[\"tic\"] = unique_ticker[i]\n",
            "/mnt/f/financial_projects/Deep Reinforcement Learning Approaches on Stock Prediction/FinRL/finrl/finrl_meta/preprocessor/preprocessors.py:151: FutureWarning: The frame.append method is deprecated and will be removed from pandas in a future version. Use pandas.concat instead.\n",
            "  temp_indicator[\"tic\"] = unique_ticker[i]\n",
            "/mnt/f/financial_projects/Deep Reinforcement Learning Approaches on Stock Prediction/FinRL/finrl/finrl_meta/preprocessor/preprocessors.py:151: FutureWarning: The frame.append method is deprecated and will be removed from pandas in a future version. Use pandas.concat instead.\n",
            "  temp_indicator[\"tic\"] = unique_ticker[i]\n",
            "/mnt/f/financial_projects/Deep Reinforcement Learning Approaches on Stock Prediction/FinRL/finrl/finrl_meta/preprocessor/preprocessors.py:151: FutureWarning: The frame.append method is deprecated and will be removed from pandas in a future version. Use pandas.concat instead.\n",
            "  temp_indicator[\"tic\"] = unique_ticker[i]\n",
            "/mnt/f/financial_projects/Deep Reinforcement Learning Approaches on Stock Prediction/FinRL/finrl/finrl_meta/preprocessor/preprocessors.py:151: FutureWarning: The frame.append method is deprecated and will be removed from pandas in a future version. Use pandas.concat instead.\n",
            "  temp_indicator[\"tic\"] = unique_ticker[i]\n",
            "/mnt/f/financial_projects/Deep Reinforcement Learning Approaches on Stock Prediction/FinRL/finrl/finrl_meta/preprocessor/preprocessors.py:151: FutureWarning: The frame.append method is deprecated and will be removed from pandas in a future version. Use pandas.concat instead.\n",
            "  temp_indicator[\"tic\"] = unique_ticker[i]\n",
            "/mnt/f/financial_projects/Deep Reinforcement Learning Approaches on Stock Prediction/FinRL/finrl/finrl_meta/preprocessor/preprocessors.py:151: FutureWarning: The frame.append method is deprecated and will be removed from pandas in a future version. Use pandas.concat instead.\n",
            "  temp_indicator[\"tic\"] = unique_ticker[i]\n",
            "/mnt/f/financial_projects/Deep Reinforcement Learning Approaches on Stock Prediction/FinRL/finrl/finrl_meta/preprocessor/preprocessors.py:151: FutureWarning: The frame.append method is deprecated and will be removed from pandas in a future version. Use pandas.concat instead.\n",
            "  temp_indicator[\"tic\"] = unique_ticker[i]\n",
            "/mnt/f/financial_projects/Deep Reinforcement Learning Approaches on Stock Prediction/FinRL/finrl/finrl_meta/preprocessor/preprocessors.py:151: FutureWarning: The frame.append method is deprecated and will be removed from pandas in a future version. Use pandas.concat instead.\n",
            "  temp_indicator[\"tic\"] = unique_ticker[i]\n",
            "/mnt/f/financial_projects/Deep Reinforcement Learning Approaches on Stock Prediction/FinRL/finrl/finrl_meta/preprocessor/preprocessors.py:151: FutureWarning: The frame.append method is deprecated and will be removed from pandas in a future version. Use pandas.concat instead.\n",
            "  temp_indicator[\"tic\"] = unique_ticker[i]\n",
            "/mnt/f/financial_projects/Deep Reinforcement Learning Approaches on Stock Prediction/FinRL/finrl/finrl_meta/preprocessor/preprocessors.py:151: FutureWarning: The frame.append method is deprecated and will be removed from pandas in a future version. Use pandas.concat instead.\n",
            "  temp_indicator[\"tic\"] = unique_ticker[i]\n",
            "/mnt/f/financial_projects/Deep Reinforcement Learning Approaches on Stock Prediction/FinRL/finrl/finrl_meta/preprocessor/preprocessors.py:151: FutureWarning: The frame.append method is deprecated and will be removed from pandas in a future version. Use pandas.concat instead.\n",
            "  temp_indicator[\"tic\"] = unique_ticker[i]\n",
            "/mnt/f/financial_projects/Deep Reinforcement Learning Approaches on Stock Prediction/FinRL/finrl/finrl_meta/preprocessor/preprocessors.py:151: FutureWarning: The frame.append method is deprecated and will be removed from pandas in a future version. Use pandas.concat instead.\n",
            "  temp_indicator[\"tic\"] = unique_ticker[i]\n",
            "/mnt/f/financial_projects/Deep Reinforcement Learning Approaches on Stock Prediction/FinRL/finrl/finrl_meta/preprocessor/preprocessors.py:151: FutureWarning: The frame.append method is deprecated and will be removed from pandas in a future version. Use pandas.concat instead.\n",
            "  temp_indicator[\"tic\"] = unique_ticker[i]\n",
            "/mnt/f/financial_projects/Deep Reinforcement Learning Approaches on Stock Prediction/FinRL/finrl/finrl_meta/preprocessor/preprocessors.py:151: FutureWarning: The frame.append method is deprecated and will be removed from pandas in a future version. Use pandas.concat instead.\n",
            "  temp_indicator[\"tic\"] = unique_ticker[i]\n",
            "/mnt/f/financial_projects/Deep Reinforcement Learning Approaches on Stock Prediction/FinRL/finrl/finrl_meta/preprocessor/preprocessors.py:151: FutureWarning: The frame.append method is deprecated and will be removed from pandas in a future version. Use pandas.concat instead.\n",
            "  temp_indicator[\"tic\"] = unique_ticker[i]\n",
            "/mnt/f/financial_projects/Deep Reinforcement Learning Approaches on Stock Prediction/FinRL/finrl/finrl_meta/preprocessor/preprocessors.py:151: FutureWarning: The frame.append method is deprecated and will be removed from pandas in a future version. Use pandas.concat instead.\n",
            "  temp_indicator[\"tic\"] = unique_ticker[i]\n",
            "/mnt/f/financial_projects/Deep Reinforcement Learning Approaches on Stock Prediction/FinRL/finrl/finrl_meta/preprocessor/preprocessors.py:151: FutureWarning: The frame.append method is deprecated and will be removed from pandas in a future version. Use pandas.concat instead.\n",
            "  temp_indicator[\"tic\"] = unique_ticker[i]\n",
            "/mnt/f/financial_projects/Deep Reinforcement Learning Approaches on Stock Prediction/FinRL/finrl/finrl_meta/preprocessor/preprocessors.py:151: FutureWarning: The frame.append method is deprecated and will be removed from pandas in a future version. Use pandas.concat instead.\n",
            "  temp_indicator[\"tic\"] = unique_ticker[i]\n",
            "/mnt/f/financial_projects/Deep Reinforcement Learning Approaches on Stock Prediction/FinRL/finrl/finrl_meta/preprocessor/preprocessors.py:151: FutureWarning: The frame.append method is deprecated and will be removed from pandas in a future version. Use pandas.concat instead.\n",
            "  temp_indicator[\"tic\"] = unique_ticker[i]\n",
            "/mnt/f/financial_projects/Deep Reinforcement Learning Approaches on Stock Prediction/FinRL/finrl/finrl_meta/preprocessor/preprocessors.py:151: FutureWarning: The frame.append method is deprecated and will be removed from pandas in a future version. Use pandas.concat instead.\n",
            "  temp_indicator[\"tic\"] = unique_ticker[i]\n",
            "/mnt/f/financial_projects/Deep Reinforcement Learning Approaches on Stock Prediction/FinRL/finrl/finrl_meta/preprocessor/preprocessors.py:151: FutureWarning: The frame.append method is deprecated and will be removed from pandas in a future version. Use pandas.concat instead.\n",
            "  temp_indicator[\"tic\"] = unique_ticker[i]\n",
            "/mnt/f/financial_projects/Deep Reinforcement Learning Approaches on Stock Prediction/FinRL/finrl/finrl_meta/preprocessor/preprocessors.py:151: FutureWarning: The frame.append method is deprecated and will be removed from pandas in a future version. Use pandas.concat instead.\n",
            "  temp_indicator[\"tic\"] = unique_ticker[i]\n",
            "/mnt/f/financial_projects/Deep Reinforcement Learning Approaches on Stock Prediction/FinRL/finrl/finrl_meta/preprocessor/preprocessors.py:151: FutureWarning: The frame.append method is deprecated and will be removed from pandas in a future version. Use pandas.concat instead.\n",
            "  temp_indicator[\"tic\"] = unique_ticker[i]\n",
            "/mnt/f/financial_projects/Deep Reinforcement Learning Approaches on Stock Prediction/FinRL/finrl/finrl_meta/preprocessor/preprocessors.py:151: FutureWarning: The frame.append method is deprecated and will be removed from pandas in a future version. Use pandas.concat instead.\n",
            "  temp_indicator[\"tic\"] = unique_ticker[i]\n",
            "/mnt/f/financial_projects/Deep Reinforcement Learning Approaches on Stock Prediction/FinRL/finrl/finrl_meta/preprocessor/preprocessors.py:151: FutureWarning: The frame.append method is deprecated and will be removed from pandas in a future version. Use pandas.concat instead.\n",
            "  temp_indicator[\"tic\"] = unique_ticker[i]\n",
            "/mnt/f/financial_projects/Deep Reinforcement Learning Approaches on Stock Prediction/FinRL/finrl/finrl_meta/preprocessor/preprocessors.py:151: FutureWarning: The frame.append method is deprecated and will be removed from pandas in a future version. Use pandas.concat instead.\n",
            "  temp_indicator[\"tic\"] = unique_ticker[i]\n",
            "/mnt/f/financial_projects/Deep Reinforcement Learning Approaches on Stock Prediction/FinRL/finrl/finrl_meta/preprocessor/preprocessors.py:151: FutureWarning: The frame.append method is deprecated and will be removed from pandas in a future version. Use pandas.concat instead.\n",
            "  temp_indicator[\"tic\"] = unique_ticker[i]\n",
            "/mnt/f/financial_projects/Deep Reinforcement Learning Approaches on Stock Prediction/FinRL/finrl/finrl_meta/preprocessor/preprocessors.py:151: FutureWarning: The frame.append method is deprecated and will be removed from pandas in a future version. Use pandas.concat instead.\n",
            "  temp_indicator[\"tic\"] = unique_ticker[i]\n",
            "/mnt/f/financial_projects/Deep Reinforcement Learning Approaches on Stock Prediction/FinRL/finrl/finrl_meta/preprocessor/preprocessors.py:151: FutureWarning: The frame.append method is deprecated and will be removed from pandas in a future version. Use pandas.concat instead.\n",
            "  temp_indicator[\"tic\"] = unique_ticker[i]\n",
            "/mnt/f/financial_projects/Deep Reinforcement Learning Approaches on Stock Prediction/FinRL/finrl/finrl_meta/preprocessor/preprocessors.py:151: FutureWarning: The frame.append method is deprecated and will be removed from pandas in a future version. Use pandas.concat instead.\n",
            "  temp_indicator[\"tic\"] = unique_ticker[i]\n",
            "/mnt/f/financial_projects/Deep Reinforcement Learning Approaches on Stock Prediction/FinRL/finrl/finrl_meta/preprocessor/preprocessors.py:151: FutureWarning: The frame.append method is deprecated and will be removed from pandas in a future version. Use pandas.concat instead.\n",
            "  temp_indicator[\"tic\"] = unique_ticker[i]\n",
            "/mnt/f/financial_projects/Deep Reinforcement Learning Approaches on Stock Prediction/FinRL/finrl/finrl_meta/preprocessor/preprocessors.py:151: FutureWarning: The frame.append method is deprecated and will be removed from pandas in a future version. Use pandas.concat instead.\n",
            "  temp_indicator[\"tic\"] = unique_ticker[i]\n",
            "/mnt/f/financial_projects/Deep Reinforcement Learning Approaches on Stock Prediction/FinRL/finrl/finrl_meta/preprocessor/preprocessors.py:151: FutureWarning: The frame.append method is deprecated and will be removed from pandas in a future version. Use pandas.concat instead.\n",
            "  temp_indicator[\"tic\"] = unique_ticker[i]\n",
            "/mnt/f/financial_projects/Deep Reinforcement Learning Approaches on Stock Prediction/FinRL/finrl/finrl_meta/preprocessor/preprocessors.py:151: FutureWarning: The frame.append method is deprecated and will be removed from pandas in a future version. Use pandas.concat instead.\n",
            "  temp_indicator[\"tic\"] = unique_ticker[i]\n",
            "/mnt/f/financial_projects/Deep Reinforcement Learning Approaches on Stock Prediction/FinRL/finrl/finrl_meta/preprocessor/preprocessors.py:151: FutureWarning: The frame.append method is deprecated and will be removed from pandas in a future version. Use pandas.concat instead.\n",
            "  temp_indicator[\"tic\"] = unique_ticker[i]\n",
            "/mnt/f/financial_projects/Deep Reinforcement Learning Approaches on Stock Prediction/FinRL/finrl/finrl_meta/preprocessor/preprocessors.py:151: FutureWarning: The frame.append method is deprecated and will be removed from pandas in a future version. Use pandas.concat instead.\n",
            "  temp_indicator[\"tic\"] = unique_ticker[i]\n",
            "/mnt/f/financial_projects/Deep Reinforcement Learning Approaches on Stock Prediction/FinRL/finrl/finrl_meta/preprocessor/preprocessors.py:151: FutureWarning: The frame.append method is deprecated and will be removed from pandas in a future version. Use pandas.concat instead.\n",
            "  temp_indicator[\"tic\"] = unique_ticker[i]\n",
            "/mnt/f/financial_projects/Deep Reinforcement Learning Approaches on Stock Prediction/FinRL/finrl/finrl_meta/preprocessor/preprocessors.py:151: FutureWarning: The frame.append method is deprecated and will be removed from pandas in a future version. Use pandas.concat instead.\n",
            "  temp_indicator[\"tic\"] = unique_ticker[i]\n",
            "/mnt/f/financial_projects/Deep Reinforcement Learning Approaches on Stock Prediction/FinRL/finrl/finrl_meta/preprocessor/preprocessors.py:151: FutureWarning: The frame.append method is deprecated and will be removed from pandas in a future version. Use pandas.concat instead.\n",
            "  temp_indicator[\"tic\"] = unique_ticker[i]\n",
            "/mnt/f/financial_projects/Deep Reinforcement Learning Approaches on Stock Prediction/FinRL/finrl/finrl_meta/preprocessor/preprocessors.py:151: FutureWarning: The frame.append method is deprecated and will be removed from pandas in a future version. Use pandas.concat instead.\n",
            "  temp_indicator[\"tic\"] = unique_ticker[i]\n",
            "/mnt/f/financial_projects/Deep Reinforcement Learning Approaches on Stock Prediction/FinRL/finrl/finrl_meta/preprocessor/preprocessors.py:151: FutureWarning: The frame.append method is deprecated and will be removed from pandas in a future version. Use pandas.concat instead.\n",
            "  temp_indicator[\"tic\"] = unique_ticker[i]\n",
            "/mnt/f/financial_projects/Deep Reinforcement Learning Approaches on Stock Prediction/FinRL/finrl/finrl_meta/preprocessor/preprocessors.py:151: FutureWarning: The frame.append method is deprecated and will be removed from pandas in a future version. Use pandas.concat instead.\n",
            "  temp_indicator[\"tic\"] = unique_ticker[i]\n",
            "/mnt/f/financial_projects/Deep Reinforcement Learning Approaches on Stock Prediction/FinRL/finrl/finrl_meta/preprocessor/preprocessors.py:151: FutureWarning: The frame.append method is deprecated and will be removed from pandas in a future version. Use pandas.concat instead.\n",
            "  temp_indicator[\"tic\"] = unique_ticker[i]\n",
            "/mnt/f/financial_projects/Deep Reinforcement Learning Approaches on Stock Prediction/FinRL/finrl/finrl_meta/preprocessor/preprocessors.py:151: FutureWarning: The frame.append method is deprecated and will be removed from pandas in a future version. Use pandas.concat instead.\n",
            "  temp_indicator[\"tic\"] = unique_ticker[i]\n",
            "/mnt/f/financial_projects/Deep Reinforcement Learning Approaches on Stock Prediction/FinRL/finrl/finrl_meta/preprocessor/preprocessors.py:151: FutureWarning: The frame.append method is deprecated and will be removed from pandas in a future version. Use pandas.concat instead.\n",
            "  temp_indicator[\"tic\"] = unique_ticker[i]\n",
            "/mnt/f/financial_projects/Deep Reinforcement Learning Approaches on Stock Prediction/FinRL/finrl/finrl_meta/preprocessor/preprocessors.py:151: FutureWarning: The frame.append method is deprecated and will be removed from pandas in a future version. Use pandas.concat instead.\n",
            "  temp_indicator[\"tic\"] = unique_ticker[i]\n",
            "/mnt/f/financial_projects/Deep Reinforcement Learning Approaches on Stock Prediction/FinRL/finrl/finrl_meta/preprocessor/preprocessors.py:151: FutureWarning: The frame.append method is deprecated and will be removed from pandas in a future version. Use pandas.concat instead.\n",
            "  temp_indicator[\"tic\"] = unique_ticker[i]\n",
            "/mnt/f/financial_projects/Deep Reinforcement Learning Approaches on Stock Prediction/FinRL/finrl/finrl_meta/preprocessor/preprocessors.py:151: FutureWarning: The frame.append method is deprecated and will be removed from pandas in a future version. Use pandas.concat instead.\n",
            "  temp_indicator[\"tic\"] = unique_ticker[i]\n",
            "/mnt/f/financial_projects/Deep Reinforcement Learning Approaches on Stock Prediction/FinRL/finrl/finrl_meta/preprocessor/preprocessors.py:151: FutureWarning: The frame.append method is deprecated and will be removed from pandas in a future version. Use pandas.concat instead.\n",
            "  temp_indicator[\"tic\"] = unique_ticker[i]\n",
            "/mnt/f/financial_projects/Deep Reinforcement Learning Approaches on Stock Prediction/FinRL/finrl/finrl_meta/preprocessor/preprocessors.py:151: FutureWarning: The frame.append method is deprecated and will be removed from pandas in a future version. Use pandas.concat instead.\n",
            "  temp_indicator[\"tic\"] = unique_ticker[i]\n",
            "/mnt/f/financial_projects/Deep Reinforcement Learning Approaches on Stock Prediction/FinRL/finrl/finrl_meta/preprocessor/preprocessors.py:151: FutureWarning: The frame.append method is deprecated and will be removed from pandas in a future version. Use pandas.concat instead.\n",
            "  temp_indicator[\"tic\"] = unique_ticker[i]\n",
            "/mnt/f/financial_projects/Deep Reinforcement Learning Approaches on Stock Prediction/FinRL/finrl/finrl_meta/preprocessor/preprocessors.py:151: FutureWarning: The frame.append method is deprecated and will be removed from pandas in a future version. Use pandas.concat instead.\n",
            "  temp_indicator[\"tic\"] = unique_ticker[i]\n",
            "/mnt/f/financial_projects/Deep Reinforcement Learning Approaches on Stock Prediction/FinRL/finrl/finrl_meta/preprocessor/preprocessors.py:151: FutureWarning: The frame.append method is deprecated and will be removed from pandas in a future version. Use pandas.concat instead.\n",
            "  temp_indicator[\"tic\"] = unique_ticker[i]\n",
            "/mnt/f/financial_projects/Deep Reinforcement Learning Approaches on Stock Prediction/FinRL/finrl/finrl_meta/preprocessor/preprocessors.py:151: FutureWarning: The frame.append method is deprecated and will be removed from pandas in a future version. Use pandas.concat instead.\n",
            "  temp_indicator[\"tic\"] = unique_ticker[i]\n",
            "/mnt/f/financial_projects/Deep Reinforcement Learning Approaches on Stock Prediction/FinRL/finrl/finrl_meta/preprocessor/preprocessors.py:151: FutureWarning: The frame.append method is deprecated and will be removed from pandas in a future version. Use pandas.concat instead.\n",
            "  temp_indicator[\"tic\"] = unique_ticker[i]\n",
            "/mnt/f/financial_projects/Deep Reinforcement Learning Approaches on Stock Prediction/FinRL/finrl/finrl_meta/preprocessor/preprocessors.py:151: FutureWarning: The frame.append method is deprecated and will be removed from pandas in a future version. Use pandas.concat instead.\n",
            "  temp_indicator[\"tic\"] = unique_ticker[i]\n",
            "/mnt/f/financial_projects/Deep Reinforcement Learning Approaches on Stock Prediction/FinRL/finrl/finrl_meta/preprocessor/preprocessors.py:151: FutureWarning: The frame.append method is deprecated and will be removed from pandas in a future version. Use pandas.concat instead.\n",
            "  temp_indicator[\"tic\"] = unique_ticker[i]\n",
            "/mnt/f/financial_projects/Deep Reinforcement Learning Approaches on Stock Prediction/FinRL/finrl/finrl_meta/preprocessor/preprocessors.py:151: FutureWarning: The frame.append method is deprecated and will be removed from pandas in a future version. Use pandas.concat instead.\n",
            "  temp_indicator[\"tic\"] = unique_ticker[i]\n",
            "/mnt/f/financial_projects/Deep Reinforcement Learning Approaches on Stock Prediction/FinRL/finrl/finrl_meta/preprocessor/preprocessors.py:151: FutureWarning: The frame.append method is deprecated and will be removed from pandas in a future version. Use pandas.concat instead.\n",
            "  temp_indicator[\"tic\"] = unique_ticker[i]\n",
            "/mnt/f/financial_projects/Deep Reinforcement Learning Approaches on Stock Prediction/FinRL/finrl/finrl_meta/preprocessor/preprocessors.py:151: FutureWarning: The frame.append method is deprecated and will be removed from pandas in a future version. Use pandas.concat instead.\n",
            "  temp_indicator[\"tic\"] = unique_ticker[i]\n",
            "/mnt/f/financial_projects/Deep Reinforcement Learning Approaches on Stock Prediction/FinRL/finrl/finrl_meta/preprocessor/preprocessors.py:151: FutureWarning: The frame.append method is deprecated and will be removed from pandas in a future version. Use pandas.concat instead.\n",
            "  temp_indicator[\"tic\"] = unique_ticker[i]\n",
            "/mnt/f/financial_projects/Deep Reinforcement Learning Approaches on Stock Prediction/FinRL/finrl/finrl_meta/preprocessor/preprocessors.py:151: FutureWarning: The frame.append method is deprecated and will be removed from pandas in a future version. Use pandas.concat instead.\n",
            "  temp_indicator[\"tic\"] = unique_ticker[i]\n",
            "/mnt/f/financial_projects/Deep Reinforcement Learning Approaches on Stock Prediction/FinRL/finrl/finrl_meta/preprocessor/preprocessors.py:151: FutureWarning: The frame.append method is deprecated and will be removed from pandas in a future version. Use pandas.concat instead.\n",
            "  temp_indicator[\"tic\"] = unique_ticker[i]\n",
            "/mnt/f/financial_projects/Deep Reinforcement Learning Approaches on Stock Prediction/FinRL/finrl/finrl_meta/preprocessor/preprocessors.py:151: FutureWarning: The frame.append method is deprecated and will be removed from pandas in a future version. Use pandas.concat instead.\n",
            "  temp_indicator[\"tic\"] = unique_ticker[i]\n",
            "/mnt/f/financial_projects/Deep Reinforcement Learning Approaches on Stock Prediction/FinRL/finrl/finrl_meta/preprocessor/preprocessors.py:151: FutureWarning: The frame.append method is deprecated and will be removed from pandas in a future version. Use pandas.concat instead.\n",
            "  temp_indicator[\"tic\"] = unique_ticker[i]\n",
            "/mnt/f/financial_projects/Deep Reinforcement Learning Approaches on Stock Prediction/FinRL/finrl/finrl_meta/preprocessor/preprocessors.py:151: FutureWarning: The frame.append method is deprecated and will be removed from pandas in a future version. Use pandas.concat instead.\n",
            "  temp_indicator[\"tic\"] = unique_ticker[i]\n",
            "/mnt/f/financial_projects/Deep Reinforcement Learning Approaches on Stock Prediction/FinRL/finrl/finrl_meta/preprocessor/preprocessors.py:151: FutureWarning: The frame.append method is deprecated and will be removed from pandas in a future version. Use pandas.concat instead.\n",
            "  temp_indicator[\"tic\"] = unique_ticker[i]\n",
            "/mnt/f/financial_projects/Deep Reinforcement Learning Approaches on Stock Prediction/FinRL/finrl/finrl_meta/preprocessor/preprocessors.py:151: FutureWarning: The frame.append method is deprecated and will be removed from pandas in a future version. Use pandas.concat instead.\n",
            "  temp_indicator[\"tic\"] = unique_ticker[i]\n",
            "/mnt/f/financial_projects/Deep Reinforcement Learning Approaches on Stock Prediction/FinRL/finrl/finrl_meta/preprocessor/preprocessors.py:151: FutureWarning: The frame.append method is deprecated and will be removed from pandas in a future version. Use pandas.concat instead.\n",
            "  temp_indicator[\"tic\"] = unique_ticker[i]\n",
            "/mnt/f/financial_projects/Deep Reinforcement Learning Approaches on Stock Prediction/FinRL/finrl/finrl_meta/preprocessor/preprocessors.py:151: FutureWarning: The frame.append method is deprecated and will be removed from pandas in a future version. Use pandas.concat instead.\n",
            "  temp_indicator[\"tic\"] = unique_ticker[i]\n",
            "/mnt/f/financial_projects/Deep Reinforcement Learning Approaches on Stock Prediction/FinRL/finrl/finrl_meta/preprocessor/preprocessors.py:151: FutureWarning: The frame.append method is deprecated and will be removed from pandas in a future version. Use pandas.concat instead.\n",
            "  temp_indicator[\"tic\"] = unique_ticker[i]\n",
            "/mnt/f/financial_projects/Deep Reinforcement Learning Approaches on Stock Prediction/FinRL/finrl/finrl_meta/preprocessor/preprocessors.py:151: FutureWarning: The frame.append method is deprecated and will be removed from pandas in a future version. Use pandas.concat instead.\n",
            "  temp_indicator[\"tic\"] = unique_ticker[i]\n",
            "/mnt/f/financial_projects/Deep Reinforcement Learning Approaches on Stock Prediction/FinRL/finrl/finrl_meta/preprocessor/preprocessors.py:151: FutureWarning: The frame.append method is deprecated and will be removed from pandas in a future version. Use pandas.concat instead.\n",
            "  temp_indicator[\"tic\"] = unique_ticker[i]\n",
            "/mnt/f/financial_projects/Deep Reinforcement Learning Approaches on Stock Prediction/FinRL/finrl/finrl_meta/preprocessor/preprocessors.py:151: FutureWarning: The frame.append method is deprecated and will be removed from pandas in a future version. Use pandas.concat instead.\n",
            "  temp_indicator[\"tic\"] = unique_ticker[i]\n",
            "/mnt/f/financial_projects/Deep Reinforcement Learning Approaches on Stock Prediction/FinRL/finrl/finrl_meta/preprocessor/preprocessors.py:151: FutureWarning: The frame.append method is deprecated and will be removed from pandas in a future version. Use pandas.concat instead.\n",
            "  temp_indicator[\"tic\"] = unique_ticker[i]\n",
            "/mnt/f/financial_projects/Deep Reinforcement Learning Approaches on Stock Prediction/FinRL/finrl/finrl_meta/preprocessor/preprocessors.py:151: FutureWarning: The frame.append method is deprecated and will be removed from pandas in a future version. Use pandas.concat instead.\n",
            "  temp_indicator[\"tic\"] = unique_ticker[i]\n",
            "/mnt/f/financial_projects/Deep Reinforcement Learning Approaches on Stock Prediction/FinRL/finrl/finrl_meta/preprocessor/preprocessors.py:151: FutureWarning: The frame.append method is deprecated and will be removed from pandas in a future version. Use pandas.concat instead.\n",
            "  temp_indicator[\"tic\"] = unique_ticker[i]\n",
            "/mnt/f/financial_projects/Deep Reinforcement Learning Approaches on Stock Prediction/FinRL/finrl/finrl_meta/preprocessor/preprocessors.py:151: FutureWarning: The frame.append method is deprecated and will be removed from pandas in a future version. Use pandas.concat instead.\n",
            "  temp_indicator[\"tic\"] = unique_ticker[i]\n",
            "/mnt/f/financial_projects/Deep Reinforcement Learning Approaches on Stock Prediction/FinRL/finrl/finrl_meta/preprocessor/preprocessors.py:151: FutureWarning: The frame.append method is deprecated and will be removed from pandas in a future version. Use pandas.concat instead.\n",
            "  temp_indicator[\"tic\"] = unique_ticker[i]\n",
            "/mnt/f/financial_projects/Deep Reinforcement Learning Approaches on Stock Prediction/FinRL/finrl/finrl_meta/preprocessor/preprocessors.py:151: FutureWarning: The frame.append method is deprecated and will be removed from pandas in a future version. Use pandas.concat instead.\n",
            "  temp_indicator[\"tic\"] = unique_ticker[i]\n",
            "/mnt/f/financial_projects/Deep Reinforcement Learning Approaches on Stock Prediction/FinRL/finrl/finrl_meta/preprocessor/preprocessors.py:151: FutureWarning: The frame.append method is deprecated and will be removed from pandas in a future version. Use pandas.concat instead.\n",
            "  temp_indicator[\"tic\"] = unique_ticker[i]\n",
            "/mnt/f/financial_projects/Deep Reinforcement Learning Approaches on Stock Prediction/FinRL/finrl/finrl_meta/preprocessor/preprocessors.py:151: FutureWarning: The frame.append method is deprecated and will be removed from pandas in a future version. Use pandas.concat instead.\n",
            "  temp_indicator[\"tic\"] = unique_ticker[i]\n",
            "/mnt/f/financial_projects/Deep Reinforcement Learning Approaches on Stock Prediction/FinRL/finrl/finrl_meta/preprocessor/preprocessors.py:151: FutureWarning: The frame.append method is deprecated and will be removed from pandas in a future version. Use pandas.concat instead.\n",
            "  temp_indicator[\"tic\"] = unique_ticker[i]\n",
            "/mnt/f/financial_projects/Deep Reinforcement Learning Approaches on Stock Prediction/FinRL/finrl/finrl_meta/preprocessor/preprocessors.py:151: FutureWarning: The frame.append method is deprecated and will be removed from pandas in a future version. Use pandas.concat instead.\n",
            "  temp_indicator[\"tic\"] = unique_ticker[i]\n",
            "/mnt/f/financial_projects/Deep Reinforcement Learning Approaches on Stock Prediction/FinRL/finrl/finrl_meta/preprocessor/preprocessors.py:151: FutureWarning: The frame.append method is deprecated and will be removed from pandas in a future version. Use pandas.concat instead.\n",
            "  temp_indicator[\"tic\"] = unique_ticker[i]\n",
            "/mnt/f/financial_projects/Deep Reinforcement Learning Approaches on Stock Prediction/FinRL/finrl/finrl_meta/preprocessor/preprocessors.py:151: FutureWarning: The frame.append method is deprecated and will be removed from pandas in a future version. Use pandas.concat instead.\n",
            "  temp_indicator[\"tic\"] = unique_ticker[i]\n",
            "/mnt/f/financial_projects/Deep Reinforcement Learning Approaches on Stock Prediction/FinRL/finrl/finrl_meta/preprocessor/preprocessors.py:151: FutureWarning: The frame.append method is deprecated and will be removed from pandas in a future version. Use pandas.concat instead.\n",
            "  temp_indicator[\"tic\"] = unique_ticker[i]\n",
            "/mnt/f/financial_projects/Deep Reinforcement Learning Approaches on Stock Prediction/FinRL/finrl/finrl_meta/preprocessor/preprocessors.py:151: FutureWarning: The frame.append method is deprecated and will be removed from pandas in a future version. Use pandas.concat instead.\n",
            "  temp_indicator[\"tic\"] = unique_ticker[i]\n",
            "/mnt/f/financial_projects/Deep Reinforcement Learning Approaches on Stock Prediction/FinRL/finrl/finrl_meta/preprocessor/preprocessors.py:151: FutureWarning: The frame.append method is deprecated and will be removed from pandas in a future version. Use pandas.concat instead.\n",
            "  temp_indicator[\"tic\"] = unique_ticker[i]\n",
            "/mnt/f/financial_projects/Deep Reinforcement Learning Approaches on Stock Prediction/FinRL/finrl/finrl_meta/preprocessor/preprocessors.py:151: FutureWarning: The frame.append method is deprecated and will be removed from pandas in a future version. Use pandas.concat instead.\n",
            "  temp_indicator[\"tic\"] = unique_ticker[i]\n",
            "/mnt/f/financial_projects/Deep Reinforcement Learning Approaches on Stock Prediction/FinRL/finrl/finrl_meta/preprocessor/preprocessors.py:151: FutureWarning: The frame.append method is deprecated and will be removed from pandas in a future version. Use pandas.concat instead.\n",
            "  temp_indicator[\"tic\"] = unique_ticker[i]\n",
            "/mnt/f/financial_projects/Deep Reinforcement Learning Approaches on Stock Prediction/FinRL/finrl/finrl_meta/preprocessor/preprocessors.py:151: FutureWarning: The frame.append method is deprecated and will be removed from pandas in a future version. Use pandas.concat instead.\n",
            "  temp_indicator[\"tic\"] = unique_ticker[i]\n",
            "/mnt/f/financial_projects/Deep Reinforcement Learning Approaches on Stock Prediction/FinRL/finrl/finrl_meta/preprocessor/preprocessors.py:151: FutureWarning: The frame.append method is deprecated and will be removed from pandas in a future version. Use pandas.concat instead.\n",
            "  temp_indicator[\"tic\"] = unique_ticker[i]\n",
            "/mnt/f/financial_projects/Deep Reinforcement Learning Approaches on Stock Prediction/FinRL/finrl/finrl_meta/preprocessor/preprocessors.py:151: FutureWarning: The frame.append method is deprecated and will be removed from pandas in a future version. Use pandas.concat instead.\n",
            "  temp_indicator[\"tic\"] = unique_ticker[i]\n",
            "/mnt/f/financial_projects/Deep Reinforcement Learning Approaches on Stock Prediction/FinRL/finrl/finrl_meta/preprocessor/preprocessors.py:151: FutureWarning: The frame.append method is deprecated and will be removed from pandas in a future version. Use pandas.concat instead.\n",
            "  temp_indicator[\"tic\"] = unique_ticker[i]\n",
            "/mnt/f/financial_projects/Deep Reinforcement Learning Approaches on Stock Prediction/FinRL/finrl/finrl_meta/preprocessor/preprocessors.py:151: FutureWarning: The frame.append method is deprecated and will be removed from pandas in a future version. Use pandas.concat instead.\n",
            "  temp_indicator[\"tic\"] = unique_ticker[i]\n",
            "/mnt/f/financial_projects/Deep Reinforcement Learning Approaches on Stock Prediction/FinRL/finrl/finrl_meta/preprocessor/preprocessors.py:151: FutureWarning: The frame.append method is deprecated and will be removed from pandas in a future version. Use pandas.concat instead.\n",
            "  temp_indicator[\"tic\"] = unique_ticker[i]\n",
            "/mnt/f/financial_projects/Deep Reinforcement Learning Approaches on Stock Prediction/FinRL/finrl/finrl_meta/preprocessor/preprocessors.py:151: FutureWarning: The frame.append method is deprecated and will be removed from pandas in a future version. Use pandas.concat instead.\n",
            "  temp_indicator[\"tic\"] = unique_ticker[i]\n",
            "/mnt/f/financial_projects/Deep Reinforcement Learning Approaches on Stock Prediction/FinRL/finrl/finrl_meta/preprocessor/preprocessors.py:151: FutureWarning: The frame.append method is deprecated and will be removed from pandas in a future version. Use pandas.concat instead.\n",
            "  temp_indicator[\"tic\"] = unique_ticker[i]\n",
            "/mnt/f/financial_projects/Deep Reinforcement Learning Approaches on Stock Prediction/FinRL/finrl/finrl_meta/preprocessor/preprocessors.py:151: FutureWarning: The frame.append method is deprecated and will be removed from pandas in a future version. Use pandas.concat instead.\n",
            "  temp_indicator[\"tic\"] = unique_ticker[i]\n",
            "/mnt/f/financial_projects/Deep Reinforcement Learning Approaches on Stock Prediction/FinRL/finrl/finrl_meta/preprocessor/preprocessors.py:151: FutureWarning: The frame.append method is deprecated and will be removed from pandas in a future version. Use pandas.concat instead.\n",
            "  temp_indicator[\"tic\"] = unique_ticker[i]\n",
            "/mnt/f/financial_projects/Deep Reinforcement Learning Approaches on Stock Prediction/FinRL/finrl/finrl_meta/preprocessor/preprocessors.py:151: FutureWarning: The frame.append method is deprecated and will be removed from pandas in a future version. Use pandas.concat instead.\n",
            "  temp_indicator[\"tic\"] = unique_ticker[i]\n",
            "/mnt/f/financial_projects/Deep Reinforcement Learning Approaches on Stock Prediction/FinRL/finrl/finrl_meta/preprocessor/preprocessors.py:151: FutureWarning: The frame.append method is deprecated and will be removed from pandas in a future version. Use pandas.concat instead.\n",
            "  temp_indicator[\"tic\"] = unique_ticker[i]\n",
            "/mnt/f/financial_projects/Deep Reinforcement Learning Approaches on Stock Prediction/FinRL/finrl/finrl_meta/preprocessor/preprocessors.py:151: FutureWarning: The frame.append method is deprecated and will be removed from pandas in a future version. Use pandas.concat instead.\n",
            "  temp_indicator[\"tic\"] = unique_ticker[i]\n",
            "/mnt/f/financial_projects/Deep Reinforcement Learning Approaches on Stock Prediction/FinRL/finrl/finrl_meta/preprocessor/preprocessors.py:151: FutureWarning: The frame.append method is deprecated and will be removed from pandas in a future version. Use pandas.concat instead.\n",
            "  temp_indicator[\"tic\"] = unique_ticker[i]\n",
            "/mnt/f/financial_projects/Deep Reinforcement Learning Approaches on Stock Prediction/FinRL/finrl/finrl_meta/preprocessor/preprocessors.py:151: FutureWarning: The frame.append method is deprecated and will be removed from pandas in a future version. Use pandas.concat instead.\n",
            "  temp_indicator[\"tic\"] = unique_ticker[i]\n",
            "/mnt/f/financial_projects/Deep Reinforcement Learning Approaches on Stock Prediction/FinRL/finrl/finrl_meta/preprocessor/preprocessors.py:151: FutureWarning: The frame.append method is deprecated and will be removed from pandas in a future version. Use pandas.concat instead.\n",
            "  temp_indicator[\"tic\"] = unique_ticker[i]\n",
            "/mnt/f/financial_projects/Deep Reinforcement Learning Approaches on Stock Prediction/FinRL/finrl/finrl_meta/preprocessor/preprocessors.py:151: FutureWarning: The frame.append method is deprecated and will be removed from pandas in a future version. Use pandas.concat instead.\n",
            "  temp_indicator[\"tic\"] = unique_ticker[i]\n",
            "/mnt/f/financial_projects/Deep Reinforcement Learning Approaches on Stock Prediction/FinRL/finrl/finrl_meta/preprocessor/preprocessors.py:151: FutureWarning: The frame.append method is deprecated and will be removed from pandas in a future version. Use pandas.concat instead.\n",
            "  temp_indicator[\"tic\"] = unique_ticker[i]\n",
            "/mnt/f/financial_projects/Deep Reinforcement Learning Approaches on Stock Prediction/FinRL/finrl/finrl_meta/preprocessor/preprocessors.py:151: FutureWarning: The frame.append method is deprecated and will be removed from pandas in a future version. Use pandas.concat instead.\n",
            "  temp_indicator[\"tic\"] = unique_ticker[i]\n",
            "/mnt/f/financial_projects/Deep Reinforcement Learning Approaches on Stock Prediction/FinRL/finrl/finrl_meta/preprocessor/preprocessors.py:151: FutureWarning: The frame.append method is deprecated and will be removed from pandas in a future version. Use pandas.concat instead.\n",
            "  temp_indicator[\"tic\"] = unique_ticker[i]\n",
            "/mnt/f/financial_projects/Deep Reinforcement Learning Approaches on Stock Prediction/FinRL/finrl/finrl_meta/preprocessor/preprocessors.py:151: FutureWarning: The frame.append method is deprecated and will be removed from pandas in a future version. Use pandas.concat instead.\n",
            "  temp_indicator[\"tic\"] = unique_ticker[i]\n",
            "/mnt/f/financial_projects/Deep Reinforcement Learning Approaches on Stock Prediction/FinRL/finrl/finrl_meta/preprocessor/preprocessors.py:151: FutureWarning: The frame.append method is deprecated and will be removed from pandas in a future version. Use pandas.concat instead.\n",
            "  temp_indicator[\"tic\"] = unique_ticker[i]\n",
            "/mnt/f/financial_projects/Deep Reinforcement Learning Approaches on Stock Prediction/FinRL/finrl/finrl_meta/preprocessor/preprocessors.py:151: FutureWarning: The frame.append method is deprecated and will be removed from pandas in a future version. Use pandas.concat instead.\n",
            "  temp_indicator[\"tic\"] = unique_ticker[i]\n",
            "/mnt/f/financial_projects/Deep Reinforcement Learning Approaches on Stock Prediction/FinRL/finrl/finrl_meta/preprocessor/preprocessors.py:151: FutureWarning: The frame.append method is deprecated and will be removed from pandas in a future version. Use pandas.concat instead.\n",
            "  temp_indicator[\"tic\"] = unique_ticker[i]\n",
            "/mnt/f/financial_projects/Deep Reinforcement Learning Approaches on Stock Prediction/FinRL/finrl/finrl_meta/preprocessor/preprocessors.py:151: FutureWarning: The frame.append method is deprecated and will be removed from pandas in a future version. Use pandas.concat instead.\n",
            "  temp_indicator[\"tic\"] = unique_ticker[i]\n",
            "/mnt/f/financial_projects/Deep Reinforcement Learning Approaches on Stock Prediction/FinRL/finrl/finrl_meta/preprocessor/preprocessors.py:151: FutureWarning: The frame.append method is deprecated and will be removed from pandas in a future version. Use pandas.concat instead.\n",
            "  temp_indicator[\"tic\"] = unique_ticker[i]\n",
            "/mnt/f/financial_projects/Deep Reinforcement Learning Approaches on Stock Prediction/FinRL/finrl/finrl_meta/preprocessor/preprocessors.py:151: FutureWarning: The frame.append method is deprecated and will be removed from pandas in a future version. Use pandas.concat instead.\n",
            "  temp_indicator[\"tic\"] = unique_ticker[i]\n",
            "/mnt/f/financial_projects/Deep Reinforcement Learning Approaches on Stock Prediction/FinRL/finrl/finrl_meta/preprocessor/preprocessors.py:151: FutureWarning: The frame.append method is deprecated and will be removed from pandas in a future version. Use pandas.concat instead.\n",
            "  temp_indicator[\"tic\"] = unique_ticker[i]\n",
            "/mnt/f/financial_projects/Deep Reinforcement Learning Approaches on Stock Prediction/FinRL/finrl/finrl_meta/preprocessor/preprocessors.py:151: FutureWarning: The frame.append method is deprecated and will be removed from pandas in a future version. Use pandas.concat instead.\n",
            "  temp_indicator[\"tic\"] = unique_ticker[i]\n",
            "/mnt/f/financial_projects/Deep Reinforcement Learning Approaches on Stock Prediction/FinRL/finrl/finrl_meta/preprocessor/preprocessors.py:151: FutureWarning: The frame.append method is deprecated and will be removed from pandas in a future version. Use pandas.concat instead.\n",
            "  temp_indicator[\"tic\"] = unique_ticker[i]\n",
            "/mnt/f/financial_projects/Deep Reinforcement Learning Approaches on Stock Prediction/FinRL/finrl/finrl_meta/preprocessor/preprocessors.py:151: FutureWarning: The frame.append method is deprecated and will be removed from pandas in a future version. Use pandas.concat instead.\n",
            "  temp_indicator[\"tic\"] = unique_ticker[i]\n",
            "/mnt/f/financial_projects/Deep Reinforcement Learning Approaches on Stock Prediction/FinRL/finrl/finrl_meta/preprocessor/preprocessors.py:151: FutureWarning: The frame.append method is deprecated and will be removed from pandas in a future version. Use pandas.concat instead.\n",
            "  temp_indicator[\"tic\"] = unique_ticker[i]\n"
          ]
        },
        {
          "name": "stdout",
          "output_type": "stream",
          "text": [
            "Successfully added technical indicators\n",
            "[*********************100%***********************]  1 of 1 completed\n",
            "Shape of DataFrame:  (486, 8)\n",
            "Successfully added vix\n"
          ]
        },
        {
          "name": "stderr",
          "output_type": "stream",
          "text": [
            "/mnt/f/financial_projects/Deep Reinforcement Learning Approaches on Stock Prediction/FinRL/finrl/finrl_meta/preprocessor/yahoodownloader.py:51: FutureWarning: The frame.append method is deprecated and will be removed from pandas in a future version. Use pandas.concat instead.\n",
            "  data_df = data_df.append(temp_df)\n"
          ]
        },
        {
          "name": "stdout",
          "output_type": "stream",
          "text": [
            "Successfully added turbulence index\n",
            "Stock Dimension: 25, State Space: 251\n"
          ]
        }
      ],
      "source": [
        "train,trade = fetch_preprocess_data(api_key,TRAIN_START_DATE,TEST_END_DATE,choosen_symbols, technical_indicator_list)\n",
        "env_kwargs = config_env_kwargs(train)\n",
        "train_env_config = get_train_env(train, env_kwargs)"
      ]
    },
    {
      "cell_type": "markdown",
      "metadata": {
        "id": "pplgHdQtOOQH"
      },
      "source": [
        "## Registering the environment"
      ]
    },
    {
      "cell_type": "code",
      "execution_count": 31,
      "metadata": {
        "id": "QS0ytuI8KFf5"
      },
      "outputs": [],
      "source": [
        "from ray.tune.registry import register_env\n",
        "\n",
        "env_name = 'StockTrading_train_env'\n",
        "register_env(env_name, lambda config: train_env_config)"
      ]
    },
    {
      "cell_type": "code",
      "execution_count": 36,
      "metadata": {},
      "outputs": [],
      "source": [
        "import torch\n",
        "device = torch.device('cuda' if torch.cuda.is_available() else 'cpu')\n"
      ]
    },
    {
      "cell_type": "code",
      "execution_count": 37,
      "metadata": {},
      "outputs": [
        {
          "data": {
            "text/plain": [
              "False"
            ]
          },
          "execution_count": 37,
          "metadata": {},
          "output_type": "execute_result"
        }
      ],
      "source": [
        "torch.cuda.is_available()"
      ]
    },
    {
      "cell_type": "markdown",
      "metadata": {
        "id": "0toGh9-_OThw"
      },
      "source": [
        "## Running tune "
      ]
    },
    {
      "cell_type": "code",
      "execution_count": 34,
      "metadata": {
        "id": "SbF64_hRsqhT"
      },
      "outputs": [],
      "source": [
        "MODEL_TRAINER = {'a2c':A2CTrainer,'ppo':PPOTrainer,'ddpg':DDPGTrainer}\n",
        "if model_name == \"ddpg\":\n",
        "    sample_hyperparameters = sample_ddpg_params()\n",
        "elif model_name == \"ppo\":\n",
        "  sample_hyperparameters = sample_ppo_params()\n",
        "elif model_name == \"a2c\":\n",
        "  sample_hyperparameters = sample_a2c_params()\n",
        "  \n",
        "def run_optuna_tune():\n",
        "\n",
        "  algo = OptunaSearch()\n",
        "  algo = ConcurrencyLimiter(algo,max_concurrent=4)\n",
        "  scheduler = AsyncHyperBandScheduler()\n",
        "  num_samples = 10\n",
        "  training_iterations = 100\n",
        "\n",
        "  analysis = tune.run(\n",
        "      MODEL_TRAINER[model_name],\n",
        "      metric=\"episode_reward_mean\", #The metric to optimize for tuning\n",
        "      mode=\"max\", #Maximize the metric\n",
        "      search_alg = algo,#OptunaSearch method which uses Tree Parzen estimator to sample hyperparameters\n",
        "      scheduler=scheduler, #To prune bad trials\n",
        "      config = {**sample_hyperparameters,\n",
        "                'env':'StockTrading_train_env','num_workers':1,\n",
        "                'num_gpus':1,'framework':'torch'},\n",
        "      num_samples = num_samples, #Number of hyperparameters to test out\n",
        "      stop = {'training_iteration':training_iterations},#Time attribute to validate the results\n",
        "      verbose=1,local_dir=TUNED_MODELS_DIR,#Saving tensorboard plots\n",
        "      # resources_per_trial={'gpu':1,'cpu':1},\n",
        "      max_failures = 1,#Extra Trying for the failed trials\n",
        "      raise_on_failed_trial=False,#Don't return error even if you have errored trials\n",
        "      keep_checkpoints_num = num_samples-5, \n",
        "      checkpoint_score_attr ='episode_reward_mean',#Only store keep_checkpoints_num trials based on this score\n",
        "      checkpoint_freq=training_iterations#Checpointing all the trials\n",
        "  )\n",
        "  print(\"Best hyperparameter: \", analysis.best_config)\n",
        "  return analysis"
      ]
    },
    {
      "cell_type": "code",
      "execution_count": 35,
      "metadata": {
        "colab": {
          "base_uri": "https://localhost:8080/",
          "height": 875
        },
        "id": "zDz4GUMLuSUE",
        "outputId": "9751b541-0805-4cb5-9759-9c4c5817ba96"
      },
      "outputs": [
        {
          "name": "stderr",
          "output_type": "stream",
          "text": [
            "2022-10-08 15:12:04,353\tINFO services.py:1470 -- View the Ray dashboard at \u001b[1m\u001b[32mhttp://127.0.0.1:8265\u001b[39m\u001b[22m\n"
          ]
        },
        {
          "ename": "ValueError",
          "evalue": "invalid literal for int() with base 10: 'Failed to initialize NVML: N/A'",
          "output_type": "error",
          "traceback": [
            "\u001b[0;31m---------------------------------------------------------------------------\u001b[0m",
            "\u001b[0;31mValueError\u001b[0m                                Traceback (most recent call last)",
            "\u001b[1;32m/mnt/f/financial_projects/Deep Reinforcement Learning Approaches on Stock Prediction/FinRL/FinRL_HyperparameterTuning_Raytune_RLlib_recurrent_ppo_version.ipynb Cell 30\u001b[0m in \u001b[0;36m<cell line: 1>\u001b[0;34m()\u001b[0m\n\u001b[0;32m----> <a href='vscode-notebook-cell://wsl%2Bu18/mnt/f/financial_projects/Deep%20Reinforcement%20Learning%20Approaches%20on%20Stock%20Prediction/FinRL/FinRL_HyperparameterTuning_Raytune_RLlib_recurrent_ppo_version.ipynb#X41sdnNjb2RlLXJlbW90ZQ%3D%3D?line=0'>1</a>\u001b[0m analysis \u001b[39m=\u001b[39m run_optuna_tune()\n",
            "\u001b[1;32m/mnt/f/financial_projects/Deep Reinforcement Learning Approaches on Stock Prediction/FinRL/FinRL_HyperparameterTuning_Raytune_RLlib_recurrent_ppo_version.ipynb Cell 30\u001b[0m in \u001b[0;36mrun_optuna_tune\u001b[0;34m()\u001b[0m\n\u001b[1;32m     <a href='vscode-notebook-cell://wsl%2Bu18/mnt/f/financial_projects/Deep%20Reinforcement%20Learning%20Approaches%20on%20Stock%20Prediction/FinRL/FinRL_HyperparameterTuning_Raytune_RLlib_recurrent_ppo_version.ipynb#X41sdnNjb2RlLXJlbW90ZQ%3D%3D?line=13'>14</a>\u001b[0m num_samples \u001b[39m=\u001b[39m \u001b[39m10\u001b[39m\n\u001b[1;32m     <a href='vscode-notebook-cell://wsl%2Bu18/mnt/f/financial_projects/Deep%20Reinforcement%20Learning%20Approaches%20on%20Stock%20Prediction/FinRL/FinRL_HyperparameterTuning_Raytune_RLlib_recurrent_ppo_version.ipynb#X41sdnNjb2RlLXJlbW90ZQ%3D%3D?line=14'>15</a>\u001b[0m training_iterations \u001b[39m=\u001b[39m \u001b[39m100\u001b[39m\n\u001b[0;32m---> <a href='vscode-notebook-cell://wsl%2Bu18/mnt/f/financial_projects/Deep%20Reinforcement%20Learning%20Approaches%20on%20Stock%20Prediction/FinRL/FinRL_HyperparameterTuning_Raytune_RLlib_recurrent_ppo_version.ipynb#X41sdnNjb2RlLXJlbW90ZQ%3D%3D?line=16'>17</a>\u001b[0m analysis \u001b[39m=\u001b[39m tune\u001b[39m.\u001b[39;49mrun(\n\u001b[1;32m     <a href='vscode-notebook-cell://wsl%2Bu18/mnt/f/financial_projects/Deep%20Reinforcement%20Learning%20Approaches%20on%20Stock%20Prediction/FinRL/FinRL_HyperparameterTuning_Raytune_RLlib_recurrent_ppo_version.ipynb#X41sdnNjb2RlLXJlbW90ZQ%3D%3D?line=17'>18</a>\u001b[0m     MODEL_TRAINER[model_name],\n\u001b[1;32m     <a href='vscode-notebook-cell://wsl%2Bu18/mnt/f/financial_projects/Deep%20Reinforcement%20Learning%20Approaches%20on%20Stock%20Prediction/FinRL/FinRL_HyperparameterTuning_Raytune_RLlib_recurrent_ppo_version.ipynb#X41sdnNjb2RlLXJlbW90ZQ%3D%3D?line=18'>19</a>\u001b[0m     metric\u001b[39m=\u001b[39;49m\u001b[39m\"\u001b[39;49m\u001b[39mepisode_reward_mean\u001b[39;49m\u001b[39m\"\u001b[39;49m, \u001b[39m#The metric to optimize for tuning\u001b[39;49;00m\n\u001b[1;32m     <a href='vscode-notebook-cell://wsl%2Bu18/mnt/f/financial_projects/Deep%20Reinforcement%20Learning%20Approaches%20on%20Stock%20Prediction/FinRL/FinRL_HyperparameterTuning_Raytune_RLlib_recurrent_ppo_version.ipynb#X41sdnNjb2RlLXJlbW90ZQ%3D%3D?line=19'>20</a>\u001b[0m     mode\u001b[39m=\u001b[39;49m\u001b[39m\"\u001b[39;49m\u001b[39mmax\u001b[39;49m\u001b[39m\"\u001b[39;49m, \u001b[39m#Maximize the metric\u001b[39;49;00m\n\u001b[1;32m     <a href='vscode-notebook-cell://wsl%2Bu18/mnt/f/financial_projects/Deep%20Reinforcement%20Learning%20Approaches%20on%20Stock%20Prediction/FinRL/FinRL_HyperparameterTuning_Raytune_RLlib_recurrent_ppo_version.ipynb#X41sdnNjb2RlLXJlbW90ZQ%3D%3D?line=20'>21</a>\u001b[0m     search_alg \u001b[39m=\u001b[39;49m algo,\u001b[39m#OptunaSearch method which uses Tree Parzen estimator to sample hyperparameters\u001b[39;49;00m\n\u001b[1;32m     <a href='vscode-notebook-cell://wsl%2Bu18/mnt/f/financial_projects/Deep%20Reinforcement%20Learning%20Approaches%20on%20Stock%20Prediction/FinRL/FinRL_HyperparameterTuning_Raytune_RLlib_recurrent_ppo_version.ipynb#X41sdnNjb2RlLXJlbW90ZQ%3D%3D?line=21'>22</a>\u001b[0m     scheduler\u001b[39m=\u001b[39;49mscheduler, \u001b[39m#To prune bad trials\u001b[39;49;00m\n\u001b[1;32m     <a href='vscode-notebook-cell://wsl%2Bu18/mnt/f/financial_projects/Deep%20Reinforcement%20Learning%20Approaches%20on%20Stock%20Prediction/FinRL/FinRL_HyperparameterTuning_Raytune_RLlib_recurrent_ppo_version.ipynb#X41sdnNjb2RlLXJlbW90ZQ%3D%3D?line=22'>23</a>\u001b[0m     config \u001b[39m=\u001b[39;49m {\u001b[39m*\u001b[39;49m\u001b[39m*\u001b[39;49msample_hyperparameters,\n\u001b[1;32m     <a href='vscode-notebook-cell://wsl%2Bu18/mnt/f/financial_projects/Deep%20Reinforcement%20Learning%20Approaches%20on%20Stock%20Prediction/FinRL/FinRL_HyperparameterTuning_Raytune_RLlib_recurrent_ppo_version.ipynb#X41sdnNjb2RlLXJlbW90ZQ%3D%3D?line=23'>24</a>\u001b[0m               \u001b[39m'\u001b[39;49m\u001b[39menv\u001b[39;49m\u001b[39m'\u001b[39;49m:\u001b[39m'\u001b[39;49m\u001b[39mStockTrading_train_env\u001b[39;49m\u001b[39m'\u001b[39;49m,\u001b[39m'\u001b[39;49m\u001b[39mnum_workers\u001b[39;49m\u001b[39m'\u001b[39;49m:\u001b[39m1\u001b[39;49m,\n\u001b[1;32m     <a href='vscode-notebook-cell://wsl%2Bu18/mnt/f/financial_projects/Deep%20Reinforcement%20Learning%20Approaches%20on%20Stock%20Prediction/FinRL/FinRL_HyperparameterTuning_Raytune_RLlib_recurrent_ppo_version.ipynb#X41sdnNjb2RlLXJlbW90ZQ%3D%3D?line=24'>25</a>\u001b[0m               \u001b[39m'\u001b[39;49m\u001b[39mnum_gpus\u001b[39;49m\u001b[39m'\u001b[39;49m:\u001b[39m1\u001b[39;49m,\u001b[39m'\u001b[39;49m\u001b[39mframework\u001b[39;49m\u001b[39m'\u001b[39;49m:\u001b[39m'\u001b[39;49m\u001b[39mtorch\u001b[39;49m\u001b[39m'\u001b[39;49m},\n\u001b[1;32m     <a href='vscode-notebook-cell://wsl%2Bu18/mnt/f/financial_projects/Deep%20Reinforcement%20Learning%20Approaches%20on%20Stock%20Prediction/FinRL/FinRL_HyperparameterTuning_Raytune_RLlib_recurrent_ppo_version.ipynb#X41sdnNjb2RlLXJlbW90ZQ%3D%3D?line=25'>26</a>\u001b[0m     num_samples \u001b[39m=\u001b[39;49m num_samples, \u001b[39m#Number of hyperparameters to test out\u001b[39;49;00m\n\u001b[1;32m     <a href='vscode-notebook-cell://wsl%2Bu18/mnt/f/financial_projects/Deep%20Reinforcement%20Learning%20Approaches%20on%20Stock%20Prediction/FinRL/FinRL_HyperparameterTuning_Raytune_RLlib_recurrent_ppo_version.ipynb#X41sdnNjb2RlLXJlbW90ZQ%3D%3D?line=26'>27</a>\u001b[0m     stop \u001b[39m=\u001b[39;49m {\u001b[39m'\u001b[39;49m\u001b[39mtraining_iteration\u001b[39;49m\u001b[39m'\u001b[39;49m:training_iterations},\u001b[39m#Time attribute to validate the results\u001b[39;49;00m\n\u001b[1;32m     <a href='vscode-notebook-cell://wsl%2Bu18/mnt/f/financial_projects/Deep%20Reinforcement%20Learning%20Approaches%20on%20Stock%20Prediction/FinRL/FinRL_HyperparameterTuning_Raytune_RLlib_recurrent_ppo_version.ipynb#X41sdnNjb2RlLXJlbW90ZQ%3D%3D?line=27'>28</a>\u001b[0m     verbose\u001b[39m=\u001b[39;49m\u001b[39m1\u001b[39;49m,local_dir\u001b[39m=\u001b[39;49mTUNED_MODELS_DIR,\u001b[39m#Saving tensorboard plots\u001b[39;49;00m\n\u001b[1;32m     <a href='vscode-notebook-cell://wsl%2Bu18/mnt/f/financial_projects/Deep%20Reinforcement%20Learning%20Approaches%20on%20Stock%20Prediction/FinRL/FinRL_HyperparameterTuning_Raytune_RLlib_recurrent_ppo_version.ipynb#X41sdnNjb2RlLXJlbW90ZQ%3D%3D?line=28'>29</a>\u001b[0m     \u001b[39m# resources_per_trial={'gpu':1,'cpu':1},\u001b[39;49;00m\n\u001b[1;32m     <a href='vscode-notebook-cell://wsl%2Bu18/mnt/f/financial_projects/Deep%20Reinforcement%20Learning%20Approaches%20on%20Stock%20Prediction/FinRL/FinRL_HyperparameterTuning_Raytune_RLlib_recurrent_ppo_version.ipynb#X41sdnNjb2RlLXJlbW90ZQ%3D%3D?line=29'>30</a>\u001b[0m     max_failures \u001b[39m=\u001b[39;49m \u001b[39m1\u001b[39;49m,\u001b[39m#Extra Trying for the failed trials\u001b[39;49;00m\n\u001b[1;32m     <a href='vscode-notebook-cell://wsl%2Bu18/mnt/f/financial_projects/Deep%20Reinforcement%20Learning%20Approaches%20on%20Stock%20Prediction/FinRL/FinRL_HyperparameterTuning_Raytune_RLlib_recurrent_ppo_version.ipynb#X41sdnNjb2RlLXJlbW90ZQ%3D%3D?line=30'>31</a>\u001b[0m     raise_on_failed_trial\u001b[39m=\u001b[39;49m\u001b[39mFalse\u001b[39;49;00m,\u001b[39m#Don't return error even if you have errored trials\u001b[39;49;00m\n\u001b[1;32m     <a href='vscode-notebook-cell://wsl%2Bu18/mnt/f/financial_projects/Deep%20Reinforcement%20Learning%20Approaches%20on%20Stock%20Prediction/FinRL/FinRL_HyperparameterTuning_Raytune_RLlib_recurrent_ppo_version.ipynb#X41sdnNjb2RlLXJlbW90ZQ%3D%3D?line=31'>32</a>\u001b[0m     keep_checkpoints_num \u001b[39m=\u001b[39;49m num_samples\u001b[39m-\u001b[39;49m\u001b[39m5\u001b[39;49m, \n\u001b[1;32m     <a href='vscode-notebook-cell://wsl%2Bu18/mnt/f/financial_projects/Deep%20Reinforcement%20Learning%20Approaches%20on%20Stock%20Prediction/FinRL/FinRL_HyperparameterTuning_Raytune_RLlib_recurrent_ppo_version.ipynb#X41sdnNjb2RlLXJlbW90ZQ%3D%3D?line=32'>33</a>\u001b[0m     checkpoint_score_attr \u001b[39m=\u001b[39;49m\u001b[39m'\u001b[39;49m\u001b[39mepisode_reward_mean\u001b[39;49m\u001b[39m'\u001b[39;49m,\u001b[39m#Only store keep_checkpoints_num trials based on this score\u001b[39;49;00m\n\u001b[1;32m     <a href='vscode-notebook-cell://wsl%2Bu18/mnt/f/financial_projects/Deep%20Reinforcement%20Learning%20Approaches%20on%20Stock%20Prediction/FinRL/FinRL_HyperparameterTuning_Raytune_RLlib_recurrent_ppo_version.ipynb#X41sdnNjb2RlLXJlbW90ZQ%3D%3D?line=33'>34</a>\u001b[0m     checkpoint_freq\u001b[39m=\u001b[39;49mtraining_iterations\u001b[39m#Checpointing all the trials\u001b[39;49;00m\n\u001b[1;32m     <a href='vscode-notebook-cell://wsl%2Bu18/mnt/f/financial_projects/Deep%20Reinforcement%20Learning%20Approaches%20on%20Stock%20Prediction/FinRL/FinRL_HyperparameterTuning_Raytune_RLlib_recurrent_ppo_version.ipynb#X41sdnNjb2RlLXJlbW90ZQ%3D%3D?line=34'>35</a>\u001b[0m )\n\u001b[1;32m     <a href='vscode-notebook-cell://wsl%2Bu18/mnt/f/financial_projects/Deep%20Reinforcement%20Learning%20Approaches%20on%20Stock%20Prediction/FinRL/FinRL_HyperparameterTuning_Raytune_RLlib_recurrent_ppo_version.ipynb#X41sdnNjb2RlLXJlbW90ZQ%3D%3D?line=35'>36</a>\u001b[0m \u001b[39mprint\u001b[39m(\u001b[39m\"\u001b[39m\u001b[39mBest hyperparameter: \u001b[39m\u001b[39m\"\u001b[39m, analysis\u001b[39m.\u001b[39mbest_config)\n\u001b[1;32m     <a href='vscode-notebook-cell://wsl%2Bu18/mnt/f/financial_projects/Deep%20Reinforcement%20Learning%20Approaches%20on%20Stock%20Prediction/FinRL/FinRL_HyperparameterTuning_Raytune_RLlib_recurrent_ppo_version.ipynb#X41sdnNjb2RlLXJlbW90ZQ%3D%3D?line=36'>37</a>\u001b[0m \u001b[39mreturn\u001b[39;00m analysis\n",
            "File \u001b[0;32m~/anaconda3/envs/FinRl/lib/python3.8/site-packages/ray/tune/tune.py:365\u001b[0m, in \u001b[0;36mrun\u001b[0;34m(run_or_experiment, name, metric, mode, stop, time_budget_s, config, resources_per_trial, num_samples, local_dir, search_alg, scheduler, keep_checkpoints_num, checkpoint_score_attr, checkpoint_freq, checkpoint_at_end, verbose, progress_reporter, log_to_file, trial_name_creator, trial_dirname_creator, sync_config, export_formats, max_failures, fail_fast, restore, server_port, resume, reuse_actors, trial_executor, raise_on_failed_trial, callbacks, max_concurrent_trials, _experiment_checkpoint_dir, loggers, _remote)\u001b[0m\n\u001b[1;32m    362\u001b[0m     \u001b[39mraise\u001b[39;00m \u001b[39mValueError\u001b[39;00m(\u001b[39m\"\u001b[39m\u001b[39mcannot use custom trial executor\u001b[39m\u001b[39m\"\u001b[39m)\n\u001b[1;32m    364\u001b[0m \u001b[39mif\u001b[39;00m \u001b[39mnot\u001b[39;00m trial_executor \u001b[39mor\u001b[39;00m \u001b[39misinstance\u001b[39m(trial_executor, RayTrialExecutor):\n\u001b[0;32m--> 365\u001b[0m     _ray_auto_init()\n\u001b[1;32m    367\u001b[0m \u001b[39mif\u001b[39;00m _remote:\n\u001b[1;32m    368\u001b[0m     remote_run \u001b[39m=\u001b[39m ray\u001b[39m.\u001b[39mremote(num_cpus\u001b[39m=\u001b[39m\u001b[39m0\u001b[39m)(run)\n",
            "File \u001b[0;32m~/anaconda3/envs/FinRl/lib/python3.8/site-packages/ray/tune/tune.py:878\u001b[0m, in \u001b[0;36m_ray_auto_init\u001b[0;34m()\u001b[0m\n\u001b[1;32m    872\u001b[0m \u001b[39melif\u001b[39;00m \u001b[39mnot\u001b[39;00m ray\u001b[39m.\u001b[39mis_initialized():\n\u001b[1;32m    873\u001b[0m     logger\u001b[39m.\u001b[39minfo(\n\u001b[1;32m    874\u001b[0m         \u001b[39m\"\u001b[39m\u001b[39mInitializing Ray automatically.\u001b[39m\u001b[39m\"\u001b[39m\n\u001b[1;32m    875\u001b[0m         \u001b[39m\"\u001b[39m\u001b[39mFor cluster usage or custom Ray initialization, \u001b[39m\u001b[39m\"\u001b[39m\n\u001b[1;32m    876\u001b[0m         \u001b[39m\"\u001b[39m\u001b[39mcall `ray.init(...)` before `tune.run`.\u001b[39m\u001b[39m\"\u001b[39m\n\u001b[1;32m    877\u001b[0m     )\n\u001b[0;32m--> 878\u001b[0m     ray\u001b[39m.\u001b[39;49minit()\n",
            "File \u001b[0;32m~/anaconda3/envs/FinRl/lib/python3.8/site-packages/ray/_private/client_mode_hook.py:105\u001b[0m, in \u001b[0;36mclient_mode_hook.<locals>.wrapper\u001b[0;34m(*args, **kwargs)\u001b[0m\n\u001b[1;32m    103\u001b[0m     \u001b[39mif\u001b[39;00m func\u001b[39m.\u001b[39m\u001b[39m__name__\u001b[39m \u001b[39m!=\u001b[39m \u001b[39m\"\u001b[39m\u001b[39minit\u001b[39m\u001b[39m\"\u001b[39m \u001b[39mor\u001b[39;00m is_client_mode_enabled_by_default:\n\u001b[1;32m    104\u001b[0m         \u001b[39mreturn\u001b[39;00m \u001b[39mgetattr\u001b[39m(ray, func\u001b[39m.\u001b[39m\u001b[39m__name__\u001b[39m)(\u001b[39m*\u001b[39margs, \u001b[39m*\u001b[39m\u001b[39m*\u001b[39mkwargs)\n\u001b[0;32m--> 105\u001b[0m \u001b[39mreturn\u001b[39;00m func(\u001b[39m*\u001b[39;49margs, \u001b[39m*\u001b[39;49m\u001b[39m*\u001b[39;49mkwargs)\n",
            "File \u001b[0;32m~/anaconda3/envs/FinRl/lib/python3.8/site-packages/ray/worker.py:1039\u001b[0m, in \u001b[0;36minit\u001b[0;34m(address, num_cpus, num_gpus, resources, object_store_memory, local_mode, ignore_reinit_error, include_dashboard, dashboard_host, dashboard_port, job_config, configure_logging, logging_level, logging_format, log_to_driver, namespace, runtime_env, storage, _enable_object_reconstruction, _redis_max_memory, _plasma_directory, _node_ip_address, _driver_object_store_memory, _memory, _redis_password, _temp_dir, _metrics_export_port, _system_config, _tracing_startup_hook, _node_name, **kwargs)\u001b[0m\n\u001b[1;32m    997\u001b[0m     ray_params \u001b[39m=\u001b[39m ray\u001b[39m.\u001b[39m_private\u001b[39m.\u001b[39mparameter\u001b[39m.\u001b[39mRayParams(\n\u001b[1;32m    998\u001b[0m         node_ip_address\u001b[39m=\u001b[39mnode_ip_address,\n\u001b[1;32m    999\u001b[0m         raylet_ip_address\u001b[39m=\u001b[39mraylet_ip_address,\n\u001b[0;32m   (...)\u001b[0m\n\u001b[1;32m   1033\u001b[0m         node_name\u001b[39m=\u001b[39m_node_name,\n\u001b[1;32m   1034\u001b[0m     )\n\u001b[1;32m   1035\u001b[0m     \u001b[39m# Start the Ray processes. We set shutdown_at_exit=False because we\u001b[39;00m\n\u001b[1;32m   1036\u001b[0m     \u001b[39m# shutdown the node in the ray.shutdown call that happens in the atexit\u001b[39;00m\n\u001b[1;32m   1037\u001b[0m     \u001b[39m# handler. We still spawn a reaper process in case the atexit handler\u001b[39;00m\n\u001b[1;32m   1038\u001b[0m     \u001b[39m# isn't called.\u001b[39;00m\n\u001b[0;32m-> 1039\u001b[0m     _global_node \u001b[39m=\u001b[39m ray\u001b[39m.\u001b[39;49mnode\u001b[39m.\u001b[39;49mNode(\n\u001b[1;32m   1040\u001b[0m         head\u001b[39m=\u001b[39;49m\u001b[39mTrue\u001b[39;49;00m, shutdown_at_exit\u001b[39m=\u001b[39;49m\u001b[39mFalse\u001b[39;49;00m, spawn_reaper\u001b[39m=\u001b[39;49m\u001b[39mTrue\u001b[39;49;00m, ray_params\u001b[39m=\u001b[39;49mray_params\n\u001b[1;32m   1041\u001b[0m     )\n\u001b[1;32m   1042\u001b[0m \u001b[39melse\u001b[39;00m:\n\u001b[1;32m   1043\u001b[0m     \u001b[39m# In this case, we are connecting to an existing cluster.\u001b[39;00m\n\u001b[1;32m   1044\u001b[0m     \u001b[39mif\u001b[39;00m num_cpus \u001b[39mis\u001b[39;00m \u001b[39mnot\u001b[39;00m \u001b[39mNone\u001b[39;00m \u001b[39mor\u001b[39;00m num_gpus \u001b[39mis\u001b[39;00m \u001b[39mnot\u001b[39;00m \u001b[39mNone\u001b[39;00m:\n",
            "File \u001b[0;32m~/anaconda3/envs/FinRl/lib/python3.8/site-packages/ray/node.py:300\u001b[0m, in \u001b[0;36mNode.__init__\u001b[0;34m(self, ray_params, head, shutdown_at_exit, spawn_reaper, connect_only)\u001b[0m\n\u001b[1;32m    292\u001b[0m         \u001b[39mself\u001b[39m\u001b[39m.\u001b[39mget_gcs_client()\u001b[39m.\u001b[39minternal_kv_put(\n\u001b[1;32m    293\u001b[0m             \u001b[39mb\u001b[39m\u001b[39m\"\u001b[39m\u001b[39mtracing_startup_hook\u001b[39m\u001b[39m\"\u001b[39m,\n\u001b[1;32m    294\u001b[0m             ray_params\u001b[39m.\u001b[39mtracing_startup_hook\u001b[39m.\u001b[39mencode(),\n\u001b[1;32m    295\u001b[0m             \u001b[39mTrue\u001b[39;00m,\n\u001b[1;32m    296\u001b[0m             ray_constants\u001b[39m.\u001b[39mKV_NAMESPACE_TRACING,\n\u001b[1;32m    297\u001b[0m         )\n\u001b[1;32m    299\u001b[0m \u001b[39mif\u001b[39;00m \u001b[39mnot\u001b[39;00m connect_only:\n\u001b[0;32m--> 300\u001b[0m     \u001b[39mself\u001b[39;49m\u001b[39m.\u001b[39;49mstart_ray_processes()\n\u001b[1;32m    301\u001b[0m     \u001b[39m# we should update the address info after the node has been started\u001b[39;00m\n\u001b[1;32m    302\u001b[0m     \u001b[39mtry\u001b[39;00m:\n",
            "File \u001b[0;32m~/anaconda3/envs/FinRl/lib/python3.8/site-packages/ray/node.py:1123\u001b[0m, in \u001b[0;36mNode.start_ray_processes\u001b[0;34m(self)\u001b[0m\n\u001b[1;32m   1119\u001b[0m \u001b[39mself\u001b[39m\u001b[39m.\u001b[39mdestroy_external_storage()\n\u001b[1;32m   1121\u001b[0m \u001b[39m# Make sure we don't call `determine_plasma_store_config` multiple\u001b[39;00m\n\u001b[1;32m   1122\u001b[0m \u001b[39m# times to avoid printing multiple warnings.\u001b[39;00m\n\u001b[0;32m-> 1123\u001b[0m resource_spec \u001b[39m=\u001b[39m \u001b[39mself\u001b[39;49m\u001b[39m.\u001b[39;49mget_resource_spec()\n\u001b[1;32m   1124\u001b[0m (\n\u001b[1;32m   1125\u001b[0m     plasma_directory,\n\u001b[1;32m   1126\u001b[0m     object_store_memory,\n\u001b[0;32m   (...)\u001b[0m\n\u001b[1;32m   1130\u001b[0m     huge_pages\u001b[39m=\u001b[39m\u001b[39mself\u001b[39m\u001b[39m.\u001b[39m_ray_params\u001b[39m.\u001b[39mhuge_pages,\n\u001b[1;32m   1131\u001b[0m )\n\u001b[1;32m   1132\u001b[0m \u001b[39mself\u001b[39m\u001b[39m.\u001b[39mstart_raylet(plasma_directory, object_store_memory)\n",
            "File \u001b[0;32m~/anaconda3/envs/FinRl/lib/python3.8/site-packages/ray/node.py:462\u001b[0m, in \u001b[0;36mNode.get_resource_spec\u001b[0;34m(self)\u001b[0m\n\u001b[1;32m    454\u001b[0m         logger\u001b[39m.\u001b[39mdebug(\u001b[39mf\u001b[39m\u001b[39m\"\u001b[39m\u001b[39mAutoscaler overriding resources: \u001b[39m\u001b[39m{\u001b[39;00menv_resources\u001b[39m}\u001b[39;00m\u001b[39m.\u001b[39m\u001b[39m\"\u001b[39m)\n\u001b[1;32m    455\u001b[0m     (\n\u001b[1;32m    456\u001b[0m         num_cpus,\n\u001b[1;32m    457\u001b[0m         num_gpus,\n\u001b[0;32m   (...)\u001b[0m\n\u001b[1;32m    460\u001b[0m         resources,\n\u001b[1;32m    461\u001b[0m     ) \u001b[39m=\u001b[39m merge_resources(env_resources, \u001b[39mself\u001b[39m\u001b[39m.\u001b[39m_ray_params\u001b[39m.\u001b[39mresources)\n\u001b[0;32m--> 462\u001b[0m     \u001b[39mself\u001b[39m\u001b[39m.\u001b[39m_resource_spec \u001b[39m=\u001b[39m ResourceSpec(\n\u001b[1;32m    463\u001b[0m         \u001b[39mself\u001b[39;49m\u001b[39m.\u001b[39;49m_ray_params\u001b[39m.\u001b[39;49mnum_cpus \u001b[39mif\u001b[39;49;00m num_cpus \u001b[39mis\u001b[39;49;00m \u001b[39mNone\u001b[39;49;00m \u001b[39melse\u001b[39;49;00m num_cpus,\n\u001b[1;32m    464\u001b[0m         \u001b[39mself\u001b[39;49m\u001b[39m.\u001b[39;49m_ray_params\u001b[39m.\u001b[39;49mnum_gpus \u001b[39mif\u001b[39;49;00m num_gpus \u001b[39mis\u001b[39;49;00m \u001b[39mNone\u001b[39;49;00m \u001b[39melse\u001b[39;49;00m num_gpus,\n\u001b[1;32m    465\u001b[0m         \u001b[39mself\u001b[39;49m\u001b[39m.\u001b[39;49m_ray_params\u001b[39m.\u001b[39;49mmemory \u001b[39mif\u001b[39;49;00m memory \u001b[39mis\u001b[39;49;00m \u001b[39mNone\u001b[39;49;00m \u001b[39melse\u001b[39;49;00m memory,\n\u001b[1;32m    466\u001b[0m         \u001b[39mself\u001b[39;49m\u001b[39m.\u001b[39;49m_ray_params\u001b[39m.\u001b[39;49mobject_store_memory\n\u001b[1;32m    467\u001b[0m         \u001b[39mif\u001b[39;49;00m object_store_memory \u001b[39mis\u001b[39;49;00m \u001b[39mNone\u001b[39;49;00m\n\u001b[1;32m    468\u001b[0m         \u001b[39melse\u001b[39;49;00m object_store_memory,\n\u001b[1;32m    469\u001b[0m         resources,\n\u001b[1;32m    470\u001b[0m         \u001b[39mself\u001b[39;49m\u001b[39m.\u001b[39;49m_ray_params\u001b[39m.\u001b[39;49mredis_max_memory,\n\u001b[1;32m    471\u001b[0m     )\u001b[39m.\u001b[39;49mresolve(is_head\u001b[39m=\u001b[39;49m\u001b[39mself\u001b[39;49m\u001b[39m.\u001b[39;49mhead, node_ip_address\u001b[39m=\u001b[39;49m\u001b[39mself\u001b[39;49m\u001b[39m.\u001b[39;49mnode_ip_address)\n\u001b[1;32m    472\u001b[0m \u001b[39mreturn\u001b[39;00m \u001b[39mself\u001b[39m\u001b[39m.\u001b[39m_resource_spec\n",
            "File \u001b[0;32m~/anaconda3/envs/FinRl/lib/python3.8/site-packages/ray/_private/resource_spec.py:178\u001b[0m, in \u001b[0;36mResourceSpec.resolve\u001b[0;34m(self, is_head, node_ip_address)\u001b[0m\n\u001b[1;32m    172\u001b[0m     \u001b[39mraise\u001b[39;00m \u001b[39mValueError\u001b[39;00m(\n\u001b[1;32m    173\u001b[0m         \u001b[39m\"\u001b[39m\u001b[39mAttempting to start raylet with \u001b[39m\u001b[39m{}\u001b[39;00m\u001b[39m GPUs, \u001b[39m\u001b[39m\"\u001b[39m\n\u001b[1;32m    174\u001b[0m         \u001b[39m\"\u001b[39m\u001b[39mbut CUDA_VISIBLE_DEVICES contains \u001b[39m\u001b[39m{}\u001b[39;00m\u001b[39m.\u001b[39m\u001b[39m\"\u001b[39m\u001b[39m.\u001b[39mformat(num_gpus, gpu_ids)\n\u001b[1;32m    175\u001b[0m     )\n\u001b[1;32m    176\u001b[0m \u001b[39mif\u001b[39;00m num_gpus \u001b[39mis\u001b[39;00m \u001b[39mNone\u001b[39;00m:\n\u001b[1;32m    177\u001b[0m     \u001b[39m# Try to automatically detect the number of GPUs.\u001b[39;00m\n\u001b[0;32m--> 178\u001b[0m     num_gpus \u001b[39m=\u001b[39m _autodetect_num_gpus()\n\u001b[1;32m    179\u001b[0m     \u001b[39m# Don't use more GPUs than allowed by CUDA_VISIBLE_DEVICES.\u001b[39;00m\n\u001b[1;32m    180\u001b[0m     \u001b[39mif\u001b[39;00m gpu_ids \u001b[39mis\u001b[39;00m \u001b[39mnot\u001b[39;00m \u001b[39mNone\u001b[39;00m:\n",
            "File \u001b[0;32m~/anaconda3/envs/FinRl/lib/python3.8/site-packages/ray/_private/resource_spec.py:286\u001b[0m, in \u001b[0;36m_autodetect_num_gpus\u001b[0;34m()\u001b[0m\n\u001b[1;32m    284\u001b[0m \u001b[39mif\u001b[39;00m sys\u001b[39m.\u001b[39mplatform\u001b[39m.\u001b[39mstartswith(\u001b[39m\"\u001b[39m\u001b[39mlinux\u001b[39m\u001b[39m\"\u001b[39m):\n\u001b[1;32m    285\u001b[0m     \u001b[39mif\u001b[39;00m importlib\u001b[39m.\u001b[39mutil\u001b[39m.\u001b[39mfind_spec(\u001b[39m\"\u001b[39m\u001b[39mGPUtil\u001b[39m\u001b[39m\"\u001b[39m):\n\u001b[0;32m--> 286\u001b[0m         gpu_list \u001b[39m=\u001b[39m GPUtil\u001b[39m.\u001b[39;49mgetGPUs()\n\u001b[1;32m    287\u001b[0m         result \u001b[39m=\u001b[39m \u001b[39mlen\u001b[39m(gpu_list)\n\u001b[1;32m    288\u001b[0m     \u001b[39melse\u001b[39;00m:\n",
            "File \u001b[0;32m~/anaconda3/envs/FinRl/lib/python3.8/site-packages/GPUtil/GPUtil.py:102\u001b[0m, in \u001b[0;36mgetGPUs\u001b[0;34m()\u001b[0m\n\u001b[1;32m     99\u001b[0m \u001b[39mfor\u001b[39;00m i \u001b[39min\u001b[39;00m \u001b[39mrange\u001b[39m(\u001b[39m12\u001b[39m):\n\u001b[1;32m    100\u001b[0m     \u001b[39m# print(vals[i])\u001b[39;00m\n\u001b[1;32m    101\u001b[0m     \u001b[39mif\u001b[39;00m (i \u001b[39m==\u001b[39m \u001b[39m0\u001b[39m):\n\u001b[0;32m--> 102\u001b[0m         deviceIds \u001b[39m=\u001b[39m \u001b[39mint\u001b[39;49m(vals[i])\n\u001b[1;32m    103\u001b[0m     \u001b[39melif\u001b[39;00m (i \u001b[39m==\u001b[39m \u001b[39m1\u001b[39m):\n\u001b[1;32m    104\u001b[0m         uuid \u001b[39m=\u001b[39m vals[i]\n",
            "\u001b[0;31mValueError\u001b[0m: invalid literal for int() with base 10: 'Failed to initialize NVML: N/A'"
          ]
        }
      ],
      "source": [
        "analysis = run_optuna_tune()"
      ]
    },
    {
      "cell_type": "markdown",
      "metadata": {
        "id": "6d3a8-KROYJ_"
      },
      "source": [
        "## Best config, directory and checkpoint for hyperparameters\n",
        "\n"
      ]
    },
    {
      "cell_type": "code",
      "execution_count": 9,
      "metadata": {
        "colab": {
          "base_uri": "https://localhost:8080/"
        },
        "id": "OGDP01DcCR9Z",
        "outputId": "a7fc74da-7a98-4d4e-b4ac-49e00c0fdd69"
      },
      "outputs": [
        {
          "ename": "NameError",
          "evalue": "name 'analysis' is not defined",
          "output_type": "error",
          "traceback": [
            "\u001b[0;31m---------------------------------------------------------------------------\u001b[0m",
            "\u001b[0;31mNameError\u001b[0m                                 Traceback (most recent call last)",
            "\u001b[1;32m/mnt/f/financial_projects/Deep Reinforcement Learning Approaches on Stock Prediction/FinRL/FinRL_HyperparameterTuning_Raytune_RLlib_recurrent_ppo_version.ipynb Cell 28\u001b[0m in \u001b[0;36m<cell line: 1>\u001b[0;34m()\u001b[0m\n\u001b[0;32m----> <a href='vscode-notebook-cell://wsl%2Bu18/mnt/f/financial_projects/Deep%20Reinforcement%20Learning%20Approaches%20on%20Stock%20Prediction/FinRL/FinRL_HyperparameterTuning_Raytune_RLlib_recurrent_ppo_version.ipynb#X36sdnNjb2RlLXJlbW90ZQ%3D%3D?line=0'>1</a>\u001b[0m best_config \u001b[39m=\u001b[39m analysis\u001b[39m.\u001b[39mget_best_config(metric\u001b[39m=\u001b[39m\u001b[39m'\u001b[39m\u001b[39mepisode_reward_mean\u001b[39m\u001b[39m'\u001b[39m,mode\u001b[39m=\u001b[39m\u001b[39m'\u001b[39m\u001b[39mmax\u001b[39m\u001b[39m'\u001b[39m)\n\u001b[1;32m      <a href='vscode-notebook-cell://wsl%2Bu18/mnt/f/financial_projects/Deep%20Reinforcement%20Learning%20Approaches%20on%20Stock%20Prediction/FinRL/FinRL_HyperparameterTuning_Raytune_RLlib_recurrent_ppo_version.ipynb#X36sdnNjb2RlLXJlbW90ZQ%3D%3D?line=1'>2</a>\u001b[0m best_config\n",
            "\u001b[0;31mNameError\u001b[0m: name 'analysis' is not defined"
          ]
        }
      ],
      "source": [
        "best_config = analysis.get_best_config(metric='episode_reward_mean',mode='max')\n",
        "best_config"
      ]
    },
    {
      "cell_type": "code",
      "execution_count": null,
      "metadata": {
        "colab": {
          "base_uri": "https://localhost:8080/",
          "height": 53
        },
        "id": "Awbo9S2sZbOv",
        "outputId": "71e9fd9b-23ee-4f19-8b30-63da1add087e"
      },
      "outputs": [
        {
          "data": {
            "application/vnd.google.colaboratory.intrinsic+json": {
              "type": "string"
            },
            "text/plain": [
              "'/content/tuned_models/A2C_2022-01-06_06-46-44/A2C_StockTrading_train_env_c4a4a4e2_7_entropy_coeff=1.9875e-06,framework=torch,lambda=0.5,lr=0.0034153,num_gpus=1,num_workers=1_2022-01-06_07-25-04'"
            ]
          },
          "execution_count": 17,
          "metadata": {},
          "output_type": "execute_result"
        }
      ],
      "source": [
        "best_logdir = analysis.get_best_logdir(metric='episode_reward_mean',mode='max')\n",
        "best_logdir"
      ]
    },
    {
      "cell_type": "code",
      "execution_count": null,
      "metadata": {
        "colab": {
          "base_uri": "https://localhost:8080/",
          "height": 53
        },
        "id": "wa-dilLhHGEd",
        "outputId": "f1432e32-f049-4605-c836-da1a6436f2bb"
      },
      "outputs": [
        {
          "data": {
            "application/vnd.google.colaboratory.intrinsic+json": {
              "type": "string"
            },
            "text/plain": [
              "'/content/tuned_models/A2C_2022-01-06_06-46-44/A2C_StockTrading_train_env_c4a4a4e2_7_entropy_coeff=1.9875e-06,framework=torch,lambda=0.5,lr=0.0034153,num_gpus=1,num_workers=1_2022-01-06_07-25-04/checkpoint_000100/checkpoint-100'"
            ]
          },
          "execution_count": 18,
          "metadata": {},
          "output_type": "execute_result"
        }
      ],
      "source": [
        "best_checkpoint = analysis.best_checkpoint\n",
        "best_checkpoint"
      ]
    },
    {
      "cell_type": "code",
      "execution_count": null,
      "metadata": {
        "id": "RgcBMJBzAhZl"
      },
      "outputs": [],
      "source": [
        "# sharpe,df_account_test,df_action_test = val_or_test(TEST_START_DATE, TEST_END_DATE, ticker_list, data_source, time_interval, \n",
        "#          technical_indicator_list, env, model_name,best_checkpoint, if_vix = True)"
      ]
    },
    {
      "cell_type": "code",
      "execution_count": null,
      "metadata": {
        "colab": {
          "base_uri": "https://localhost:8080/"
        },
        "id": "tO2MmLVTZWs-",
        "outputId": "56022129-ffe8-4f57-96c4-efc473a7140b"
      },
      "outputs": [
        {
          "name": "stdout",
          "output_type": "stream",
          "text": [
            "\r[*********************100%***********************]  1 of 1 completed\n",
            "Shape of DataFrame:  (294, 9)\n",
            "Clean data for TSLA\n",
            "Data clean for TSLA is finished.\n",
            "Data clean all finished!\n",
            "[*********************100%***********************]  1 of 1 completed\n",
            "Shape of DataFrame:  (294, 9)\n",
            "Clean data for ^VIX\n",
            "Data clean for ^VIX is finished.\n",
            "Data clean all finished!\n",
            "['TSLA']\n",
            "Successfully transformed into array\n"
          ]
        }
      ],
      "source": [
        "test_env_config = get_test_config(TEST_START_DATE, TEST_END_DATE, ticker_list, data_source, time_interval, \n",
        "                        technical_indicator_list, env, model_name)"
      ]
    },
    {
      "cell_type": "code",
      "execution_count": null,
      "metadata": {
        "id": "Dt0mhUOgeWtX"
      },
      "outputs": [],
      "source": [
        "sharpe,account,actions = val_or_test(test_env_config,agent_path,model_name,env)"
      ]
    },
    {
      "cell_type": "code",
      "execution_count": null,
      "metadata": {
        "id": "Wis62wQaYHTR"
      },
      "outputs": [],
      "source": [
        "def DRL_prediction(\n",
        "        model_name,\n",
        "        test_env_config,\n",
        "        env,\n",
        "        model_config,\n",
        "        agent_path,\n",
        "        env_name_test='StockTrading_test_env'\n",
        "    ):\n",
        "\n",
        "        env_instance = env(test_env_config)\n",
        "        \n",
        "        register_env(env_name_test, lambda config: env(test_env_config))\n",
        "        model_config['env'] = env_name_test\n",
        "        # ray.init() # Other Ray APIs will not work until `ray.init()` is called.\n",
        "        if model_name == \"ppo\":\n",
        "            trainer = MODELS[model_name].PPOTrainer(config=model_config)\n",
        "        elif model_name == \"a2c\":\n",
        "            trainer = MODELS[model_name].A2CTrainer(config=model_config)\n",
        "        elif model_name == \"ddpg\":\n",
        "            trainer = MODELS[model_name].DDPGTrainer(config=model_config)\n",
        "        elif model_name == \"td3\":\n",
        "            trainer = MODELS[model_name].TD3Trainer(config=model_config)\n",
        "        elif model_name == \"sac\":\n",
        "            trainer = MODELS[model_name].SACTrainer(config=model_config)\n",
        "\n",
        "        try:\n",
        "            trainer.restore(agent_path)\n",
        "            print(\"Restoring from checkpoint path\", agent_path)\n",
        "        except BaseException:\n",
        "            raise ValueError(\"Fail to load agent!\")\n",
        "\n",
        "        # test on the testing env\n",
        "        state = env_instance.reset()\n",
        "        episode_returns = list()  # the cumulative_return / initial_account\n",
        "        episode_total_assets = list()\n",
        "        episode_total_assets.append(env_instance.initial_total_asset)\n",
        "        done = False\n",
        "        while not done:\n",
        "            action = trainer.compute_single_action(state)\n",
        "            state, reward, done, _ = env_instance.step(action)\n",
        "\n",
        "            total_asset = (\n",
        "                env_instance.amount\n",
        "                + (env_instance.price_ary[env_instance.day] * env_instance.stocks).sum()\n",
        "            )\n",
        "            episode_total_assets.append(total_asset)\n",
        "            episode_return = total_asset / env_instance.initial_total_asset\n",
        "            episode_returns.append(episode_return)\n",
        "        ray.shutdown()\n",
        "        print(\"episode return: \" + str(episode_return))\n",
        "        print(\"Test Finished!\")\n",
        "        return episode_total_assets"
      ]
    },
    {
      "cell_type": "code",
      "execution_count": null,
      "metadata": {
        "colab": {
          "base_uri": "https://localhost:8080/"
        },
        "id": "mS_6EclCc-rR",
        "outputId": "029a8c98-3628-4db8-c251-50eff1d8aa4f"
      },
      "outputs": [
        {
          "name": "stderr",
          "output_type": "stream",
          "text": [
            "\u001b[2m\u001b[36m(RolloutWorker pid=54558)\u001b[0m 2022-01-06 08:15:05,638\tWARNING deprecation.py:46 -- DeprecationWarning: `convert_to_non_torch_type` has been deprecated. Use `ray/rllib/utils/numpy.py::convert_to_numpy` instead. This will raise an error in the future!\n",
            "2022-01-06 08:15:05,784\tINFO trainable.py:468 -- Restored on 172.28.0.2 from checkpoint: /content/tuned_models/A2C_2022-01-06_06-46-44/A2C_StockTrading_train_env_c4a4a4e2_7_entropy_coeff=1.9875e-06,framework=torch,lambda=0.5,lr=0.0034153,num_gpus=1,num_workers=1_2022-01-06_07-25-04/checkpoint_000100/checkpoint-100\n",
            "2022-01-06 08:15:05,857\tINFO trainable.py:475 -- Current state after restoring: {'_iteration': 100, '_timesteps_total': 0, '_time_total': 1010.0849390029907, '_episodes_total': 307}\n"
          ]
        },
        {
          "name": "stdout",
          "output_type": "stream",
          "text": [
            "Restoring from checkpoint path /content/tuned_models/A2C_2022-01-06_06-46-44/A2C_StockTrading_train_env_c4a4a4e2_7_entropy_coeff=1.9875e-06,framework=torch,lambda=0.5,lr=0.0034153,num_gpus=1,num_workers=1_2022-01-06_07-25-04/checkpoint_000100/checkpoint-100\n",
            "episode return: 1.0\n",
            "Test Finished!\n"
          ]
        }
      ],
      "source": [
        "episode_total_assets = DRL_prediction(\n",
        "        model_name,\n",
        "        test_env_config,\n",
        "        env,\n",
        "        best_config,\n",
        "        best_checkpoint,\n",
        "        env_name_test='StockTrading_test_env')"
      ]
    },
    {
      "cell_type": "code",
      "execution_count": null,
      "metadata": {
        "id": "uRgs0r2Udbvn"
      },
      "outputs": [],
      "source": [
        "print('The test sharpe ratio is: ',calculate_sharpe(episode_total_assets))\n",
        "df_account_test = pd.DataFrame(data=episode_total_assets,columns=['account_value'])"
      ]
    }
  ],
  "metadata": {
    "accelerator": "GPU",
    "colab": {
      "collapsed_sections": [],
      "include_colab_link": true,
      "name": "FinRL Raytune for Hyperparameter Optimization.ipynb",
      "provenance": []
    },
    "kernelspec": {
      "display_name": "Python 3.8.2 ('FinRl')",
      "language": "python",
      "name": "python3"
    },
    "language_info": {
      "codemirror_mode": {
        "name": "ipython",
        "version": 3
      },
      "file_extension": ".py",
      "mimetype": "text/x-python",
      "name": "python",
      "nbconvert_exporter": "python",
      "pygments_lexer": "ipython3",
      "version": "3.8.2"
    },
    "vscode": {
      "interpreter": {
        "hash": "4a913f0b5b2020ea25813dce4293e7824585e87f8cd8de80d0bb160f8ff78697"
      }
    }
  },
  "nbformat": 4,
  "nbformat_minor": 0
}
