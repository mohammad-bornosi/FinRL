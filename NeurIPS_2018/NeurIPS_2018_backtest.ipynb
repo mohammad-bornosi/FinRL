{
 "cells": [
  {
   "attachments": {},
   "cell_type": "markdown",
   "metadata": {
    "colab_type": "text",
    "id": "view-in-github"
   },
   "source": [
    "<a href=\"https://colab.research.google.com/github/AI4Finance-Foundation/FinRL/blob/master/FinRL_StockTrading_NeurIPS_2018.ipynb\" target=\"_parent\"><img src=\"https://colab.research.google.com/assets/colab-badge.svg\" alt=\"Open In Colab\"/></a>"
   ]
  },
  {
   "attachments": {},
   "cell_type": "markdown",
   "metadata": {
    "id": "gXaoZs2lh1hi"
   },
   "source": [
    "# Deep Reinforcement Learning for Stock Trading from Scratch: Multiple Stock Trading\n",
    "\n",
    "* **Pytorch Version** \n",
    "\n"
   ]
  },
  {
   "attachments": {},
   "cell_type": "markdown",
   "metadata": {
    "id": "lGunVt8oLCVS"
   },
   "source": [
    "# Content"
   ]
  },
  {
   "cell_type": "code",
   "execution_count": null,
   "metadata": {},
   "outputs": [],
   "source": [
    "import pandas as pd\n",
    "import numpy as np\n",
    "import matplotlib\n",
    "import matplotlib.pyplot as plt\n",
    "# matplotlib.use('Agg')\n",
    "import datetime\n",
    "from finrl import config\n",
    "from finrl import config_tickers\n",
    "import os\n",
    "\n",
    "\n",
    "%matplotlib inline\n",
    "##from finrl.finrl_meta.preprocessor.yahoodownloader import YahooDownloader\n",
    "from preprocess.default_preprocessors import FeatureEngineer, data_split \n",
    "from finrl.metaFinrl.preprocessor.CryptoDataReader import CryptoDataLoader\n",
    "#from finrl.agents.stablebaselines3.models import DRLAgent\n",
    "#from finrl.finrl_meta.data_processor import DataProcessor\n",
    "\n",
    "\n",
    "\n",
    "\n",
    "from pprint import pprint\n",
    "\n",
    "\n",
    "import itertools"
   ]
  },
  {
   "attachments": {},
   "cell_type": "markdown",
   "metadata": {
    "id": "HOzAKQ-SLGX6"
   },
   "source": [
    "\n",
    "* [1.Backtesting Performance](#6)  \n",
    "    * [1.1. BackTestStats](#6.1)\n",
    "    * [1.2. BackTestPlot](#6.2)   \n",
    "    * [1.3. Baseline Stats](#6.3)   \n",
    "    * [1.3. Compare to Stock Market Index](#6.4)   \n",
    "* [RLlib Section](#7)            "
   ]
  },
  {
   "attachments": {},
   "cell_type": "markdown",
   "metadata": {
    "id": "W6vvNSC6h1jZ"
   },
   "source": [
    "<a id='6'></a>\n",
    "# Part 7: Backtest Our Strategy\n",
    "Backtesting plays a key role in evaluating the performance of a trading strategy. Automated backtesting tool is preferred because it reduces the human error. We usually use the Quantopian pyfolio package to backtest our trading strategies. It is easy to use and consists of various individual plots that provide a comprehensive image of the performance of a trading strategy."
   ]
  },
  {
   "attachments": {},
   "cell_type": "markdown",
   "metadata": {
    "id": "Lr2zX7ZxNyFQ"
   },
   "source": [
    "<a id='6.1'></a>\n",
    "## 7.1 BackTestStats\n",
    "pass in df_account_value, this information is stored in env class\n"
   ]
  },
  {
   "cell_type": "code",
   "execution_count": null,
   "metadata": {},
   "outputs": [],
   "source": [
    "df_account_value = os.path.join(config.RESULTS_DIR,'account_value_for$_untill_$'.format(config.TRADE_START_DATE,config.TRADE_END_DATE))"
   ]
  },
  {
   "cell_type": "code",
   "execution_count": 35,
   "metadata": {
    "id": "Nzkr9yv-AdV_"
   },
   "outputs": [
    {
     "name": "stdout",
     "output_type": "stream",
     "text": [
      "==============Get Backtest Results===========\n",
      "Annual return          0.126088\n",
      "Cumulative returns     0.125027\n",
      "Annual volatility      0.111443\n",
      "Sharpe ratio           1.125815\n",
      "Calmar ratio           1.053380\n",
      "Stability              0.780501\n",
      "Max drawdown          -0.119698\n",
      "Omega ratio            1.230706\n",
      "Sortino ratio          1.533858\n",
      "Skew                        NaN\n",
      "Kurtosis                    NaN\n",
      "Tail ratio             0.870876\n",
      "Daily value at risk   -0.013543\n",
      "dtype: float64\n"
     ]
    },
    {
     "data": {
      "text/html": [
       "<div>\n",
       "<style scoped>\n",
       "    .dataframe tbody tr th:only-of-type {\n",
       "        vertical-align: middle;\n",
       "    }\n",
       "\n",
       "    .dataframe tbody tr th {\n",
       "        vertical-align: top;\n",
       "    }\n",
       "\n",
       "    .dataframe thead th {\n",
       "        text-align: right;\n",
       "    }\n",
       "</style>\n",
       "<table border=\"1\" class=\"dataframe\">\n",
       "  <thead>\n",
       "    <tr style=\"text-align: right;\">\n",
       "      <th></th>\n",
       "      <th>0</th>\n",
       "    </tr>\n",
       "  </thead>\n",
       "  <tbody>\n",
       "    <tr>\n",
       "      <th>Annual return</th>\n",
       "      <td>0.126088</td>\n",
       "    </tr>\n",
       "    <tr>\n",
       "      <th>Cumulative returns</th>\n",
       "      <td>0.125027</td>\n",
       "    </tr>\n",
       "    <tr>\n",
       "      <th>Annual volatility</th>\n",
       "      <td>0.111443</td>\n",
       "    </tr>\n",
       "    <tr>\n",
       "      <th>Sharpe ratio</th>\n",
       "      <td>1.125815</td>\n",
       "    </tr>\n",
       "    <tr>\n",
       "      <th>Calmar ratio</th>\n",
       "      <td>1.053380</td>\n",
       "    </tr>\n",
       "    <tr>\n",
       "      <th>Stability</th>\n",
       "      <td>0.780501</td>\n",
       "    </tr>\n",
       "    <tr>\n",
       "      <th>Max drawdown</th>\n",
       "      <td>-0.119698</td>\n",
       "    </tr>\n",
       "    <tr>\n",
       "      <th>Omega ratio</th>\n",
       "      <td>1.230706</td>\n",
       "    </tr>\n",
       "    <tr>\n",
       "      <th>Sortino ratio</th>\n",
       "      <td>1.533858</td>\n",
       "    </tr>\n",
       "    <tr>\n",
       "      <th>Skew</th>\n",
       "      <td>NaN</td>\n",
       "    </tr>\n",
       "    <tr>\n",
       "      <th>Kurtosis</th>\n",
       "      <td>NaN</td>\n",
       "    </tr>\n",
       "    <tr>\n",
       "      <th>Tail ratio</th>\n",
       "      <td>0.870876</td>\n",
       "    </tr>\n",
       "    <tr>\n",
       "      <th>Daily value at risk</th>\n",
       "      <td>-0.013543</td>\n",
       "    </tr>\n",
       "  </tbody>\n",
       "</table>\n",
       "</div>"
      ],
      "text/plain": [
       "                            0\n",
       "Annual return        0.126088\n",
       "Cumulative returns   0.125027\n",
       "Annual volatility    0.111443\n",
       "Sharpe ratio         1.125815\n",
       "Calmar ratio         1.053380\n",
       "Stability            0.780501\n",
       "Max drawdown        -0.119698\n",
       "Omega ratio          1.230706\n",
       "Sortino ratio        1.533858\n",
       "Skew                      NaN\n",
       "Kurtosis                  NaN\n",
       "Tail ratio           0.870876\n",
       "Daily value at risk -0.013543"
      ]
     },
     "execution_count": 35,
     "metadata": {},
     "output_type": "execute_result"
    }
   ],
   "source": [
    "print(\"==============Get Backtest Results===========\")\n",
    "\n",
    "perf_stats_all = backtest_stats(account_value=df_account_value)\n",
    "perf_stats_all = pd.DataFrame(perf_stats_all)\n",
    "perf_stats_all"
   ]
  },
  {
   "cell_type": "code",
   "execution_count": 42,
   "metadata": {
    "id": "QkV-LB66iwhD"
   },
   "outputs": [
    {
     "name": "stdout",
     "output_type": "stream",
     "text": [
      "==============Get Baseline Stats===========\n",
      "Annual return          1.402440e+00\n",
      "Cumulative returns     1.834120e+02\n",
      "Annual volatility      8.110592e+02\n",
      "Sharpe ratio           7.051340e+00\n",
      "Calmar ratio           1.408338e+00\n",
      "Stability              4.270229e-07\n",
      "Max drawdown          -9.958126e-01\n",
      "Omega ratio            1.079497e+02\n",
      "Sortino ratio          8.579339e+02\n",
      "Skew                            NaN\n",
      "Kurtosis                        NaN\n",
      "Tail ratio             1.433154e+02\n",
      "Daily value at risk   -7.948919e+01\n",
      "dtype: float64\n"
     ]
    }
   ],
   "source": [
    "#baseline stats\n",
    "print(\"==============Get Baseline Stats===========\")\n",
    "\n",
    "stats = backtest_stats(trade, value_col_name = 'adj close')\n",
    "stats.to_csv(os.path.join(config.RESULTS_DIR,'baseline_stats' + \".csv\"))\n"
   ]
  },
  {
   "cell_type": "code",
   "execution_count": 32,
   "metadata": {
    "id": "tt1bzL5OrsTa"
   },
   "outputs": [
    {
     "data": {
      "text/plain": [
       "'2022-12-29'"
      ]
     },
     "execution_count": 32,
     "metadata": {},
     "output_type": "execute_result"
    }
   ],
   "source": [
    "df_account_value.loc[len(df_account_value)-1,'date']"
   ]
  },
  {
   "attachments": {},
   "cell_type": "markdown",
   "metadata": {
    "id": "9U6Suru3h1jc"
   },
   "source": [
    "<a id='6.2'></a>\n",
    "## 7.2 BackTestPlot"
   ]
  },
  {
   "cell_type": "code",
   "execution_count": 91,
   "metadata": {},
   "outputs": [],
   "source": [
    "from finrl.plot import backtest_stats, backtest_plot, get_daily_return, get_baseline, trx_plot"
   ]
  },
  {
   "cell_type": "code",
   "execution_count": 85,
   "metadata": {
    "id": "lKRGftSS7pNM"
   },
   "outputs": [
    {
     "name": "stdout",
     "output_type": "stream",
     "text": [
      "==============Compare to DJIA===========\n"
     ]
    },
    {
     "ename": "KeyError",
     "evalue": "'SMA'",
     "output_type": "error",
     "traceback": [
      "\u001b[0;31m---------------------------------------------------------------------------\u001b[0m",
      "\u001b[0;31mKeyError\u001b[0m                                  Traceback (most recent call last)",
      "File \u001b[0;32m~/miniconda3/envs/Finrl/lib/python3.10/site-packages/pandas/core/indexes/base.py:3652\u001b[0m, in \u001b[0;36mIndex.get_loc\u001b[0;34m(self, key)\u001b[0m\n\u001b[1;32m   3651\u001b[0m \u001b[39mtry\u001b[39;00m:\n\u001b[0;32m-> 3652\u001b[0m     \u001b[39mreturn\u001b[39;00m \u001b[39mself\u001b[39;49m\u001b[39m.\u001b[39;49m_engine\u001b[39m.\u001b[39;49mget_loc(casted_key)\n\u001b[1;32m   3653\u001b[0m \u001b[39mexcept\u001b[39;00m \u001b[39mKeyError\u001b[39;00m \u001b[39mas\u001b[39;00m err:\n",
      "File \u001b[0;32m~/miniconda3/envs/Finrl/lib/python3.10/site-packages/pandas/_libs/index.pyx:147\u001b[0m, in \u001b[0;36mpandas._libs.index.IndexEngine.get_loc\u001b[0;34m()\u001b[0m\n",
      "File \u001b[0;32m~/miniconda3/envs/Finrl/lib/python3.10/site-packages/pandas/_libs/index.pyx:176\u001b[0m, in \u001b[0;36mpandas._libs.index.IndexEngine.get_loc\u001b[0;34m()\u001b[0m\n",
      "File \u001b[0;32mpandas/_libs/hashtable_class_helper.pxi:7080\u001b[0m, in \u001b[0;36mpandas._libs.hashtable.PyObjectHashTable.get_item\u001b[0;34m()\u001b[0m\n",
      "File \u001b[0;32mpandas/_libs/hashtable_class_helper.pxi:7088\u001b[0m, in \u001b[0;36mpandas._libs.hashtable.PyObjectHashTable.get_item\u001b[0;34m()\u001b[0m\n",
      "\u001b[0;31mKeyError\u001b[0m: 'SMA'",
      "\nThe above exception was the direct cause of the following exception:\n",
      "\u001b[0;31mKeyError\u001b[0m                                  Traceback (most recent call last)",
      "Cell \u001b[0;32mIn[85], line 6\u001b[0m\n\u001b[1;32m      2\u001b[0m get_ipython()\u001b[39m.\u001b[39mrun_line_magic(\u001b[39m'\u001b[39m\u001b[39mmatplotlib\u001b[39m\u001b[39m'\u001b[39m, \u001b[39m'\u001b[39m\u001b[39minline\u001b[39m\u001b[39m'\u001b[39m)\n\u001b[1;32m      3\u001b[0m \u001b[39m# S&P 500: ^GSPC\u001b[39;00m\n\u001b[1;32m      4\u001b[0m \u001b[39m# Dow Jones Index: ^DJI\u001b[39;00m\n\u001b[1;32m      5\u001b[0m \u001b[39m# NASDAQ 100: ^NDX\u001b[39;00m\n\u001b[0;32m----> 6\u001b[0m backtest_plot(df_account_value,  \n\u001b[1;32m      7\u001b[0m              baseline_start \u001b[39m=\u001b[39;49m df_account_value\u001b[39m.\u001b[39;49mloc[\u001b[39m0\u001b[39;49m,\u001b[39m'\u001b[39;49m\u001b[39mdate\u001b[39;49m\u001b[39m'\u001b[39;49m],\n\u001b[1;32m      8\u001b[0m              baseline_end \u001b[39m=\u001b[39;49m df_account_value\u001b[39m.\u001b[39;49mloc[\u001b[39mlen\u001b[39;49m(df_account_value)\u001b[39m-\u001b[39;49m\u001b[39m1\u001b[39;49m,\u001b[39m'\u001b[39;49m\u001b[39mdate\u001b[39;49m\u001b[39m'\u001b[39;49m],\n\u001b[1;32m      9\u001b[0m              baseline_ticker \u001b[39m=\u001b[39;49m stock_data,\n\u001b[1;32m     10\u001b[0m              value_col_name\u001b[39m=\u001b[39;49m \u001b[39m'\u001b[39;49m\u001b[39mSMA\u001b[39;49m\u001b[39m'\u001b[39;49m)\n",
      "File \u001b[0;32m/mnt/f/financial_projects/Deep Reinforcement Learning Approaches on Stock Prediction/FinRL/finrl/plot.py:53\u001b[0m, in \u001b[0;36mbacktest_plot\u001b[0;34m(account_value, baseline_start, baseline_end, baseline_ticker, value_col_name)\u001b[0m\n\u001b[1;32m     51\u001b[0m df \u001b[39m=\u001b[39m deepcopy(account_value)\n\u001b[1;32m     52\u001b[0m df[\u001b[39m\"\u001b[39m\u001b[39mdate\u001b[39m\u001b[39m\"\u001b[39m] \u001b[39m=\u001b[39m pd\u001b[39m.\u001b[39mto_datetime(df[\u001b[39m\"\u001b[39m\u001b[39mdate\u001b[39m\u001b[39m\"\u001b[39m])\n\u001b[0;32m---> 53\u001b[0m test_returns \u001b[39m=\u001b[39m get_daily_return(df, value_col_name\u001b[39m=\u001b[39;49mvalue_col_name)\n\u001b[1;32m     55\u001b[0m \u001b[39m#baseline_df = get_baseline(\u001b[39;00m\n\u001b[1;32m     56\u001b[0m \u001b[39m#    ticker=baseline_ticker, start=baseline_start, end=baseline_end\u001b[39;00m\n\u001b[1;32m     57\u001b[0m \u001b[39m#)\u001b[39;00m\n\u001b[1;32m     58\u001b[0m baseline_df \u001b[39m=\u001b[39m baseline_ticker\n",
      "File \u001b[0;32m/mnt/f/financial_projects/Deep Reinforcement Learning Approaches on Stock Prediction/FinRL/finrl/plot.py:16\u001b[0m, in \u001b[0;36mget_daily_return\u001b[0;34m(df, value_col_name)\u001b[0m\n\u001b[1;32m     14\u001b[0m \u001b[39mdef\u001b[39;00m \u001b[39mget_daily_return\u001b[39m(df, value_col_name\u001b[39m=\u001b[39m\u001b[39m\"\u001b[39m\u001b[39maccount_value\u001b[39m\u001b[39m\"\u001b[39m):\n\u001b[1;32m     15\u001b[0m     df \u001b[39m=\u001b[39m deepcopy(df)\n\u001b[0;32m---> 16\u001b[0m     df[\u001b[39m\"\u001b[39m\u001b[39mdaily_return\u001b[39m\u001b[39m\"\u001b[39m] \u001b[39m=\u001b[39m df[value_col_name]\u001b[39m.\u001b[39mpct_change(\u001b[39m1\u001b[39m)\n\u001b[1;32m     17\u001b[0m     df[\u001b[39m\"\u001b[39m\u001b[39mdate\u001b[39m\u001b[39m\"\u001b[39m] \u001b[39m=\u001b[39m pd\u001b[39m.\u001b[39mto_datetime(df[\u001b[39m\"\u001b[39m\u001b[39mdate\u001b[39m\u001b[39m\"\u001b[39m])\n\u001b[1;32m     18\u001b[0m     df\u001b[39m.\u001b[39mset_index(\u001b[39m\"\u001b[39m\u001b[39mdate\u001b[39m\u001b[39m\"\u001b[39m, inplace\u001b[39m=\u001b[39m\u001b[39mTrue\u001b[39;00m, drop\u001b[39m=\u001b[39m\u001b[39mTrue\u001b[39;00m)\n",
      "File \u001b[0;32m~/miniconda3/envs/Finrl/lib/python3.10/site-packages/pandas/core/frame.py:3761\u001b[0m, in \u001b[0;36mDataFrame.__getitem__\u001b[0;34m(self, key)\u001b[0m\n\u001b[1;32m   3759\u001b[0m \u001b[39mif\u001b[39;00m \u001b[39mself\u001b[39m\u001b[39m.\u001b[39mcolumns\u001b[39m.\u001b[39mnlevels \u001b[39m>\u001b[39m \u001b[39m1\u001b[39m:\n\u001b[1;32m   3760\u001b[0m     \u001b[39mreturn\u001b[39;00m \u001b[39mself\u001b[39m\u001b[39m.\u001b[39m_getitem_multilevel(key)\n\u001b[0;32m-> 3761\u001b[0m indexer \u001b[39m=\u001b[39m \u001b[39mself\u001b[39;49m\u001b[39m.\u001b[39;49mcolumns\u001b[39m.\u001b[39;49mget_loc(key)\n\u001b[1;32m   3762\u001b[0m \u001b[39mif\u001b[39;00m is_integer(indexer):\n\u001b[1;32m   3763\u001b[0m     indexer \u001b[39m=\u001b[39m [indexer]\n",
      "File \u001b[0;32m~/miniconda3/envs/Finrl/lib/python3.10/site-packages/pandas/core/indexes/base.py:3654\u001b[0m, in \u001b[0;36mIndex.get_loc\u001b[0;34m(self, key)\u001b[0m\n\u001b[1;32m   3652\u001b[0m     \u001b[39mreturn\u001b[39;00m \u001b[39mself\u001b[39m\u001b[39m.\u001b[39m_engine\u001b[39m.\u001b[39mget_loc(casted_key)\n\u001b[1;32m   3653\u001b[0m \u001b[39mexcept\u001b[39;00m \u001b[39mKeyError\u001b[39;00m \u001b[39mas\u001b[39;00m err:\n\u001b[0;32m-> 3654\u001b[0m     \u001b[39mraise\u001b[39;00m \u001b[39mKeyError\u001b[39;00m(key) \u001b[39mfrom\u001b[39;00m \u001b[39merr\u001b[39;00m\n\u001b[1;32m   3655\u001b[0m \u001b[39mexcept\u001b[39;00m \u001b[39mTypeError\u001b[39;00m:\n\u001b[1;32m   3656\u001b[0m     \u001b[39m# If we have a listlike key, _check_indexing_error will raise\u001b[39;00m\n\u001b[1;32m   3657\u001b[0m     \u001b[39m#  InvalidIndexError. Otherwise we fall through and re-raise\u001b[39;00m\n\u001b[1;32m   3658\u001b[0m     \u001b[39m#  the TypeError.\u001b[39;00m\n\u001b[1;32m   3659\u001b[0m     \u001b[39mself\u001b[39m\u001b[39m.\u001b[39m_check_indexing_error(key)\n",
      "\u001b[0;31mKeyError\u001b[0m: 'SMA'"
     ]
    }
   ],
   "source": [
    "print(\"==============Compare to DJIA===========\")\n",
    "%matplotlib inline\n",
    "# S&P 500: ^GSPC\n",
    "# Dow Jones Index: ^DJI\n",
    "# NASDAQ 100: ^NDX\n",
    "backtest_plot(df_account_value,  \n",
    "             baseline_start = df_account_value.loc[0,'date'],\n",
    "             baseline_end = df_account_value.loc[len(df_account_value)-1,'date'],\n",
    "             baseline_ticker = stock_data,\n",
    "             value_col_name= 'SMA')"
   ]
  },
  {
   "cell_type": "code",
   "execution_count": 98,
   "metadata": {},
   "outputs": [
    {
     "ename": "AttributeError",
     "evalue": "'DataFrame' object has no attribute 'to_list'",
     "output_type": "error",
     "traceback": [
      "\u001b[0;31m---------------------------------------------------------------------------\u001b[0m",
      "\u001b[0;31mAttributeError\u001b[0m                            Traceback (most recent call last)",
      "\u001b[0;32m/tmp/ipykernel_1519/646978565.py\u001b[0m in \u001b[0;36m?\u001b[0;34m()\u001b[0m\n\u001b[0;32m----> 1\u001b[0;31m \u001b[0mdf_trx\u001b[0m \u001b[0;34m=\u001b[0m \u001b[0mpd\u001b[0m\u001b[0;34m.\u001b[0m\u001b[0mDataFrame\u001b[0m\u001b[0;34m(\u001b[0m\u001b[0mnp\u001b[0m\u001b[0;34m.\u001b[0m\u001b[0marray\u001b[0m\u001b[0;34m(\u001b[0m\u001b[0mdf_actions\u001b[0m\u001b[0;34m[\u001b[0m\u001b[0;34m:\u001b[0m\u001b[0;34m]\u001b[0m\u001b[0;34m.\u001b[0m\u001b[0mto_list\u001b[0m\u001b[0;34m(\u001b[0m\u001b[0;34m)\u001b[0m\u001b[0;34m)\u001b[0m\u001b[0;34m)\u001b[0m\u001b[0;34m\u001b[0m\u001b[0;34m\u001b[0m\u001b[0m\n\u001b[0m",
      "\u001b[0;32m~/miniconda3/envs/Finrl/lib/python3.10/site-packages/pandas/core/generic.py\u001b[0m in \u001b[0;36m?\u001b[0;34m(self, name)\u001b[0m\n\u001b[1;32m   5985\u001b[0m             \u001b[0;32mand\u001b[0m \u001b[0mname\u001b[0m \u001b[0;32mnot\u001b[0m \u001b[0;32min\u001b[0m \u001b[0mself\u001b[0m\u001b[0;34m.\u001b[0m\u001b[0m_accessors\u001b[0m\u001b[0;34m\u001b[0m\u001b[0;34m\u001b[0m\u001b[0m\n\u001b[1;32m   5986\u001b[0m             \u001b[0;32mand\u001b[0m \u001b[0mself\u001b[0m\u001b[0;34m.\u001b[0m\u001b[0m_info_axis\u001b[0m\u001b[0;34m.\u001b[0m\u001b[0m_can_hold_identifiers_and_holds_name\u001b[0m\u001b[0;34m(\u001b[0m\u001b[0mname\u001b[0m\u001b[0;34m)\u001b[0m\u001b[0;34m\u001b[0m\u001b[0;34m\u001b[0m\u001b[0m\n\u001b[1;32m   5987\u001b[0m         ):\n\u001b[1;32m   5988\u001b[0m             \u001b[0;32mreturn\u001b[0m \u001b[0mself\u001b[0m\u001b[0;34m[\u001b[0m\u001b[0mname\u001b[0m\u001b[0;34m]\u001b[0m\u001b[0;34m\u001b[0m\u001b[0;34m\u001b[0m\u001b[0m\n\u001b[0;32m-> 5989\u001b[0;31m         \u001b[0;32mreturn\u001b[0m \u001b[0mobject\u001b[0m\u001b[0;34m.\u001b[0m\u001b[0m__getattribute__\u001b[0m\u001b[0;34m(\u001b[0m\u001b[0mself\u001b[0m\u001b[0;34m,\u001b[0m \u001b[0mname\u001b[0m\u001b[0;34m)\u001b[0m\u001b[0;34m\u001b[0m\u001b[0;34m\u001b[0m\u001b[0m\n\u001b[0m",
      "\u001b[0;31mAttributeError\u001b[0m: 'DataFrame' object has no attribute 'to_list'"
     ]
    }
   ],
   "source": [
    "df_trx = pd.DataFrame(np.array(df_actions[:].to_list()))"
   ]
  },
  {
   "cell_type": "code",
   "execution_count": 96,
   "metadata": {},
   "outputs": [
    {
     "ename": "NameError",
     "evalue": "name 'df_trx' is not defined",
     "output_type": "error",
     "traceback": [
      "\u001b[0;31m---------------------------------------------------------------------------\u001b[0m",
      "\u001b[0;31mNameError\u001b[0m                                 Traceback (most recent call last)",
      "Cell \u001b[0;32mIn[96], line 1\u001b[0m\n\u001b[0;32m----> 1\u001b[0m df_trx\u001b[39m.\u001b[39mshape[\u001b[39m1\u001b[39m]\n",
      "\u001b[0;31mNameError\u001b[0m: name 'df_trx' is not defined"
     ]
    }
   ],
   "source": [
    "df_trx.shape[1]"
   ]
  },
  {
   "attachments": {},
   "cell_type": "markdown",
   "metadata": {},
   "source": [
    "# part7 : manual backtesting"
   ]
  },
  {
   "cell_type": "code",
   "execution_count": 92,
   "metadata": {},
   "outputs": [
    {
     "ename": "KeyError",
     "evalue": "'transactions'",
     "output_type": "error",
     "traceback": [
      "\u001b[0;31m---------------------------------------------------------------------------\u001b[0m",
      "\u001b[0;31mKeyError\u001b[0m                                  Traceback (most recent call last)",
      "File \u001b[0;32m~/miniconda3/envs/Finrl/lib/python3.10/site-packages/pandas/core/indexes/base.py:3652\u001b[0m, in \u001b[0;36mIndex.get_loc\u001b[0;34m(self, key)\u001b[0m\n\u001b[1;32m   3651\u001b[0m \u001b[39mtry\u001b[39;00m:\n\u001b[0;32m-> 3652\u001b[0m     \u001b[39mreturn\u001b[39;00m \u001b[39mself\u001b[39;49m\u001b[39m.\u001b[39;49m_engine\u001b[39m.\u001b[39;49mget_loc(casted_key)\n\u001b[1;32m   3653\u001b[0m \u001b[39mexcept\u001b[39;00m \u001b[39mKeyError\u001b[39;00m \u001b[39mas\u001b[39;00m err:\n",
      "File \u001b[0;32m~/miniconda3/envs/Finrl/lib/python3.10/site-packages/pandas/_libs/index.pyx:147\u001b[0m, in \u001b[0;36mpandas._libs.index.IndexEngine.get_loc\u001b[0;34m()\u001b[0m\n",
      "File \u001b[0;32m~/miniconda3/envs/Finrl/lib/python3.10/site-packages/pandas/_libs/index.pyx:176\u001b[0m, in \u001b[0;36mpandas._libs.index.IndexEngine.get_loc\u001b[0;34m()\u001b[0m\n",
      "File \u001b[0;32mpandas/_libs/hashtable_class_helper.pxi:7080\u001b[0m, in \u001b[0;36mpandas._libs.hashtable.PyObjectHashTable.get_item\u001b[0;34m()\u001b[0m\n",
      "File \u001b[0;32mpandas/_libs/hashtable_class_helper.pxi:7088\u001b[0m, in \u001b[0;36mpandas._libs.hashtable.PyObjectHashTable.get_item\u001b[0;34m()\u001b[0m\n",
      "\u001b[0;31mKeyError\u001b[0m: 'transactions'",
      "\nThe above exception was the direct cause of the following exception:\n",
      "\u001b[0;31mKeyError\u001b[0m                                  Traceback (most recent call last)",
      "Cell \u001b[0;32mIn[92], line 1\u001b[0m\n\u001b[0;32m----> 1\u001b[0m trx_plot(trade, df_actions, \u001b[39mlist\u001b[39;49m(processed_full[\u001b[39m'\u001b[39;49m\u001b[39mtic\u001b[39;49m\u001b[39m'\u001b[39;49m]\u001b[39m.\u001b[39;49munique()) )\n",
      "File \u001b[0;32m/mnt/f/financial_projects/Deep Reinforcement Learning Approaches on Stock Prediction/FinRL/finrl/plot.py:80\u001b[0m, in \u001b[0;36mtrx_plot\u001b[0;34m(df_trade, df_actions, ticker_list)\u001b[0m\n\u001b[1;32m     79\u001b[0m \u001b[39mdef\u001b[39;00m \u001b[39mtrx_plot\u001b[39m(df_trade, df_actions, ticker_list):\n\u001b[0;32m---> 80\u001b[0m     df_trx \u001b[39m=\u001b[39m pd\u001b[39m.\u001b[39mDataFrame(np\u001b[39m.\u001b[39marray(df_actions[\u001b[39m\"\u001b[39;49m\u001b[39mtransactions\u001b[39;49m\u001b[39m\"\u001b[39;49m]\u001b[39m.\u001b[39mto_list()))\n\u001b[1;32m     81\u001b[0m     df_trx\u001b[39m.\u001b[39mcolumns \u001b[39m=\u001b[39m ticker_list\n\u001b[1;32m     82\u001b[0m     df_trx\u001b[39m.\u001b[39mindex \u001b[39m=\u001b[39m df_actions[\u001b[39m\"\u001b[39m\u001b[39mdate\u001b[39m\u001b[39m\"\u001b[39m]\n",
      "File \u001b[0;32m~/miniconda3/envs/Finrl/lib/python3.10/site-packages/pandas/core/frame.py:3761\u001b[0m, in \u001b[0;36mDataFrame.__getitem__\u001b[0;34m(self, key)\u001b[0m\n\u001b[1;32m   3759\u001b[0m \u001b[39mif\u001b[39;00m \u001b[39mself\u001b[39m\u001b[39m.\u001b[39mcolumns\u001b[39m.\u001b[39mnlevels \u001b[39m>\u001b[39m \u001b[39m1\u001b[39m:\n\u001b[1;32m   3760\u001b[0m     \u001b[39mreturn\u001b[39;00m \u001b[39mself\u001b[39m\u001b[39m.\u001b[39m_getitem_multilevel(key)\n\u001b[0;32m-> 3761\u001b[0m indexer \u001b[39m=\u001b[39m \u001b[39mself\u001b[39;49m\u001b[39m.\u001b[39;49mcolumns\u001b[39m.\u001b[39;49mget_loc(key)\n\u001b[1;32m   3762\u001b[0m \u001b[39mif\u001b[39;00m is_integer(indexer):\n\u001b[1;32m   3763\u001b[0m     indexer \u001b[39m=\u001b[39m [indexer]\n",
      "File \u001b[0;32m~/miniconda3/envs/Finrl/lib/python3.10/site-packages/pandas/core/indexes/base.py:3654\u001b[0m, in \u001b[0;36mIndex.get_loc\u001b[0;34m(self, key)\u001b[0m\n\u001b[1;32m   3652\u001b[0m     \u001b[39mreturn\u001b[39;00m \u001b[39mself\u001b[39m\u001b[39m.\u001b[39m_engine\u001b[39m.\u001b[39mget_loc(casted_key)\n\u001b[1;32m   3653\u001b[0m \u001b[39mexcept\u001b[39;00m \u001b[39mKeyError\u001b[39;00m \u001b[39mas\u001b[39;00m err:\n\u001b[0;32m-> 3654\u001b[0m     \u001b[39mraise\u001b[39;00m \u001b[39mKeyError\u001b[39;00m(key) \u001b[39mfrom\u001b[39;00m \u001b[39merr\u001b[39;00m\n\u001b[1;32m   3655\u001b[0m \u001b[39mexcept\u001b[39;00m \u001b[39mTypeError\u001b[39;00m:\n\u001b[1;32m   3656\u001b[0m     \u001b[39m# If we have a listlike key, _check_indexing_error will raise\u001b[39;00m\n\u001b[1;32m   3657\u001b[0m     \u001b[39m#  InvalidIndexError. Otherwise we fall through and re-raise\u001b[39;00m\n\u001b[1;32m   3658\u001b[0m     \u001b[39m#  the TypeError.\u001b[39;00m\n\u001b[1;32m   3659\u001b[0m     \u001b[39mself\u001b[39m\u001b[39m.\u001b[39m_check_indexing_error(key)\n",
      "\u001b[0;31mKeyError\u001b[0m: 'transactions'"
     ]
    }
   ],
   "source": [
    "trx_plot(trade, df_actions, list(processed_full['tic'].unique()) )\n"
   ]
  },
  {
   "cell_type": "code",
   "execution_count": 89,
   "metadata": {},
   "outputs": [
    {
     "data": {
      "text/plain": [
       "['AUDUSD=X', 'EURUSD=X', 'GBPUSD=X', 'USDCAD=X', 'USDCHF=X', 'USDJPY=X']"
      ]
     },
     "execution_count": 89,
     "metadata": {},
     "output_type": "execute_result"
    }
   ],
   "source": [
    "list(processed_full['tic'].unique()) "
   ]
  },
  {
   "cell_type": "code",
   "execution_count": 87,
   "metadata": {},
   "outputs": [
    {
     "data": {
      "text/html": [
       "<div>\n",
       "<style scoped>\n",
       "    .dataframe tbody tr th:only-of-type {\n",
       "        vertical-align: middle;\n",
       "    }\n",
       "\n",
       "    .dataframe tbody tr th {\n",
       "        vertical-align: top;\n",
       "    }\n",
       "\n",
       "    .dataframe thead th {\n",
       "        text-align: right;\n",
       "    }\n",
       "</style>\n",
       "<table border=\"1\" class=\"dataframe\">\n",
       "  <thead>\n",
       "    <tr style=\"text-align: right;\">\n",
       "      <th></th>\n",
       "      <th>date</th>\n",
       "      <th>tic</th>\n",
       "      <th>adj close</th>\n",
       "      <th>close</th>\n",
       "      <th>high</th>\n",
       "      <th>low</th>\n",
       "      <th>open</th>\n",
       "      <th>macd</th>\n",
       "      <th>rsi_30</th>\n",
       "      <th>cci_30</th>\n",
       "      <th>dx_30</th>\n",
       "      <th>close_30_sma</th>\n",
       "      <th>close_60_sma</th>\n",
       "      <th>vix</th>\n",
       "      <th>turbulence</th>\n",
       "    </tr>\n",
       "  </thead>\n",
       "  <tbody>\n",
       "    <tr>\n",
       "      <th>0</th>\n",
       "      <td>2022-01-03</td>\n",
       "      <td>AUDUSD=X</td>\n",
       "      <td>0.726818</td>\n",
       "      <td>0.726818</td>\n",
       "      <td>0.727908</td>\n",
       "      <td>0.718590</td>\n",
       "      <td>0.726850</td>\n",
       "      <td>0.001099</td>\n",
       "      <td>51.288051</td>\n",
       "      <td>104.966545</td>\n",
       "      <td>3.520604</td>\n",
       "      <td>0.716629</td>\n",
       "      <td>0.728673</td>\n",
       "      <td>16.600000</td>\n",
       "      <td>6.664439</td>\n",
       "    </tr>\n",
       "    <tr>\n",
       "      <th>0</th>\n",
       "      <td>2022-01-03</td>\n",
       "      <td>EURUSD=X</td>\n",
       "      <td>1.137346</td>\n",
       "      <td>1.137346</td>\n",
       "      <td>1.137592</td>\n",
       "      <td>1.128541</td>\n",
       "      <td>1.137385</td>\n",
       "      <td>-0.000456</td>\n",
       "      <td>47.814245</td>\n",
       "      <td>122.620797</td>\n",
       "      <td>9.183568</td>\n",
       "      <td>1.129750</td>\n",
       "      <td>1.141925</td>\n",
       "      <td>16.600000</td>\n",
       "      <td>6.664439</td>\n",
       "    </tr>\n",
       "    <tr>\n",
       "      <th>0</th>\n",
       "      <td>2022-01-03</td>\n",
       "      <td>GBPUSD=X</td>\n",
       "      <td>1.352228</td>\n",
       "      <td>1.352228</td>\n",
       "      <td>1.353180</td>\n",
       "      <td>1.343274</td>\n",
       "      <td>1.352228</td>\n",
       "      <td>0.003050</td>\n",
       "      <td>53.283006</td>\n",
       "      <td>154.852691</td>\n",
       "      <td>21.800040</td>\n",
       "      <td>1.332292</td>\n",
       "      <td>1.346930</td>\n",
       "      <td>16.600000</td>\n",
       "      <td>6.664439</td>\n",
       "    </tr>\n",
       "    <tr>\n",
       "      <th>0</th>\n",
       "      <td>2022-01-03</td>\n",
       "      <td>USDCAD=X</td>\n",
       "      <td>1.265880</td>\n",
       "      <td>1.265880</td>\n",
       "      <td>1.277810</td>\n",
       "      <td>1.264400</td>\n",
       "      <td>1.265710</td>\n",
       "      <td>0.002133</td>\n",
       "      <td>48.905144</td>\n",
       "      <td>-87.188526</td>\n",
       "      <td>9.888084</td>\n",
       "      <td>1.277323</td>\n",
       "      <td>1.260846</td>\n",
       "      <td>16.600000</td>\n",
       "      <td>6.664439</td>\n",
       "    </tr>\n",
       "    <tr>\n",
       "      <th>0</th>\n",
       "      <td>2022-01-03</td>\n",
       "      <td>USDCHF=X</td>\n",
       "      <td>0.911975</td>\n",
       "      <td>0.911975</td>\n",
       "      <td>0.919910</td>\n",
       "      <td>0.911500</td>\n",
       "      <td>0.912030</td>\n",
       "      <td>-0.002360</td>\n",
       "      <td>43.914787</td>\n",
       "      <td>-136.171788</td>\n",
       "      <td>14.666355</td>\n",
       "      <td>0.922099</td>\n",
       "      <td>0.921011</td>\n",
       "      <td>16.600000</td>\n",
       "      <td>6.664439</td>\n",
       "    </tr>\n",
       "    <tr>\n",
       "      <th>...</th>\n",
       "      <td>...</td>\n",
       "      <td>...</td>\n",
       "      <td>...</td>\n",
       "      <td>...</td>\n",
       "      <td>...</td>\n",
       "      <td>...</td>\n",
       "      <td>...</td>\n",
       "      <td>...</td>\n",
       "      <td>...</td>\n",
       "      <td>...</td>\n",
       "      <td>...</td>\n",
       "      <td>...</td>\n",
       "      <td>...</td>\n",
       "      <td>...</td>\n",
       "      <td>...</td>\n",
       "    </tr>\n",
       "    <tr>\n",
       "      <th>249</th>\n",
       "      <td>2022-12-29</td>\n",
       "      <td>EURUSD=X</td>\n",
       "      <td>1.062925</td>\n",
       "      <td>1.062925</td>\n",
       "      <td>1.067019</td>\n",
       "      <td>1.061233</td>\n",
       "      <td>1.062925</td>\n",
       "      <td>0.008925</td>\n",
       "      <td>60.167083</td>\n",
       "      <td>78.327051</td>\n",
       "      <td>49.139568</td>\n",
       "      <td>1.050900</td>\n",
       "      <td>1.022255</td>\n",
       "      <td>21.440001</td>\n",
       "      <td>6.166426</td>\n",
       "    </tr>\n",
       "    <tr>\n",
       "      <th>249</th>\n",
       "      <td>2022-12-29</td>\n",
       "      <td>GBPUSD=X</td>\n",
       "      <td>1.202848</td>\n",
       "      <td>1.202848</td>\n",
       "      <td>1.207584</td>\n",
       "      <td>1.201548</td>\n",
       "      <td>1.203297</td>\n",
       "      <td>0.003764</td>\n",
       "      <td>52.732919</td>\n",
       "      <td>-46.930901</td>\n",
       "      <td>3.480165</td>\n",
       "      <td>1.211069</td>\n",
       "      <td>1.176042</td>\n",
       "      <td>21.440001</td>\n",
       "      <td>6.166426</td>\n",
       "    </tr>\n",
       "    <tr>\n",
       "      <th>249</th>\n",
       "      <td>2022-12-29</td>\n",
       "      <td>USDCAD=X</td>\n",
       "      <td>1.359940</td>\n",
       "      <td>1.359940</td>\n",
       "      <td>1.360760</td>\n",
       "      <td>1.354450</td>\n",
       "      <td>1.359940</td>\n",
       "      <td>0.002138</td>\n",
       "      <td>52.738428</td>\n",
       "      <td>36.079932</td>\n",
       "      <td>8.181686</td>\n",
       "      <td>1.353157</td>\n",
       "      <td>1.357071</td>\n",
       "      <td>21.440001</td>\n",
       "      <td>6.166426</td>\n",
       "    </tr>\n",
       "    <tr>\n",
       "      <th>249</th>\n",
       "      <td>2022-12-29</td>\n",
       "      <td>USDCHF=X</td>\n",
       "      <td>0.927710</td>\n",
       "      <td>0.927710</td>\n",
       "      <td>0.928720</td>\n",
       "      <td>0.921190</td>\n",
       "      <td>0.927710</td>\n",
       "      <td>-0.006936</td>\n",
       "      <td>40.654053</td>\n",
       "      <td>-97.756970</td>\n",
       "      <td>35.855458</td>\n",
       "      <td>0.938252</td>\n",
       "      <td>0.963402</td>\n",
       "      <td>21.440001</td>\n",
       "      <td>6.166426</td>\n",
       "    </tr>\n",
       "    <tr>\n",
       "      <th>249</th>\n",
       "      <td>2022-12-29</td>\n",
       "      <td>USDJPY=X</td>\n",
       "      <td>134.033997</td>\n",
       "      <td>134.033997</td>\n",
       "      <td>134.188004</td>\n",
       "      <td>132.936005</td>\n",
       "      <td>134.033997</td>\n",
       "      <td>-1.870648</td>\n",
       "      <td>41.564990</td>\n",
       "      <td>-88.398318</td>\n",
       "      <td>29.149269</td>\n",
       "      <td>136.605233</td>\n",
       "      <td>141.392699</td>\n",
       "      <td>21.440001</td>\n",
       "      <td>6.166426</td>\n",
       "    </tr>\n",
       "  </tbody>\n",
       "</table>\n",
       "<p>1500 rows × 15 columns</p>\n",
       "</div>"
      ],
      "text/plain": [
       "           date       tic   adj close       close        high         low  \\\n",
       "0    2022-01-03  AUDUSD=X    0.726818    0.726818    0.727908    0.718590   \n",
       "0    2022-01-03  EURUSD=X    1.137346    1.137346    1.137592    1.128541   \n",
       "0    2022-01-03  GBPUSD=X    1.352228    1.352228    1.353180    1.343274   \n",
       "0    2022-01-03  USDCAD=X    1.265880    1.265880    1.277810    1.264400   \n",
       "0    2022-01-03  USDCHF=X    0.911975    0.911975    0.919910    0.911500   \n",
       "..          ...       ...         ...         ...         ...         ...   \n",
       "249  2022-12-29  EURUSD=X    1.062925    1.062925    1.067019    1.061233   \n",
       "249  2022-12-29  GBPUSD=X    1.202848    1.202848    1.207584    1.201548   \n",
       "249  2022-12-29  USDCAD=X    1.359940    1.359940    1.360760    1.354450   \n",
       "249  2022-12-29  USDCHF=X    0.927710    0.927710    0.928720    0.921190   \n",
       "249  2022-12-29  USDJPY=X  134.033997  134.033997  134.188004  132.936005   \n",
       "\n",
       "           open      macd     rsi_30      cci_30      dx_30  close_30_sma  \\\n",
       "0      0.726850  0.001099  51.288051  104.966545   3.520604      0.716629   \n",
       "0      1.137385 -0.000456  47.814245  122.620797   9.183568      1.129750   \n",
       "0      1.352228  0.003050  53.283006  154.852691  21.800040      1.332292   \n",
       "0      1.265710  0.002133  48.905144  -87.188526   9.888084      1.277323   \n",
       "0      0.912030 -0.002360  43.914787 -136.171788  14.666355      0.922099   \n",
       "..          ...       ...        ...         ...        ...           ...   \n",
       "249    1.062925  0.008925  60.167083   78.327051  49.139568      1.050900   \n",
       "249    1.203297  0.003764  52.732919  -46.930901   3.480165      1.211069   \n",
       "249    1.359940  0.002138  52.738428   36.079932   8.181686      1.353157   \n",
       "249    0.927710 -0.006936  40.654053  -97.756970  35.855458      0.938252   \n",
       "249  134.033997 -1.870648  41.564990  -88.398318  29.149269    136.605233   \n",
       "\n",
       "     close_60_sma        vix  turbulence  \n",
       "0        0.728673  16.600000    6.664439  \n",
       "0        1.141925  16.600000    6.664439  \n",
       "0        1.346930  16.600000    6.664439  \n",
       "0        1.260846  16.600000    6.664439  \n",
       "0        0.921011  16.600000    6.664439  \n",
       "..            ...        ...         ...  \n",
       "249      1.022255  21.440001    6.166426  \n",
       "249      1.176042  21.440001    6.166426  \n",
       "249      1.357071  21.440001    6.166426  \n",
       "249      0.963402  21.440001    6.166426  \n",
       "249    141.392699  21.440001    6.166426  \n",
       "\n",
       "[1500 rows x 15 columns]"
      ]
     },
     "execution_count": 87,
     "metadata": {},
     "output_type": "execute_result"
    }
   ],
   "source": [
    "trade"
   ]
  },
  {
   "attachments": {},
   "cell_type": "markdown",
   "metadata": {},
   "source": [
    "# tensorboard\n"
   ]
  },
  {
   "cell_type": "code",
   "execution_count": 99,
   "metadata": {},
   "outputs": [],
   "source": [
    "model_name = 'ddpg'"
   ]
  },
  {
   "cell_type": "code",
   "execution_count": 100,
   "metadata": {},
   "outputs": [
    {
     "name": "stdout",
     "output_type": "stream",
     "text": [
      "Event file possibly corrupt: /mnt/f/financial_projects/Deep Reinforcement Learning Approaches on Stock Prediction/FinRL/MARKETS/ForexMarket/TENSORBOARD_LOG_DIR/ddpg_3/events.out.tfevents.1687586797.mohammad.692.0/mnt/f/financial_projects/Deep Reinforcement Learning Approaches on Stock Prediction/FinRL/MARKETS/ForexMarket/TENSORBOARD_LOG_DIR/ddpg_3/events.out.tfevents.1687586797.mohammad.692.0\n"
     ]
    },
    {
     "name": "stderr",
     "output_type": "stream",
     "text": [
      "Traceback (most recent call last):\n",
      "  File \"/mnt/f/financial_projects/Deep Reinforcement Learning Approaches on Stock Prediction/FinRL/SaveResultsByTensorboard/tflogtodf.py\", line 9, in tflog2pandas\n",
      "    event_acc = EventAccumulator(path)\n",
      "  File \"/home/mohammad/miniconda3/envs/Finrl/lib/python3.10/site-packages/tensorboard/backend/event_processing/event_accumulator.py\", line 312, in __init__\n",
      "    self._generator = _GeneratorFromPath(path)\n",
      "  File \"/home/mohammad/miniconda3/envs/Finrl/lib/python3.10/site-packages/tensorboard/backend/event_processing/event_accumulator.py\", line 945, in _GeneratorFromPath\n",
      "    return event_file_loader.LegacyEventFileLoader(path)\n",
      "  File \"/home/mohammad/miniconda3/envs/Finrl/lib/python3.10/site-packages/tensorboard/backend/event_processing/event_file_loader.py\", line 136, in __init__\n",
      "    self._iterator = _make_tf_record_iterator(self._file_path)\n",
      "  File \"/home/mohammad/miniconda3/envs/Finrl/lib/python3.10/site-packages/tensorboard/backend/event_processing/event_file_loader.py\", line 59, in _make_tf_record_iterator\n",
      "    return _PyRecordReaderIterator(\n",
      "  File \"/home/mohammad/miniconda3/envs/Finrl/lib/python3.10/site-packages/tensorboard/backend/event_processing/event_file_loader.py\", line 96, in __init__\n",
      "    self._reader = py_record_reader_new(\n",
      "  File \"/home/mohammad/miniconda3/envs/Finrl/lib/python3.10/site-packages/tensorboard/compat/tensorflow_stub/pywrap_tensorflow.py\", line 177, in __init__\n",
      "    raise errors.NotFoundError(\n",
      "tensorboard.compat.tensorflow_stub.errors.NotFoundError: b'/mnt/f/financial_projects/Deep Reinforcement Learning Approaches on Stock Prediction/FinRL/MARKETS/ForexMarket/TENSORBOARD_LOG_DIR/ddpg_3/events.out.tfevents.1687586797.mohammad.692.0/mnt/f/financial_projects/Deep Reinforcement Learning Approaches on Stock Prediction/FinRL/MARKETS/ForexMarket/TENSORBOARD_LOG_DIR/ddpg_3/events.out.tfevents.1687586797.mohammad.692.0' does not point to valid Events file\n"
     ]
    }
   ],
   "source": [
    "from SaveResultsByTensorboard.tflogtodf import tflog2pandas\n",
    "path=\"/mnt/f/financial_projects/Deep Reinforcement Learning Approaches on Stock Prediction/FinRL/MARKETS/ForexMarket/TENSORBOARD_LOG_DIR/ddpg_3/events.out.tfevents.1687586797.mohammad.692.0/mnt/f/financial_projects/Deep Reinforcement Learning Approaches on Stock Prediction/FinRL/MARKETS/ForexMarket/TENSORBOARD_LOG_DIR/ddpg_3/events.out.tfevents.1687586797.mohammad.692.0\"\n",
    "df=tflog2pandas(path)\n",
    "\n"
   ]
  },
  {
   "attachments": {},
   "cell_type": "markdown",
   "metadata": {},
   "source": [
    "adding training_metric to tensorboard"
   ]
  },
  {
   "cell_type": "code",
   "execution_count": 101,
   "metadata": {},
   "outputs": [
    {
     "ename": "ModuleNotFoundError",
     "evalue": "No module named 'torchvision'",
     "output_type": "error",
     "traceback": [
      "\u001b[0;31m---------------------------------------------------------------------------\u001b[0m",
      "\u001b[0;31mModuleNotFoundError\u001b[0m                       Traceback (most recent call last)",
      "Cell \u001b[0;32mIn[101], line 2\u001b[0m\n\u001b[1;32m      1\u001b[0m \u001b[39mimport\u001b[39;00m \u001b[39mtorch\u001b[39;00m\n\u001b[0;32m----> 2\u001b[0m \u001b[39mimport\u001b[39;00m \u001b[39mtorchvision\u001b[39;00m\n\u001b[1;32m      3\u001b[0m \u001b[39mfrom\u001b[39;00m \u001b[39mtorch\u001b[39;00m\u001b[39m.\u001b[39;00m\u001b[39mutils\u001b[39;00m\u001b[39m.\u001b[39;00m\u001b[39mtensorboard\u001b[39;00m \u001b[39mimport\u001b[39;00m SummaryWriter\n\u001b[1;32m      4\u001b[0m \u001b[39mimport\u001b[39;00m \u001b[39mnumpy\u001b[39;00m \u001b[39mas\u001b[39;00m \u001b[39mnp\u001b[39;00m\n",
      "\u001b[0;31mModuleNotFoundError\u001b[0m: No module named 'torchvision'"
     ]
    }
   ],
   "source": [
    "import torch\n",
    "import torchvision\n",
    "from torch.utils.tensorboard import SummaryWriter\n",
    "import numpy as np\n",
    "import os"
   ]
  },
  {
   "cell_type": "code",
   "execution_count": 102,
   "metadata": {},
   "outputs": [
    {
     "ename": "NameError",
     "evalue": "name 'SummaryWriter' is not defined",
     "output_type": "error",
     "traceback": [
      "\u001b[0;31m---------------------------------------------------------------------------\u001b[0m",
      "\u001b[0;31mNameError\u001b[0m                                 Traceback (most recent call last)",
      "Cell \u001b[0;32mIn[102], line 6\u001b[0m\n\u001b[1;32m      3\u001b[0m         info \u001b[39m=\u001b[39m informations\u001b[39m.\u001b[39mloc[i]\n\u001b[1;32m      4\u001b[0m         writer\u001b[39m.\u001b[39madd_scalars(\u001b[39m'\u001b[39m\u001b[39mtrain_info\u001b[39m\u001b[39m'\u001b[39m, {info[\u001b[39m'\u001b[39m\u001b[39mmetric\u001b[39m\u001b[39m'\u001b[39m] : info[\u001b[39m'\u001b[39m\u001b[39mvalue\u001b[39m\u001b[39m'\u001b[39m] } , info[\u001b[39m'\u001b[39m\u001b[39mstep\u001b[39m\u001b[39m'\u001b[39m])\n\u001b[0;32m----> 6\u001b[0m writer \u001b[39m=\u001b[39m SummaryWriter(os\u001b[39m.\u001b[39mpath\u001b[39m.\u001b[39mjoin(TENSORBOARD_LOG_DIR, model_name))\n\u001b[1;32m      7\u001b[0m \u001b[39mfor\u001b[39;00m metric \u001b[39min\u001b[39;00m df[\u001b[39m'\u001b[39m\u001b[39mmetric\u001b[39m\u001b[39m'\u001b[39m]\u001b[39m.\u001b[39munique() :\n\u001b[1;32m      8\u001b[0m     train_info \u001b[39m=\u001b[39m df[df[\u001b[39m'\u001b[39m\u001b[39mmetric\u001b[39m\u001b[39m'\u001b[39m]\u001b[39m==\u001b[39m metric]\n",
      "\u001b[0;31mNameError\u001b[0m: name 'SummaryWriter' is not defined"
     ]
    }
   ],
   "source": [
    "def add_scalar(writer, informations):\n",
    "    for i in range(len(informations)) :\n",
    "        info = informations.loc[i]\n",
    "        writer.add_scalars('train_info', {info['metric'] : info['value'] } , info['step'])\n",
    "\n",
    "writer = SummaryWriter(os.path.join(TENSORBOARD_LOG_DIR, model_name))\n",
    "for metric in df['metric'].unique() :\n",
    "    train_info = df[df['metric']== metric]\n",
    "    add_scalar(writer, train_info)\n",
    "writer.close()\n",
    "\n",
    "\n",
    "\n",
    "\n"
   ]
  },
  {
   "attachments": {},
   "cell_type": "markdown",
   "metadata": {},
   "source": [
    "adding test time info to tensorboard"
   ]
  },
  {
   "cell_type": "code",
   "execution_count": 37,
   "metadata": {},
   "outputs": [],
   "source": [
    "writer = SummaryWriter(os.path.join(TENSORBOARD_LOG_DIR, model_name))\n",
    "for i in range(len(df_account_value)) :\n",
    "    date, account_value = df_account_value.loc[i] \n",
    "    writer.add_scalars(main_tag='test', tag_scalar_dict = {'account_value': account_value}, global_step = i) \n",
    "writer.close()"
   ]
  },
  {
   "attachments": {},
   "cell_type": "markdown",
   "metadata": {},
   "source": [
    "adding portfolio visualization to tensorboard"
   ]
  },
  {
   "cell_type": "code",
   "execution_count": 77,
   "metadata": {},
   "outputs": [],
   "source": [
    "import matplotlib.pyplot as plt\n",
    "\n",
    "def visualize_portfolio(total, tickers):\n",
    "    \n",
    "    fig, ax = plt.subplots(figsize=(16,8))\n",
    "    ax.set_facecolor('black')\n",
    "    ax.figure.set_facecolor('#121212')\n",
    "    ax.tick_params(axis='x', colors='white')\n",
    "    ax.tick_params(axis='y', colors='white')\n",
    "    ax.set_title(\"NEURALNINE PORTFOLIO VISUALIZER\", color='#EF6C35', fontsize=20)\n",
    "\n",
    "    patches, texts, autotexts = ax.pie([abs(total_element) for total_element in total], labels=tickers, autopct='%1.1f%%', pctdistance=0.8)\n",
    "    [text.set_color('white') for text in texts]\n",
    "    my_circle = plt.Circle((0, 0), 0.55, color='black')\n",
    "    plt.gca().add_artist(my_circle)\n",
    "\n",
    "    ax.text(-2,1, 'PORTFOLIO OVERVIEW:', fontsize=14, color=\"#ffe536\", horizontalalignment='center', verticalalignment='center')\n",
    "    ax.text(-2,0.85, f'Total USD Amount: {sum(total):.2f} $', fontsize=12, color=\"white\", horizontalalignment='center', verticalalignment='center')\n",
    "    counter = 0.15\n",
    "    for ticker in tickers:\n",
    "        ax.text(-2, 0.85 - counter, f'{ticker}: {total[tickers.index(ticker)]:.2f} $', fontsize=12, color=\"white\",\n",
    "        horizontalalignment='center', verticalalignment='center')\n",
    "        counter += 0.15\n",
    "    return fig"
   ]
  },
  {
   "cell_type": "code",
   "execution_count": 39,
   "metadata": {},
   "outputs": [],
   "source": [
    "def add_image_to_tensorboard(specific_tag ,specific_figure):\n",
    "    writer = SummaryWriter(os.path.join(TENSORBOARD_LOG_DIR, model_name, 'image'))\n",
    "    writer.add_figure(tag= specific_tag, figure = specific_figure)\n",
    "    print('done')\n",
    "    writer.close()"
   ]
  },
  {
   "cell_type": "code",
   "execution_count": 40,
   "metadata": {},
   "outputs": [
    {
     "data": {
      "text/plain": [
       "BINANCE:ADABNB      0\n",
       "BINANCE:ADABTC      0\n",
       "BINANCE:ADAETH      0\n",
       "BINANCE:ADAUSDC     0\n",
       "BINANCE:ADAUSDT     0\n",
       "BINANCE:BNBBTC      0\n",
       "BINANCE:BNBBUSD     0\n",
       "BINANCE:BNBETH      0\n",
       "BINANCE:BNBUSDC     0\n",
       "BINANCE:BNBUSDT     0\n",
       "BINANCE:BTCBUSD     0\n",
       "BINANCE:BTCUSDC     0\n",
       "BINANCE:BTCUSDT     0\n",
       "BINANCE:BUSDUSDT    0\n",
       "BINANCE:ETHBTC      0\n",
       "BINANCE:ETHBUSD     0\n",
       "BINANCE:ETHUSDC     0\n",
       "BINANCE:ETHUSDT     0\n",
       "BINANCE:USDCUSDT    0\n",
       "BINANCE:XRPBNB      0\n",
       "BINANCE:XRPBTC      0\n",
       "BINANCE:XRPBUSD     0\n",
       "BINANCE:XRPETH      0\n",
       "BINANCE:XRPUSDC     0\n",
       "BINANCE:XRPUSDT     0\n",
       "dtype: int64"
      ]
     },
     "execution_count": 40,
     "metadata": {},
     "output_type": "execute_result"
    }
   ],
   "source": [
    "df_actions.isna().sum()"
   ]
  },
  {
   "cell_type": "code",
   "execution_count": 79,
   "metadata": {},
   "outputs": [],
   "source": [
    "def visualize_process(total_val) :\n",
    "    if total_val == 0 :\n",
    "        return 0 , 'white'\n",
    "    elif total_val > 0:\n",
    "        return 1 , 'green'\n",
    "    elif total_val < 0 :\n",
    "        return -1 , 'red'\n",
    "\n"
   ]
  },
  {
   "cell_type": "code",
   "execution_count": 80,
   "metadata": {},
   "outputs": [
    {
     "name": "stderr",
     "output_type": "stream",
     "text": [
      "/tmp/ipykernel_1519/3637531764.py:16: FutureWarning: Calling int on a single element Series is deprecated and will raise a TypeError in the future. Use int(ser.iloc[0]) instead\n",
      "  flag, color = visualize_process(int(amounts * prices))\n",
      "/tmp/ipykernel_1519/3637531764.py:18: FutureWarning: Calling int on a single element Series is deprecated and will raise a TypeError in the future. Use int(ser.iloc[0]) instead\n",
      "  buy_total.append(int(amounts * prices))\n"
     ]
    },
    {
     "ename": "NameError",
     "evalue": "name 'add_image_to_tensorboard' is not defined",
     "output_type": "error",
     "traceback": [
      "\u001b[0;31m---------------------------------------------------------------------------\u001b[0m",
      "\u001b[0;31mNameError\u001b[0m                                 Traceback (most recent call last)",
      "Cell \u001b[0;32mIn[80], line 26\u001b[0m\n\u001b[1;32m     24\u001b[0m \u001b[39mif\u001b[39;00m \u001b[39mlen\u001b[39m(buy_total) \u001b[39m!=\u001b[39m \u001b[39m0\u001b[39m :\n\u001b[1;32m     25\u001b[0m     buy_fig \u001b[39m=\u001b[39m visualize_portfolio(total\u001b[39m=\u001b[39mbuy_total, tickers\u001b[39m=\u001b[39m buy_position_tickers)\n\u001b[0;32m---> 26\u001b[0m     add_image_to_tensorboard(\u001b[39mf\u001b[39m\u001b[39m\"\u001b[39m\u001b[39mbuy_portfolio:\u001b[39m\u001b[39m{\u001b[39;00mstep\u001b[39m}\u001b[39;00m\u001b[39m\"\u001b[39m, buy_fig)\n\u001b[1;32m     28\u001b[0m \u001b[39mif\u001b[39;00m \u001b[39mlen\u001b[39m(sell_total) \u001b[39m!=\u001b[39m \u001b[39m0\u001b[39m :\n\u001b[1;32m     29\u001b[0m     sell_fig \u001b[39m=\u001b[39m visualize_portfolio(total\u001b[39m=\u001b[39msell_total, tickers\u001b[39m=\u001b[39m sell_position_tickers)\n",
      "\u001b[0;31mNameError\u001b[0m: name 'add_image_to_tensorboard' is not defined"
     ]
    },
    {
     "data": {
      "image/png": "[encoded data removed]",
      "text/plain": [
       "<Figure size 1600x800 with 1 Axes>"
      ]
     },
     "metadata": {},
     "output_type": "display_data"
    }
   ],
   "source": [
    "import time\n",
    "tickers = list(trade['tic'].unique())\n",
    "dates = df_actions.index\n",
    "step = 0\n",
    "for date in dates :\n",
    "    sell_total = []\n",
    "    sell_position_tickers = []\n",
    "    buy_total = []\n",
    "    buy_position_tickers = []\n",
    "    step += 1\n",
    "    for tic in tickers :\n",
    "        amounts = df_actions.loc[date, tic]\n",
    "        choosen_trade = trade[trade['date'] == date] \n",
    "        choosen_trade = choosen_trade[choosen_trade['tic'] == tic]\n",
    "        prices = choosen_trade['close']\n",
    "        flag, color = visualize_process(int(amounts * prices))\n",
    "        if flag == 1:\n",
    "            buy_total.append(int(amounts * prices))\n",
    "            buy_position_tickers.append(tic)\n",
    "        elif flag == -1:\n",
    "            sell_total.append(int(amounts * prices))\n",
    "            sell_position_tickers.append(tic)\n",
    "\n",
    "    if len(buy_total) != 0 :\n",
    "        buy_fig = visualize_portfolio(total=buy_total, tickers= buy_position_tickers)\n",
    "        add_image_to_tensorboard(f\"buy_portfolio:{step}\", buy_fig)\n",
    "\n",
    "    if len(sell_total) != 0 :\n",
    "        sell_fig = visualize_portfolio(total=sell_total, tickers= sell_position_tickers)\n",
    "        add_image_to_tensorboard(f\"sell_portfolio:{step}\", sell_fig)"
   ]
  },
  {
   "cell_type": "code",
   "execution_count": 125,
   "metadata": {},
   "outputs": [
    {
     "ename": "ImportError",
     "evalue": "cannot import name 'metanet_pb2' from partially initialized module 'caffe2.proto' (most likely due to a circular import) (/home/mohammad/anaconda3/envs/FinRl/lib/python3.8/site-packages/caffe2/proto/__init__.py)",
     "output_type": "error",
     "traceback": [
      "\u001b[0;31m---------------------------------------------------------------------------\u001b[0m",
      "\u001b[0;31mImportError\u001b[0m                               Traceback (most recent call last)",
      "\u001b[1;32m/mnt/f/financial_projects/Deep Reinforcement Learning Approaches on Stock Prediction/FinRL/FinRL_StockTrading_NeurIPS_2018.ipynb Cell 134\u001b[0m in \u001b[0;36m<cell line: 2>\u001b[0;34m()\u001b[0m\n\u001b[1;32m      <a href='vscode-notebook-cell://wsl%2Bu18/mnt/f/financial_projects/Deep%20Reinforcement%20Learning%20Approaches%20on%20Stock%20Prediction/FinRL/FinRL_StockTrading_NeurIPS_2018.ipynb#Y263sdnNjb2RlLXJlbW90ZQ%3D%3D?line=0'>1</a>\u001b[0m writer \u001b[39m=\u001b[39m SummaryWriter(os\u001b[39m.\u001b[39mpath\u001b[39m.\u001b[39mjoin(TENSORBOARD_LOG_DIR, \u001b[39m'\u001b[39m\u001b[39mppo\u001b[39m\u001b[39m'\u001b[39m, \u001b[39m'\u001b[39m\u001b[39mGraph\u001b[39m\u001b[39m'\u001b[39m))\n\u001b[0;32m----> <a href='vscode-notebook-cell://wsl%2Bu18/mnt/f/financial_projects/Deep%20Reinforcement%20Learning%20Approaches%20on%20Stock%20Prediction/FinRL/FinRL_StockTrading_NeurIPS_2018.ipynb#Y263sdnNjb2RlLXJlbW90ZQ%3D%3D?line=1'>2</a>\u001b[0m writer\u001b[39m.\u001b[39;49madd_graph(trained_ppo, e_trade_gym)\n",
      "File \u001b[0;32m~/anaconda3/envs/FinRl/lib/python3.8/site-packages/torch/utils/tensorboard/writer.py:739\u001b[0m, in \u001b[0;36mSummaryWriter.add_graph\u001b[0;34m(self, model, input_to_model, verbose, use_strict_trace)\u001b[0m\n\u001b[1;32m    736\u001b[0m     \u001b[39mself\u001b[39m\u001b[39m.\u001b[39m_get_file_writer()\u001b[39m.\u001b[39madd_graph(graph(model, input_to_model, verbose, use_strict_trace))\n\u001b[1;32m    737\u001b[0m \u001b[39melse\u001b[39;00m:\n\u001b[1;32m    738\u001b[0m     \u001b[39m# Caffe2 models do not have the 'forward' method\u001b[39;00m\n\u001b[0;32m--> 739\u001b[0m     \u001b[39mfrom\u001b[39;00m \u001b[39mcaffe2\u001b[39;00m\u001b[39m.\u001b[39;00m\u001b[39mproto\u001b[39;00m \u001b[39mimport\u001b[39;00m caffe2_pb2\n\u001b[1;32m    740\u001b[0m     \u001b[39mfrom\u001b[39;00m \u001b[39mcaffe2\u001b[39;00m\u001b[39m.\u001b[39;00m\u001b[39mpython\u001b[39;00m \u001b[39mimport\u001b[39;00m core\n\u001b[1;32m    741\u001b[0m     \u001b[39mfrom\u001b[39;00m \u001b[39m.\u001b[39;00m\u001b[39m_caffe2_graph\u001b[39;00m \u001b[39mimport\u001b[39;00m (\n\u001b[1;32m    742\u001b[0m         model_to_graph_def, nets_to_graph_def, protos_to_graph_def\n\u001b[1;32m    743\u001b[0m     )\n",
      "File \u001b[0;32m~/anaconda3/envs/FinRl/lib/python3.8/site-packages/caffe2/proto/__init__.py:11\u001b[0m, in \u001b[0;36m<module>\u001b[0;34m\u001b[0m\n\u001b[1;32m      1\u001b[0m \u001b[39m# NOTE: we have to import python protobuf here **before** we load cpp extension.\u001b[39;00m\n\u001b[1;32m      2\u001b[0m \u001b[39m# Otherwise it breaks under certain build conditions if cpp implementation of\u001b[39;00m\n\u001b[1;32m      3\u001b[0m \u001b[39m# protobuf is used. Presumably there's some registry in protobuf library and\u001b[39;00m\n\u001b[0;32m   (...)\u001b[0m\n\u001b[1;32m      9\u001b[0m \u001b[39m#\u001b[39;00m\n\u001b[1;32m     10\u001b[0m \u001b[39m# This has to be done for all python targets, so listing them here\u001b[39;00m\n\u001b[0;32m---> 11\u001b[0m \u001b[39mfrom\u001b[39;00m \u001b[39mcaffe2\u001b[39;00m\u001b[39m.\u001b[39;00m\u001b[39mproto\u001b[39;00m \u001b[39mimport\u001b[39;00m caffe2_pb2, metanet_pb2, torch_pb2\n\u001b[1;32m     12\u001b[0m \u001b[39mtry\u001b[39;00m:\n\u001b[1;32m     13\u001b[0m     \u001b[39mfrom\u001b[39;00m \u001b[39mcaffe2\u001b[39;00m\u001b[39m.\u001b[39;00m\u001b[39mcaffe2\u001b[39;00m\u001b[39m.\u001b[39;00m\u001b[39mfb\u001b[39;00m\u001b[39m.\u001b[39;00m\u001b[39msession\u001b[39;00m\u001b[39m.\u001b[39;00m\u001b[39mproto\u001b[39;00m \u001b[39mimport\u001b[39;00m session_pb2\n",
      "\u001b[0;31mImportError\u001b[0m: cannot import name 'metanet_pb2' from partially initialized module 'caffe2.proto' (most likely due to a circular import) (/home/mohammad/anaconda3/envs/FinRl/lib/python3.8/site-packages/caffe2/proto/__init__.py)"
     ]
    }
   ],
   "source": [
    "writer = SummaryWriter(os.path.join(TENSORBOARD_LOG_DIR, 'ppo', 'Graph'))\n",
    "writer.add_graph(trained_ppo, e_trade_gym)"
   ]
  },
  {
   "cell_type": "code",
   "execution_count": 122,
   "metadata": {},
   "outputs": [
    {
     "name": "stdout",
     "output_type": "stream",
     "text": [
      "TensorFlow installation not found - running with reduced feature set.\n",
      "\n",
      "NOTE: Using experimental fast data loading logic. To disable, pass\n",
      "    \"--load_fast=false\" and report issues on GitHub. More details:\n",
      "    https://github.com/tensorflow/tensorboard/issues/4784\n",
      "\n",
      "Serving TensorBoard on localhost; to expose to the network, use a proxy or pass --bind_all\n",
      "TensorBoard 2.9.1 at http://localhost:6007/ (Press CTRL+C to quit)\n",
      "^C\n"
     ]
    }
   ],
   "source": [
    "!tensorboard --logdir==runs"
   ]
  },
  {
   "cell_type": "code",
   "execution_count": 133,
   "metadata": {},
   "outputs": [
    {
     "data": {
      "text/plain": [
       "Box([-1. -1. -1. -1. -1. -1. -1. -1. -1. -1. -1. -1. -1. -1. -1. -1. -1. -1.\n",
       " -1. -1. -1. -1. -1. -1. -1. -1. -1. -1.], [1. 1. 1. 1. 1. 1. 1. 1. 1. 1. 1. 1. 1. 1. 1. 1. 1. 1. 1. 1. 1. 1. 1. 1.\n",
       " 1. 1. 1. 1.], (28,), float32)"
      ]
     },
     "execution_count": 133,
     "metadata": {},
     "output_type": "execute_result"
    }
   ],
   "source": [
    "model.action_space"
   ]
  },
  {
   "cell_type": "code",
   "execution_count": 135,
   "metadata": {},
   "outputs": [
    {
     "data": {
      "text/plain": [
       "25"
      ]
     },
     "execution_count": 135,
     "metadata": {},
     "output_type": "execute_result"
    }
   ],
   "source": [
    "len(processed_full['tic'].unique())"
   ]
  }
 ],
 "metadata": {
  "colab": {
   "collapsed_sections": [
    "Uy5_PTmOh1hj",
    "_gDkU-j-fCmZ",
    "3Zpv4S0-fDBv"
   ],
   "include_colab_link": true,
   "name": "FinRL_StockTrading_NeurIPS_2018.ipynb",
   "provenance": []
  },
  "kernelspec": {
   "display_name": "Python 3.8.2 64-bit",
   "language": "python",
   "name": "python3"
  },
  "language_info": {
   "codemirror_mode": {
    "name": "ipython",
    "version": 3
   },
   "file_extension": ".py",
   "mimetype": "text/x-python",
   "name": "python",
   "nbconvert_exporter": "python",
   "pygments_lexer": "ipython3",
   "version": "3.10.0"
  },
  "vscode": {
   "interpreter": {
    "hash": "4a913f0b5b2020ea25813dce4293e7824585e87f8cd8de80d0bb160f8ff78697"
   }
  }
 },
 "nbformat": 4,
 "nbformat_minor": 1
}
