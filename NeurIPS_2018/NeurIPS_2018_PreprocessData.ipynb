{
 "cells": [
  {
   "attachments": {},
   "cell_type": "markdown",
   "metadata": {
    "colab_type": "text",
    "id": "view-in-github"
   },
   "source": [
    "<a href=\"https://colab.research.google.com/github/AI4Finance-Foundation/FinRL/blob/master/FinRL_StockTrading_NeurIPS_2018.ipynb\" target=\"_parent\"><img src=\"https://colab.research.google.com/assets/colab-badge.svg\" alt=\"Open In Colab\"/></a>"
   ]
  },
  {
   "attachments": {},
   "cell_type": "markdown",
   "metadata": {
    "id": "gXaoZs2lh1hi"
   },
   "source": [
    "# Deep Reinforcement Learning for Stock Trading from Scratch: Multiple Stock Trading\n",
    "\n",
    "* **Pytorch Version** \n",
    "\n"
   ]
  },
  {
   "attachments": {},
   "cell_type": "markdown",
   "metadata": {
    "id": "lGunVt8oLCVS"
   },
   "source": [
    "# Content"
   ]
  },
  {
   "attachments": {},
   "cell_type": "markdown",
   "metadata": {
    "id": "HOzAKQ-SLGX6"
   },
   "source": [
    "* [1. Problem Definition](#0)\n",
    "* [2. Getting Started - Load Python packages](#1)\n",
    "    * [2.1. Install Packages](#1.1)    \n",
    "    * [2.2. Check Additional Packages](#1.2)\n",
    "    * [2.3. Import Packages](#1.3)\n",
    "    * [2.4. Create Folders](#1.4)\n",
    "* [3. Download Data](#2)\n",
    "* [4. Preprocess Data](#3)        \n",
    "    * [4.1. Technical Indicators](#3.1)\n",
    "    * [4.2. Perform Feature Engineering](#3.2)\n",
    " "
   ]
  },
  {
   "attachments": {},
   "cell_type": "markdown",
   "metadata": {
    "id": "sApkDlD9LIZv"
   },
   "source": [
    "<a id='0'></a>\n",
    "# Part 1. Problem Definition"
   ]
  },
  {
   "attachments": {},
   "cell_type": "markdown",
   "metadata": {
    "id": "HjLD2TZSLKZ-"
   },
   "source": [
    "This problem is to design an automated trading solution for single stock trading. We model the stock trading process as a Markov Decision Process (MDP). We then formulate our trading goal as a maximization problem.\n",
    "\n",
    "The algorithm is trained using Deep Reinforcement Learning (DRL) algorithms and the components of the reinforcement learning environment are:\n",
    "\n",
    "\n",
    "* Action: The action space describes the allowed actions that the agent interacts with the\n",
    "environment. Normally, a ∈ A includes three actions: a ∈ {−1, 0, 1}, where −1, 0, 1 represent\n",
    "selling, holding, and buying one stock. Also, an action can be carried upon multiple shares. We use\n",
    "an action space {−k, ..., −1, 0, 1, ..., k}, where k denotes the number of shares. For example, \"Buy\n",
    "10 shares of AAPL\" or \"Sell 10 shares of AAPL\" are 10 or −10, respectively\n",
    "\n",
    "* Reward function: r(s, a, s′) is the incentive mechanism for an agent to learn a better action. The change of the portfolio value when action a is taken at state s and arriving at new state s',  i.e., r(s, a, s′) = v′ − v, where v′ and v represent the portfolio\n",
    "values at state s′ and s, respectively\n",
    "\n",
    "* State: The state space describes the observations that the agent receives from the environment. Just as a human trader needs to analyze various information before executing a trade, so\n",
    "our trading agent observes many different features to better learn in an interactive environment.\n",
    "\n",
    "* Environment: Dow 30 consituents\n",
    "\n",
    "\n",
    "The data of the single stock that we will be using for this case study is obtained from Yahoo Finance API. The data contains Open-High-Low-Close price and volume.\n"
   ]
  },
  {
   "attachments": {},
   "cell_type": "markdown",
   "metadata": {
    "id": "Ffsre789LY08"
   },
   "source": [
    "<a id='1'></a>\n",
    "# Part 2. Getting Started- Load Python Packages"
   ]
  },
  {
   "attachments": {},
   "cell_type": "markdown",
   "metadata": {
    "id": "Uy5_PTmOh1hj"
   },
   "source": [
    "<a id='1.1'></a>\n",
    "## 2.1. Install all the packages through FinRL library\n"
   ]
  },
  {
   "cell_type": "code",
   "execution_count": 12,
   "metadata": {
    "colab": {
     "base_uri": "https://localhost:8080/"
    },
    "id": "mPT0ipYE28wL",
    "outputId": "ef0ba8d0-f57a-4c74-bb0b-46737762677d"
   },
   "outputs": [],
   "source": [
    "## install finrl library\n",
    "#!pip install git+https://github.com/AI4Finance-Foundation/FinRL-Library.git"
   ]
  },
  {
   "cell_type": "code",
   "execution_count": 18,
   "metadata": {},
   "outputs": [],
   "source": [
    "%reload_ext autoreload\n",
    "%autoreload 2"
   ]
  },
  {
   "attachments": {},
   "cell_type": "markdown",
   "metadata": {
    "id": "osBHhVysOEzi"
   },
   "source": [
    "\n",
    "<a id='1.2'></a>\n",
    "## 2.2. Check if the additional packages needed are present, if not install them. \n",
    "* Yahoo Finance API\n",
    "* pandas\n",
    "* numpy\n",
    "* matplotlib\n",
    "* stockstats\n",
    "* OpenAI gym\n",
    "* stable-baselines\n",
    "* tensorflow\n",
    "* pyfolio"
   ]
  },
  {
   "attachments": {},
   "cell_type": "markdown",
   "metadata": {
    "id": "nGv01K8Sh1hn"
   },
   "source": [
    "<a id='1.3'></a>\n",
    "## 2.3. Import Packages"
   ]
  },
  {
   "cell_type": "code",
   "execution_count": 5,
   "metadata": {
    "colab": {
     "base_uri": "https://localhost:8080/"
    },
    "id": "lPqeTTwoh1hn",
    "outputId": "10b08480-3a0c-4826-8e51-f94ce97ab84a"
   },
   "outputs": [],
   "source": [
    "import pandas as pd\n",
    "import numpy as np\n",
    "import matplotlib\n",
    "import matplotlib.pyplot as plt\n",
    "# matplotlib.use('Agg')\n",
    "import datetime\n",
    "import os\n",
    "import sys\n",
    "sys.path.append('..')\n",
    "from finrl import config\n",
    "from finrl import config_tickers\n",
    "\n",
    "\n",
    "\n",
    "\n",
    "%matplotlib inline\n",
    "##from finrl.finrl_meta.preprocessor.yahoodownloader import YahooDownloader\n",
    "from preprocess.default_preprocessors import FeatureEngineer, data_split \n",
    "from finrl.metaFinrl.preprocessor.CryptoDataReader import CryptoDataLoader\n",
    "#from finrl.agents.stablebaselines3.models import DRLAgent\n",
    "#from finrl.finrl_meta.data_processor import DataProcessor\n",
    "\n",
    "\n",
    "\n",
    "\n",
    "from pprint import pprint\n",
    "\n",
    "\n",
    "import itertools"
   ]
  },
  {
   "attachments": {},
   "cell_type": "markdown",
   "metadata": {
    "id": "T2owTj985RW4"
   },
   "source": [
    "<a id='1.4'></a>\n",
    "## 2.4. Create Folders"
   ]
  },
  {
   "cell_type": "code",
   "execution_count": 19,
   "metadata": {},
   "outputs": [],
   "source": [
    "from finrl.main import check_and_make_directories\n",
    "\n",
    "check_and_make_directories([config.DATA_SAVE_DIR, config.TRAINED_MODEL_DIR, config.TENSORBOARD_LOG_DIR, config.RESULTS_DIR])"
   ]
  },
  {
   "cell_type": "code",
   "execution_count": 20,
   "metadata": {},
   "outputs": [
    {
     "data": {
      "text/plain": [
       "'/mnt/f/financial_projects/Deep Reinforcement Learning Approaches on Stock Prediction/FinRL/MARKETS/ForexMarket/TRAINED_MODEL_DIR'"
      ]
     },
     "execution_count": 20,
     "metadata": {},
     "output_type": "execute_result"
    }
   ],
   "source": [
    "config.TRAINED_MODEL_DIR"
   ]
  },
  {
   "attachments": {},
   "cell_type": "markdown",
   "metadata": {
    "id": "A289rQWMh1hq"
   },
   "source": [
    "# Part 3: Download Data"
   ]
  },
  {
   "attachments": {},
   "cell_type": "markdown",
   "metadata": {
    "id": "NPeQ7iS-LoMm"
   },
   "source": [
    "\n",
    "\n",
    "-----\n",
    "class YahooDownloader:\n",
    "    Provides methods for retrieving daily stock data from\n",
    "    Yahoo Finance API\n",
    "\n",
    "    Attributes\n",
    "    ----------\n",
    "        start_date : str\n",
    "            start date of the data (modified from config.py)\n",
    "        end_date : str\n",
    "            end date of the data (modified from config.py)\n",
    "        ticker_list : list\n",
    "            a list of stock tickers (modified from config.py)\n",
    "\n",
    "    Methods\n",
    "    -------\n",
    "    fetch_data()\n",
    "        Fetches data from yahoo API\n"
   ]
  },
  {
   "attachments": {},
   "cell_type": "markdown",
   "metadata": {},
   "source": [
    "## 3.1 use yahoo finance api to get DOWJONES "
   ]
  },
  {
   "cell_type": "code",
   "execution_count": null,
   "metadata": {
    "colab": {
     "base_uri": "https://localhost:8080/"
    },
    "id": "yCKm4om-s9kE",
    "outputId": "83c7f894-3757-473b-8afb-a904e6caabda"
   },
   "outputs": [],
   "source": [
    "df = YahooDownloader(start_date = datetime.datetime(2009, 1, 1),\n",
    "                     end_date = datetime.datetime.now(),\n",
    "                     ticker_list = config_tickers.DOW_30_TICKER).fetch_data()"
   ]
  },
  {
   "cell_type": "code",
   "execution_count": 6,
   "metadata": {
    "colab": {
     "base_uri": "https://localhost:8080/"
    },
    "id": "JzqRRTOX6aFu",
    "outputId": "7a991dfe-f39c-40db-ec44-7c416cdce7dc"
   },
   "outputs": [
    {
     "name": "stdout",
     "output_type": "stream",
     "text": [
      "['AXP', 'AMGN', 'AAPL', 'BA', 'CAT', 'CSCO', 'CVX', 'GS', 'HD', 'HON', 'IBM', 'INTC', 'JNJ', 'KO', 'JPM', 'MCD', 'MMM', 'MRK', 'MSFT', 'NKE', 'PG', 'TRV', 'UNH', 'CRM', 'VZ', 'V', 'WBA', 'WMT', 'DIS', 'DOW']\n"
     ]
    }
   ],
   "source": [
    "print(config_tickers.DOW_30_TICKER)"
   ]
  },
  {
   "cell_type": "code",
   "execution_count": 7,
   "metadata": {
    "colab": {
     "base_uri": "https://localhost:8080/"
    },
    "id": "CV3HrZHLh1hy",
    "outputId": "5267773c-399c-4ec9-d4d5-13ab1e4cced0"
   },
   "outputs": [
    {
     "data": {
      "text/plain": [
       "(100570, 8)"
      ]
     },
     "execution_count": 7,
     "metadata": {},
     "output_type": "execute_result"
    }
   ],
   "source": [
    "df.shape"
   ]
  },
  {
   "cell_type": "code",
   "execution_count": 8,
   "metadata": {
    "colab": {
     "base_uri": "https://localhost:8080/",
     "height": 206
    },
    "id": "4hYkeaPiICHS",
    "outputId": "210fade5-e912-40df-be99-4ad00bdb9d2f"
   },
   "outputs": [
    {
     "data": {
      "text/html": [
       "<div>\n",
       "<style scoped>\n",
       "    .dataframe tbody tr th:only-of-type {\n",
       "        vertical-align: middle;\n",
       "    }\n",
       "\n",
       "    .dataframe tbody tr th {\n",
       "        vertical-align: top;\n",
       "    }\n",
       "\n",
       "    .dataframe thead th {\n",
       "        text-align: right;\n",
       "    }\n",
       "</style>\n",
       "<table border=\"1\" class=\"dataframe\">\n",
       "  <thead>\n",
       "    <tr style=\"text-align: right;\">\n",
       "      <th></th>\n",
       "      <th>date</th>\n",
       "      <th>open</th>\n",
       "      <th>high</th>\n",
       "      <th>low</th>\n",
       "      <th>close</th>\n",
       "      <th>volume</th>\n",
       "      <th>tic</th>\n",
       "      <th>day</th>\n",
       "    </tr>\n",
       "  </thead>\n",
       "  <tbody>\n",
       "    <tr>\n",
       "      <th>0</th>\n",
       "      <td>2008-12-31</td>\n",
       "      <td>3.070357</td>\n",
       "      <td>3.133571</td>\n",
       "      <td>3.047857</td>\n",
       "      <td>2.602663</td>\n",
       "      <td>607541200</td>\n",
       "      <td>AAPL</td>\n",
       "      <td>2</td>\n",
       "    </tr>\n",
       "    <tr>\n",
       "      <th>1</th>\n",
       "      <td>2008-12-31</td>\n",
       "      <td>57.110001</td>\n",
       "      <td>58.220001</td>\n",
       "      <td>57.060001</td>\n",
       "      <td>43.587841</td>\n",
       "      <td>6287200</td>\n",
       "      <td>AMGN</td>\n",
       "      <td>2</td>\n",
       "    </tr>\n",
       "    <tr>\n",
       "      <th>2</th>\n",
       "      <td>2008-12-31</td>\n",
       "      <td>17.969999</td>\n",
       "      <td>18.750000</td>\n",
       "      <td>17.910000</td>\n",
       "      <td>14.852880</td>\n",
       "      <td>9625600</td>\n",
       "      <td>AXP</td>\n",
       "      <td>2</td>\n",
       "    </tr>\n",
       "    <tr>\n",
       "      <th>3</th>\n",
       "      <td>2008-12-31</td>\n",
       "      <td>41.590000</td>\n",
       "      <td>43.049999</td>\n",
       "      <td>41.500000</td>\n",
       "      <td>32.005890</td>\n",
       "      <td>5443100</td>\n",
       "      <td>BA</td>\n",
       "      <td>2</td>\n",
       "    </tr>\n",
       "    <tr>\n",
       "      <th>4</th>\n",
       "      <td>2008-12-31</td>\n",
       "      <td>43.700001</td>\n",
       "      <td>45.099998</td>\n",
       "      <td>43.700001</td>\n",
       "      <td>30.416967</td>\n",
       "      <td>6277400</td>\n",
       "      <td>CAT</td>\n",
       "      <td>2</td>\n",
       "    </tr>\n",
       "  </tbody>\n",
       "</table>\n",
       "</div>"
      ],
      "text/plain": [
       "         date       open       high        low      close     volume   tic  \\\n",
       "0  2008-12-31   3.070357   3.133571   3.047857   2.602663  607541200  AAPL   \n",
       "1  2008-12-31  57.110001  58.220001  57.060001  43.587841    6287200  AMGN   \n",
       "2  2008-12-31  17.969999  18.750000  17.910000  14.852880    9625600   AXP   \n",
       "3  2008-12-31  41.590000  43.049999  41.500000  32.005890    5443100    BA   \n",
       "4  2008-12-31  43.700001  45.099998  43.700001  30.416967    6277400   CAT   \n",
       "\n",
       "   day  \n",
       "0    2  \n",
       "1    2  \n",
       "2    2  \n",
       "3    2  \n",
       "4    2  "
      ]
     },
     "execution_count": 8,
     "metadata": {},
     "output_type": "execute_result"
    }
   ],
   "source": [
    "df.sort_values(['date','tic'],ignore_index=True).head()"
   ]
  },
  {
   "cell_type": "code",
   "execution_count": 12,
   "metadata": {},
   "outputs": [],
   "source": [
    "data = df.copy()"
   ]
  },
  {
   "attachments": {},
   "cell_type": "markdown",
   "metadata": {},
   "source": [
    "## 3.2 read all the forexdata saved in csv  \n"
   ]
  },
  {
   "cell_type": "code",
   "execution_count": 5,
   "metadata": {},
   "outputs": [],
   "source": [
    "import pandas as pd\n",
    "import os"
   ]
  },
  {
   "cell_type": "code",
   "execution_count": 6,
   "metadata": {},
   "outputs": [],
   "source": [
    "forex_symbols = pd.read_csv(os.path.join(config.DATA_SAVE_DIR,'forex_stocks_data.csv'))"
   ]
  },
  {
   "cell_type": "code",
   "execution_count": 7,
   "metadata": {},
   "outputs": [],
   "source": [
    "forex_market_dataset = forex_symbols.drop(columns=['Unnamed: 0'])"
   ]
  },
  {
   "cell_type": "code",
   "execution_count": 9,
   "metadata": {},
   "outputs": [],
   "source": [
    "forex_market_dataset = forex_symbols"
   ]
  },
  {
   "cell_type": "code",
   "execution_count": 8,
   "metadata": {},
   "outputs": [],
   "source": [
    "forex_market_dataset.rename(columns={'symbol' : 'tic'}, inplace= True)"
   ]
  },
  {
   "attachments": {},
   "cell_type": "markdown",
   "metadata": {},
   "source": [
    "#### cleaning forex_symbols dataframe"
   ]
  },
  {
   "cell_type": "code",
   "execution_count": 25,
   "metadata": {},
   "outputs": [
    {
     "ename": "TypeError",
     "evalue": "an integer is required (got type str)",
     "output_type": "error",
     "traceback": [
      "\u001b[0;31m---------------------------------------------------------------------------\u001b[0m",
      "\u001b[0;31mTypeError\u001b[0m                                 Traceback (most recent call last)",
      "\u001b[1;32m/mnt/f/financial_projects/Deep Reinforcement Learning Approaches on Stock Prediction/FinRL/FinRL_StockTrading_NeurIPS_2018.ipynb Cell 31\u001b[0m in \u001b[0;36m<cell line: 3>\u001b[0;34m()\u001b[0m\n\u001b[1;32m      <a href='vscode-notebook-cell://wsl%2Bu18/mnt/f/financial_projects/Deep%20Reinforcement%20Learning%20Approaches%20on%20Stock%20Prediction/FinRL/FinRL_StockTrading_NeurIPS_2018.ipynb#X53sdnNjb2RlLXJlbW90ZQ%3D%3D?line=1'>2</a>\u001b[0m \u001b[39mimport\u001b[39;00m \u001b[39mdatetime\u001b[39;00m\n\u001b[1;32m      <a href='vscode-notebook-cell://wsl%2Bu18/mnt/f/financial_projects/Deep%20Reinforcement%20Learning%20Approaches%20on%20Stock%20Prediction/FinRL/FinRL_StockTrading_NeurIPS_2018.ipynb#X53sdnNjb2RlLXJlbW90ZQ%3D%3D?line=2'>3</a>\u001b[0m \u001b[39mfor\u001b[39;00m unixdate \u001b[39min\u001b[39;00m forex_market_dataset[\u001b[39m'\u001b[39m\u001b[39mdate\u001b[39m\u001b[39m'\u001b[39m]:\n\u001b[0;32m----> <a href='vscode-notebook-cell://wsl%2Bu18/mnt/f/financial_projects/Deep%20Reinforcement%20Learning%20Approaches%20on%20Stock%20Prediction/FinRL/FinRL_StockTrading_NeurIPS_2018.ipynb#X53sdnNjb2RlLXJlbW90ZQ%3D%3D?line=3'>4</a>\u001b[0m     utcdate \u001b[39m=\u001b[39m datetime\u001b[39m.\u001b[39;49mdatetime\u001b[39m.\u001b[39;49mfromtimestamp(unixdate)\u001b[39m.\u001b[39mstrftime(\u001b[39m'\u001b[39m\u001b[39m%\u001b[39m\u001b[39mY-\u001b[39m\u001b[39m%\u001b[39m\u001b[39mm-\u001b[39m\u001b[39m%d\u001b[39;00m\u001b[39mT\u001b[39m\u001b[39m%\u001b[39m\u001b[39mH:\u001b[39m\u001b[39m%\u001b[39m\u001b[39mM:\u001b[39m\u001b[39m%\u001b[39m\u001b[39mS\u001b[39m\u001b[39m'\u001b[39m)\n\u001b[1;32m      <a href='vscode-notebook-cell://wsl%2Bu18/mnt/f/financial_projects/Deep%20Reinforcement%20Learning%20Approaches%20on%20Stock%20Prediction/FinRL/FinRL_StockTrading_NeurIPS_2018.ipynb#X53sdnNjb2RlLXJlbW90ZQ%3D%3D?line=4'>5</a>\u001b[0m     dates\u001b[39m.\u001b[39mappend(utcdate)\n",
      "\u001b[0;31mTypeError\u001b[0m: an integer is required (got type str)"
     ]
    }
   ],
   "source": [
    "dates = []\n",
    "import datetime\n",
    "for unixdate in forex_market_dataset['date']:\n",
    "    utcdate = datetime.datetime.fromtimestamp(unixdate).strftime('%Y-%m-%dT%H:%M:%S')\n",
    "    dates.append(utcdate)"
   ]
  },
  {
   "cell_type": "code",
   "execution_count": 32,
   "metadata": {},
   "outputs": [],
   "source": [
    "forex_market_dataset.rename(columns= {'symbol' : 'tic'}, inplace= True)"
   ]
  },
  {
   "cell_type": "code",
   "execution_count": null,
   "metadata": {},
   "outputs": [],
   "source": [
    "forex_market_dataset['date'] = dates"
   ]
  },
  {
   "cell_type": "code",
   "execution_count": null,
   "metadata": {},
   "outputs": [
    {
     "data": {
      "text/html": [
       "<div>\n",
       "<style scoped>\n",
       "    .dataframe tbody tr th:only-of-type {\n",
       "        vertical-align: middle;\n",
       "    }\n",
       "\n",
       "    .dataframe tbody tr th {\n",
       "        vertical-align: top;\n",
       "    }\n",
       "\n",
       "    .dataframe thead th {\n",
       "        text-align: right;\n",
       "    }\n",
       "</style>\n",
       "<table border=\"1\" class=\"dataframe\">\n",
       "  <thead>\n",
       "    <tr style=\"text-align: right;\">\n",
       "      <th></th>\n",
       "      <th>close</th>\n",
       "      <th>high</th>\n",
       "      <th>low</th>\n",
       "      <th>open</th>\n",
       "      <th>s</th>\n",
       "      <th>date</th>\n",
       "      <th>volume</th>\n",
       "      <th>tic</th>\n",
       "    </tr>\n",
       "  </thead>\n",
       "  <tbody>\n",
       "    <tr>\n",
       "      <th>0</th>\n",
       "      <td>3419.60000</td>\n",
       "      <td>3423.70000</td>\n",
       "      <td>3412.60000</td>\n",
       "      <td>3420.60000</td>\n",
       "      <td>ok</td>\n",
       "      <td>2022-07-01T10:30:00</td>\n",
       "      <td>463</td>\n",
       "      <td>OANDA:EU50_EUR</td>\n",
       "    </tr>\n",
       "    <tr>\n",
       "      <th>1</th>\n",
       "      <td>3438.00000</td>\n",
       "      <td>3444.90000</td>\n",
       "      <td>3401.90000</td>\n",
       "      <td>3419.60000</td>\n",
       "      <td>ok</td>\n",
       "      <td>2022-07-01T11:30:00</td>\n",
       "      <td>1691</td>\n",
       "      <td>OANDA:EU50_EUR</td>\n",
       "    </tr>\n",
       "    <tr>\n",
       "      <th>2</th>\n",
       "      <td>3456.00000</td>\n",
       "      <td>3462.90000</td>\n",
       "      <td>3428.90000</td>\n",
       "      <td>3440.00000</td>\n",
       "      <td>ok</td>\n",
       "      <td>2022-07-01T12:30:00</td>\n",
       "      <td>794</td>\n",
       "      <td>OANDA:EU50_EUR</td>\n",
       "    </tr>\n",
       "    <tr>\n",
       "      <th>3</th>\n",
       "      <td>3463.90000</td>\n",
       "      <td>3466.00000</td>\n",
       "      <td>3450.90000</td>\n",
       "      <td>3456.90000</td>\n",
       "      <td>ok</td>\n",
       "      <td>2022-07-01T13:30:00</td>\n",
       "      <td>685</td>\n",
       "      <td>OANDA:EU50_EUR</td>\n",
       "    </tr>\n",
       "    <tr>\n",
       "      <th>4</th>\n",
       "      <td>3441.00000</td>\n",
       "      <td>3465.90000</td>\n",
       "      <td>3439.90000</td>\n",
       "      <td>3464.90000</td>\n",
       "      <td>ok</td>\n",
       "      <td>2022-07-01T14:30:00</td>\n",
       "      <td>468</td>\n",
       "      <td>OANDA:EU50_EUR</td>\n",
       "    </tr>\n",
       "    <tr>\n",
       "      <th>...</th>\n",
       "      <td>...</td>\n",
       "      <td>...</td>\n",
       "      <td>...</td>\n",
       "      <td>...</td>\n",
       "      <td>...</td>\n",
       "      <td>...</td>\n",
       "      <td>...</td>\n",
       "      <td>...</td>\n",
       "    </tr>\n",
       "    <tr>\n",
       "      <th>490</th>\n",
       "      <td>0.69773</td>\n",
       "      <td>0.69848</td>\n",
       "      <td>0.69680</td>\n",
       "      <td>0.69834</td>\n",
       "      <td>ok</td>\n",
       "      <td>2022-07-29T20:30:00</td>\n",
       "      <td>3036</td>\n",
       "      <td>OANDA:AUD_USD</td>\n",
       "    </tr>\n",
       "    <tr>\n",
       "      <th>491</th>\n",
       "      <td>0.69771</td>\n",
       "      <td>0.69784</td>\n",
       "      <td>0.69713</td>\n",
       "      <td>0.69770</td>\n",
       "      <td>ok</td>\n",
       "      <td>2022-07-29T21:30:00</td>\n",
       "      <td>1886</td>\n",
       "      <td>OANDA:AUD_USD</td>\n",
       "    </tr>\n",
       "    <tr>\n",
       "      <th>492</th>\n",
       "      <td>0.69951</td>\n",
       "      <td>0.69952</td>\n",
       "      <td>0.69762</td>\n",
       "      <td>0.69771</td>\n",
       "      <td>ok</td>\n",
       "      <td>2022-07-29T22:30:00</td>\n",
       "      <td>1877</td>\n",
       "      <td>OANDA:AUD_USD</td>\n",
       "    </tr>\n",
       "    <tr>\n",
       "      <th>493</th>\n",
       "      <td>0.69864</td>\n",
       "      <td>0.69978</td>\n",
       "      <td>0.69837</td>\n",
       "      <td>0.69950</td>\n",
       "      <td>ok</td>\n",
       "      <td>2022-07-29T23:30:00</td>\n",
       "      <td>2004</td>\n",
       "      <td>OANDA:AUD_USD</td>\n",
       "    </tr>\n",
       "    <tr>\n",
       "      <th>494</th>\n",
       "      <td>0.69871</td>\n",
       "      <td>0.69960</td>\n",
       "      <td>0.69838</td>\n",
       "      <td>0.69863</td>\n",
       "      <td>ok</td>\n",
       "      <td>2022-07-30T00:30:00</td>\n",
       "      <td>1120</td>\n",
       "      <td>OANDA:AUD_USD</td>\n",
       "    </tr>\n",
       "  </tbody>\n",
       "</table>\n",
       "<p>57272 rows × 8 columns</p>\n",
       "</div>"
      ],
      "text/plain": [
       "          close        high         low        open   s                 date  \\\n",
       "0    3419.60000  3423.70000  3412.60000  3420.60000  ok  2022-07-01T10:30:00   \n",
       "1    3438.00000  3444.90000  3401.90000  3419.60000  ok  2022-07-01T11:30:00   \n",
       "2    3456.00000  3462.90000  3428.90000  3440.00000  ok  2022-07-01T12:30:00   \n",
       "3    3463.90000  3466.00000  3450.90000  3456.90000  ok  2022-07-01T13:30:00   \n",
       "4    3441.00000  3465.90000  3439.90000  3464.90000  ok  2022-07-01T14:30:00   \n",
       "..          ...         ...         ...         ...  ..                  ...   \n",
       "490     0.69773     0.69848     0.69680     0.69834  ok  2022-07-29T20:30:00   \n",
       "491     0.69771     0.69784     0.69713     0.69770  ok  2022-07-29T21:30:00   \n",
       "492     0.69951     0.69952     0.69762     0.69771  ok  2022-07-29T22:30:00   \n",
       "493     0.69864     0.69978     0.69837     0.69950  ok  2022-07-29T23:30:00   \n",
       "494     0.69871     0.69960     0.69838     0.69863  ok  2022-07-30T00:30:00   \n",
       "\n",
       "     volume             tic  \n",
       "0       463  OANDA:EU50_EUR  \n",
       "1      1691  OANDA:EU50_EUR  \n",
       "2       794  OANDA:EU50_EUR  \n",
       "3       685  OANDA:EU50_EUR  \n",
       "4       468  OANDA:EU50_EUR  \n",
       "..      ...             ...  \n",
       "490    3036   OANDA:AUD_USD  \n",
       "491    1886   OANDA:AUD_USD  \n",
       "492    1877   OANDA:AUD_USD  \n",
       "493    2004   OANDA:AUD_USD  \n",
       "494    1120   OANDA:AUD_USD  \n",
       "\n",
       "[57272 rows x 8 columns]"
      ]
     },
     "execution_count": 214,
     "metadata": {},
     "output_type": "execute_result"
    }
   ],
   "source": [
    "forex_market_dataset"
   ]
  },
  {
   "cell_type": "code",
   "execution_count": null,
   "metadata": {},
   "outputs": [
    {
     "data": {
      "text/html": [
       "<div>\n",
       "<style scoped>\n",
       "    .dataframe tbody tr th:only-of-type {\n",
       "        vertical-align: middle;\n",
       "    }\n",
       "\n",
       "    .dataframe tbody tr th {\n",
       "        vertical-align: top;\n",
       "    }\n",
       "\n",
       "    .dataframe thead th {\n",
       "        text-align: right;\n",
       "    }\n",
       "</style>\n",
       "<table border=\"1\" class=\"dataframe\">\n",
       "  <thead>\n",
       "    <tr style=\"text-align: right;\">\n",
       "      <th></th>\n",
       "      <th>close</th>\n",
       "      <th>high</th>\n",
       "      <th>low</th>\n",
       "      <th>open</th>\n",
       "      <th>date</th>\n",
       "      <th>volume</th>\n",
       "      <th>tic</th>\n",
       "    </tr>\n",
       "  </thead>\n",
       "  <tbody>\n",
       "    <tr>\n",
       "      <th>0</th>\n",
       "      <td>3419.60000</td>\n",
       "      <td>3423.70000</td>\n",
       "      <td>3412.60000</td>\n",
       "      <td>3420.60000</td>\n",
       "      <td>2022-07-01T10:30:00</td>\n",
       "      <td>463</td>\n",
       "      <td>OANDA:EU50_EUR</td>\n",
       "    </tr>\n",
       "    <tr>\n",
       "      <th>1</th>\n",
       "      <td>3438.00000</td>\n",
       "      <td>3444.90000</td>\n",
       "      <td>3401.90000</td>\n",
       "      <td>3419.60000</td>\n",
       "      <td>2022-07-01T11:30:00</td>\n",
       "      <td>1691</td>\n",
       "      <td>OANDA:EU50_EUR</td>\n",
       "    </tr>\n",
       "    <tr>\n",
       "      <th>2</th>\n",
       "      <td>3456.00000</td>\n",
       "      <td>3462.90000</td>\n",
       "      <td>3428.90000</td>\n",
       "      <td>3440.00000</td>\n",
       "      <td>2022-07-01T12:30:00</td>\n",
       "      <td>794</td>\n",
       "      <td>OANDA:EU50_EUR</td>\n",
       "    </tr>\n",
       "    <tr>\n",
       "      <th>3</th>\n",
       "      <td>3463.90000</td>\n",
       "      <td>3466.00000</td>\n",
       "      <td>3450.90000</td>\n",
       "      <td>3456.90000</td>\n",
       "      <td>2022-07-01T13:30:00</td>\n",
       "      <td>685</td>\n",
       "      <td>OANDA:EU50_EUR</td>\n",
       "    </tr>\n",
       "    <tr>\n",
       "      <th>4</th>\n",
       "      <td>3441.00000</td>\n",
       "      <td>3465.90000</td>\n",
       "      <td>3439.90000</td>\n",
       "      <td>3464.90000</td>\n",
       "      <td>2022-07-01T14:30:00</td>\n",
       "      <td>468</td>\n",
       "      <td>OANDA:EU50_EUR</td>\n",
       "    </tr>\n",
       "    <tr>\n",
       "      <th>...</th>\n",
       "      <td>...</td>\n",
       "      <td>...</td>\n",
       "      <td>...</td>\n",
       "      <td>...</td>\n",
       "      <td>...</td>\n",
       "      <td>...</td>\n",
       "      <td>...</td>\n",
       "    </tr>\n",
       "    <tr>\n",
       "      <th>490</th>\n",
       "      <td>0.69773</td>\n",
       "      <td>0.69848</td>\n",
       "      <td>0.69680</td>\n",
       "      <td>0.69834</td>\n",
       "      <td>2022-07-29T20:30:00</td>\n",
       "      <td>3036</td>\n",
       "      <td>OANDA:AUD_USD</td>\n",
       "    </tr>\n",
       "    <tr>\n",
       "      <th>491</th>\n",
       "      <td>0.69771</td>\n",
       "      <td>0.69784</td>\n",
       "      <td>0.69713</td>\n",
       "      <td>0.69770</td>\n",
       "      <td>2022-07-29T21:30:00</td>\n",
       "      <td>1886</td>\n",
       "      <td>OANDA:AUD_USD</td>\n",
       "    </tr>\n",
       "    <tr>\n",
       "      <th>492</th>\n",
       "      <td>0.69951</td>\n",
       "      <td>0.69952</td>\n",
       "      <td>0.69762</td>\n",
       "      <td>0.69771</td>\n",
       "      <td>2022-07-29T22:30:00</td>\n",
       "      <td>1877</td>\n",
       "      <td>OANDA:AUD_USD</td>\n",
       "    </tr>\n",
       "    <tr>\n",
       "      <th>493</th>\n",
       "      <td>0.69864</td>\n",
       "      <td>0.69978</td>\n",
       "      <td>0.69837</td>\n",
       "      <td>0.69950</td>\n",
       "      <td>2022-07-29T23:30:00</td>\n",
       "      <td>2004</td>\n",
       "      <td>OANDA:AUD_USD</td>\n",
       "    </tr>\n",
       "    <tr>\n",
       "      <th>494</th>\n",
       "      <td>0.69871</td>\n",
       "      <td>0.69960</td>\n",
       "      <td>0.69838</td>\n",
       "      <td>0.69863</td>\n",
       "      <td>2022-07-30T00:30:00</td>\n",
       "      <td>1120</td>\n",
       "      <td>OANDA:AUD_USD</td>\n",
       "    </tr>\n",
       "  </tbody>\n",
       "</table>\n",
       "<p>57272 rows × 7 columns</p>\n",
       "</div>"
      ],
      "text/plain": [
       "          close        high         low        open                 date  \\\n",
       "0    3419.60000  3423.70000  3412.60000  3420.60000  2022-07-01T10:30:00   \n",
       "1    3438.00000  3444.90000  3401.90000  3419.60000  2022-07-01T11:30:00   \n",
       "2    3456.00000  3462.90000  3428.90000  3440.00000  2022-07-01T12:30:00   \n",
       "3    3463.90000  3466.00000  3450.90000  3456.90000  2022-07-01T13:30:00   \n",
       "4    3441.00000  3465.90000  3439.90000  3464.90000  2022-07-01T14:30:00   \n",
       "..          ...         ...         ...         ...                  ...   \n",
       "490     0.69773     0.69848     0.69680     0.69834  2022-07-29T20:30:00   \n",
       "491     0.69771     0.69784     0.69713     0.69770  2022-07-29T21:30:00   \n",
       "492     0.69951     0.69952     0.69762     0.69771  2022-07-29T22:30:00   \n",
       "493     0.69864     0.69978     0.69837     0.69950  2022-07-29T23:30:00   \n",
       "494     0.69871     0.69960     0.69838     0.69863  2022-07-30T00:30:00   \n",
       "\n",
       "     volume             tic  \n",
       "0       463  OANDA:EU50_EUR  \n",
       "1      1691  OANDA:EU50_EUR  \n",
       "2       794  OANDA:EU50_EUR  \n",
       "3       685  OANDA:EU50_EUR  \n",
       "4       468  OANDA:EU50_EUR  \n",
       "..      ...             ...  \n",
       "490    3036   OANDA:AUD_USD  \n",
       "491    1886   OANDA:AUD_USD  \n",
       "492    1877   OANDA:AUD_USD  \n",
       "493    2004   OANDA:AUD_USD  \n",
       "494    1120   OANDA:AUD_USD  \n",
       "\n",
       "[57272 rows x 7 columns]"
      ]
     },
     "execution_count": 215,
     "metadata": {},
     "output_type": "execute_result"
    }
   ],
   "source": [
    "forex_market_dataset.sort_values(['date', 'tic'], ignore_index = True)\n",
    "forex_market_dataset.drop(columns='s', inplace = True)\n",
    "forex_market_dataset"
   ]
  },
  {
   "attachments": {},
   "cell_type": "markdown",
   "metadata": {},
   "source": [
    "## 3.3 : use finnhub to get crypto market data  "
   ]
  },
  {
   "cell_type": "code",
   "execution_count": 5,
   "metadata": {},
   "outputs": [],
   "source": [
    "api_key='cbj22uqad3i2thcmtg80'\n",
    "choosen_symbols = ['BTC', 'ETH', 'USDT', 'USDC', 'BNB', 'XRP', 'ADA', 'BUSD', 'SOL', 'DOT']"
   ]
  },
  {
   "cell_type": "code",
   "execution_count": null,
   "metadata": {},
   "outputs": [],
   "source": [
    "data_loader = CryptoDataLoader(symbols_list= choosen_symbols, api_key=api_key)"
   ]
  },
  {
   "cell_type": "code",
   "execution_count": null,
   "metadata": {},
   "outputs": [],
   "source": [
    "crypto_df = data_loader.load_crypto_candles()"
   ]
  },
  {
   "cell_type": "code",
   "execution_count": null,
   "metadata": {},
   "outputs": [
    {
     "data": {
      "text/html": [
       "<div>\n",
       "<style scoped>\n",
       "    .dataframe tbody tr th:only-of-type {\n",
       "        vertical-align: middle;\n",
       "    }\n",
       "\n",
       "    .dataframe tbody tr th {\n",
       "        vertical-align: top;\n",
       "    }\n",
       "\n",
       "    .dataframe thead th {\n",
       "        text-align: right;\n",
       "    }\n",
       "</style>\n",
       "<table border=\"1\" class=\"dataframe\">\n",
       "  <thead>\n",
       "    <tr style=\"text-align: right;\">\n",
       "      <th></th>\n",
       "      <th>c</th>\n",
       "      <th>h</th>\n",
       "      <th>l</th>\n",
       "      <th>o</th>\n",
       "      <th>s</th>\n",
       "      <th>t</th>\n",
       "      <th>v</th>\n",
       "      <th>symbol</th>\n",
       "    </tr>\n",
       "  </thead>\n",
       "  <tbody>\n",
       "    <tr>\n",
       "      <th>0</th>\n",
       "      <td>0.06921</td>\n",
       "      <td>0.10000</td>\n",
       "      <td>0.01444</td>\n",
       "      <td>0.01444</td>\n",
       "      <td>ok</td>\n",
       "      <td>1586476800</td>\n",
       "      <td>3695792.1</td>\n",
       "      <td>BINANCE:SOLBNB</td>\n",
       "    </tr>\n",
       "    <tr>\n",
       "      <th>1</th>\n",
       "      <td>0.05773</td>\n",
       "      <td>0.07609</td>\n",
       "      <td>0.05568</td>\n",
       "      <td>0.06921</td>\n",
       "      <td>ok</td>\n",
       "      <td>1586563200</td>\n",
       "      <td>1792845.2</td>\n",
       "      <td>BINANCE:SOLBNB</td>\n",
       "    </tr>\n",
       "    <tr>\n",
       "      <th>2</th>\n",
       "      <td>0.06188</td>\n",
       "      <td>0.06589</td>\n",
       "      <td>0.05464</td>\n",
       "      <td>0.05756</td>\n",
       "      <td>ok</td>\n",
       "      <td>1586649600</td>\n",
       "      <td>1036908.3</td>\n",
       "      <td>BINANCE:SOLBNB</td>\n",
       "    </tr>\n",
       "    <tr>\n",
       "      <th>3</th>\n",
       "      <td>0.05171</td>\n",
       "      <td>0.06188</td>\n",
       "      <td>0.05160</td>\n",
       "      <td>0.06188</td>\n",
       "      <td>ok</td>\n",
       "      <td>1586736000</td>\n",
       "      <td>476803.6</td>\n",
       "      <td>BINANCE:SOLBNB</td>\n",
       "    </tr>\n",
       "    <tr>\n",
       "      <th>4</th>\n",
       "      <td>0.04272</td>\n",
       "      <td>0.05264</td>\n",
       "      <td>0.04040</td>\n",
       "      <td>0.05171</td>\n",
       "      <td>ok</td>\n",
       "      <td>1586822400</td>\n",
       "      <td>617685.5</td>\n",
       "      <td>BINANCE:SOLBNB</td>\n",
       "    </tr>\n",
       "    <tr>\n",
       "      <th>...</th>\n",
       "      <td>...</td>\n",
       "      <td>...</td>\n",
       "      <td>...</td>\n",
       "      <td>...</td>\n",
       "      <td>...</td>\n",
       "      <td>...</td>\n",
       "      <td>...</td>\n",
       "      <td>...</td>\n",
       "    </tr>\n",
       "    <tr>\n",
       "      <th>995</th>\n",
       "      <td>1.23700</td>\n",
       "      <td>1.33100</td>\n",
       "      <td>1.23700</td>\n",
       "      <td>1.31300</td>\n",
       "      <td>ok</td>\n",
       "      <td>1639612800</td>\n",
       "      <td>1450240.9</td>\n",
       "      <td>BINANCE:ADAUSDC</td>\n",
       "    </tr>\n",
       "    <tr>\n",
       "      <th>996</th>\n",
       "      <td>1.22200</td>\n",
       "      <td>1.25800</td>\n",
       "      <td>1.18300</td>\n",
       "      <td>1.23900</td>\n",
       "      <td>ok</td>\n",
       "      <td>1639699200</td>\n",
       "      <td>3451131.2</td>\n",
       "      <td>BINANCE:ADAUSDC</td>\n",
       "    </tr>\n",
       "    <tr>\n",
       "      <th>997</th>\n",
       "      <td>1.24300</td>\n",
       "      <td>1.26800</td>\n",
       "      <td>1.19900</td>\n",
       "      <td>1.21900</td>\n",
       "      <td>ok</td>\n",
       "      <td>1639785600</td>\n",
       "      <td>658339.6</td>\n",
       "      <td>BINANCE:ADAUSDC</td>\n",
       "    </tr>\n",
       "    <tr>\n",
       "      <th>998</th>\n",
       "      <td>1.24400</td>\n",
       "      <td>1.31100</td>\n",
       "      <td>1.24100</td>\n",
       "      <td>1.24200</td>\n",
       "      <td>ok</td>\n",
       "      <td>1639872000</td>\n",
       "      <td>1262579.4</td>\n",
       "      <td>BINANCE:ADAUSDC</td>\n",
       "    </tr>\n",
       "    <tr>\n",
       "      <th>999</th>\n",
       "      <td>1.23700</td>\n",
       "      <td>1.26100</td>\n",
       "      <td>1.20200</td>\n",
       "      <td>1.24300</td>\n",
       "      <td>ok</td>\n",
       "      <td>1639958400</td>\n",
       "      <td>2011319.1</td>\n",
       "      <td>BINANCE:ADAUSDC</td>\n",
       "    </tr>\n",
       "  </tbody>\n",
       "</table>\n",
       "<p>33683 rows × 8 columns</p>\n",
       "</div>"
      ],
      "text/plain": [
       "           c        h        l        o   s           t          v  \\\n",
       "0    0.06921  0.10000  0.01444  0.01444  ok  1586476800  3695792.1   \n",
       "1    0.05773  0.07609  0.05568  0.06921  ok  1586563200  1792845.2   \n",
       "2    0.06188  0.06589  0.05464  0.05756  ok  1586649600  1036908.3   \n",
       "3    0.05171  0.06188  0.05160  0.06188  ok  1586736000   476803.6   \n",
       "4    0.04272  0.05264  0.04040  0.05171  ok  1586822400   617685.5   \n",
       "..       ...      ...      ...      ...  ..         ...        ...   \n",
       "995  1.23700  1.33100  1.23700  1.31300  ok  1639612800  1450240.9   \n",
       "996  1.22200  1.25800  1.18300  1.23900  ok  1639699200  3451131.2   \n",
       "997  1.24300  1.26800  1.19900  1.21900  ok  1639785600   658339.6   \n",
       "998  1.24400  1.31100  1.24100  1.24200  ok  1639872000  1262579.4   \n",
       "999  1.23700  1.26100  1.20200  1.24300  ok  1639958400  2011319.1   \n",
       "\n",
       "              symbol  \n",
       "0     BINANCE:SOLBNB  \n",
       "1     BINANCE:SOLBNB  \n",
       "2     BINANCE:SOLBNB  \n",
       "3     BINANCE:SOLBNB  \n",
       "4     BINANCE:SOLBNB  \n",
       "..               ...  \n",
       "995  BINANCE:ADAUSDC  \n",
       "996  BINANCE:ADAUSDC  \n",
       "997  BINANCE:ADAUSDC  \n",
       "998  BINANCE:ADAUSDC  \n",
       "999  BINANCE:ADAUSDC  \n",
       "\n",
       "[33683 rows x 8 columns]"
      ]
     },
     "execution_count": 7,
     "metadata": {},
     "output_type": "execute_result"
    }
   ],
   "source": [
    "crypto_df"
   ]
  },
  {
   "cell_type": "code",
   "execution_count": null,
   "metadata": {},
   "outputs": [],
   "source": [
    "crypto_symbols_df = data_loader.cleansing_holcv_dataframes(crypto_df)"
   ]
  },
  {
   "cell_type": "code",
   "execution_count": null,
   "metadata": {},
   "outputs": [],
   "source": [
    "dates = []\n",
    "import datetime\n",
    "for unixdate in crypto_symbols_df['date']:\n",
    "    utcdate = datetime.datetime.fromtimestamp(unixdate).strftime('%Y-%m-%d')\n",
    "    dates.append(utcdate)\n",
    "crypto_symbols_df['date'] = dates"
   ]
  },
  {
   "cell_type": "code",
   "execution_count": null,
   "metadata": {},
   "outputs": [
    {
     "data": {
      "text/html": [
       "<div>\n",
       "<style scoped>\n",
       "    .dataframe tbody tr th:only-of-type {\n",
       "        vertical-align: middle;\n",
       "    }\n",
       "\n",
       "    .dataframe tbody tr th {\n",
       "        vertical-align: top;\n",
       "    }\n",
       "\n",
       "    .dataframe thead th {\n",
       "        text-align: right;\n",
       "    }\n",
       "</style>\n",
       "<table border=\"1\" class=\"dataframe\">\n",
       "  <thead>\n",
       "    <tr style=\"text-align: right;\">\n",
       "      <th></th>\n",
       "      <th>close</th>\n",
       "      <th>high</th>\n",
       "      <th>low</th>\n",
       "      <th>open</th>\n",
       "      <th>date</th>\n",
       "      <th>volume</th>\n",
       "      <th>tic</th>\n",
       "    </tr>\n",
       "  </thead>\n",
       "  <tbody>\n",
       "    <tr>\n",
       "      <th>0</th>\n",
       "      <td>0.06921</td>\n",
       "      <td>0.10000</td>\n",
       "      <td>0.01444</td>\n",
       "      <td>0.01444</td>\n",
       "      <td>2020-04-10</td>\n",
       "      <td>3695792.1</td>\n",
       "      <td>BINANCE:SOLBNB</td>\n",
       "    </tr>\n",
       "    <tr>\n",
       "      <th>1</th>\n",
       "      <td>0.05773</td>\n",
       "      <td>0.07609</td>\n",
       "      <td>0.05568</td>\n",
       "      <td>0.06921</td>\n",
       "      <td>2020-04-11</td>\n",
       "      <td>1792845.2</td>\n",
       "      <td>BINANCE:SOLBNB</td>\n",
       "    </tr>\n",
       "    <tr>\n",
       "      <th>2</th>\n",
       "      <td>0.06188</td>\n",
       "      <td>0.06589</td>\n",
       "      <td>0.05464</td>\n",
       "      <td>0.05756</td>\n",
       "      <td>2020-04-12</td>\n",
       "      <td>1036908.3</td>\n",
       "      <td>BINANCE:SOLBNB</td>\n",
       "    </tr>\n",
       "    <tr>\n",
       "      <th>3</th>\n",
       "      <td>0.05171</td>\n",
       "      <td>0.06188</td>\n",
       "      <td>0.05160</td>\n",
       "      <td>0.06188</td>\n",
       "      <td>2020-04-13</td>\n",
       "      <td>476803.6</td>\n",
       "      <td>BINANCE:SOLBNB</td>\n",
       "    </tr>\n",
       "    <tr>\n",
       "      <th>4</th>\n",
       "      <td>0.04272</td>\n",
       "      <td>0.05264</td>\n",
       "      <td>0.04040</td>\n",
       "      <td>0.05171</td>\n",
       "      <td>2020-04-14</td>\n",
       "      <td>617685.5</td>\n",
       "      <td>BINANCE:SOLBNB</td>\n",
       "    </tr>\n",
       "    <tr>\n",
       "      <th>...</th>\n",
       "      <td>...</td>\n",
       "      <td>...</td>\n",
       "      <td>...</td>\n",
       "      <td>...</td>\n",
       "      <td>...</td>\n",
       "      <td>...</td>\n",
       "      <td>...</td>\n",
       "    </tr>\n",
       "    <tr>\n",
       "      <th>995</th>\n",
       "      <td>1.23700</td>\n",
       "      <td>1.33100</td>\n",
       "      <td>1.23700</td>\n",
       "      <td>1.31300</td>\n",
       "      <td>2021-12-16</td>\n",
       "      <td>1450240.9</td>\n",
       "      <td>BINANCE:ADAUSDC</td>\n",
       "    </tr>\n",
       "    <tr>\n",
       "      <th>996</th>\n",
       "      <td>1.22200</td>\n",
       "      <td>1.25800</td>\n",
       "      <td>1.18300</td>\n",
       "      <td>1.23900</td>\n",
       "      <td>2021-12-17</td>\n",
       "      <td>3451131.2</td>\n",
       "      <td>BINANCE:ADAUSDC</td>\n",
       "    </tr>\n",
       "    <tr>\n",
       "      <th>997</th>\n",
       "      <td>1.24300</td>\n",
       "      <td>1.26800</td>\n",
       "      <td>1.19900</td>\n",
       "      <td>1.21900</td>\n",
       "      <td>2021-12-18</td>\n",
       "      <td>658339.6</td>\n",
       "      <td>BINANCE:ADAUSDC</td>\n",
       "    </tr>\n",
       "    <tr>\n",
       "      <th>998</th>\n",
       "      <td>1.24400</td>\n",
       "      <td>1.31100</td>\n",
       "      <td>1.24100</td>\n",
       "      <td>1.24200</td>\n",
       "      <td>2021-12-19</td>\n",
       "      <td>1262579.4</td>\n",
       "      <td>BINANCE:ADAUSDC</td>\n",
       "    </tr>\n",
       "    <tr>\n",
       "      <th>999</th>\n",
       "      <td>1.23700</td>\n",
       "      <td>1.26100</td>\n",
       "      <td>1.20200</td>\n",
       "      <td>1.24300</td>\n",
       "      <td>2021-12-20</td>\n",
       "      <td>2011319.1</td>\n",
       "      <td>BINANCE:ADAUSDC</td>\n",
       "    </tr>\n",
       "  </tbody>\n",
       "</table>\n",
       "<p>33683 rows × 7 columns</p>\n",
       "</div>"
      ],
      "text/plain": [
       "       close     high      low     open        date     volume  \\\n",
       "0    0.06921  0.10000  0.01444  0.01444  2020-04-10  3695792.1   \n",
       "1    0.05773  0.07609  0.05568  0.06921  2020-04-11  1792845.2   \n",
       "2    0.06188  0.06589  0.05464  0.05756  2020-04-12  1036908.3   \n",
       "3    0.05171  0.06188  0.05160  0.06188  2020-04-13   476803.6   \n",
       "4    0.04272  0.05264  0.04040  0.05171  2020-04-14   617685.5   \n",
       "..       ...      ...      ...      ...         ...        ...   \n",
       "995  1.23700  1.33100  1.23700  1.31300  2021-12-16  1450240.9   \n",
       "996  1.22200  1.25800  1.18300  1.23900  2021-12-17  3451131.2   \n",
       "997  1.24300  1.26800  1.19900  1.21900  2021-12-18   658339.6   \n",
       "998  1.24400  1.31100  1.24100  1.24200  2021-12-19  1262579.4   \n",
       "999  1.23700  1.26100  1.20200  1.24300  2021-12-20  2011319.1   \n",
       "\n",
       "                 tic  \n",
       "0     BINANCE:SOLBNB  \n",
       "1     BINANCE:SOLBNB  \n",
       "2     BINANCE:SOLBNB  \n",
       "3     BINANCE:SOLBNB  \n",
       "4     BINANCE:SOLBNB  \n",
       "..               ...  \n",
       "995  BINANCE:ADAUSDC  \n",
       "996  BINANCE:ADAUSDC  \n",
       "997  BINANCE:ADAUSDC  \n",
       "998  BINANCE:ADAUSDC  \n",
       "999  BINANCE:ADAUSDC  \n",
       "\n",
       "[33683 rows x 7 columns]"
      ]
     },
     "execution_count": 11,
     "metadata": {},
     "output_type": "execute_result"
    }
   ],
   "source": [
    "data = crypto_symbols_df.copy()\n",
    "data  = data_loader.crypto_clean_data(data)"
   ]
  },
  {
   "cell_type": "code",
   "execution_count": null,
   "metadata": {},
   "outputs": [
    {
     "ename": "NameError",
     "evalue": "name 'data' is not defined",
     "output_type": "error",
     "traceback": [
      "\u001b[0;31m---------------------------------------------------------------------------\u001b[0m",
      "\u001b[0;31mNameError\u001b[0m                                 Traceback (most recent call last)",
      "\u001b[1;32m/mnt/f/financial_projects/Deep Reinforcement Learning Approaches on Stock Prediction/FinRL/FinRL_StockTrading_NeurIPS_2018.ipynb Cell 51\u001b[0m in \u001b[0;36m<cell line: 1>\u001b[0;34m()\u001b[0m\n\u001b[0;32m----> <a href='vscode-notebook-cell://wsl%2Bu18/mnt/f/financial_projects/Deep%20Reinforcement%20Learning%20Approaches%20on%20Stock%20Prediction/FinRL/FinRL_StockTrading_NeurIPS_2018.ipynb#Y101sdnNjb2RlLXJlbW90ZQ%3D%3D?line=0'>1</a>\u001b[0m data\u001b[39m.\u001b[39mto_csv(os\u001b[39m.\u001b[39mpath\u001b[39m.\u001b[39mjoin(DATA_SAVE_DIR,\u001b[39m'\u001b[39m\u001b[39mDataset.csv\u001b[39m\u001b[39m'\u001b[39m))\n",
      "\u001b[0;31mNameError\u001b[0m: name 'data' is not defined"
     ]
    }
   ],
   "source": [
    "data.to_csv(os.path.join(config.DATA_SAVE_DIR,'Dataset.csv'))"
   ]
  },
  {
   "cell_type": "code",
   "execution_count": 6,
   "metadata": {},
   "outputs": [],
   "source": [
    "data_name = 'Dataset.csv'\n",
    "data  = pd.read_csv(os.path.join(config.DATA_SAVE_DIR,data_name))\n",
    "data.drop(columns={'Unnamed: 0'}, inplace= True)"
   ]
  },
  {
   "attachments": {},
   "cell_type": "markdown",
   "metadata": {},
   "source": [
    "## 3.4 :use yahoofinance api to get s&p 500"
   ]
  },
  {
   "cell_type": "code",
   "execution_count": null,
   "metadata": {},
   "outputs": [],
   "source": [
    "import requests\n",
    "import bs4 as bs\n",
    "import pickle\n",
    "\n",
    "def save_sp500_tickers():\n",
    "    resp = requests.get('http://en.wikipedia.org/wiki/List_of_S%26P_500_companies')\n",
    "    soup = bs.BeautifulSoup(resp.text, 'lxml')\n",
    "    table = soup.find('table', {'class': 'wikitable sortable'})\n",
    "    tickers = []\n",
    "    for row in table.findAll('tr')[1:]:\n",
    "        ticker = row.findAll('td')[0].text\n",
    "        tickers.append(ticker)\n",
    "    with open(\"sp500tickers.pickle\", \"wb\") as f:\n",
    "        pickle.dump(tickers, f)\n",
    "    return tickers"
   ]
  },
  {
   "cell_type": "code",
   "execution_count": null,
   "metadata": {},
   "outputs": [],
   "source": [
    "sp_tickers = save_sp500_tickers()\n",
    "data = YahooDownloader(start_date = datetime.datetime(2016, 1, 1),\n",
    "                     end_date = datetime.datetime.now(),\n",
    "                     ticker_list = sp_tickers).fetch_data()"
   ]
  },
  {
   "cell_type": "code",
   "execution_count": 86,
   "metadata": {},
   "outputs": [],
   "source": [
    "data = pd.DataFrame(data)\n",
    "data.to_csv(os.path.join(config.DATA_SAVE_DIR,'sp500.csv'))"
   ]
  },
  {
   "cell_type": "code",
   "execution_count": 5,
   "metadata": {},
   "outputs": [],
   "source": [
    "data = pd.read_csv(os.path.join(config.DATA_SAVE_DIR,'sp500.csv'))\n",
    "data.drop(columns={'Unnamed: 0'}, inplace= True)"
   ]
  },
  {
   "attachments": {},
   "cell_type": "markdown",
   "metadata": {},
   "source": [
    "# alternative Part 3 : Load Data From CSV File\n",
    "\n",
    "\n"
   ]
  },
  {
   "cell_type": "code",
   "execution_count": 9,
   "metadata": {},
   "outputs": [],
   "source": [
    "dataset_name = 'forex_data.csv'\n",
    "forex_market_dataset = pd.read_csv(os.path.join(config.DATA_SAVE_DIR,dataset_name))"
   ]
  },
  {
   "attachments": {},
   "cell_type": "markdown",
   "metadata": {
    "id": "uqC6c40Zh1iH"
   },
   "source": [
    "# Part 4: Preprocess Data\n",
    "Data preprocessing is a crucial step for training a high quality machine learning model. We need to check for missing data and do feature engineering in order to convert the data into a model-ready state.\n",
    "* Add technical indicators. In practical trading, various information needs to be taken into account, for example the historical stock prices, current holding shares, technical indicators, etc. In this article, we demonstrate two trend-following technical indicators: MACD and RSI.\n",
    "* Add turbulence index. Risk-aversion reflects whether an investor will choose to preserve the capital. It also influences one's trading strategy when facing different market volatility level. To control the risk in a worst-case scenario, such as financial crisis of 2007–2008, FinRL employs the financial turbulence index that measures extreme asset price fluctuation."
   ]
  },
  {
   "cell_type": "code",
   "execution_count": 10,
   "metadata": {},
   "outputs": [],
   "source": [
    "data = forex_market_dataset"
   ]
  },
  {
   "cell_type": "code",
   "execution_count": 11,
   "metadata": {},
   "outputs": [],
   "source": [
    "data.drop(columns='Volume', inplace= True)"
   ]
  },
  {
   "cell_type": "code",
   "execution_count": 12,
   "metadata": {},
   "outputs": [],
   "source": [
    "data.rename(columns={'Date': 'date','Adj Close': 'adj close', 'Close' : 'close', 'High' : 'high', 'Low': 'low', 'Open': 'open'}, inplace= True)"
   ]
  },
  {
   "cell_type": "code",
   "execution_count": 13,
   "metadata": {},
   "outputs": [
    {
     "data": {
      "text/plain": [
       "array(['EURUSD=X', 'GBPUSD=X', 'USDJPY=X', 'AUDUSD=X', 'USDCAD=X',\n",
       "       'USDCHF=X'], dtype=object)"
      ]
     },
     "execution_count": 13,
     "metadata": {},
     "output_type": "execute_result"
    }
   ],
   "source": [
    "data.tic.unique()"
   ]
  },
  {
   "cell_type": "code",
   "execution_count": 14,
   "metadata": {},
   "outputs": [
    {
     "name": "stdout",
     "output_type": "stream",
     "text": [
      "NeurIPS_2018_PreprocessData.ipynb  NeurIPS_2018_backtest.ipynb\n",
      "NeurIPS_2018_Train_Trade.ipynb\t   mnt\n"
     ]
    }
   ],
   "source": [
    "!ls"
   ]
  },
  {
   "cell_type": "code",
   "execution_count": 26,
   "metadata": {},
   "outputs": [
    {
     "ename": "ModuleNotFoundError",
     "evalue": "No module named 'finrl.finrl_meta'",
     "output_type": "error",
     "traceback": [
      "\u001b[0;31m---------------------------------------------------------------------------\u001b[0m",
      "\u001b[0;31mModuleNotFoundError\u001b[0m                       Traceback (most recent call last)",
      "Cell \u001b[0;32mIn[26], line 1\u001b[0m\n\u001b[0;32m----> 1\u001b[0m \u001b[39mfrom\u001b[39;00m \u001b[39mpreprocess\u001b[39;00m\u001b[39m.\u001b[39;00m\u001b[39mdefault_preprocessors\u001b[39;00m \u001b[39mimport\u001b[39;00m FeatureEngineer, data_split \n\u001b[1;32m      2\u001b[0m \u001b[39mfrom\u001b[39;00m \u001b[39mfinrl\u001b[39;00m \u001b[39mimport\u001b[39;00m config\n",
      "File \u001b[0;32m/mnt/f/financial_projects/Deep Reinforcement Learning Approaches on Stock Prediction/FinRL/NeurIPS_2018/../preprocess/default_preprocessors.py:11\u001b[0m\n\u001b[1;32m      7\u001b[0m \u001b[39mimport\u001b[39;00m \u001b[39msys\u001b[39;00m\n\u001b[1;32m      8\u001b[0m sys\u001b[39m.\u001b[39mpath\u001b[39m.\u001b[39mappend(\u001b[39m\"\u001b[39m\u001b[39m../..\u001b[39m\u001b[39m\"\u001b[39m)\n\u001b[0;32m---> 11\u001b[0m \u001b[39mfrom\u001b[39;00m \u001b[39mfinrl\u001b[39;00m\u001b[39m.\u001b[39;00m\u001b[39mfinrl_meta\u001b[39;00m\u001b[39m.\u001b[39;00m\u001b[39mpreprocessor\u001b[39;00m\u001b[39m.\u001b[39;00m\u001b[39myahoodownloader\u001b[39;00m \u001b[39mimport\u001b[39;00m YahooDownloader\n\u001b[1;32m     12\u001b[0m \u001b[39mfrom\u001b[39;00m \u001b[39mstockstats\u001b[39;00m \u001b[39mimport\u001b[39;00m StockDataFrame \u001b[39mas\u001b[39;00m Sdf\n\u001b[1;32m     15\u001b[0m \u001b[39mdef\u001b[39;00m \u001b[39mload_dataset\u001b[39m(\u001b[39m*\u001b[39m, file_name: \u001b[39mstr\u001b[39m) \u001b[39m-\u001b[39m\u001b[39m>\u001b[39m pd\u001b[39m.\u001b[39mDataFrame:\n",
      "\u001b[0;31mModuleNotFoundError\u001b[0m: No module named 'finrl.finrl_meta'"
     ]
    }
   ],
   "source": [
    "from preprocess.default_preprocessors import FeatureEngineer, data_split \n",
    "from finrl import config\n",
    "\n"
   ]
  },
  {
   "cell_type": "code",
   "execution_count": 12,
   "metadata": {
    "colab": {
     "base_uri": "https://localhost:8080/"
    },
    "id": "PmKP-1ii3RLS",
    "outputId": "0708badb-77ef-4c86-f77c-6525f0e8934d",
    "pycharm": {
     "name": "#%%\n"
    }
   },
   "outputs": [
    {
     "name": "stdout",
     "output_type": "stream",
     "text": [
      "Index(['date', 'adj close', 'close', 'high', 'low', 'open', 'tic'], dtype='object')\n",
      "Successfully added technical indicators\n",
      "[*********************100%***********************]  1 of 1 completed\n",
      "Shape of DataFrame:  (1007, 8)\n",
      "Successfully added vix\n",
      "Successfully added turbulence index\n"
     ]
    }
   ],
   "source": [
    "fe = FeatureEngineer(\n",
    "                    use_technical_indicator = True,\n",
    "                    tech_indicator_list =  config.INDICATORS,\n",
    "                    use_vix= True ,\n",
    "                    use_turbulence=True,\n",
    "                    user_defined_feature = False)\n",
    "\n",
    "processed = fe.preprocess_data(data)\n"
   ]
  },
  {
   "cell_type": "code",
   "execution_count": 19,
   "metadata": {},
   "outputs": [
    {
     "data": {
      "text/plain": [
       "array(['AUDUSD=X', 'EURUSD=X', 'GBPUSD=X', 'USDCAD=X', 'USDCHF=X',\n",
       "       'USDJPY=X'], dtype=object)"
      ]
     },
     "execution_count": 19,
     "metadata": {},
     "output_type": "execute_result"
    }
   ],
   "source": [
    "processed.tic.unique()"
   ]
  },
  {
   "cell_type": "code",
   "execution_count": 20,
   "metadata": {},
   "outputs": [
    {
     "data": {
      "text/plain": [
       "(array([], dtype=int64), array([], dtype=int64))"
      ]
     },
     "execution_count": 20,
     "metadata": {},
     "output_type": "execute_result"
    }
   ],
   "source": [
    "np.where(processed.isna() == True)"
   ]
  },
  {
   "cell_type": "code",
   "execution_count": 21,
   "metadata": {},
   "outputs": [
    {
     "data": {
      "text/html": [
       "<div>\n",
       "<style scoped>\n",
       "    .dataframe tbody tr th:only-of-type {\n",
       "        vertical-align: middle;\n",
       "    }\n",
       "\n",
       "    .dataframe tbody tr th {\n",
       "        vertical-align: top;\n",
       "    }\n",
       "\n",
       "    .dataframe thead th {\n",
       "        text-align: right;\n",
       "    }\n",
       "</style>\n",
       "<table border=\"1\" class=\"dataframe\">\n",
       "  <thead>\n",
       "    <tr style=\"text-align: right;\">\n",
       "      <th></th>\n",
       "      <th>date</th>\n",
       "      <th>adj close</th>\n",
       "      <th>close</th>\n",
       "      <th>high</th>\n",
       "      <th>low</th>\n",
       "      <th>open</th>\n",
       "      <th>tic</th>\n",
       "      <th>macd</th>\n",
       "      <th>rsi_30</th>\n",
       "      <th>cci_30</th>\n",
       "      <th>dx_30</th>\n",
       "      <th>close_30_sma</th>\n",
       "      <th>close_60_sma</th>\n",
       "      <th>vix</th>\n",
       "      <th>turbulence</th>\n",
       "    </tr>\n",
       "  </thead>\n",
       "  <tbody>\n",
       "    <tr>\n",
       "      <th>0</th>\n",
       "      <td>2019-01-02</td>\n",
       "      <td>0.704791</td>\n",
       "      <td>0.704791</td>\n",
       "      <td>0.704821</td>\n",
       "      <td>0.698470</td>\n",
       "      <td>0.704722</td>\n",
       "      <td>AUDUSD=X</td>\n",
       "      <td>0.000014</td>\n",
       "      <td>100.000000</td>\n",
       "      <td>-66.666667</td>\n",
       "      <td>100.000000</td>\n",
       "      <td>0.704483</td>\n",
       "      <td>0.704483</td>\n",
       "      <td>23.219999</td>\n",
       "      <td>0.000000</td>\n",
       "    </tr>\n",
       "    <tr>\n",
       "      <th>1</th>\n",
       "      <td>2019-01-02</td>\n",
       "      <td>1.146171</td>\n",
       "      <td>1.146171</td>\n",
       "      <td>1.149700</td>\n",
       "      <td>1.134572</td>\n",
       "      <td>1.146132</td>\n",
       "      <td>EURUSD=X</td>\n",
       "      <td>-0.000070</td>\n",
       "      <td>0.000000</td>\n",
       "      <td>-66.666667</td>\n",
       "      <td>100.000000</td>\n",
       "      <td>1.147739</td>\n",
       "      <td>1.147739</td>\n",
       "      <td>23.219999</td>\n",
       "      <td>0.000000</td>\n",
       "    </tr>\n",
       "    <tr>\n",
       "      <th>2</th>\n",
       "      <td>2019-01-02</td>\n",
       "      <td>1.275429</td>\n",
       "      <td>1.275429</td>\n",
       "      <td>1.277335</td>\n",
       "      <td>1.258463</td>\n",
       "      <td>1.275234</td>\n",
       "      <td>GBPUSD=X</td>\n",
       "      <td>0.000036</td>\n",
       "      <td>100.000000</td>\n",
       "      <td>-66.666667</td>\n",
       "      <td>100.000000</td>\n",
       "      <td>1.274617</td>\n",
       "      <td>1.274617</td>\n",
       "      <td>23.219999</td>\n",
       "      <td>0.000000</td>\n",
       "    </tr>\n",
       "    <tr>\n",
       "      <th>3</th>\n",
       "      <td>2019-01-02</td>\n",
       "      <td>1.362540</td>\n",
       "      <td>1.362540</td>\n",
       "      <td>1.365960</td>\n",
       "      <td>1.356900</td>\n",
       "      <td>1.362500</td>\n",
       "      <td>USDCAD=X</td>\n",
       "      <td>0.000518</td>\n",
       "      <td>100.000000</td>\n",
       "      <td>66.666667</td>\n",
       "      <td>100.000000</td>\n",
       "      <td>1.350985</td>\n",
       "      <td>1.350985</td>\n",
       "      <td>23.219999</td>\n",
       "      <td>0.000000</td>\n",
       "    </tr>\n",
       "    <tr>\n",
       "      <th>4</th>\n",
       "      <td>2019-01-02</td>\n",
       "      <td>0.982000</td>\n",
       "      <td>0.982000</td>\n",
       "      <td>0.989250</td>\n",
       "      <td>0.979400</td>\n",
       "      <td>0.981800</td>\n",
       "      <td>USDCHF=X</td>\n",
       "      <td>-0.000034</td>\n",
       "      <td>0.000000</td>\n",
       "      <td>66.666667</td>\n",
       "      <td>100.000000</td>\n",
       "      <td>0.982755</td>\n",
       "      <td>0.982755</td>\n",
       "      <td>23.219999</td>\n",
       "      <td>0.000000</td>\n",
       "    </tr>\n",
       "    <tr>\n",
       "      <th>...</th>\n",
       "      <td>...</td>\n",
       "      <td>...</td>\n",
       "      <td>...</td>\n",
       "      <td>...</td>\n",
       "      <td>...</td>\n",
       "      <td>...</td>\n",
       "      <td>...</td>\n",
       "      <td>...</td>\n",
       "      <td>...</td>\n",
       "      <td>...</td>\n",
       "      <td>...</td>\n",
       "      <td>...</td>\n",
       "      <td>...</td>\n",
       "      <td>...</td>\n",
       "      <td>...</td>\n",
       "    </tr>\n",
       "    <tr>\n",
       "      <th>6031</th>\n",
       "      <td>2022-12-29</td>\n",
       "      <td>1.062925</td>\n",
       "      <td>1.062925</td>\n",
       "      <td>1.067019</td>\n",
       "      <td>1.061233</td>\n",
       "      <td>1.062925</td>\n",
       "      <td>EURUSD=X</td>\n",
       "      <td>0.008925</td>\n",
       "      <td>60.167083</td>\n",
       "      <td>78.327051</td>\n",
       "      <td>49.139568</td>\n",
       "      <td>1.050900</td>\n",
       "      <td>1.022255</td>\n",
       "      <td>21.440001</td>\n",
       "      <td>6.166426</td>\n",
       "    </tr>\n",
       "    <tr>\n",
       "      <th>6032</th>\n",
       "      <td>2022-12-29</td>\n",
       "      <td>1.202848</td>\n",
       "      <td>1.202848</td>\n",
       "      <td>1.207584</td>\n",
       "      <td>1.201548</td>\n",
       "      <td>1.203297</td>\n",
       "      <td>GBPUSD=X</td>\n",
       "      <td>0.003764</td>\n",
       "      <td>52.732919</td>\n",
       "      <td>-46.930901</td>\n",
       "      <td>3.480165</td>\n",
       "      <td>1.211069</td>\n",
       "      <td>1.176042</td>\n",
       "      <td>21.440001</td>\n",
       "      <td>6.166426</td>\n",
       "    </tr>\n",
       "    <tr>\n",
       "      <th>6033</th>\n",
       "      <td>2022-12-29</td>\n",
       "      <td>1.359940</td>\n",
       "      <td>1.359940</td>\n",
       "      <td>1.360760</td>\n",
       "      <td>1.354450</td>\n",
       "      <td>1.359940</td>\n",
       "      <td>USDCAD=X</td>\n",
       "      <td>0.002138</td>\n",
       "      <td>52.738428</td>\n",
       "      <td>36.079932</td>\n",
       "      <td>8.181686</td>\n",
       "      <td>1.353157</td>\n",
       "      <td>1.357071</td>\n",
       "      <td>21.440001</td>\n",
       "      <td>6.166426</td>\n",
       "    </tr>\n",
       "    <tr>\n",
       "      <th>6034</th>\n",
       "      <td>2022-12-29</td>\n",
       "      <td>0.927710</td>\n",
       "      <td>0.927710</td>\n",
       "      <td>0.928720</td>\n",
       "      <td>0.921190</td>\n",
       "      <td>0.927710</td>\n",
       "      <td>USDCHF=X</td>\n",
       "      <td>-0.006936</td>\n",
       "      <td>40.654053</td>\n",
       "      <td>-97.756970</td>\n",
       "      <td>35.855458</td>\n",
       "      <td>0.938252</td>\n",
       "      <td>0.963402</td>\n",
       "      <td>21.440001</td>\n",
       "      <td>6.166426</td>\n",
       "    </tr>\n",
       "    <tr>\n",
       "      <th>6035</th>\n",
       "      <td>2022-12-29</td>\n",
       "      <td>134.033997</td>\n",
       "      <td>134.033997</td>\n",
       "      <td>134.188004</td>\n",
       "      <td>132.936005</td>\n",
       "      <td>134.033997</td>\n",
       "      <td>USDJPY=X</td>\n",
       "      <td>-1.870648</td>\n",
       "      <td>41.564990</td>\n",
       "      <td>-88.398318</td>\n",
       "      <td>29.149269</td>\n",
       "      <td>136.605233</td>\n",
       "      <td>141.392699</td>\n",
       "      <td>21.440001</td>\n",
       "      <td>6.166426</td>\n",
       "    </tr>\n",
       "  </tbody>\n",
       "</table>\n",
       "<p>6036 rows × 15 columns</p>\n",
       "</div>"
      ],
      "text/plain": [
       "            date   adj close       close        high         low        open  \\\n",
       "0     2019-01-02    0.704791    0.704791    0.704821    0.698470    0.704722   \n",
       "1     2019-01-02    1.146171    1.146171    1.149700    1.134572    1.146132   \n",
       "2     2019-01-02    1.275429    1.275429    1.277335    1.258463    1.275234   \n",
       "3     2019-01-02    1.362540    1.362540    1.365960    1.356900    1.362500   \n",
       "4     2019-01-02    0.982000    0.982000    0.989250    0.979400    0.981800   \n",
       "...          ...         ...         ...         ...         ...         ...   \n",
       "6031  2022-12-29    1.062925    1.062925    1.067019    1.061233    1.062925   \n",
       "6032  2022-12-29    1.202848    1.202848    1.207584    1.201548    1.203297   \n",
       "6033  2022-12-29    1.359940    1.359940    1.360760    1.354450    1.359940   \n",
       "6034  2022-12-29    0.927710    0.927710    0.928720    0.921190    0.927710   \n",
       "6035  2022-12-29  134.033997  134.033997  134.188004  132.936005  134.033997   \n",
       "\n",
       "           tic      macd      rsi_30     cci_30       dx_30  close_30_sma  \\\n",
       "0     AUDUSD=X  0.000014  100.000000 -66.666667  100.000000      0.704483   \n",
       "1     EURUSD=X -0.000070    0.000000 -66.666667  100.000000      1.147739   \n",
       "2     GBPUSD=X  0.000036  100.000000 -66.666667  100.000000      1.274617   \n",
       "3     USDCAD=X  0.000518  100.000000  66.666667  100.000000      1.350985   \n",
       "4     USDCHF=X -0.000034    0.000000  66.666667  100.000000      0.982755   \n",
       "...        ...       ...         ...        ...         ...           ...   \n",
       "6031  EURUSD=X  0.008925   60.167083  78.327051   49.139568      1.050900   \n",
       "6032  GBPUSD=X  0.003764   52.732919 -46.930901    3.480165      1.211069   \n",
       "6033  USDCAD=X  0.002138   52.738428  36.079932    8.181686      1.353157   \n",
       "6034  USDCHF=X -0.006936   40.654053 -97.756970   35.855458      0.938252   \n",
       "6035  USDJPY=X -1.870648   41.564990 -88.398318   29.149269    136.605233   \n",
       "\n",
       "      close_60_sma        vix  turbulence  \n",
       "0         0.704483  23.219999    0.000000  \n",
       "1         1.147739  23.219999    0.000000  \n",
       "2         1.274617  23.219999    0.000000  \n",
       "3         1.350985  23.219999    0.000000  \n",
       "4         0.982755  23.219999    0.000000  \n",
       "...            ...        ...         ...  \n",
       "6031      1.022255  21.440001    6.166426  \n",
       "6032      1.176042  21.440001    6.166426  \n",
       "6033      1.357071  21.440001    6.166426  \n",
       "6034      0.963402  21.440001    6.166426  \n",
       "6035    141.392699  21.440001    6.166426  \n",
       "\n",
       "[6036 rows x 15 columns]"
      ]
     },
     "execution_count": 21,
     "metadata": {},
     "output_type": "execute_result"
    }
   ],
   "source": [
    "processed.dropna(axis=1)"
   ]
  },
  {
   "cell_type": "code",
   "execution_count": 13,
   "metadata": {
    "id": "Kixon2tR3RLT"
   },
   "outputs": [],
   "source": [
    "list_ticker = processed[\"tic\"].unique().tolist()\n",
    "list_date = list(pd.date_range(processed['date'].min(),processed['date'].max()).astype(str))\n",
    "combination = list(itertools.product(list_date,list_ticker))\n",
    "\n",
    "processed_full = pd.DataFrame(combination,columns=[\"date\",\"tic\"]).merge(processed,on=[\"date\",\"tic\"],how=\"left\")\n",
    "processed_full = processed_full[processed_full['date'].isin(processed['date'])]\n",
    "processed_full = processed_full.sort_values(['date','tic'])\n",
    "\n",
    "processed_full = processed_full.fillna(0)"
   ]
  },
  {
   "cell_type": "code",
   "execution_count": 14,
   "metadata": {
    "colab": {
     "base_uri": "https://localhost:8080/",
     "height": 600
    },
    "id": "grvhGJJII3Xn",
    "outputId": "733758c3-3552-4aa5-e1f9-789bd4ce0c92"
   },
   "outputs": [
    {
     "data": {
      "text/html": [
       "<div>\n",
       "<style scoped>\n",
       "    .dataframe tbody tr th:only-of-type {\n",
       "        vertical-align: middle;\n",
       "    }\n",
       "\n",
       "    .dataframe tbody tr th {\n",
       "        vertical-align: top;\n",
       "    }\n",
       "\n",
       "    .dataframe thead th {\n",
       "        text-align: right;\n",
       "    }\n",
       "</style>\n",
       "<table border=\"1\" class=\"dataframe\">\n",
       "  <thead>\n",
       "    <tr style=\"text-align: right;\">\n",
       "      <th></th>\n",
       "      <th>date</th>\n",
       "      <th>tic</th>\n",
       "      <th>adj close</th>\n",
       "      <th>close</th>\n",
       "      <th>high</th>\n",
       "      <th>low</th>\n",
       "      <th>open</th>\n",
       "      <th>macd</th>\n",
       "      <th>rsi_30</th>\n",
       "      <th>cci_30</th>\n",
       "      <th>dx_30</th>\n",
       "      <th>close_30_sma</th>\n",
       "      <th>close_60_sma</th>\n",
       "      <th>vix</th>\n",
       "      <th>turbulence</th>\n",
       "    </tr>\n",
       "  </thead>\n",
       "  <tbody>\n",
       "    <tr>\n",
       "      <th>0</th>\n",
       "      <td>2019-01-02</td>\n",
       "      <td>AUDUSD=X</td>\n",
       "      <td>0.704791</td>\n",
       "      <td>0.704791</td>\n",
       "      <td>0.704821</td>\n",
       "      <td>0.698470</td>\n",
       "      <td>0.704722</td>\n",
       "      <td>0.000014</td>\n",
       "      <td>100.000000</td>\n",
       "      <td>-66.666667</td>\n",
       "      <td>100.000000</td>\n",
       "      <td>0.704483</td>\n",
       "      <td>0.704483</td>\n",
       "      <td>23.219999</td>\n",
       "      <td>0.000000</td>\n",
       "    </tr>\n",
       "    <tr>\n",
       "      <th>1</th>\n",
       "      <td>2019-01-02</td>\n",
       "      <td>EURUSD=X</td>\n",
       "      <td>1.146171</td>\n",
       "      <td>1.146171</td>\n",
       "      <td>1.149700</td>\n",
       "      <td>1.134572</td>\n",
       "      <td>1.146132</td>\n",
       "      <td>-0.000070</td>\n",
       "      <td>0.000000</td>\n",
       "      <td>-66.666667</td>\n",
       "      <td>100.000000</td>\n",
       "      <td>1.147739</td>\n",
       "      <td>1.147739</td>\n",
       "      <td>23.219999</td>\n",
       "      <td>0.000000</td>\n",
       "    </tr>\n",
       "    <tr>\n",
       "      <th>2</th>\n",
       "      <td>2019-01-02</td>\n",
       "      <td>GBPUSD=X</td>\n",
       "      <td>1.275429</td>\n",
       "      <td>1.275429</td>\n",
       "      <td>1.277335</td>\n",
       "      <td>1.258463</td>\n",
       "      <td>1.275234</td>\n",
       "      <td>0.000036</td>\n",
       "      <td>100.000000</td>\n",
       "      <td>-66.666667</td>\n",
       "      <td>100.000000</td>\n",
       "      <td>1.274617</td>\n",
       "      <td>1.274617</td>\n",
       "      <td>23.219999</td>\n",
       "      <td>0.000000</td>\n",
       "    </tr>\n",
       "    <tr>\n",
       "      <th>3</th>\n",
       "      <td>2019-01-02</td>\n",
       "      <td>USDCAD=X</td>\n",
       "      <td>1.362540</td>\n",
       "      <td>1.362540</td>\n",
       "      <td>1.365960</td>\n",
       "      <td>1.356900</td>\n",
       "      <td>1.362500</td>\n",
       "      <td>0.000518</td>\n",
       "      <td>100.000000</td>\n",
       "      <td>66.666667</td>\n",
       "      <td>100.000000</td>\n",
       "      <td>1.350985</td>\n",
       "      <td>1.350985</td>\n",
       "      <td>23.219999</td>\n",
       "      <td>0.000000</td>\n",
       "    </tr>\n",
       "    <tr>\n",
       "      <th>4</th>\n",
       "      <td>2019-01-02</td>\n",
       "      <td>USDCHF=X</td>\n",
       "      <td>0.982000</td>\n",
       "      <td>0.982000</td>\n",
       "      <td>0.989250</td>\n",
       "      <td>0.979400</td>\n",
       "      <td>0.981800</td>\n",
       "      <td>-0.000034</td>\n",
       "      <td>0.000000</td>\n",
       "      <td>66.666667</td>\n",
       "      <td>100.000000</td>\n",
       "      <td>0.982755</td>\n",
       "      <td>0.982755</td>\n",
       "      <td>23.219999</td>\n",
       "      <td>0.000000</td>\n",
       "    </tr>\n",
       "    <tr>\n",
       "      <th>...</th>\n",
       "      <td>...</td>\n",
       "      <td>...</td>\n",
       "      <td>...</td>\n",
       "      <td>...</td>\n",
       "      <td>...</td>\n",
       "      <td>...</td>\n",
       "      <td>...</td>\n",
       "      <td>...</td>\n",
       "      <td>...</td>\n",
       "      <td>...</td>\n",
       "      <td>...</td>\n",
       "      <td>...</td>\n",
       "      <td>...</td>\n",
       "      <td>...</td>\n",
       "      <td>...</td>\n",
       "    </tr>\n",
       "    <tr>\n",
       "      <th>6031</th>\n",
       "      <td>2022-12-29</td>\n",
       "      <td>EURUSD=X</td>\n",
       "      <td>1.062925</td>\n",
       "      <td>1.062925</td>\n",
       "      <td>1.067019</td>\n",
       "      <td>1.061233</td>\n",
       "      <td>1.062925</td>\n",
       "      <td>0.008925</td>\n",
       "      <td>60.167083</td>\n",
       "      <td>78.327051</td>\n",
       "      <td>49.139568</td>\n",
       "      <td>1.050900</td>\n",
       "      <td>1.022255</td>\n",
       "      <td>21.440001</td>\n",
       "      <td>6.166426</td>\n",
       "    </tr>\n",
       "    <tr>\n",
       "      <th>6032</th>\n",
       "      <td>2022-12-29</td>\n",
       "      <td>GBPUSD=X</td>\n",
       "      <td>1.202848</td>\n",
       "      <td>1.202848</td>\n",
       "      <td>1.207584</td>\n",
       "      <td>1.201548</td>\n",
       "      <td>1.203297</td>\n",
       "      <td>0.003764</td>\n",
       "      <td>52.732919</td>\n",
       "      <td>-46.930901</td>\n",
       "      <td>3.480165</td>\n",
       "      <td>1.211069</td>\n",
       "      <td>1.176042</td>\n",
       "      <td>21.440001</td>\n",
       "      <td>6.166426</td>\n",
       "    </tr>\n",
       "    <tr>\n",
       "      <th>6033</th>\n",
       "      <td>2022-12-29</td>\n",
       "      <td>USDCAD=X</td>\n",
       "      <td>1.359940</td>\n",
       "      <td>1.359940</td>\n",
       "      <td>1.360760</td>\n",
       "      <td>1.354450</td>\n",
       "      <td>1.359940</td>\n",
       "      <td>0.002138</td>\n",
       "      <td>52.738428</td>\n",
       "      <td>36.079932</td>\n",
       "      <td>8.181686</td>\n",
       "      <td>1.353157</td>\n",
       "      <td>1.357071</td>\n",
       "      <td>21.440001</td>\n",
       "      <td>6.166426</td>\n",
       "    </tr>\n",
       "    <tr>\n",
       "      <th>6034</th>\n",
       "      <td>2022-12-29</td>\n",
       "      <td>USDCHF=X</td>\n",
       "      <td>0.927710</td>\n",
       "      <td>0.927710</td>\n",
       "      <td>0.928720</td>\n",
       "      <td>0.921190</td>\n",
       "      <td>0.927710</td>\n",
       "      <td>-0.006936</td>\n",
       "      <td>40.654053</td>\n",
       "      <td>-97.756970</td>\n",
       "      <td>35.855458</td>\n",
       "      <td>0.938252</td>\n",
       "      <td>0.963402</td>\n",
       "      <td>21.440001</td>\n",
       "      <td>6.166426</td>\n",
       "    </tr>\n",
       "    <tr>\n",
       "      <th>6035</th>\n",
       "      <td>2022-12-29</td>\n",
       "      <td>USDJPY=X</td>\n",
       "      <td>134.033997</td>\n",
       "      <td>134.033997</td>\n",
       "      <td>134.188004</td>\n",
       "      <td>132.936005</td>\n",
       "      <td>134.033997</td>\n",
       "      <td>-1.870648</td>\n",
       "      <td>41.564990</td>\n",
       "      <td>-88.398318</td>\n",
       "      <td>29.149269</td>\n",
       "      <td>136.605233</td>\n",
       "      <td>141.392699</td>\n",
       "      <td>21.440001</td>\n",
       "      <td>6.166426</td>\n",
       "    </tr>\n",
       "  </tbody>\n",
       "</table>\n",
       "<p>6036 rows × 15 columns</p>\n",
       "</div>"
      ],
      "text/plain": [
       "            date       tic   adj close       close        high         low  \\\n",
       "0     2019-01-02  AUDUSD=X    0.704791    0.704791    0.704821    0.698470   \n",
       "1     2019-01-02  EURUSD=X    1.146171    1.146171    1.149700    1.134572   \n",
       "2     2019-01-02  GBPUSD=X    1.275429    1.275429    1.277335    1.258463   \n",
       "3     2019-01-02  USDCAD=X    1.362540    1.362540    1.365960    1.356900   \n",
       "4     2019-01-02  USDCHF=X    0.982000    0.982000    0.989250    0.979400   \n",
       "...          ...       ...         ...         ...         ...         ...   \n",
       "6031  2022-12-29  EURUSD=X    1.062925    1.062925    1.067019    1.061233   \n",
       "6032  2022-12-29  GBPUSD=X    1.202848    1.202848    1.207584    1.201548   \n",
       "6033  2022-12-29  USDCAD=X    1.359940    1.359940    1.360760    1.354450   \n",
       "6034  2022-12-29  USDCHF=X    0.927710    0.927710    0.928720    0.921190   \n",
       "6035  2022-12-29  USDJPY=X  134.033997  134.033997  134.188004  132.936005   \n",
       "\n",
       "            open      macd      rsi_30     cci_30       dx_30  close_30_sma  \\\n",
       "0       0.704722  0.000014  100.000000 -66.666667  100.000000      0.704483   \n",
       "1       1.146132 -0.000070    0.000000 -66.666667  100.000000      1.147739   \n",
       "2       1.275234  0.000036  100.000000 -66.666667  100.000000      1.274617   \n",
       "3       1.362500  0.000518  100.000000  66.666667  100.000000      1.350985   \n",
       "4       0.981800 -0.000034    0.000000  66.666667  100.000000      0.982755   \n",
       "...          ...       ...         ...        ...         ...           ...   \n",
       "6031    1.062925  0.008925   60.167083  78.327051   49.139568      1.050900   \n",
       "6032    1.203297  0.003764   52.732919 -46.930901    3.480165      1.211069   \n",
       "6033    1.359940  0.002138   52.738428  36.079932    8.181686      1.353157   \n",
       "6034    0.927710 -0.006936   40.654053 -97.756970   35.855458      0.938252   \n",
       "6035  134.033997 -1.870648   41.564990 -88.398318   29.149269    136.605233   \n",
       "\n",
       "      close_60_sma        vix  turbulence  \n",
       "0         0.704483  23.219999    0.000000  \n",
       "1         1.147739  23.219999    0.000000  \n",
       "2         1.274617  23.219999    0.000000  \n",
       "3         1.350985  23.219999    0.000000  \n",
       "4         0.982755  23.219999    0.000000  \n",
       "...            ...        ...         ...  \n",
       "6031      1.022255  21.440001    6.166426  \n",
       "6032      1.176042  21.440001    6.166426  \n",
       "6033      1.357071  21.440001    6.166426  \n",
       "6034      0.963402  21.440001    6.166426  \n",
       "6035    141.392699  21.440001    6.166426  \n",
       "\n",
       "[6036 rows x 15 columns]"
      ]
     },
     "execution_count": 14,
     "metadata": {},
     "output_type": "execute_result"
    }
   ],
   "source": [
    "processed_full.sort_values(['date','tic'],ignore_index=True)"
   ]
  },
  {
   "cell_type": "code",
   "execution_count": null,
   "metadata": {},
   "outputs": [],
   "source": [
    "import os\n",
    "processed_full.to_csv(os.path.join(config.DATA_SAVE_DIR,'full_preprocessed_data.csv'))"
   ]
  }
 ],
 "metadata": {
  "colab": {
   "collapsed_sections": [
    "Uy5_PTmOh1hj",
    "_gDkU-j-fCmZ",
    "3Zpv4S0-fDBv"
   ],
   "include_colab_link": true,
   "name": "FinRL_StockTrading_NeurIPS_2018.ipynb",
   "provenance": []
  },
  "kernelspec": {
   "display_name": "Python 3.8.2 64-bit",
   "language": "python",
   "name": "python3"
  },
  "language_info": {
   "codemirror_mode": {
    "name": "ipython",
    "version": 3
   },
   "file_extension": ".py",
   "mimetype": "text/x-python",
   "name": "python",
   "nbconvert_exporter": "python",
   "pygments_lexer": "ipython3",
   "version": "3.10.0"
  },
  "vscode": {
   "interpreter": {
    "hash": "4a913f0b5b2020ea25813dce4293e7824585e87f8cd8de80d0bb160f8ff78697"
   }
  }
 },
 "nbformat": 4,
 "nbformat_minor": 1
}
